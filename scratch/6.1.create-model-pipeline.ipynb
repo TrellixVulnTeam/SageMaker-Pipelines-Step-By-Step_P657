{
 "cells": [
  {
   "cell_type": "markdown",
   "metadata": {},
   "source": [
    "# [모듈 6.1] 세이지메이커 모델 스텝 개발"
   ]
  },
  {
   "cell_type": "markdown",
   "metadata": {},
   "source": [
    "## 0. 기본 세이지 메이커 정보 및 기본 변수 로딩"
   ]
  },
  {
   "cell_type": "code",
   "execution_count": 25,
   "metadata": {},
   "outputs": [
    {
     "name": "stdout",
     "output_type": "stream",
     "text": [
      "Stored variables and their in-db values:\n",
      "base_preproc_input_dir                 -> 'opt/ml/processing/input'\n",
      "dataset_path                           -> 'opt/ml/processing/input/dataset.csv'\n",
      "default_bucket                         -> 'sagemaker-ap-northeast-2-057716757052'\n",
      "image_uri                              -> '366743142698.dkr.ecr.ap-northeast-2.amazonaws.com\n",
      "input_data_uri                         -> 's3://sagemaker-ap-northeast-2-057716757052/fraud2\n",
      "preprocessing_code_dir                 -> 'fraud/preprocessing.py'\n",
      "processing_instance_count              -> ParameterInteger(name='ProcessingInstanceCount', p\n",
      "project_prefix                         -> 'fraud2scratch'\n",
      "s3_dataset_path                        -> 's3://sagemaker-ap-northeast-2-057716757052/fraud2\n",
      "sagemaker_model                        -> 'pipelines-z2fiqp2pcp83-fraudscratchmodel-jvft2mid\n",
      "test_preproc__dir_artifact             -> 's3://sagemaker-ap-northeast-2-057716757052/sklear\n",
      "train_model_artifact                   -> 's3://sagemaker-ap-northeast-2-057716757052/fraud2\n",
      "train_preproc_dir_artifact             -> 's3://sagemaker-ap-northeast-2-057716757052/sklear\n",
      "val_preproc_dir_artifact               -> 's3://sagemaker-ap-northeast-2-057716757052/sklear\n"
     ]
    }
   ],
   "source": [
    "import boto3\n",
    "import sagemaker\n",
    "import pandas as pd\n",
    "\n",
    "region = boto3.Session().region_name\n",
    "sagemaker_session = sagemaker.session.Session()\n",
    "role = sagemaker.get_execution_role()\n",
    "\n",
    "%store -r \n",
    "%store"
   ]
  },
  {
   "cell_type": "markdown",
   "metadata": {},
   "source": [
    "## 1. 모델 빌딩 파이프라인에서  실행 \n",
    "---\n",
    "\n"
   ]
  },
  {
   "cell_type": "markdown",
   "metadata": {},
   "source": [
    "### 모델 빌딩 파이프라인 변수 생성\n",
    "\n"
   ]
  },
  {
   "cell_type": "code",
   "execution_count": 26,
   "metadata": {},
   "outputs": [],
   "source": [
    "# from sagemaker.workflow.parameters import (\n",
    "#     ParameterInteger,\n",
    "#     ParameterString,\n",
    "# )\n",
    "\n",
    "# processing_instance_count = ParameterInteger(\n",
    "#     name=\"ProcessingInstanceCount\",\n",
    "#     default_value=1\n",
    "# )\n",
    "# processing_instance_type = ParameterString(\n",
    "#     name=\"ProcessingInstanceType\",\n",
    "#     default_value=\"ml.m5.xlarge\"\n",
    "# )"
   ]
  },
  {
   "cell_type": "markdown",
   "metadata": {},
   "source": [
    "### 추론 실행에 사용할 모델 정의 \n",
    "\n",
    "모델을 사용하는 배치변환작업을 실행하기 위해 SageMaker Model을 생성합니다.\n",
    "\n",
    "구체적으로, `TrainingStep` 인스턴스인 `step_train`의 속성 중 `S3ModelArtifacts` 정보를 활용하게 됩니다. `TrainingStep`의 `properties` 속성은 [DescribeTrainingJob](https://docs.aws.amazon.com/sagemaker/latest/APIReference/API_DescribeTrainingJob.html) API의 응답결과와 동일합니다.\n"
   ]
  },
  {
   "cell_type": "code",
   "execution_count": 27,
   "metadata": {},
   "outputs": [],
   "source": [
    "from sagemaker.model import Model\n",
    "\n",
    "# sklearn_image_uri = '366743142698.dkr.ecr.ap-northeast-2.amazonaws.com/sagemaker-scikit-learn:0.23-1-cpu-py3'\n",
    "\n",
    "model = Model(\n",
    "    image_uri=image_uri,\n",
    "#     image_uri=sklearn_image_uri,    \n",
    "    model_data= train_model_artifact,\n",
    "    sagemaker_session=sagemaker_session,\n",
    "    role=role,\n",
    ")"
   ]
  },
  {
   "cell_type": "code",
   "execution_count": 28,
   "metadata": {},
   "outputs": [],
   "source": [
    "from sagemaker.inputs import CreateModelInput\n",
    "from sagemaker.workflow.steps import CreateModelStep\n",
    "\n",
    "\n",
    "inputs = CreateModelInput(\n",
    "    instance_type=\"ml.m5.large\",\n",
    "    # accelerator_type=\"ml.eia1.medium\",\n",
    ")\n",
    "step_create_model = CreateModelStep(\n",
    "    name=\"FraudScratchModel\",\n",
    "    model=model,\n",
    "    inputs=inputs,\n",
    ")"
   ]
  },
  {
   "cell_type": "markdown",
   "metadata": {},
   "source": [
    "### 파리마터, 단계, 조건을 조합하여 최종 파이프라인 정의\n",
    "\n"
   ]
  },
  {
   "cell_type": "code",
   "execution_count": 29,
   "metadata": {},
   "outputs": [],
   "source": [
    "from sagemaker.workflow.pipeline import Pipeline\n",
    "\n",
    "\n",
    "pipeline_name = project_prefix\n",
    "pipeline = Pipeline(\n",
    "    name=pipeline_name,\n",
    "    parameters=[\n",
    "#         processing_instance_type, \n",
    "#         processing_instance_count,\n",
    "    ],\n",
    "    steps=[step_create_model],\n",
    ")"
   ]
  },
  {
   "cell_type": "markdown",
   "metadata": {},
   "source": [
    "#### (선택) 파이프라인 정의 확인 \n",
    "\n",
    "파이프라인을 정의하는 JSON을 생성하고 파이프라인 내에서 사용하는 파라미터와 단계별 속성들이 잘 정의되었는지 확인할 수 있습니다."
   ]
  },
  {
   "cell_type": "code",
   "execution_count": 30,
   "metadata": {},
   "outputs": [],
   "source": [
    "import json\n",
    "\n",
    "\n",
    "definition = json.loads(pipeline.definition())\n",
    "# definition"
   ]
  },
  {
   "cell_type": "markdown",
   "metadata": {},
   "source": [
    "### 파이프라인을 SageMaker에 제출하고 실행하기 \n",
    "\n",
    "파이프라인 정의를 파이프라인 서비스에 제출합니다. 함께 전달되는 역할(role)을 이용하여 AWS에서 파이프라인을 생성하고 작업의 각 단계를 실행할 것입니다.   "
   ]
  },
  {
   "cell_type": "code",
   "execution_count": 31,
   "metadata": {},
   "outputs": [
    {
     "data": {
      "text/plain": [
       "{'PipelineArn': 'arn:aws:sagemaker:ap-northeast-2:057716757052:pipeline/fraud2scratch',\n",
       " 'ResponseMetadata': {'RequestId': '64bc66d4-2b3e-465d-8342-1669abce9ee2',\n",
       "  'HTTPStatusCode': 200,\n",
       "  'HTTPHeaders': {'x-amzn-requestid': '64bc66d4-2b3e-465d-8342-1669abce9ee2',\n",
       "   'content-type': 'application/x-amz-json-1.1',\n",
       "   'content-length': '86',\n",
       "   'date': 'Tue, 13 Apr 2021 11:59:55 GMT'},\n",
       "  'RetryAttempts': 0}}"
      ]
     },
     "execution_count": 31,
     "metadata": {},
     "output_type": "execute_result"
    }
   ],
   "source": [
    "pipeline.upsert(role_arn=role)"
   ]
  },
  {
   "cell_type": "code",
   "execution_count": 32,
   "metadata": {},
   "outputs": [],
   "source": [
    "execution = pipeline.start()"
   ]
  },
  {
   "cell_type": "markdown",
   "metadata": {},
   "source": [
    "### 파이프라인 운영: 파이프라인 대기 및 실행상태 확인\n",
    "\n",
    "워크플로우의 실행상황을 살펴봅니다. "
   ]
  },
  {
   "cell_type": "code",
   "execution_count": 33,
   "metadata": {},
   "outputs": [],
   "source": [
    "execution.describe()\n",
    "execution.wait()"
   ]
  },
  {
   "cell_type": "code",
   "execution_count": 34,
   "metadata": {},
   "outputs": [
    {
     "data": {
      "text/plain": [
       "[{'StepName': 'FraudScratchModel',\n",
       "  'StartTime': datetime.datetime(2021, 4, 13, 11, 59, 56, 754000, tzinfo=tzlocal()),\n",
       "  'EndTime': datetime.datetime(2021, 4, 13, 11, 59, 57, 990000, tzinfo=tzlocal()),\n",
       "  'StepStatus': 'Succeeded',\n",
       "  'Metadata': {'Model': {'Arn': 'arn:aws:sagemaker:ap-northeast-2:057716757052:model/pipelines-n5qxc409wxod-fraudscratchmodel-jdpbccudlk'}}}]"
      ]
     },
     "execution_count": 34,
     "metadata": {},
     "output_type": "execute_result"
    }
   ],
   "source": [
    "execution.list_steps()"
   ]
  },
  {
   "cell_type": "code",
   "execution_count": 35,
   "metadata": {},
   "outputs": [
    {
     "name": "stdout",
     "output_type": "stream",
     "text": [
      "sagemaker_model: \n",
      " pipelines-n5qxc409wxod-fraudscratchmodel-jdpbccudlk\n",
      "Stored 'sagemaker_model' (str)\n"
     ]
    }
   ],
   "source": [
    "response = execution.list_steps()\n",
    "sagemaker_model = response[0]['Metadata']['Model']['Arn'].split(\"/\")[-1]\n",
    "print(\"sagemaker_model: \\n\", sagemaker_model)\n",
    "\n",
    "%store sagemaker_model"
   ]
  },
  {
   "cell_type": "code",
   "execution_count": null,
   "metadata": {},
   "outputs": [],
   "source": []
  }
 ],
 "metadata": {
  "instance_type": "ml.m5.large",
  "kernelspec": {
   "display_name": "conda_python3",
   "language": "python",
   "name": "conda_python3"
  },
  "language_info": {
   "codemirror_mode": {
    "name": "ipython",
    "version": 3
   },
   "file_extension": ".py",
   "mimetype": "text/x-python",
   "name": "python",
   "nbconvert_exporter": "python",
   "pygments_lexer": "ipython3",
   "version": "3.6.13"
  }
 },
 "nbformat": 4,
 "nbformat_minor": 4
}
