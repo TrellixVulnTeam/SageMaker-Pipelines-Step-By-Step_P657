{
 "cells": [
  {
   "cell_type": "markdown",
   "metadata": {},
   "source": [
    "# [모듈 2.1] 환경 설정 및 데이터 준비"
   ]
  },
  {
   "cell_type": "markdown",
   "metadata": {},
   "source": [
    "## 0. 기본 세이지 메이커 정보 로딩"
   ]
  },
  {
   "cell_type": "code",
   "execution_count": 18,
   "metadata": {},
   "outputs": [],
   "source": [
    "import boto3\n",
    "import sagemaker\n",
    "\n",
    "import os\n",
    "import pandas as pd\n",
    "\n",
    "region = boto3.Session().region_name\n",
    "sagemaker_session = sagemaker.session.Session()\n",
    "role = sagemaker.get_execution_role()\n",
    "default_bucket = sagemaker_session.default_bucket()\n"
   ]
  },
  {
   "cell_type": "code",
   "execution_count": 19,
   "metadata": {},
   "outputs": [],
   "source": [
    "# %store -r local_train_path\n",
    "# %store -r local_test_path"
   ]
  },
  {
   "cell_type": "markdown",
   "metadata": {},
   "source": [
    "## 1. 노트북 변수 설정\n",
    "---"
   ]
  },
  {
   "cell_type": "code",
   "execution_count": 20,
   "metadata": {},
   "outputs": [],
   "source": [
    "# 프로젝트 변수\n",
    "project_prefix = 'fraud2scratch'\n",
    "dataset_prefix = f'{project_prefix}/input'\n",
    "data_dir = '../data'\n",
    "\n",
    "# 데이타 위치 및 파일 경로 \n",
    "\n",
    "base_preproc_input_dir = 'opt/ml/processing/input'\n",
    "os.makedirs(base_preproc_input_dir, exist_ok=True)\n",
    "\n",
    "\n",
    "claim_data_path = f\"{data_dir}/claims.csv\"\n",
    "customers_data_path = f\"{data_dir}/customers.csv\"\n",
    "\n",
    "\n",
    "input_data_uri = f\"s3://{default_bucket}/{dataset_prefix}\"\n",
    "\n",
    "\n",
    "\n",
    "# train_dataset_prefix = 'fraud2scratch/input/train'\n",
    "# test_dataset_prefix = 'fraud2scratch/input/test'\n",
    "\n",
    "# claims_dataset_prefix = 'fraud2scratch/input/claims'\n",
    "# customers_dataset_prefix = 'fraud2scratch/input/customers'\n",
    "\n",
    "\n",
    "# train_data_path = f\"{data_dir}/train.csv\"\n",
    "# test_data_path = f\"{data_dir}/test.csv\"\n",
    "# dataset_path = \"{}/dataset.csv\".format(base_preproc_input_dir)    \n",
    "\n",
    "\n",
    "# s3_train_path = f\"s3://{default_bucket}/{train_dataset_prefix}\"\n",
    "# s3_test_path = f\"s3://{default_bucket}/{test_dataset_prefix}\"\n",
    "\n",
    "# s3_claims_path = f\"s3://{default_bucket}/{claims_dataset_prefix}\"\n",
    "# s3_customers_path = f\"s3://{default_bucket}/{customers_dataset_prefix}\"\n",
    "\n",
    "\n",
    "\n",
    "# 모델 패키지 그룹 이름\n",
    "# model_package_group_name = f\"FraudScratchModelPackageGroupName\""
   ]
  },
  {
   "cell_type": "markdown",
   "metadata": {},
   "source": [
    "# 2. 데이터 준비\n",
    "---"
   ]
  },
  {
   "cell_type": "markdown",
   "metadata": {},
   "source": [
    "## 데이터 세트 로컬 저장"
   ]
  },
  {
   "cell_type": "markdown",
   "metadata": {},
   "source": [
    "## S3에 데이터 세트 업로딩"
   ]
  },
  {
   "cell_type": "markdown",
   "metadata": {},
   "source": [
    "이제 데이터를 디폴트 버킷으로 업로드합니다. `input_data_uri` 변수를 통해 데이터셋의 위치를 저장하였습니다."
   ]
  },
  {
   "cell_type": "code",
   "execution_count": 21,
   "metadata": {},
   "outputs": [],
   "source": [
    "# input_data_uri = sagemaker.s3.S3Uploader.upload(\n",
    "#     local_path=dataset_path, \n",
    "#     desired_s3_uri=s3_dataset_path,\n",
    "# )\n",
    "# print(input_data_uri)"
   ]
  },
  {
   "cell_type": "code",
   "execution_count": 22,
   "metadata": {},
   "outputs": [],
   "source": [
    "# train_data_uri = sagemaker.s3.S3Uploader.upload(\n",
    "#     local_path=local_train_path, \n",
    "#     desired_s3_uri=s3_train_path,\n",
    "# )\n",
    "# print(train_data_uri)"
   ]
  },
  {
   "cell_type": "code",
   "execution_count": 23,
   "metadata": {},
   "outputs": [
    {
     "name": "stdout",
     "output_type": "stream",
     "text": [
      "s3://sagemaker-ap-northeast-2-057716757052/fraud2scratch/input/claims.csv\n",
      "s3://sagemaker-ap-northeast-2-057716757052/fraud2scratch/input/customers.csv\n"
     ]
    }
   ],
   "source": [
    "# test_data_uri = sagemaker.s3.S3Uploader.upload(\n",
    "#     local_path=local_test_path, \n",
    "#     desired_s3_uri=s3_test_path,\n",
    "# )\n",
    "# print(test_data_uri)\n",
    "\n",
    "claims_data_uri = sagemaker.s3.S3Uploader.upload(\n",
    "    local_path=claim_data_path, \n",
    "#    desired_s3_uri=s3_dataset_path,\n",
    "    desired_s3_uri=input_data_uri,    \n",
    ")\n",
    "print(claims_data_uri)\n",
    "\n",
    "customers_data_uri = sagemaker.s3.S3Uploader.upload(\n",
    "    local_path=customers_data_path, \n",
    "#    desired_s3_uri=s3_dataset_path,\n",
    "    desired_s3_uri=input_data_uri,    \n",
    ")\n",
    "print(customers_data_uri)\n",
    "\n"
   ]
  },
  {
   "cell_type": "code",
   "execution_count": 24,
   "metadata": {},
   "outputs": [
    {
     "data": {
      "text/plain": [
       "'s3://sagemaker-ap-northeast-2-057716757052/fraud2scratch/input'"
      ]
     },
     "execution_count": 24,
     "metadata": {},
     "output_type": "execute_result"
    }
   ],
   "source": [
    "input_data_uri"
   ]
  },
  {
   "cell_type": "markdown",
   "metadata": {},
   "source": [
    "## 3.변수 저장\n",
    "---"
   ]
  },
  {
   "cell_type": "code",
   "execution_count": 25,
   "metadata": {},
   "outputs": [
    {
     "name": "stdout",
     "output_type": "stream",
     "text": [
      "Stored 'project_prefix' (str)\n",
      "Stored 'input_data_uri' (str)\n",
      "Stored 'claims_data_uri' (str)\n",
      "Stored 'customers_data_uri' (str)\n",
      "Stored 'default_bucket' (str)\n"
     ]
    }
   ],
   "source": [
    "%store project_prefix\n",
    "# %store base_preproc_input_dir\n",
    "# %store dataset_path \n",
    "# %store s3_dataset_path \n",
    "# %store s3_train_path \n",
    "# %store s3_test_path \n",
    "\n",
    "%store input_data_uri\n",
    "# %store train_data_uri\n",
    "# %store test_data_uri\n",
    "\n",
    "%store claims_data_uri\n",
    "%store customers_data_uri\n",
    "#%store s3_dataset_path\n",
    "\n",
    "\n",
    "%store default_bucket\n",
    "\n"
   ]
  },
  {
   "cell_type": "code",
   "execution_count": null,
   "metadata": {},
   "outputs": [],
   "source": []
  },
  {
   "cell_type": "code",
   "execution_count": null,
   "metadata": {},
   "outputs": [],
   "source": []
  }
 ],
 "metadata": {
  "instance_type": "ml.m5.large",
  "kernelspec": {
   "display_name": "conda_python3",
   "language": "python",
   "name": "conda_python3"
  },
  "language_info": {
   "codemirror_mode": {
    "name": "ipython",
    "version": 3
   },
   "file_extension": ".py",
   "mimetype": "text/x-python",
   "name": "python",
   "nbconvert_exporter": "python",
   "pygments_lexer": "ipython3",
   "version": "3.6.13"
  }
 },
 "nbformat": 4,
 "nbformat_minor": 4
}
