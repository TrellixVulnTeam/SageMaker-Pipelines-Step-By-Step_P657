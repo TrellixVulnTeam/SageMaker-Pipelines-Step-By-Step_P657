{
 "cells": [
  {
   "cell_type": "markdown",
   "id": "f7092a32",
   "metadata": {},
   "source": [
    "# 트러블 슈팅 가이드"
   ]
  },
  {
   "cell_type": "markdown",
   "id": "46883201",
   "metadata": {},
   "source": [
    "## 문제 1\n",
    "### 로컬모드로 실행시에 아래와 같이 S3_download(uri, dst) 를 하기 위해서, 403 Forbidden Error 발생시\n",
    "- 도커 컨테이너 안에서 S3 에 S3_download(uri, dst) 를 호출합니다. 이때 인증 정보가 있는 세션을 만들고 S3 에 접근시에 세션의 인증 정보가 권한이 없어서 발생합니다. \n",
    "- 발생 이유는 로컬 모드로 실행시에 인증 설정이 오버라이팅이 된 것으로 추정 됩니다. (현재 이유를 정확히 모름)\n"
   ]
  },
  {
   "cell_type": "markdown",
   "id": "f5bb408e",
   "metadata": {},
   "source": [
    "![local_mode_s3_403_error.png](img/local_mode_s3_403_error.png)"
   ]
  },
  {
   "cell_type": "markdown",
   "id": "a7367dc0",
   "metadata": {},
   "source": [
    "### Credentail 관련 에러 메세지시에도 아래처럼 조치 해보세요"
   ]
  },
  {
   "cell_type": "markdown",
   "id": "7fb9b380",
   "metadata": {},
   "source": [
    "## 해결 1\n",
    "- 노트북 인스턴스에 aws 인증 정보를 제공하여, 이 정보를 통해서 S3에 접근하게 합니다.\n",
    "\n",
    "#### (1) IAM User의 access key id, security access key 의 정보를 획득\n",
    "- 이미 가지고 계시면 기존 정보를 사용하시면 됩니다.\n",
    "- IAM User의 access key 의 상세 사항은 여기를 보세요. -->  [IAM 사용자의 액세스 키 관리](https://docs.aws.amazon.com/ko_kr/IAM/latest/UserGuide/id_credentials_access-keys.html?icmpid=docs_iam_console)\n",
    "\n",
    "#### [에빈트 엔진 사용시] IAM 에서 새로운 user를 생성한 후에 access key id, security access key 를 얻습니다.\n",
    "\n",
    "![iam_access_key.png](img/iam_access_key.png)\n",
    "\n",
    "\n",
    "#### (2) 터미널에서 AWS CLI 를 통해서 인증 정보 제공\n",
    "- 아래 그림과 같이 준비된 access key id, security access key 를 입력\n",
    "    - 상세 사항은 여기를 참조 하세요. -->  [aws configure를 통한 빠른 구성](https://docs.aws.amazon.com/ko_kr/cli/latest/userguide/cli-configure-quickstart.html#cli-configure-quickstart-config)\n",
    "![aws_configure.png](img/aws_configure.png)\n",
    "\n",
    "#### (3) 로컬 모드로 훈련 재실행\n",
    "- 아래와 같이 성공적으로 로컬 모드 훈련이 됩니다.\n",
    "![fix_403_error.png](img/fix_403_error.png)"
   ]
  },
  {
   "cell_type": "markdown",
   "id": "1f157d3a",
   "metadata": {},
   "source": [
    "## 해결 2\n",
    "- 노트북 인스턴스를 재시작을 하고 진행하면 문제가 해결 될 수 있습니다. 내부 인증 정보가 초기화가 되어서 해결이 됩니다.\n",
    "    - 이 방법은 간단하지만 재시작으로 인해서, 대기 시간도 약 10분 걸리고 작업 내역이 초기화 되는 단점이 있습니다."
   ]
  },
  {
   "cell_type": "code",
   "execution_count": null,
   "id": "4f579777",
   "metadata": {},
   "outputs": [],
   "source": []
  }
 ],
 "metadata": {
  "kernelspec": {
   "display_name": "conda_python3",
   "language": "python",
   "name": "conda_python3"
  },
  "language_info": {
   "codemirror_mode": {
    "name": "ipython",
    "version": 3
   },
   "file_extension": ".py",
   "mimetype": "text/x-python",
   "name": "python",
   "nbconvert_exporter": "python",
   "pygments_lexer": "ipython3",
   "version": "3.6.13"
  }
 },
 "nbformat": 4,
 "nbformat_minor": 5
}
