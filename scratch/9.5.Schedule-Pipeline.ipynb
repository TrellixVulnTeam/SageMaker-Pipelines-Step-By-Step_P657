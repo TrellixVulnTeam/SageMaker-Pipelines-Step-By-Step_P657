{
 "cells": [
  {
   "cell_type": "markdown",
   "id": "3e6b84a8",
   "metadata": {},
   "source": [
    "# [모듈 9.5] 파이프 라인 스케줄링 예시"
   ]
  },
  {
   "cell_type": "markdown",
   "id": "c33993bd",
   "metadata": {},
   "source": [
    "Modeling Building Pipeline (MBP) 을 여러가지 방식으로 스케줄링을 할 수 있습니다.\n",
    "아래의 개발자 가이드를 참고 하시고, 이벤트 브리지 컨솔에 이동하셔서 아래의 예시 처럼 하시면 됩니다.\n",
    "\n",
    "- [Amazon EventBridge Integration](https://docs.amazonaws.cn/en_us/sagemaker/latest/dg/pipeline-eventbridge.html)\n",
    "- [이벤트 컨솔 페이지](http://console.aws.amazon.com/events)"
   ]
  },
  {
   "cell_type": "markdown",
   "id": "ccca8e3f",
   "metadata": {},
   "source": [
    "### 매일 시간 마다 MBP 를 시작하게 하는 예시"
   ]
  },
  {
   "cell_type": "markdown",
   "id": "dc949c48",
   "metadata": {},
   "source": [
    "\n",
    "#### 1. 이벤트 브리지의 \"룰\" 생성 클릭\n",
    "![create-event-rule.png](img/create-event-rule.png)\n",
    "\n",
    "#### 2. 시간 기준으로 스케줄하기 위해서 \"schedule\" 선택 (에: 매일 매 시간 마다 실행)\n",
    "![schedule-time-base.png](img/schedule-time-base.png)\n",
    "\n",
    "\n",
    "#### 3. 스케줄링의 타겟을 SageMaker Pipeline 및 Pipeline 이름을 지정. 이후 생성 버튼을 클릭하세요.\n",
    "![select-schedule-target.png](img/select-schedule-target.png)\n",
    "\n",
    "#### 4. 이벤트 룰 생성 완료\n",
    "![event-rule-creation.png](img/event-rule-creation.png)\n",
    "\n",
    "#### 5. 매 시간 정시에 실행 예시 (스튜디오에서 확인)\n",
    "![scheduled-execution.png](img/scheduled-execution.png)"
   ]
  },
  {
   "cell_type": "code",
   "execution_count": null,
   "id": "2b680468",
   "metadata": {},
   "outputs": [],
   "source": []
  },
  {
   "cell_type": "code",
   "execution_count": null,
   "id": "fd49a36b",
   "metadata": {},
   "outputs": [],
   "source": []
  }
 ],
 "metadata": {
  "kernelspec": {
   "display_name": "conda_python3",
   "language": "python",
   "name": "conda_python3"
  },
  "language_info": {
   "codemirror_mode": {
    "name": "ipython",
    "version": 3
   },
   "file_extension": ".py",
   "mimetype": "text/x-python",
   "name": "python",
   "nbconvert_exporter": "python",
   "pygments_lexer": "ipython3",
   "version": "3.6.13"
  }
 },
 "nbformat": 4,
 "nbformat_minor": 5
}
