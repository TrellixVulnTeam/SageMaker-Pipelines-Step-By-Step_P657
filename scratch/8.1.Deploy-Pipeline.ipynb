{
 "cells": [
  {
   "cell_type": "markdown",
   "metadata": {},
   "source": [
    "# [모듈 8.1] 엔드포인트 배포 스텝 개발"
   ]
  },
  {
   "cell_type": "markdown",
   "metadata": {},
   "source": [
    "이 노트북에서는 \"SageMaker 호스팅 서비스를 사용하여 모델 배포는 다음과 같은 3단계 프로세스\" 중에 두번째와 세번째 단계를 진행 합니다.\n",
    "- HTTPS endpoint에 대한 endpoint configuration 만들기\n",
    "- HTTPS 엔드포인트 생성\n",
    "\n",
    "```\n",
    "## SageMaker 호스팅 서비스를 사용하여 모델 배포는 다음과 같은 3단계 프로세스\n",
    "\n",
    "### 1. SageMaker 에서 모델 생성 (이 노트북에서 포함하는 내용임)\n",
    "- 모델을 생성하여 모델 컴포넌트를 찾을 수 있는 위치를 SageMaker 에 알려줍니다.\n",
    "    - 모델 컴포넌트: \n",
    "        - (1) 모델 결과물이 저장되는 S3 경로 \n",
    "        - (2) 추론 코드를 포함하는 이미지에 대한 도커 레지스트리 경로\n",
    "\n",
    "### 2. HTTPS endpoint에 대한 endpoint configuration 만들기\n",
    "- 프로덕션 변형에서 하나 이상의 모델 이름과 SageMaker 에서 각 프로덕션 변형을 호스트하기 위해 시작할 ML 인스턴스를 지정\n",
    "\n",
    "### 3. HTTPS 엔드포인트 생성\n",
    "- endpoint configuration을 SageMaker에 제공합니다. SageMaker는 ML 인스턴스를 시작하고 configuration에서 지정된 대로 모델을 배포합니다. endpoint 에서 추론을 받으려면 클라이언트 애플리케이션에서 SageMaker 런타임 HTTPS 엔드포인트로 요청을 전송합니다. API에 대한 자세한 정보는 InvokeEndpoint API를 참조하십시오.\n",
    "```\n"
   ]
  },
  {
   "cell_type": "markdown",
   "metadata": {},
   "source": [
    "## HTTPS endpoint에 대한 endpoint configuration 만들기\n",
    "- endpoint configuration\n",
    "    - Amazon SageMaker 호스팅 서비스가 모델을 배포하는 데 사용하는 endpoint configuration 입니다.endpoint configuration에는 주요하게 아래 두가지가 포함이 됩니다. \n",
    "        - 한개 이상의 프러뎍션 변형(ProductionVariants) \n",
    "            - CreateModel API를 사용하여 생성 된 모델\n",
    "            - 모델을 로딩할 ML 인스턴스 (예: ml.m4.2xlarge)\n",
    "            - InitialInstanceCount: ML 인스턴스 갯수\n",
    "            - InitialVariantWeight: 프덕뎍션 변형에 보낼 트래픽 비율\n",
    "- 상세 내용은 여기를 참조 하세요. --> [CreateEndpointConfig](https://docs.aws.amazon.com/ko_kr/sagemaker/latest/APIReference/API_CreateEndpointConfig.html)            \n",
    "            \n",
    "아래와 같은 코드를 가지고 endpoint configuration을 생성 합니다.\n",
    "```python\n",
    "    create_ep_config_response = sagemaker_boto_client.create_endpoint_config(\n",
    "        EndpointConfigName=endpoint_config_name,\n",
    "        ProductionVariants=[{\n",
    "            'InstanceType': instance_type,\n",
    "            'InitialVariantWeight': 1,\n",
    "            'InitialInstanceCount': 1,\n",
    "            'ModelName': model_name,\n",
    "            'VariantName': 'AllTraffic'\n",
    "        }]\n",
    "    )\n",
    "```\n",
    "아래는 endpoint configuration 생성한 예시 입니다."
   ]
  },
  {
   "cell_type": "markdown",
   "metadata": {},
   "source": [
    "![endpoint-config.png](img/endpoint-config.png)\n",
    "\n"
   ]
  },
  {
   "cell_type": "markdown",
   "metadata": {},
   "source": [
    "### HTTPS 엔드포인트 생성\n",
    "엔드포인트의 생성은 엔드포인트 이름을 명시하고, 생성한 endpoint_config_name 를 기술하면 됩니다.\n",
    "```python\n",
    "    create_endpoint_response = sagemaker_boto_client.create_endpoint(\n",
    "        EndpointName=args.endpoint_name,\n",
    "        EndpointConfigName=endpoint_config_name)\n",
    "```"
   ]
  },
  {
   "cell_type": "markdown",
   "metadata": {},
   "source": [
    "### 프로덕션 환경에서 테스트 모델\n",
    "- 아래의 그림 예시는 3개의 프더덕트 변형을 만들고, 각각 다름 모델 및 ML 인스턴스를 가지고 있습니다. Endpoint의 트래픽을 70%, 20%, 10% 씩을 처리하게 구성되어 있습니다. 이러한 구성은 특정 모델에 대한 A/B Testing 환경 구성에 주로 사용됩니다.\n",
    "- 상세한 내용은 여기를 참조하세요. --> [프로덕션 환경에서 테스트 모델](https://docs.aws.amazon.com/sagemaker/latest/dg/model-ab-testing.html)\n",
    "\n",
    "![model-traffic-distribution.png](img/model-traffic-distribution.png)\n",
    "\n",
    "### 오토스케일링을 적용한 추론 아키텍쳐\n",
    "- 아래는 일반적인 오토 스케일링이 적용된 추론 아키텍쳐 입니다."
   ]
  },
  {
   "cell_type": "markdown",
   "metadata": {},
   "source": [
    "![sagemaker-endpoints.png](img/sagemaker-endpoints.png)"
   ]
  },
  {
   "cell_type": "markdown",
   "metadata": {},
   "source": [
    "---\n",
    "## 엔드 포인트를 개발하기 위해서는 아래 3개의 단계를 수행합니다.\n",
    "\n",
    "### (1) 로컬 노트북 인스턴스에서 다커 컨테이너로 엔드포인트를 생성\n",
    "- 로컬 노트북 인스턴스에서 엔드포인트를 생성하기 위해서, Boto3 API (예: CreateModel API()) 대신 Python SDK를 통해서 모델을 생성 (sagemaker.model.Model() 사용)하고, Model.deploy() 를 통해서 엔드포인트를 바로 생성합니다.\n",
    "- 모델이 잘 동작하는지(에: 인퍼런스 코드의 로직이 잘 수행되는지) 를 확인하는데 목적을 둡니다.\n",
    "    - 상세 사항은 여기를 참조 하세요.--> [SageMaker Python SDK: Model](https://sagemaker.readthedocs.io/en/stable/api/inference/model.html)\n",
    "\n",
    "\n",
    "### (2) 로컬에서 Endpoint 생성 스크립트 실행 (Boto3 API 이용)     \n",
    "- src/deploy_model.py 를 로컬에서 실행하여 세이지 메메이커 호스팅 엔드포인트를 생성합니다.\n",
    "    - 이 단계의 목적은 src/deploy_model.py 스크립트의 로직확인에 목적을 둡니다.\n",
    "    \n",
    "### (3) SageMaker Pipeline 에서 엔드포인트 생성을 수행합니다.\n",
    "- 상세 사항은 여기에서 확인 하세요. --> [Amazon SageMaker 모델 구축 파이프라인](img/https://docs.aws.amazon.com/ko_kr/sagemaker/latest/dg/pipelines.html)\n",
    "    "
   ]
  },
  {
   "cell_type": "markdown",
   "metadata": {},
   "source": [
    "## 0. 기본 세이지 메이커 정보 및 기본 변수 로딩"
   ]
  },
  {
   "cell_type": "code",
   "execution_count": 2,
   "metadata": {},
   "outputs": [],
   "source": [
    "import boto3\n",
    "import sagemaker\n",
    "import pandas as pd\n",
    "\n",
    "region = boto3.Session().region_name\n",
    "\n",
    "role = sagemaker.get_execution_role()\n",
    "\n",
    "%store -r "
   ]
  },
  {
   "cell_type": "markdown",
   "metadata": {},
   "source": [
    "## 1. 환경 셋업"
   ]
  },
  {
   "cell_type": "markdown",
   "metadata": {},
   "source": [
    "#### 세이지 메이커 호스트 세션 정의"
   ]
  },
  {
   "cell_type": "code",
   "execution_count": 2,
   "metadata": {},
   "outputs": [],
   "source": [
    "\n",
    "import sagemaker\n",
    "\n",
    "# 세이지 메이커의 호스트 모드에서 사용할 세션\n",
    "sagemaker_session = sagemaker.session.Session()\n"
   ]
  },
  {
   "cell_type": "markdown",
   "metadata": {},
   "source": [
    "#### 세이지 메이커 로컬 세션 정의"
   ]
  },
  {
   "cell_type": "code",
   "execution_count": null,
   "metadata": {},
   "outputs": [],
   "source": [
    "# 로컬 노트북 인스턴스에서 사용할 로컬 세션\n",
    "local_session = sagemaker.local.LocalSession()\n",
    "local_session.config = {'local' : {'local_code':True}}"
   ]
  },
  {
   "cell_type": "markdown",
   "metadata": {},
   "source": [
    "## 2. 엔드포인트 생성 실행\n",
    "---\n",
    "\n",
    "### (1) 로컬 노트북 인스턴스에서 로컬 모드(로컬 다커 컨테이너 사용)로 훈련 코드 실행\n",
    "\n",
    "\n"
   ]
  },
  {
   "cell_type": "markdown",
   "metadata": {},
   "source": [
    "### 엔드 포인트에 사용할 변수 정의\n",
    "\n",
    "- instance_type = 'local' \n",
    "    - 로컬 모드를 실행하는 지시자 임.\n",
    "\n"
   ]
  },
  {
   "cell_type": "code",
   "execution_count": 5,
   "metadata": {},
   "outputs": [],
   "source": [
    "from datetime import datetime\n",
    "suffix = datetime.now().microsecond"
   ]
  },
  {
   "cell_type": "code",
   "execution_count": 6,
   "metadata": {},
   "outputs": [
    {
     "name": "stdout",
     "output_type": "stream",
     "text": [
      "local_endpoint_name:  local-endpoint-98218\n"
     ]
    }
   ],
   "source": [
    "instance_type='local'\n",
    "local_endpoint_name = 'local-endpoint-' + str(suffix)\n",
    "print(\"local_endpoint_name: \", local_endpoint_name)\n"
   ]
  },
  {
   "cell_type": "markdown",
   "metadata": {},
   "source": [
    "### 모델 생성"
   ]
  },
  {
   "cell_type": "code",
   "execution_count": 7,
   "metadata": {},
   "outputs": [
    {
     "name": "stdout",
     "output_type": "stream",
     "text": [
      "suffix:  484471\n"
     ]
    }
   ],
   "source": [
    "from datetime import datetime\n",
    "suffix = datetime.now().microsecond\n",
    "print(\"suffix: \", suffix)\n",
    "\n",
    "from sagemaker.model import Model\n",
    "\n",
    "local_model = Model(\n",
    "    image_uri=image_uri,\n",
    "    model_data= train_model_artifact,\n",
    "    sagemaker_session= local_session,\n",
    "    role=role\n",
    ")"
   ]
  },
  {
   "cell_type": "markdown",
   "metadata": {},
   "source": [
    "### 로컬 엔드포인트 생성\n",
    "\n",
    "- 에러 케이스1\n",
    "    - 아래와 같이 에러가 발생한 경우에 로컬머신에 다커 컨테이너가 이미 실행 상태일 수 있습니다.\n",
    "```\n",
    "Exception in thread Thread-13:\n",
    "Traceback (most recent call last):\n",
    "  File \"/home/ec2-user/anaconda3/envs/python3/lib/python3.6/site-packages/sagemaker/local/image.py\", line 827, in run\n",
    "    _stream_output(self.process)\n",
    "  File \"/home/ec2-user/anaconda3/envs/python3/lib/python3.6/site-packages/sagemaker/local/image.py\", line 887, in _stream_output\n",
    "    raise RuntimeError(\"Process exited with code: %s\" % exit_code)\n",
    "RuntimeError: Process exited with code: 1\n",
    "```\n",
    "- 아래의 그럼 처럼 실행 중인 다커 컨테이너를 확인하고, 중지 시켜주시기 바랍니다.\n",
    "- ![docke_error_01.png](img/docke_error_01.png)"
   ]
  },
  {
   "cell_type": "code",
   "execution_count": 8,
   "metadata": {
    "collapsed": true,
    "jupyter": {
     "outputs_hidden": true
    }
   },
   "outputs": [
    {
     "name": "stdout",
     "output_type": "stream",
     "text": [
      "Attaching to bfe6ufd8f6-algo-1-1szap\n",
      "\u001b[36mbfe6ufd8f6-algo-1-1szap |\u001b[0m [2021-06-26:04:47:45:INFO] No GPUs detected (normal if no gpus installed)\n",
      "\u001b[36mbfe6ufd8f6-algo-1-1szap |\u001b[0m [2021-06-26:04:47:45:INFO] No GPUs detected (normal if no gpus installed)\n",
      "\u001b[36mbfe6ufd8f6-algo-1-1szap |\u001b[0m [2021-06-26:04:47:45:INFO] nginx config: \n",
      "\u001b[36mbfe6ufd8f6-algo-1-1szap |\u001b[0m worker_processes auto;\n",
      "\u001b[36mbfe6ufd8f6-algo-1-1szap |\u001b[0m daemon off;\n",
      "\u001b[36mbfe6ufd8f6-algo-1-1szap |\u001b[0m pid /tmp/nginx.pid;\n",
      "\u001b[36mbfe6ufd8f6-algo-1-1szap |\u001b[0m error_log  /dev/stderr;\n",
      "\u001b[36mbfe6ufd8f6-algo-1-1szap |\u001b[0m \n",
      "\u001b[36mbfe6ufd8f6-algo-1-1szap |\u001b[0m worker_rlimit_nofile 4096;\n",
      "\u001b[36mbfe6ufd8f6-algo-1-1szap |\u001b[0m \n",
      "\u001b[36mbfe6ufd8f6-algo-1-1szap |\u001b[0m events {\n",
      "\u001b[36mbfe6ufd8f6-algo-1-1szap |\u001b[0m   worker_connections 2048;\n",
      "\u001b[36mbfe6ufd8f6-algo-1-1szap |\u001b[0m }\n",
      "\u001b[36mbfe6ufd8f6-algo-1-1szap |\u001b[0m \n",
      "\u001b[36mbfe6ufd8f6-algo-1-1szap |\u001b[0m http {\n",
      "\u001b[36mbfe6ufd8f6-algo-1-1szap |\u001b[0m   include /etc/nginx/mime.types;\n",
      "\u001b[36mbfe6ufd8f6-algo-1-1szap |\u001b[0m   default_type application/octet-stream;\n",
      "\u001b[36mbfe6ufd8f6-algo-1-1szap |\u001b[0m   access_log /dev/stdout combined;\n",
      "\u001b[36mbfe6ufd8f6-algo-1-1szap |\u001b[0m \n",
      "\u001b[36mbfe6ufd8f6-algo-1-1szap |\u001b[0m   upstream gunicorn {\n",
      "\u001b[36mbfe6ufd8f6-algo-1-1szap |\u001b[0m     server unix:/tmp/gunicorn.sock;\n",
      "\u001b[36mbfe6ufd8f6-algo-1-1szap |\u001b[0m   }\n",
      "\u001b[36mbfe6ufd8f6-algo-1-1szap |\u001b[0m \n",
      "\u001b[36mbfe6ufd8f6-algo-1-1szap |\u001b[0m   server {\n",
      "\u001b[36mbfe6ufd8f6-algo-1-1szap |\u001b[0m     listen 8080 deferred;\n",
      "\u001b[36mbfe6ufd8f6-algo-1-1szap |\u001b[0m     client_max_body_size 0;\n",
      "\u001b[36mbfe6ufd8f6-algo-1-1szap |\u001b[0m \n",
      "\u001b[36mbfe6ufd8f6-algo-1-1szap |\u001b[0m     keepalive_timeout 3;\n",
      "\u001b[36mbfe6ufd8f6-algo-1-1szap |\u001b[0m \n",
      "\u001b[36mbfe6ufd8f6-algo-1-1szap |\u001b[0m     location ~ ^/(ping|invocations|execution-parameters) {\n",
      "\u001b[36mbfe6ufd8f6-algo-1-1szap |\u001b[0m       proxy_set_header X-Forwarded-For $proxy_add_x_forwarded_for;\n",
      "\u001b[36mbfe6ufd8f6-algo-1-1szap |\u001b[0m       proxy_set_header Host $http_host;\n",
      "\u001b[36mbfe6ufd8f6-algo-1-1szap |\u001b[0m       proxy_redirect off;\n",
      "\u001b[36mbfe6ufd8f6-algo-1-1szap |\u001b[0m       proxy_read_timeout 60s;\n",
      "\u001b[36mbfe6ufd8f6-algo-1-1szap |\u001b[0m       proxy_pass http://gunicorn;\n",
      "\u001b[36mbfe6ufd8f6-algo-1-1szap |\u001b[0m     }\n",
      "\u001b[36mbfe6ufd8f6-algo-1-1szap |\u001b[0m \n",
      "\u001b[36mbfe6ufd8f6-algo-1-1szap |\u001b[0m     location / {\n",
      "\u001b[36mbfe6ufd8f6-algo-1-1szap |\u001b[0m       return 404 \"{}\";\n",
      "\u001b[36mbfe6ufd8f6-algo-1-1szap |\u001b[0m     }\n",
      "\u001b[36mbfe6ufd8f6-algo-1-1szap |\u001b[0m \n",
      "\u001b[36mbfe6ufd8f6-algo-1-1szap |\u001b[0m   }\n",
      "\u001b[36mbfe6ufd8f6-algo-1-1szap |\u001b[0m }\n",
      "\u001b[36mbfe6ufd8f6-algo-1-1szap |\u001b[0m \n",
      "\u001b[36mbfe6ufd8f6-algo-1-1szap |\u001b[0m \n",
      "\u001b[36mbfe6ufd8f6-algo-1-1szap |\u001b[0m [2021-06-26 04:47:45 +0000] [25] [INFO] Starting gunicorn 19.10.0\n",
      "\u001b[36mbfe6ufd8f6-algo-1-1szap |\u001b[0m [2021-06-26 04:47:45 +0000] [25] [INFO] Listening at: unix:/tmp/gunicorn.sock (25)\n",
      "\u001b[36mbfe6ufd8f6-algo-1-1szap |\u001b[0m [2021-06-26 04:47:45 +0000] [25] [INFO] Using worker: gevent\n",
      "\u001b[36mbfe6ufd8f6-algo-1-1szap |\u001b[0m [2021-06-26 04:47:45 +0000] [36] [INFO] Booting worker with pid: 36\n",
      "\u001b[36mbfe6ufd8f6-algo-1-1szap |\u001b[0m [2021-06-26 04:47:45 +0000] [37] [INFO] Booting worker with pid: 37\n",
      "\u001b[36mbfe6ufd8f6-algo-1-1szap |\u001b[0m [2021-06-26 04:47:45 +0000] [38] [INFO] Booting worker with pid: 38\n",
      "\u001b[36mbfe6ufd8f6-algo-1-1szap |\u001b[0m [2021-06-26 04:47:45 +0000] [46] [INFO] Booting worker with pid: 46\n",
      "\u001b[36mbfe6ufd8f6-algo-1-1szap |\u001b[0m [2021-06-26 04:47:45 +0000] [47] [INFO] Booting worker with pid: 47\n",
      "\u001b[36mbfe6ufd8f6-algo-1-1szap |\u001b[0m [2021-06-26 04:47:45 +0000] [55] [INFO] Booting worker with pid: 55\n",
      "\u001b[36mbfe6ufd8f6-algo-1-1szap |\u001b[0m [2021-06-26 04:47:46 +0000] [56] [INFO] Booting worker with pid: 56\n",
      "\u001b[36mbfe6ufd8f6-algo-1-1szap |\u001b[0m [2021-06-26 04:47:46 +0000] [64] [INFO] Booting worker with pid: 64\n",
      "\u001b[36mbfe6ufd8f6-algo-1-1szap |\u001b[0m [2021-06-26:04:47:47:INFO] No GPUs detected (normal if no gpus installed)\n",
      "!"
     ]
    }
   ],
   "source": [
    "local_predictor = local_model.deploy(initial_instance_count = 1,\n",
    "                                     instance_type = instance_type, \n",
    "                                     endpoint_name = local_endpoint_name\n",
    "            )"
   ]
  },
  {
   "cell_type": "markdown",
   "metadata": {},
   "source": [
    "### 로컬 프리딕터 생성\n",
    "\n",
    "HTTPS 프로토콜로 엔드포인트에 요청 및 반환시에는 Sequence of Bytes의 형태로 데이터가 전송됩니다. Predictor 같은 중간에 오브젝트를 두면, 입력 데이터의 직렬화 및 결과 데이터의 역직렬화를 합니다. \n",
    "\n",
    "- 참고 사항: \n",
    "    - [Predictors](https://sagemaker.readthedocs.io/en/stable/api/inference/predictors.html)\n",
    "    - [SageMaker Python SDK: Deserializers](https://sagemaker.readthedocs.io/en/stable/api/inference/deserializers.html#)"
   ]
  },
  {
   "cell_type": "code",
   "execution_count": 9,
   "metadata": {},
   "outputs": [
    {
     "name": "stdout",
     "output_type": "stream",
     "text": [
      "\u001b[36mbfe6ufd8f6-algo-1-1szap |\u001b[0m 172.18.0.1 - - [26/Jun/2021:04:47:47 +0000] \"GET /ping HTTP/1.1\" 200 0 \"-\" \"python-urllib3/1.26.4\"\n"
     ]
    }
   ],
   "source": [
    "from sagemaker.deserializers import CSVDeserializer\n",
    "csv_deserializer = CSVDeserializer(accept='text/csv') # 디폴트가 accept가 'text/csv' 이지만 직관적 이유로 기술함.\n",
    "\n",
    "def get_predictor(endpoint_name, session, csv_deserializer):\n",
    "    '''\n",
    "    predictor = get_predictor(endpoint_name, session, csv_deserializer)    \n",
    "    '''\n",
    "    predictor = sagemaker.predictor.Predictor(\n",
    "        endpoint_name=endpoint_name,\n",
    "        sagemaker_session= session, # 세션 할당: 로컬 세션 혹은 세이지 메이커 호스트 세션\n",
    "        deserializer = csv_deserializer, # byte stream을 csv 형태로 변환하여 제공        \n",
    "    )\n",
    "    return predictor\n",
    "\n",
    "predictor = get_predictor(local_endpoint_name, local_session, csv_deserializer)\n"
   ]
  },
  {
   "cell_type": "markdown",
   "metadata": {},
   "source": [
    "### 테스트 세트 데이터 로드 및 추론\n",
    "- 기존에 전처리된 테스트 데이터를 로딩해서 추론에 사용합니다."
   ]
  },
  {
   "cell_type": "code",
   "execution_count": 10,
   "metadata": {},
   "outputs": [],
   "source": [
    "import os\n",
    "\n",
    "test_preproc_dir_artifact_file = os.path.join(test_preproc_dir_artifact, 'test.csv')"
   ]
  },
  {
   "cell_type": "code",
   "execution_count": 11,
   "metadata": {},
   "outputs": [
    {
     "data": {
      "text/html": [
       "<div>\n",
       "<style scoped>\n",
       "    .dataframe tbody tr th:only-of-type {\n",
       "        vertical-align: middle;\n",
       "    }\n",
       "\n",
       "    .dataframe tbody tr th {\n",
       "        vertical-align: top;\n",
       "    }\n",
       "\n",
       "    .dataframe thead th {\n",
       "        text-align: right;\n",
       "    }\n",
       "</style>\n",
       "<table border=\"1\" class=\"dataframe\">\n",
       "  <thead>\n",
       "    <tr style=\"text-align: right;\">\n",
       "      <th></th>\n",
       "      <th>fraud</th>\n",
       "      <th>vehicle_claim</th>\n",
       "      <th>total_claim_amount</th>\n",
       "      <th>customer_age</th>\n",
       "      <th>months_as_customer</th>\n",
       "      <th>num_claims_past_year</th>\n",
       "      <th>num_insurers_past_5_years</th>\n",
       "      <th>policy_deductable</th>\n",
       "      <th>policy_annual_premium</th>\n",
       "      <th>customer_zip</th>\n",
       "      <th>...</th>\n",
       "      <th>collision_type_missing</th>\n",
       "      <th>incident_severity_Major</th>\n",
       "      <th>incident_severity_Minor</th>\n",
       "      <th>incident_severity_Totaled</th>\n",
       "      <th>authorities_contacted_Ambulance</th>\n",
       "      <th>authorities_contacted_Fire</th>\n",
       "      <th>authorities_contacted_None</th>\n",
       "      <th>authorities_contacted_Police</th>\n",
       "      <th>police_report_available_No</th>\n",
       "      <th>police_report_available_Yes</th>\n",
       "    </tr>\n",
       "  </thead>\n",
       "  <tbody>\n",
       "    <tr>\n",
       "      <th>0</th>\n",
       "      <td>0</td>\n",
       "      <td>6038.102399</td>\n",
       "      <td>15838.102399</td>\n",
       "      <td>39</td>\n",
       "      <td>64</td>\n",
       "      <td>0</td>\n",
       "      <td>1</td>\n",
       "      <td>750</td>\n",
       "      <td>2750</td>\n",
       "      <td>95660</td>\n",
       "      <td>...</td>\n",
       "      <td>0</td>\n",
       "      <td>0</td>\n",
       "      <td>1</td>\n",
       "      <td>0</td>\n",
       "      <td>0</td>\n",
       "      <td>0</td>\n",
       "      <td>1</td>\n",
       "      <td>0</td>\n",
       "      <td>1</td>\n",
       "      <td>0</td>\n",
       "    </tr>\n",
       "    <tr>\n",
       "      <th>1</th>\n",
       "      <td>0</td>\n",
       "      <td>12813.265683</td>\n",
       "      <td>27813.265683</td>\n",
       "      <td>41</td>\n",
       "      <td>131</td>\n",
       "      <td>0</td>\n",
       "      <td>1</td>\n",
       "      <td>750</td>\n",
       "      <td>2700</td>\n",
       "      <td>90020</td>\n",
       "      <td>...</td>\n",
       "      <td>1</td>\n",
       "      <td>1</td>\n",
       "      <td>0</td>\n",
       "      <td>0</td>\n",
       "      <td>0</td>\n",
       "      <td>0</td>\n",
       "      <td>0</td>\n",
       "      <td>1</td>\n",
       "      <td>1</td>\n",
       "      <td>0</td>\n",
       "    </tr>\n",
       "  </tbody>\n",
       "</table>\n",
       "<p>2 rows × 59 columns</p>\n",
       "</div>"
      ],
      "text/plain": [
       "   fraud  vehicle_claim  total_claim_amount  customer_age  months_as_customer  \\\n",
       "0      0    6038.102399        15838.102399            39                  64   \n",
       "1      0   12813.265683        27813.265683            41                 131   \n",
       "\n",
       "   num_claims_past_year  num_insurers_past_5_years  policy_deductable  \\\n",
       "0                     0                          1                750   \n",
       "1                     0                          1                750   \n",
       "\n",
       "   policy_annual_premium  customer_zip  ...  collision_type_missing  \\\n",
       "0                   2750         95660  ...                       0   \n",
       "1                   2700         90020  ...                       1   \n",
       "\n",
       "   incident_severity_Major  incident_severity_Minor  \\\n",
       "0                        0                        1   \n",
       "1                        1                        0   \n",
       "\n",
       "   incident_severity_Totaled  authorities_contacted_Ambulance  \\\n",
       "0                          0                                0   \n",
       "1                          0                                0   \n",
       "\n",
       "   authorities_contacted_Fire  authorities_contacted_None  \\\n",
       "0                           0                           1   \n",
       "1                           0                           0   \n",
       "\n",
       "   authorities_contacted_Police  police_report_available_No  \\\n",
       "0                             0                           1   \n",
       "1                             1                           1   \n",
       "\n",
       "   police_report_available_Yes  \n",
       "0                            0  \n",
       "1                            0  \n",
       "\n",
       "[2 rows x 59 columns]"
      ]
     },
     "execution_count": 11,
     "metadata": {},
     "output_type": "execute_result"
    }
   ],
   "source": [
    "test_df = pd.read_csv(test_preproc_dir_artifact_file)\n",
    "test_df.head(2)"
   ]
  },
  {
   "cell_type": "markdown",
   "metadata": {},
   "source": [
    "### 추론에 사용할 Payload 생성 및 추론\n",
    "- 위의 테스트 데이터를 통해서 엔드포인트에 전달할 CSV 형태의 String을 생성합니다. (payload).\n",
    "- payload 를 엔드포인트에 제공하면, 확률값을 0726071447134018 을 리턴합니다. \n",
    "- 보통 확률값이 0.5 보다 작으면 0 (Non-Fruad), 0.5 보다 크면 1 (Fruad) 로 변환해서 예측값으로 사용합니다.\n",
    "\n",
    "```\n",
    "payload: \n",
    " 6038.102399076349,15838.10239907635,39,64,0,1,750,2750,95660,2012,1,0,0,9800,1,9,2,16,0,1,0,0,0,0,0,0,1,0,0,1,0,0,0,0,1,0,0,0,0,1,0,0,0,1,0,1,0,0,0,0,1,0,0,0,1,0,1,0\n",
    "Reponse: \n",
    "[['0.0726071447134018']]\n",
    "\n",
    "```"
   ]
  },
  {
   "cell_type": "code",
   "execution_count": 12,
   "metadata": {},
   "outputs": [],
   "source": [
    "from IPython.display import display as dp\n",
    " \n",
    "def get_payload(sample, label_col = 'fraud', verbose=False):    \n",
    "    '''\n",
    "    아래왁 같이 ',' 형태의 문자형을 리턴함.\n",
    "    0,0,750,2,0,2,0,2,1,16596.0,1,18,0,59,1,0,0,4500.0,0,0,1,1,0,52,2020,3,0,0,0,2,1,0,0,0,0,0,0,10,12096.0,1,3000,1,0,1,0    \n",
    "    '''\n",
    "\n",
    "    sample = sample.drop(columns=[label_col]) # 레이블 제거\n",
    "\n",
    "    payload = sample.to_csv(header=None, index=None).splitlines() # \n",
    "    payload = payload[0]\n",
    "\n",
    "    if verbose:\n",
    "        #dp(sample)\n",
    "        # print(\"payload length: \\n\", len(payload))    \n",
    "        print(\"pay load type: \", type(payload))\n",
    "        print(\"payload: \\n\", payload)\n",
    "    \n",
    "    return payload\n",
    "\n",
    "def predict(predictor, payload):\n",
    "    '''\n",
    "    프리딕터에 콤마 분리된 문자형과 ContentType을 'text/csv' 로 제공\n",
    "    참고:\n",
    "        CSVDeserializer 를 사용하지 않으면 byte stream 으로 제공되기에, 아래와 같이 디코딩 하여 사용함.\n",
    "        result = float(result.decode())\n",
    "    '''\n",
    "\n",
    "    pay_load = get_payload(test_df, label_col='fraud', verbose=True)\n",
    "    result = predictor.predict(pay_load, initial_args = {\"ContentType\": \"text/csv\"})\n",
    "    \n",
    "    return result\n",
    "\n"
   ]
  },
  {
   "cell_type": "code",
   "execution_count": 13,
   "metadata": {},
   "outputs": [
    {
     "name": "stdout",
     "output_type": "stream",
     "text": [
      "pay load type:  <class 'str'>\n",
      "payload: \n",
      " 6038.102399076349,15838.10239907635,39,64,0,1,750,2750,95660,2012,1,0,0,9800,1,9,2,16,0,1,0,0,0,0,0,0,1,0,0,1,0,0,0,0,1,0,0,0,0,1,0,0,0,1,0,1,0,0,0,0,1,0,0,0,1,0,1,0\n",
      "\u001b[36mbfe6ufd8f6-algo-1-1szap |\u001b[0m [2021-06-26:04:47:52:INFO] No GPUs detected (normal if no gpus installed)\n",
      "\u001b[36mbfe6ufd8f6-algo-1-1szap |\u001b[0m [2021-06-26:04:47:52:INFO] Determined delimiter of CSV input is ','\n"
     ]
    },
    {
     "data": {
      "text/plain": [
       "[['0.0726071447134018']]"
      ]
     },
     "execution_count": 13,
     "metadata": {},
     "output_type": "execute_result"
    },
    {
     "name": "stdout",
     "output_type": "stream",
     "text": [
      "\u001b[36mbfe6ufd8f6-algo-1-1szap |\u001b[0m 172.18.0.1 - - [26/Jun/2021:04:47:52 +0000] \"POST /invocations HTTP/1.1\" 200 18 \"-\" \"python-urllib3/1.26.4\"\n"
     ]
    }
   ],
   "source": [
    "sample = test_df.sample(1)\n",
    "payload = get_payload(test_df, label_col = 'fraud', verbose=False)\n",
    "pred_prob = predict(predictor, payload)\n",
    "pred_prob"
   ]
  },
  {
   "cell_type": "markdown",
   "metadata": {},
   "source": [
    "### 로컬 엔드 포인트 삭제\n",
    "- 위에서 생성한 모델, enpoint config, endpoint를 삭제 합니다."
   ]
  },
  {
   "cell_type": "code",
   "execution_count": 14,
   "metadata": {},
   "outputs": [],
   "source": [
    "def delete_endpoint(client, endpoint_name ,is_del_model=True):\n",
    "    '''\n",
    "    model, EndpointConfig, Endpoint 삭제\n",
    "    '''\n",
    "    response = client.describe_endpoint(EndpointName=endpoint_name)\n",
    "    EndpointConfigName = response['EndpointConfigName']\n",
    "    \n",
    "    response = client.describe_endpoint_config(EndpointConfigName=EndpointConfigName)\n",
    "    model_name = response['ProductionVariants'][0]['ModelName']    \n",
    "\n",
    "#     print(\"EndpointConfigName: \\n\", EndpointConfigName)\n",
    "#     print(\"model_name: \\n\", model_name)    \n",
    "\n",
    "    if is_del_model: # 모델도 삭제 여부 임.\n",
    "        client.delete_model(ModelName=model_name)    \n",
    "        \n",
    "    client.delete_endpoint(EndpointName=endpoint_name)\n",
    "    client.delete_endpoint_config(EndpointConfigName=EndpointConfigName)    \n",
    "    \n",
    "    print(f'--- Deleted model: {model_name}')\n",
    "    print(f'--- Deleted endpoint: {endpoint_name}')\n",
    "    print(f'--- Deleted endpoint_config: {EndpointConfigName}')    \n"
   ]
  },
  {
   "cell_type": "code",
   "execution_count": 15,
   "metadata": {},
   "outputs": [
    {
     "name": "stdout",
     "output_type": "stream",
     "text": [
      "Gracefully stopping... (press Ctrl+C again to force)\n",
      "--- Deleted model: sagemaker-xgboost-2021-06-26-04-47-41-936\n",
      "--- Deleted endpoint: local-endpoint-98218\n",
      "--- Deleted endpoint_config: local-endpoint-98218\n"
     ]
    }
   ],
   "source": [
    "client = sagemaker.local.LocalSagemakerClient() # 로컬 세션 생성\n",
    "delete_endpoint(client, local_endpoint_name )"
   ]
  },
  {
   "cell_type": "markdown",
   "metadata": {},
   "source": [
    "## (2) 로컬에서 Endpoint 생성 스크립트 실행 (Boto3 API 이용)\n",
    "\n",
    "- **[중요] 아래는 약 8분 정도이 시간이 소요 됩니다.**"
   ]
  },
  {
   "cell_type": "code",
   "execution_count": 4,
   "metadata": {},
   "outputs": [],
   "source": [
    "# !pygmentize src/deploy_model.py # 코드를 보기 위해서 주석을 제거하세요."
   ]
  },
  {
   "cell_type": "code",
   "execution_count": 16,
   "metadata": {},
   "outputs": [
    {
     "name": "stdout",
     "output_type": "stream",
     "text": [
      "Using AWS Region: ap-northeast-2\n"
     ]
    }
   ],
   "source": [
    "import sagemaker\n",
    "region = sagemaker.Session().boto_region_name\n",
    "print(\"Using AWS Region: {}\".format(region))\n",
    "\n",
    "endpoint_name = 'fraud2scratch-' + str(suffix)\n",
    "endpoint_instance_type = 'ml.t2.xlarge'"
   ]
  },
  {
   "cell_type": "code",
   "execution_count": 17,
   "metadata": {},
   "outputs": [
    {
     "name": "stdout",
     "output_type": "stream",
     "text": [
      "#############################################\n",
      "args.model_name: pipelines-460lbbvwpsmp-fraudscratchmodel-4ap057a5cw\n",
      "args.region: ap-northeast-2\n",
      "args.endpoint_instance_type: ml.t2.xlarge\n",
      "args.endpoint_name: fraud2scratch-484471\n",
      "Creating endpoint\n",
      "Endpoint status is creating\n",
      "Endpoint status: Creating\n",
      "Endpoint status: Creating\n",
      "Endpoint status: Creating\n",
      "Endpoint status: Creating\n",
      "Endpoint status: Creating\n",
      "Endpoint status: Creating\n",
      "Endpoint status: Creating\n",
      "Endpoint status: Creating\n",
      "Endpoint status: Creating\n",
      "Endpoint status: Creating\n",
      "Endpoint status: Creating\n",
      "Endpoint status: Creating\n",
      "Endpoint status: Creating\n",
      "Endpoint status: InService\n"
     ]
    }
   ],
   "source": [
    "%%sh -s \"$sagemaker_model\" \"$region\" \"$endpoint_instance_type\" \"$endpoint_name\" \n",
    "python src/deploy_model.py \\\n",
    "--model_name $1 \\\n",
    "--region $2 \\\n",
    "--endpoint_instance_type $3 \\\n",
    "--endpoint_name $4\n",
    "\n"
   ]
  },
  {
   "cell_type": "markdown",
   "metadata": {},
   "source": [
    "### 추론 테스트"
   ]
  },
  {
   "cell_type": "code",
   "execution_count": 18,
   "metadata": {},
   "outputs": [],
   "source": [
    "predictor = get_predictor(endpoint_name, sagemaker_session, csv_deserializer)"
   ]
  },
  {
   "cell_type": "code",
   "execution_count": 19,
   "metadata": {},
   "outputs": [
    {
     "name": "stdout",
     "output_type": "stream",
     "text": [
      "pay load type:  <class 'str'>\n",
      "payload: \n",
      " 6038.102399076349,15838.10239907635,39,64,0,1,750,2750,95660,2012,1,0,0,9800,1,9,2,16,0,1,0,0,0,0,0,0,1,0,0,1,0,0,0,0,1,0,0,0,0,1,0,0,0,1,0,1,0,0,0,0,1,0,0,0,1,0,1,0\n"
     ]
    },
    {
     "data": {
      "text/plain": [
       "[['0.0726071447134018']]"
      ]
     },
     "execution_count": 19,
     "metadata": {},
     "output_type": "execute_result"
    }
   ],
   "source": [
    "import numpy as np\n",
    "sample = test_df.sample(1)\n",
    "payload = get_payload(test_df, label_col = 'fraud', verbose=False)\n",
    "pred_prob = predict(predictor, payload)\n",
    "pred_prob"
   ]
  },
  {
   "cell_type": "markdown",
   "metadata": {},
   "source": [
    "### 엔드포인트 삭제\n",
    "- is_del_model=False  를 통해서 생성한 모델은 삭제 하지 않습니다. 아래 파이프라인을 통한 엔드포인트 생성시에 모델을 사용하기 위함입니다."
   ]
  },
  {
   "cell_type": "code",
   "execution_count": 21,
   "metadata": {},
   "outputs": [
    {
     "name": "stdout",
     "output_type": "stream",
     "text": [
      "--- Deleted model: pipelines-460lbbvwpsmp-fraudscratchmodel-4ap057a5cw\n",
      "--- Deleted endpoint: fraud2scratch-484471\n",
      "--- Deleted endpoint_config: pipelines-460lbbvwpsmp-fraudscratchmodel-4ap057a5cw-config\n"
     ]
    }
   ],
   "source": [
    "import boto3\n",
    "boto3_client = boto3.client('sagemaker')\n",
    "delete_endpoint(boto3_client, endpoint_name, is_del_model=False )\n",
    "# delete_endpoint(client, local_endpoint_name )"
   ]
  },
  {
   "cell_type": "markdown",
   "metadata": {},
   "source": [
    "## (3) 모델 빌딩 파이프라인에서  실행 \n",
    "---\n",
    "\n"
   ]
  },
  {
   "cell_type": "markdown",
   "metadata": {},
   "source": [
    "### 모델 빌딩 파이프라인 변수 생성\n",
    "\n"
   ]
  },
  {
   "cell_type": "code",
   "execution_count": 22,
   "metadata": {},
   "outputs": [],
   "source": [
    "from sagemaker.workflow.parameters import (\n",
    "    ParameterInteger,\n",
    "    ParameterString,\n",
    ")\n",
    "\n",
    "processing_instance_count = ParameterInteger(\n",
    "    name=\"ProcessingInstanceCount\",\n",
    "    default_value=1\n",
    ")\n",
    "processing_instance_type = ParameterString(\n",
    "    name=\"ProcessingInstanceType\",\n",
    "    default_value=\"ml.m5.xlarge\"\n",
    ")"
   ]
  },
  {
   "cell_type": "markdown",
   "metadata": {},
   "source": [
    "## 배포 스텝 정의\n",
    "[중요] `pipeline_endpoint_name` 에 '_' 언데바를 넣으면 에러가 납니다. '-' 대시는 가능합니다."
   ]
  },
  {
   "cell_type": "code",
   "execution_count": 23,
   "metadata": {},
   "outputs": [
    {
     "name": "stdout",
     "output_type": "stream",
     "text": [
      "s3_deploy_code_uri:  s3://sagemaker-ap-northeast-2-057716757052/fraud2scratch/code/deploy_model.py\n"
     ]
    }
   ],
   "source": [
    "\n",
    "local_deploy_code_path = 'src/deploy_model.py'\n",
    "s3_deploy_code_path = f\"s3://{default_bucket}/{project_prefix}/code\"\n",
    "s3_deploy_code_uri = sagemaker.s3.S3Uploader.upload(\n",
    "    local_path=local_deploy_code_path, \n",
    "    desired_s3_uri=s3_deploy_code_path,\n",
    ")\n",
    "print(\"s3_deploy_code_uri: \", s3_deploy_code_uri)\n",
    "\n",
    "pipeline_endpoint_name = 'pipeline-endpoint-'  + str(suffix)"
   ]
  },
  {
   "cell_type": "code",
   "execution_count": 24,
   "metadata": {},
   "outputs": [],
   "source": [
    "from sagemaker.sklearn.processing import SKLearnProcessor\n",
    "from sagemaker.workflow.steps import ProcessingStep\n",
    "\n",
    "deploy_model_processor = SKLearnProcessor(\n",
    "    framework_version='0.23-1',\n",
    "    role= role,\n",
    "    instance_type=\"ml.t3.medium\",\n",
    "    instance_count=1,\n",
    "    base_job_name='fraud-scratch-deploy-model',\n",
    "    sagemaker_session=sagemaker_session)\n",
    "\n",
    "\n",
    "deploy_step = ProcessingStep(\n",
    "    name='DeployModel',\n",
    "    processor=deploy_model_processor,\n",
    "    job_arguments=[\n",
    "        \"--model_name\", sagemaker_model, \n",
    "        \"--region\", region,\n",
    "        \"--endpoint_instance_type\", endpoint_instance_type,\n",
    "        \"--endpoint_name\", pipeline_endpoint_name\n",
    "    ],\n",
    "    code=s3_deploy_code_uri)"
   ]
  },
  {
   "cell_type": "markdown",
   "metadata": {},
   "source": [
    "### 파리마터, 단계, 조건을 조합하여 최종 파이프라인 정의\n",
    "\n"
   ]
  },
  {
   "cell_type": "code",
   "execution_count": 25,
   "metadata": {},
   "outputs": [],
   "source": [
    "from sagemaker.workflow.pipeline import Pipeline\n",
    "\n",
    "\n",
    "pipeline_name = project_prefix\n",
    "pipeline = Pipeline(\n",
    "    name=pipeline_name,\n",
    "    parameters=[\n",
    "        processing_instance_type, \n",
    "        processing_instance_count,\n",
    "    ],\n",
    "    steps=[deploy_step],\n",
    ")"
   ]
  },
  {
   "cell_type": "markdown",
   "metadata": {},
   "source": [
    "#### (선택) 파이프라인 정의 확인 \n",
    "\n",
    "파이프라인을 정의하는 JSON을 생성하고 파이프라인 내에서 사용하는 파라미터와 단계별 속성들이 잘 정의되었는지 확인할 수 있습니다."
   ]
  },
  {
   "cell_type": "code",
   "execution_count": 26,
   "metadata": {},
   "outputs": [
    {
     "data": {
      "text/plain": [
       "{'Version': '2020-12-01',\n",
       " 'Metadata': {},\n",
       " 'Parameters': [{'Name': 'ProcessingInstanceType',\n",
       "   'Type': 'String',\n",
       "   'DefaultValue': 'ml.m5.xlarge'},\n",
       "  {'Name': 'ProcessingInstanceCount', 'Type': 'Integer', 'DefaultValue': 1}],\n",
       " 'Steps': [{'Name': 'DeployModel',\n",
       "   'Type': 'Processing',\n",
       "   'Arguments': {'ProcessingResources': {'ClusterConfig': {'InstanceType': 'ml.t3.medium',\n",
       "      'InstanceCount': 1,\n",
       "      'VolumeSizeInGB': 30}},\n",
       "    'AppSpecification': {'ImageUri': '366743142698.dkr.ecr.ap-northeast-2.amazonaws.com/sagemaker-scikit-learn:0.23-1-cpu-py3',\n",
       "     'ContainerArguments': ['--model_name',\n",
       "      'pipelines-460lbbvwpsmp-fraudscratchmodel-4ap057a5cw',\n",
       "      '--region',\n",
       "      'ap-northeast-2',\n",
       "      '--endpoint_instance_type',\n",
       "      'ml.t2.xlarge',\n",
       "      '--endpoint_name',\n",
       "      'pipeline-endpoint-484471'],\n",
       "     'ContainerEntrypoint': ['python3',\n",
       "      '/opt/ml/processing/input/code/deploy_model.py']},\n",
       "    'RoleArn': 'arn:aws:iam::057716757052:role/service-role/AmazonSageMaker-ExecutionRole-20210120T193680',\n",
       "    'ProcessingInputs': [{'InputName': 'code',\n",
       "      'AppManaged': False,\n",
       "      'S3Input': {'S3Uri': 's3://sagemaker-ap-northeast-2-057716757052/fraud2scratch/code/deploy_model.py',\n",
       "       'LocalPath': '/opt/ml/processing/input/code',\n",
       "       'S3DataType': 'S3Prefix',\n",
       "       'S3InputMode': 'File',\n",
       "       'S3DataDistributionType': 'FullyReplicated',\n",
       "       'S3CompressionType': 'None'}}]}}]}"
      ]
     },
     "execution_count": 26,
     "metadata": {},
     "output_type": "execute_result"
    }
   ],
   "source": [
    "import json\n",
    "\n",
    "\n",
    "definition = json.loads(pipeline.definition())\n",
    "definition"
   ]
  },
  {
   "cell_type": "markdown",
   "metadata": {},
   "source": [
    "### 파이프라인을 SageMaker에 제출하고 실행하기 \n",
    "\n",
    "파이프라인 정의를 파이프라인 서비스에 제출합니다. 함께 전달되는 역할(role)을 이용하여 AWS에서 파이프라인을 생성하고 작업의 각 단계를 실행할 것입니다.   "
   ]
  },
  {
   "cell_type": "code",
   "execution_count": 27,
   "metadata": {},
   "outputs": [
    {
     "data": {
      "text/plain": [
       "{'PipelineArn': 'arn:aws:sagemaker:ap-northeast-2:057716757052:pipeline/fraud2scratch',\n",
       " 'ResponseMetadata': {'RequestId': '4e7ee6f1-f3bf-4c2b-860e-0e8025d08a58',\n",
       "  'HTTPStatusCode': 200,\n",
       "  'HTTPHeaders': {'x-amzn-requestid': '4e7ee6f1-f3bf-4c2b-860e-0e8025d08a58',\n",
       "   'content-type': 'application/x-amz-json-1.1',\n",
       "   'content-length': '86',\n",
       "   'date': 'Sat, 26 Jun 2021 04:54:48 GMT'},\n",
       "  'RetryAttempts': 0}}"
      ]
     },
     "execution_count": 27,
     "metadata": {},
     "output_type": "execute_result"
    }
   ],
   "source": [
    "pipeline.upsert(role_arn=role)"
   ]
  },
  {
   "cell_type": "code",
   "execution_count": 28,
   "metadata": {},
   "outputs": [],
   "source": [
    "execution = pipeline.start()"
   ]
  },
  {
   "cell_type": "markdown",
   "metadata": {},
   "source": [
    "### 파이프라인 운영: 파이프라인 대기 및 실행상태 확인\n",
    "\n",
    "워크플로우의 실행상황을 살펴봅니다. "
   ]
  },
  {
   "cell_type": "code",
   "execution_count": 29,
   "metadata": {},
   "outputs": [
    {
     "data": {
      "text/plain": [
       "{'PipelineArn': 'arn:aws:sagemaker:ap-northeast-2:057716757052:pipeline/fraud2scratch',\n",
       " 'PipelineExecutionArn': 'arn:aws:sagemaker:ap-northeast-2:057716757052:pipeline/fraud2scratch/execution/y9dtb6uqpsj2',\n",
       " 'PipelineExecutionDisplayName': 'execution-1624683289063',\n",
       " 'PipelineExecutionStatus': 'Executing',\n",
       " 'CreationTime': datetime.datetime(2021, 6, 26, 4, 54, 49, 7000, tzinfo=tzlocal()),\n",
       " 'LastModifiedTime': datetime.datetime(2021, 6, 26, 4, 54, 49, 7000, tzinfo=tzlocal()),\n",
       " 'CreatedBy': {},\n",
       " 'LastModifiedBy': {},\n",
       " 'ResponseMetadata': {'RequestId': '69939b2e-74da-451f-aee7-55aebc3f26db',\n",
       "  'HTTPStatusCode': 200,\n",
       "  'HTTPHeaders': {'x-amzn-requestid': '69939b2e-74da-451f-aee7-55aebc3f26db',\n",
       "   'content-type': 'application/x-amz-json-1.1',\n",
       "   'content-length': '401',\n",
       "   'date': 'Sat, 26 Jun 2021 04:54:49 GMT'},\n",
       "  'RetryAttempts': 0}}"
      ]
     },
     "execution_count": 29,
     "metadata": {},
     "output_type": "execute_result"
    }
   ],
   "source": [
    "execution.describe()"
   ]
  },
  {
   "cell_type": "code",
   "execution_count": 31,
   "metadata": {},
   "outputs": [],
   "source": [
    "execution.wait()"
   ]
  },
  {
   "cell_type": "code",
   "execution_count": 32,
   "metadata": {},
   "outputs": [
    {
     "data": {
      "text/plain": [
       "[{'StepName': 'DeployModel',\n",
       "  'StartTime': datetime.datetime(2021, 6, 26, 4, 54, 49, 450000, tzinfo=tzlocal()),\n",
       "  'EndTime': datetime.datetime(2021, 6, 26, 5, 11, 49, 132000, tzinfo=tzlocal()),\n",
       "  'StepStatus': 'Succeeded',\n",
       "  'Metadata': {'ProcessingJob': {'Arn': 'arn:aws:sagemaker:ap-northeast-2:057716757052:processing-job/pipelines-y9dtb6uqpsj2-deploymodel-rtm9sxvn99'}}}]"
      ]
     },
     "execution_count": 32,
     "metadata": {},
     "output_type": "execute_result"
    }
   ],
   "source": [
    "execution.list_steps()"
   ]
  },
  {
   "cell_type": "markdown",
   "metadata": {},
   "source": [
    "## 9.배포 파이프라인 추론 테스트"
   ]
  },
  {
   "cell_type": "code",
   "execution_count": 33,
   "metadata": {},
   "outputs": [
    {
     "name": "stdout",
     "output_type": "stream",
     "text": [
      "pay load type:  <class 'str'>\n",
      "payload: \n",
      " 6038.102399076349,15838.10239907635,39,64,0,1,750,2750,95660,2012,1,0,0,9800,1,9,2,16,0,1,0,0,0,0,0,0,1,0,0,1,0,0,0,0,1,0,0,0,0,1,0,0,0,1,0,1,0,0,0,0,1,0,0,0,1,0,1,0\n",
      "pred_prob: \n",
      " [['0.0726071447134018']]\n"
     ]
    }
   ],
   "source": [
    "import boto3\n",
    "sagemaker_boto_client = boto3.client('sagemaker')\n",
    "\n",
    "\n",
    "def is_available_endpoint(endpoint_name, verbose=False):\n",
    "    '''\n",
    "    Return True if endpoint is in service, otherise do False\n",
    "    '''\n",
    "    response = sagemaker_boto_client.list_endpoints(NameContains=endpoint_name)\n",
    "    #existing_endpoints = sagemaker_boto_client.list_endpoints(NameContains=endpoint_name)['Endpoints']\n",
    "    \n",
    "    if verbose:\n",
    "        print(\"Response: \\n\", response)\n",
    "\n",
    "            \n",
    "    EndpointStatus = response['Endpoints'][0]['EndpointStatus']\n",
    "    if verbose:\n",
    "        print(\"EndpointStatus: \", EndpointStatus)\n",
    "    \n",
    "        \n",
    "    if EndpointStatus == 'InService':\n",
    "        return True\n",
    "    else:\n",
    "        return False\n",
    "\n",
    "\n",
    "\n",
    "if is_available_endpoint(pipeline_endpoint_name, verbose=False):\n",
    "    pipeline_predictor = get_predictor(pipeline_endpoint_name, sagemaker_session, csv_deserializer)\n",
    "    sample = test_df.sample(1)\n",
    "    payload = get_payload(test_df, label_col = 'fraud', verbose=False)\n",
    "    pred_prob = predict(pipeline_predictor, payload)\n",
    "    print(\"pred_prob: \\n\", pred_prob)\n",
    "else:\n",
    "    print(\"Wait for creating an endpoint\")\n"
   ]
  },
  {
   "cell_type": "markdown",
   "metadata": {},
   "source": [
    "### 엔드포인트 삭제"
   ]
  },
  {
   "cell_type": "code",
   "execution_count": 34,
   "metadata": {},
   "outputs": [
    {
     "name": "stdout",
     "output_type": "stream",
     "text": [
      "--- Deleted model: pipelines-460lbbvwpsmp-fraudscratchmodel-4ap057a5cw\n",
      "--- Deleted endpoint: pipeline-endpoint-484471\n",
      "--- Deleted endpoint_config: pipelines-460lbbvwpsmp-fraudscratchmodel-4ap057a5cw-config\n"
     ]
    }
   ],
   "source": [
    "delete_endpoint(boto3_client, pipeline_endpoint_name, is_del_model = True )"
   ]
  },
  {
   "cell_type": "code",
   "execution_count": null,
   "metadata": {},
   "outputs": [],
   "source": []
  }
 ],
 "metadata": {
  "instance_type": "ml.m5.large",
  "kernelspec": {
   "display_name": "conda_python3",
   "language": "python",
   "name": "conda_python3"
  },
  "language_info": {
   "codemirror_mode": {
    "name": "ipython",
    "version": 3
   },
   "file_extension": ".py",
   "mimetype": "text/x-python",
   "name": "python",
   "nbconvert_exporter": "python",
   "pygments_lexer": "ipython3",
   "version": "3.6.13"
  }
 },
 "nbformat": 4,
 "nbformat_minor": 4
}
