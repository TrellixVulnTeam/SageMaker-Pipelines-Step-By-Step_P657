{
 "cells": [
  {
   "cell_type": "markdown",
   "metadata": {},
   "source": [
    "# [모듈 8.1] 엔드포인트 배포 스텝 개발 (SageMaker Model Building Pipeline 배포 스텝)\n",
    "\n",
    "이 노트북은 아래와 같은 목차로 진행 됩니다. 전체를 모두 실행시에 완료 시간은 약 30분 소요 됩니다.\n",
    "\n",
    "- 0. 모델 엔드포인트 배포 개요 \n",
    "- 1. 기본 세이지 메이커 호스트 및 로컬 세션 정의\n",
    "- 2. 엔드포인트 배포 스텝 개발 및 실행\n",
    "    - 아래의 3단계를 진행하여 SageMaker Model Building Pipeline 에서 배포 스텝 개발 함. 아래의 (1), (2) 단계는 옵션이지만, 실제 현업 개발시에 필요한 단계이기에 실행을 권장 드립니다.\n",
    "        - (1) [옵션] **[로컬 노트북 인스턴스]**에서 다커 컨테이너로 엔드포인트를 생성\n",
    "        - (2) [옵션] 로컬에서 Endpoint 생성 스크립트 실행 (Boto3 API 이용)\n",
    "        - (3) [필수] SageMaker Model Building Pipeline 에서 엔드포인트 생성을 수행합니다.\n",
    "\n",
    "---"
   ]
  },
  {
   "cell_type": "markdown",
   "metadata": {},
   "source": [
    "# 0. 모델 엔드포인트 배포 개요 "
   ]
  },
  {
   "cell_type": "markdown",
   "metadata": {},
   "source": [
    "---\n",
    "## SageMaker 호스팅 아키텍쳐\n",
    "- 일반적인 아키텍쳐의 그림이고, 오토 스케일링이 적용이 되어 있습니다.\n",
    "\n",
    "![sagemaker-endpoints.png](img/sagemaker-endpoints.png)"
   ]
  },
  {
   "cell_type": "markdown",
   "metadata": {},
   "source": [
    "## SageMaker 호스팅 3단계 \n",
    "\n",
    "이 노트북에서는 \"SageMaker 호스팅 서비스를 사용하여 모델 배포는 다음과 같은 3단계 프로세스\" 중에 두번째와 세번째 단계를 진행 합니다.\n",
    "- ~(1) SageMaker 에서 모델 생성~\n",
    "- (2) HTTPS endpoint에 대한 endpoint configuration 만들기\n",
    "- (3) HTTPS endpoint에 대한 endpoint configuration 만들기\n",
    "\n",
    "![hosting-architecture.png](img/hosting-architecture.png)\n",
    "\n",
    "\n",
    "### ~(1) SageMaker 에서 모델 생성 (이 노트북에서 포함하는 내용임)~\n",
    "\n",
    "### (2) HTTPS endpoint에 대한 endpoint configuration 만들기\n",
    "- 용어 정의: 프로덕션 변형(Product Varaiant)\n",
    "    - 호스팅할 모델과 해당 모델을 호스팅하기 위해 선택한 리소스를 식별하는 객체 임. \n",
    "        - 정의 --> [ProductionVariant](https://docs.aws.amazon.com/ko_kr/sagemaker/latest/APIReference/API_ProductionVariant.html)\n",
    "    \n",
    "    \n",
    "- 프로덕션 변형(Product Varaiant) 에서 하나 이상의 모델 이름과 SageMaker 에서 각 프로덕션 변형을 호스트하기 위해 시작할 ML 인스턴스를 지정\n",
    "    - 프로덕션 변형의 중요 인자\n",
    "        - Model Name: 위의 \"(1)\" 에서 생성한 세이지 메이커 모델 경로\n",
    "        - InstanceType: 배포할 EC2 인스턴스 타입 (에: ml.m4.2xlarge)\n",
    "        - InitialInstanceCount: EC2 인스턴스 갯수\n",
    "        - InitialVariantWeight: 프덕뎍션 변형에 보낼 트래픽 비율\n",
    "    - [알림] 프러덕션 변형은 1개 이상을 정의할 수 있으면, 각각의 프러뎍션 변형에서 InitialVariantWeight 를 통한 트래픽을 조절 합니다.\n",
    "\n",
    "\n",
    "- 상세 내용은 여기를 참조 하세요. --> [CreateEndpointConfig](https://docs.aws.amazon.com/ko_kr/sagemaker/latest/APIReference/API_CreateEndpointConfig.html)            \n",
    "            \n",
    "아래와 같은 코드를 가지고 endpoint configuration을 생성 합니다.\n",
    "```python\n",
    "    create_ep_config_response = sagemaker_boto_client.create_endpoint_config(\n",
    "        EndpointConfigName=endpoint_config_name,\n",
    "        ProductionVariants=[{\n",
    "            'InstanceType': instance_type,\n",
    "            'InitialVariantWeight': 1,\n",
    "            'InitialInstanceCount': 1,\n",
    "            'ModelName': model_name,\n",
    "            'VariantName': 'AllTraffic'\n",
    "        }]\n",
    "    )\n",
    "```\n",
    "아래는 endpoint configuration 생성한 예시 입니다."
   ]
  },
  {
   "cell_type": "markdown",
   "metadata": {},
   "source": [
    "![endpoint-config-1.png](img/endpoint-config.png)\n",
    "\n"
   ]
  },
  {
   "cell_type": "markdown",
   "metadata": {},
   "source": [
    "## (3) HTTPS 엔드포인트 생성\n",
    "엔드포인트의 생성은 엔드포인트 이름을 명시하고, 생성한 endpoint_config_name 를 기술하면 됩니다.\n",
    "```python\n",
    "    create_endpoint_response = sagemaker_boto_client.create_endpoint(\n",
    "        EndpointName=args.endpoint_name,\n",
    "        EndpointConfigName=endpoint_config_name)\n",
    "```"
   ]
  },
  {
   "cell_type": "markdown",
   "metadata": {},
   "source": [
    "## [참고] 프로덕션 환경에서 A/B 테스팅 모델\n",
    "- 두개의 모델을 사용한 A/B 테스팅 예시\n",
    "\n",
    "\n",
    "![hosting-ABtesting.png](img/hosting-ABtesting.png)\n",
    "\n",
    "### 3개의 프더덕트 변형 예시\n",
    "- 아래의 그림 예시는, 프러덕트 변형이 각각 다름 모델 및 ML 인스턴스를 가지고 있습니다. Endpoint의 트래픽을 70%, 20%, 10% 씩을 처리하게 구성되어 있습니다. 이러한 구성은 특정 모델에 대한 A/B Testing 환경 구성에 주로 사용됩니다.\n",
    "- 상세한 내용은 여기를 참조하세요. --> [프로덕션 환경에서 테스트 모델](https://docs.aws.amazon.com/ko_kr/sagemaker/latest/dg/model-ab-testing.html)\n",
    "- 블로그 --> [A/B Testing ML models in production using Amazon SageMaker](https://aws.amazon.com/ko/blogs/machine-learning/a-b-testing-ml-models-in-production-using-amazon-sagemaker/)\n",
    "\n",
    "![model-traffic-distribution.png](img/model-traffic-distribution.png)\n",
    "\n"
   ]
  },
  {
   "cell_type": "markdown",
   "metadata": {},
   "source": [
    "---\n",
    "# 1. 기본 세이지 메이커 호스트 및 로컬 세션 정의"
   ]
  },
  {
   "cell_type": "code",
   "execution_count": 1,
   "metadata": {},
   "outputs": [],
   "source": [
    "import boto3\n",
    "import sagemaker\n",
    "import pandas as pd\n",
    "\n",
    "region = boto3.Session().region_name\n",
    "role = sagemaker.get_execution_role()\n",
    "\n",
    "%store -r "
   ]
  },
  {
   "cell_type": "markdown",
   "metadata": {},
   "source": [
    "#### 세이지 메이커 호스트 세션 정의"
   ]
  },
  {
   "cell_type": "code",
   "execution_count": 2,
   "metadata": {},
   "outputs": [],
   "source": [
    "\n",
    "import sagemaker\n",
    "\n",
    "# 세이지 메이커의 호스트 모드에서 사용할 세션\n",
    "sagemaker_session = sagemaker.session.Session()\n"
   ]
  },
  {
   "cell_type": "markdown",
   "metadata": {},
   "source": [
    "#### 세이지 메이커 로컬 세션 정의"
   ]
  },
  {
   "cell_type": "code",
   "execution_count": 3,
   "metadata": {},
   "outputs": [],
   "source": [
    "# 로컬 노트북 인스턴스에서 사용할 로컬 세션\n",
    "local_session = sagemaker.local.LocalSession()\n",
    "local_session.config = {'local' : {'local_code':True}}"
   ]
  },
  {
   "cell_type": "markdown",
   "metadata": {},
   "source": [
    "# 2. 엔드포인트 배포 스텝 개발 및 실행\n",
    "\n",
    "# 2.1 개요\n"
   ]
  },
  {
   "cell_type": "markdown",
   "metadata": {},
   "source": [
    "### (1) 로컬 노트북 인스턴스에서 다커 컨테이너로 엔드포인트를 생성\n",
    "- 이 단계의 목적은 로컬 노트북 인스턴스의 다커 컨테이터 안에서 로직 확인 및 디버깅을 위해서 진행 합니다.\n",
    "    - 이 노트북에서는 예제에 포함이 안되어 있지만, 주로 추론 코드인 inference.py 의 로직 검증을 위해서 사용 합니다.\n",
    "        - 상세 사항은 여기를 참조 하세요.--> [SageMaker Python SDK: Model](https://sagemaker.readthedocs.io/en/stable/api/inference/model.html)\n",
    "\n",
    "- 로컬 노트북 인스턴스에서 엔드포인트를 생성하기 위해서, 조금 더 쉬운 방법인 Python SDK를 통해서 모델을 생성 (sagemaker.model.Model() 사용)하고, Model.deploy() 를 통해서 엔드포인트를 바로 생성합니다.\n",
    "\n",
    "\n",
    "### (2) 로컬에서 Endpoint 생성 스크립트 실행 (AWS SDK Boto3 API 이용)     \n",
    "- 이 단계의 목적은 src/deploy_model.py 스크립트의 로직확인을 위함 입니다. \n",
    "- src/deploy_model.py 를 로컬에서 실행하여 세이지 메메이커 호스팅 엔드포인트를 생성합니다.\n",
    "    - 실행이 완료 되면 세이지 메이커의 호스트 엔드포인트가 생성이 됩니다. (로컬 노트북 인스턴스에서 생성되는 것이 아님)\n",
    "\n",
    "    \n",
    "### (3) SageMaker Model Building Pipeline 에서 엔드포인트 생성을 수행합니다.\n",
    "- 최종적으로 src/deploy_model.py 이 SageMaker Model Building Pipeline  에서 실행 됩니다.\n",
    "- 상세 사항은 여기에서 확인 하세요. --> [Amazon SageMaker 모델 구축 파이프라인](img/https://docs.aws.amazon.com/ko_kr/sagemaker/latest/dg/pipelines.html)\n",
    "    "
   ]
  },
  {
   "cell_type": "markdown",
   "metadata": {},
   "source": [
    "---\n",
    "# 2.2 실행\n",
    "## (1) 로컬 노트북 인스턴스에서 다커 컨테이너로 엔드포인트를 생성\n",
    "이 과정은 아래의 7단계로 진행이 됩니다.\n",
    "\n",
    "- [1] instance_type 을 로컬로 지정\n",
    "    - 'local' 로 지정하여 사용합니다.\n",
    "- [2] 세이지 메이커 모델 생성\n",
    "    - 세이지 메이커 모델을 Python SDK 로 생성합니다.\n",
    "- [3] 로컬 앤드포인트 생성\n",
    "    - Python SDK 인 Model.doploy() API 사용. \n",
    "        - API 링크 --> [Inference API: Model](https://sagemaker.readthedocs.io/en/stable/api/inference/model.html#)\n",
    "- [4] 로컬 프리딕터 생성\n",
    "    - 앤드포인트와 통신하면서 추론 요청의 데이터(paylaod) 대해서 직렬화(Serialization) 후에 엔드포인트에 전달 및 엔드포인트의 결과를 역직렬화(Deserialization) 을 하여 전달 하는 역할을 함.\n",
    "    - Client Application <-> Predictor <-> Endpoint\n",
    "        - API 링크 --> [Inference API: Predictors](https://sagemaker.readthedocs.io/en/stable/api/inference/predictors.html)\n",
    "- [5] 테스트 세트 데이터 로드\n",
    "    - 추론을 할 데이터 로딩\n",
    "- [6] 추론에 사용할 Payload 생성 및 추론\n",
    "    - 추론 데이터를 text/csv 형태의 payload 로 만들고 프리딕터에 추론 요청을 하여 결과를 받음\n",
    "- [7] 로컬 엔드 포인트 삭제\n",
    "    - 이 단계에서 생성한 세이지 메이커 모델, 앤프로인트 컨피그, 앤드포인트 삭제\n"
   ]
  },
  {
   "cell_type": "markdown",
   "metadata": {},
   "source": [
    "### [1] instance_type 을 로컬로 지정\n",
    "- instance_type = 'local' \n",
    "    - 로컬 모드를 실행하는 지시자 임.\n",
    "- local_endpoint_name 의 이름을 지정 합니다.    \n"
   ]
  },
  {
   "cell_type": "code",
   "execution_count": 4,
   "metadata": {},
   "outputs": [],
   "source": [
    "from datetime import datetime\n",
    "suffix = datetime.now().microsecond"
   ]
  },
  {
   "cell_type": "code",
   "execution_count": 5,
   "metadata": {},
   "outputs": [
    {
     "name": "stdout",
     "output_type": "stream",
     "text": [
      "local_endpoint_name:  local-endpoint-605527\n"
     ]
    }
   ],
   "source": [
    "instance_type='local'\n",
    "local_endpoint_name = 'local-endpoint-' + str(suffix)\n",
    "print(\"local_endpoint_name: \", local_endpoint_name)\n"
   ]
  },
  {
   "cell_type": "markdown",
   "metadata": {},
   "source": [
    "### [2] 세이지 메이커 모델 생성"
   ]
  },
  {
   "cell_type": "code",
   "execution_count": 6,
   "metadata": {},
   "outputs": [
    {
     "name": "stdout",
     "output_type": "stream",
     "text": [
      "suffix:  115651\n"
     ]
    }
   ],
   "source": [
    "from datetime import datetime\n",
    "suffix = datetime.now().microsecond\n",
    "print(\"suffix: \", suffix)\n",
    "\n",
    "from sagemaker.model import Model\n",
    "\n",
    "local_model = Model(\n",
    "    image_uri=image_uri,\n",
    "    model_data= train_model_artifact,\n",
    "    sagemaker_session= local_session,\n",
    "    role=role\n",
    ")"
   ]
  },
  {
   "cell_type": "markdown",
   "metadata": {},
   "source": [
    "### [3] 로컬 앤드포인트 생성\n",
    "\n",
    "에러가 발생시에 하나의 경우로서 이미 로컬 앤드포인트가 실행중이어서 에러가 날 수 있습니다. 아래와 같이 에러 발생하면, 다커 컨테이너를 중지 시켜 주세요.\n",
    "\n",
    "- 에러 케이스1\n",
    "    - 아래와 같이 에러가 발생한 경우에 로컬머신에 다커 컨테이너가 이미 실행 상태일 수 있습니다.\n",
    "```\n",
    "Exception in thread Thread-13:\n",
    "Traceback (most recent call last):\n",
    "  File \"/home/ec2-user/anaconda3/envs/python3/lib/python3.6/site-packages/sagemaker/local/image.py\", line 827, in run\n",
    "    _stream_output(self.process)\n",
    "  File \"/home/ec2-user/anaconda3/envs/python3/lib/python3.6/site-packages/sagemaker/local/image.py\", line 887, in _stream_output\n",
    "    raise RuntimeError(\"Process exited with code: %s\" % exit_code)\n",
    "RuntimeError: Process exited with code: 1\n",
    "```\n",
    "- 아래의 그럼 처럼 실행 중인 다커 컨테이너를 확인하고, 중지 시켜주시기 바랍니다.\n",
    "- ![docke_error_01.png](img/docke_error_01.png)"
   ]
  },
  {
   "cell_type": "markdown",
   "metadata": {},
   "source": [
    "아래 셀을 실행 하시고, 가장 밑의 로그에 아래와 유사하게 나와야 합니다. (다커 컨테이너에서 웹 서버를 실행하고, HTTP Get() 요청싱에 200의 리턴 코드를 받은 경우 임)\n",
    "\n",
    "`!gvvsnvcnps-algo-1-kkbax | 172.18.0.1 - - [10/Jul/2021:06:40:10 +0000] \"GET /ping HTTP/1.1\" 200 0 \"-\" \"python-urllib3/1.26.5\"`"
   ]
  },
  {
   "cell_type": "code",
   "execution_count": 7,
   "metadata": {},
   "outputs": [
    {
     "name": "stdout",
     "output_type": "stream",
     "text": [
      "Attaching to 7ifkzzcgjh-algo-1-7grkv\n",
      "\u001b[36m7ifkzzcgjh-algo-1-7grkv |\u001b[0m [2021-08-03:07:30:40:INFO] No GPUs detected (normal if no gpus installed)\n",
      "\u001b[36m7ifkzzcgjh-algo-1-7grkv |\u001b[0m [2021-08-03:07:30:40:INFO] No GPUs detected (normal if no gpus installed)\n",
      "\u001b[36m7ifkzzcgjh-algo-1-7grkv |\u001b[0m [2021-08-03:07:30:40:INFO] nginx config: \n",
      "\u001b[36m7ifkzzcgjh-algo-1-7grkv |\u001b[0m worker_processes auto;\n",
      "\u001b[36m7ifkzzcgjh-algo-1-7grkv |\u001b[0m daemon off;\n",
      "\u001b[36m7ifkzzcgjh-algo-1-7grkv |\u001b[0m pid /tmp/nginx.pid;\n",
      "\u001b[36m7ifkzzcgjh-algo-1-7grkv |\u001b[0m error_log  /dev/stderr;\n",
      "\u001b[36m7ifkzzcgjh-algo-1-7grkv |\u001b[0m \n",
      "\u001b[36m7ifkzzcgjh-algo-1-7grkv |\u001b[0m worker_rlimit_nofile 4096;\n",
      "\u001b[36m7ifkzzcgjh-algo-1-7grkv |\u001b[0m \n",
      "\u001b[36m7ifkzzcgjh-algo-1-7grkv |\u001b[0m events {\n",
      "\u001b[36m7ifkzzcgjh-algo-1-7grkv |\u001b[0m   worker_connections 2048;\n",
      "\u001b[36m7ifkzzcgjh-algo-1-7grkv |\u001b[0m }\n",
      "\u001b[36m7ifkzzcgjh-algo-1-7grkv |\u001b[0m \n",
      "\u001b[36m7ifkzzcgjh-algo-1-7grkv |\u001b[0m http {\n",
      "\u001b[36m7ifkzzcgjh-algo-1-7grkv |\u001b[0m   include /etc/nginx/mime.types;\n",
      "\u001b[36m7ifkzzcgjh-algo-1-7grkv |\u001b[0m   default_type application/octet-stream;\n",
      "\u001b[36m7ifkzzcgjh-algo-1-7grkv |\u001b[0m   access_log /dev/stdout combined;\n",
      "\u001b[36m7ifkzzcgjh-algo-1-7grkv |\u001b[0m \n",
      "\u001b[36m7ifkzzcgjh-algo-1-7grkv |\u001b[0m   upstream gunicorn {\n",
      "\u001b[36m7ifkzzcgjh-algo-1-7grkv |\u001b[0m     server unix:/tmp/gunicorn.sock;\n",
      "\u001b[36m7ifkzzcgjh-algo-1-7grkv |\u001b[0m   }\n",
      "\u001b[36m7ifkzzcgjh-algo-1-7grkv |\u001b[0m \n",
      "\u001b[36m7ifkzzcgjh-algo-1-7grkv |\u001b[0m   server {\n",
      "\u001b[36m7ifkzzcgjh-algo-1-7grkv |\u001b[0m     listen 8080 deferred;\n",
      "\u001b[36m7ifkzzcgjh-algo-1-7grkv |\u001b[0m     client_max_body_size 0;\n",
      "\u001b[36m7ifkzzcgjh-algo-1-7grkv |\u001b[0m \n",
      "\u001b[36m7ifkzzcgjh-algo-1-7grkv |\u001b[0m     keepalive_timeout 3;\n",
      "\u001b[36m7ifkzzcgjh-algo-1-7grkv |\u001b[0m \n",
      "\u001b[36m7ifkzzcgjh-algo-1-7grkv |\u001b[0m     location ~ ^/(ping|invocations|execution-parameters) {\n",
      "\u001b[36m7ifkzzcgjh-algo-1-7grkv |\u001b[0m       proxy_set_header X-Forwarded-For $proxy_add_x_forwarded_for;\n",
      "\u001b[36m7ifkzzcgjh-algo-1-7grkv |\u001b[0m       proxy_set_header Host $http_host;\n",
      "\u001b[36m7ifkzzcgjh-algo-1-7grkv |\u001b[0m       proxy_redirect off;\n",
      "\u001b[36m7ifkzzcgjh-algo-1-7grkv |\u001b[0m       proxy_read_timeout 60s;\n",
      "\u001b[36m7ifkzzcgjh-algo-1-7grkv |\u001b[0m       proxy_pass http://gunicorn;\n",
      "\u001b[36m7ifkzzcgjh-algo-1-7grkv |\u001b[0m     }\n",
      "\u001b[36m7ifkzzcgjh-algo-1-7grkv |\u001b[0m \n",
      "\u001b[36m7ifkzzcgjh-algo-1-7grkv |\u001b[0m     location / {\n",
      "\u001b[36m7ifkzzcgjh-algo-1-7grkv |\u001b[0m       return 404 \"{}\";\n",
      "\u001b[36m7ifkzzcgjh-algo-1-7grkv |\u001b[0m     }\n",
      "\u001b[36m7ifkzzcgjh-algo-1-7grkv |\u001b[0m \n",
      "\u001b[36m7ifkzzcgjh-algo-1-7grkv |\u001b[0m   }\n",
      "\u001b[36m7ifkzzcgjh-algo-1-7grkv |\u001b[0m }\n",
      "\u001b[36m7ifkzzcgjh-algo-1-7grkv |\u001b[0m \n",
      "\u001b[36m7ifkzzcgjh-algo-1-7grkv |\u001b[0m \n",
      "\u001b[36m7ifkzzcgjh-algo-1-7grkv |\u001b[0m [2021-08-03 07:30:40 +0000] [137] [INFO] Starting gunicorn 19.10.0\n",
      "\u001b[36m7ifkzzcgjh-algo-1-7grkv |\u001b[0m [2021-08-03 07:30:40 +0000] [137] [INFO] Listening at: unix:/tmp/gunicorn.sock (137)\n",
      "\u001b[36m7ifkzzcgjh-algo-1-7grkv |\u001b[0m [2021-08-03 07:30:40 +0000] [137] [INFO] Using worker: gevent\n",
      "\u001b[36m7ifkzzcgjh-algo-1-7grkv |\u001b[0m [2021-08-03 07:30:40 +0000] [212] [INFO] Booting worker with pid: 212\n",
      "\u001b[36m7ifkzzcgjh-algo-1-7grkv |\u001b[0m [2021-08-03 07:30:40 +0000] [213] [INFO] Booting worker with pid: 213\n",
      "\u001b[36m7ifkzzcgjh-algo-1-7grkv |\u001b[0m [2021-08-03 07:30:40 +0000] [214] [INFO] Booting worker with pid: 214\n",
      "\u001b[36m7ifkzzcgjh-algo-1-7grkv |\u001b[0m [2021-08-03 07:30:40 +0000] [215] [INFO] Booting worker with pid: 215\n",
      "\u001b[36m7ifkzzcgjh-algo-1-7grkv |\u001b[0m [2021-08-03 07:30:40 +0000] [342] [INFO] Booting worker with pid: 342\n",
      "\u001b[36m7ifkzzcgjh-algo-1-7grkv |\u001b[0m [2021-08-03 07:30:40 +0000] [406] [INFO] Booting worker with pid: 406\n",
      "\u001b[36m7ifkzzcgjh-algo-1-7grkv |\u001b[0m [2021-08-03 07:30:40 +0000] [470] [INFO] Booting worker with pid: 470\n",
      "\u001b[36m7ifkzzcgjh-algo-1-7grkv |\u001b[0m [2021-08-03 07:30:40 +0000] [471] [INFO] Booting worker with pid: 471\n",
      "\u001b[36m7ifkzzcgjh-algo-1-7grkv |\u001b[0m [2021-08-03 07:30:40 +0000] [491] [INFO] Booting worker with pid: 491\n",
      "\u001b[36m7ifkzzcgjh-algo-1-7grkv |\u001b[0m [2021-08-03 07:30:40 +0000] [599] [INFO] Booting worker with pid: 599\n",
      "\u001b[36m7ifkzzcgjh-algo-1-7grkv |\u001b[0m [2021-08-03 07:30:41 +0000] [663] [INFO] Booting worker with pid: 663\n",
      "\u001b[36m7ifkzzcgjh-algo-1-7grkv |\u001b[0m [2021-08-03 07:30:41 +0000] [790] [INFO] Booting worker with pid: 790\n",
      "\u001b[36m7ifkzzcgjh-algo-1-7grkv |\u001b[0m [2021-08-03 07:30:41 +0000] [793] [INFO] Booting worker with pid: 793\n",
      "\u001b[36m7ifkzzcgjh-algo-1-7grkv |\u001b[0m [2021-08-03 07:30:41 +0000] [859] [INFO] Booting worker with pid: 859\n",
      "\u001b[36m7ifkzzcgjh-algo-1-7grkv |\u001b[0m [2021-08-03 07:30:41 +0000] [1050] [INFO] Booting worker with pid: 1050\n",
      "\u001b[36m7ifkzzcgjh-algo-1-7grkv |\u001b[0m [2021-08-03 07:30:41 +0000] [1053] [INFO] Booting worker with pid: 1053\n",
      "\u001b[36m7ifkzzcgjh-algo-1-7grkv |\u001b[0m [2021-08-03 07:30:41 +0000] [1055] [INFO] Booting worker with pid: 1055\n",
      "\u001b[36m7ifkzzcgjh-algo-1-7grkv |\u001b[0m [2021-08-03 07:30:41 +0000] [1125] [INFO] Booting worker with pid: 1125\n",
      "\u001b[36m7ifkzzcgjh-algo-1-7grkv |\u001b[0m [2021-08-03 07:30:41 +0000] [1314] [INFO] Booting worker with pid: 1314\n",
      "\u001b[36m7ifkzzcgjh-algo-1-7grkv |\u001b[0m [2021-08-03 07:30:41 +0000] [1318] [INFO] Booting worker with pid: 1318\n",
      "\u001b[36m7ifkzzcgjh-algo-1-7grkv |\u001b[0m [2021-08-03 07:30:41 +0000] [1323] [INFO] Booting worker with pid: 1323\n",
      "\u001b[36m7ifkzzcgjh-algo-1-7grkv |\u001b[0m [2021-08-03 07:30:41 +0000] [1324] [INFO] Booting worker with pid: 1324\n",
      "\u001b[36m7ifkzzcgjh-algo-1-7grkv |\u001b[0m [2021-08-03 07:30:41 +0000] [1389] [INFO] Booting worker with pid: 1389\n",
      "\u001b[36m7ifkzzcgjh-algo-1-7grkv |\u001b[0m [2021-08-03 07:30:41 +0000] [1390] [INFO] Booting worker with pid: 1390\n",
      "\u001b[36m7ifkzzcgjh-algo-1-7grkv |\u001b[0m [2021-08-03 07:30:41 +0000] [1455] [INFO] Booting worker with pid: 1455\n",
      "\u001b[36m7ifkzzcgjh-algo-1-7grkv |\u001b[0m [2021-08-03 07:30:41 +0000] [1519] [INFO] Booting worker with pid: 1519\n",
      "\u001b[36m7ifkzzcgjh-algo-1-7grkv |\u001b[0m [2021-08-03 07:30:41 +0000] [1583] [INFO] Booting worker with pid: 1583\n",
      "\u001b[36m7ifkzzcgjh-algo-1-7grkv |\u001b[0m [2021-08-03 07:30:41 +0000] [1616] [INFO] Booting worker with pid: 1616\n",
      "\u001b[36m7ifkzzcgjh-algo-1-7grkv |\u001b[0m [2021-08-03 07:30:41 +0000] [1648] [INFO] Booting worker with pid: 1648\n",
      "\u001b[36m7ifkzzcgjh-algo-1-7grkv |\u001b[0m [2021-08-03 07:30:41 +0000] [1712] [INFO] Booting worker with pid: 1712\n",
      "\u001b[36m7ifkzzcgjh-algo-1-7grkv |\u001b[0m [2021-08-03 07:30:41 +0000] [1779] [INFO] Booting worker with pid: 1779\n",
      "\u001b[36m7ifkzzcgjh-algo-1-7grkv |\u001b[0m [2021-08-03 07:30:41 +0000] [1834] [INFO] Booting worker with pid: 1834\n",
      "\u001b[36m7ifkzzcgjh-algo-1-7grkv |\u001b[0m [2021-08-03 07:30:42 +0000] [1972] [INFO] Booting worker with pid: 1972\n",
      "\u001b[36m7ifkzzcgjh-algo-1-7grkv |\u001b[0m [2021-08-03 07:30:42 +0000] [2231] [INFO] Booting worker with pid: 2231\n",
      "\u001b[36m7ifkzzcgjh-algo-1-7grkv |\u001b[0m [2021-08-03 07:30:42 +0000] [2356] [INFO] Booting worker with pid: 2356\n",
      "\u001b[36m7ifkzzcgjh-algo-1-7grkv |\u001b[0m [2021-08-03 07:30:42 +0000] [2528] [INFO] Booting worker with pid: 2528\n",
      "\u001b[36m7ifkzzcgjh-algo-1-7grkv |\u001b[0m [2021-08-03 07:30:42 +0000] [2612] [INFO] Booting worker with pid: 2612\n",
      "\u001b[36m7ifkzzcgjh-algo-1-7grkv |\u001b[0m [2021-08-03 07:30:42 +0000] [2676] [INFO] Booting worker with pid: 2676\n",
      "\u001b[36m7ifkzzcgjh-algo-1-7grkv |\u001b[0m [2021-08-03 07:30:42 +0000] [2742] [INFO] Booting worker with pid: 2742\n",
      "\u001b[36m7ifkzzcgjh-algo-1-7grkv |\u001b[0m [2021-08-03 07:30:42 +0000] [3137] [INFO] Booting worker with pid: 3137\n",
      "\u001b[36m7ifkzzcgjh-algo-1-7grkv |\u001b[0m [2021-08-03 07:30:42 +0000] [3187] [INFO] Booting worker with pid: 3187\n",
      "\u001b[36m7ifkzzcgjh-algo-1-7grkv |\u001b[0m [2021-08-03:07:30:42:INFO] No GPUs detected (normal if no gpus installed)\n",
      "!\u001b[36m7ifkzzcgjh-algo-1-7grkv |\u001b[0m 172.21.0.1 - - [03/Aug/2021:07:30:42 +0000] \"GET /ping HTTP/1.1\" 200 0 \"-\" \"python-urllib3/1.26.5\"\n"
     ]
    }
   ],
   "source": [
    "_ = local_model.deploy(initial_instance_count = 1,\n",
    "                                     instance_type = instance_type, \n",
    "                                     endpoint_name = local_endpoint_name\n",
    "            )"
   ]
  },
  {
   "cell_type": "markdown",
   "metadata": {},
   "source": [
    "### [4] 로컬 프리딕터 생성\n",
    "\n",
    "- HTTPS 프로토콜로 엔드포인트에 요청 및 반환시에는 Sequence of Bytes의 형태로 데이터가 전송됩니다. Predictor 같은 중간에 오브젝트를 두면, 입력 데이터의 직렬화 및 결과 데이터의 역직렬화를 합니다. \n",
    "- 프리딕터의 주요 인자는 `endpoint_name, session, serializer, deserializer 입니다.\n",
    "\n",
    "- 참고 사항: \n",
    "    - [Predictors](https://sagemaker.readthedocs.io/en/stable/api/inference/predictors.html)\n",
    "    - [SageMaker Python SDK: Deserializers](https://sagemaker.readthedocs.io/en/stable/api/inference/deserializers.html#)"
   ]
  },
  {
   "cell_type": "code",
   "execution_count": 8,
   "metadata": {},
   "outputs": [],
   "source": [
    "from sagemaker.deserializers import CSVDeserializer\n",
    "csv_deserializer = CSVDeserializer(accept='text/csv') # 디폴트가 accept가 'text/csv' 이지만 직관적 이유로 기술함.\n",
    "\n",
    "def get_predictor(endpoint_name, session, csv_deserializer):\n",
    "    '''\n",
    "    predictor = get_predictor(endpoint_name, session, csv_deserializer)    \n",
    "    '''\n",
    "    predictor = sagemaker.predictor.Predictor(\n",
    "        endpoint_name=endpoint_name,\n",
    "        sagemaker_session= session, # 세션 할당: 로컬 세션 혹은 세이지 메이커 호스트 세션\n",
    "        deserializer = csv_deserializer, # byte stream을 csv 형태로 변환하여 제공        \n",
    "    )\n",
    "    return predictor\n",
    "\n",
    "predictor = get_predictor(local_endpoint_name, local_session, csv_deserializer)\n"
   ]
  },
  {
   "cell_type": "markdown",
   "metadata": {},
   "source": [
    "### [5] 테스트 세트 데이터 로드\n",
    "- 기존에 전처리된 테스트 데이터를 로딩해서 추론에 사용합니다."
   ]
  },
  {
   "cell_type": "code",
   "execution_count": 9,
   "metadata": {},
   "outputs": [
    {
     "name": "stdout",
     "output_type": "stream",
     "text": [
      "\u001b[36m7ifkzzcgjh-algo-1-7grkv |\u001b[0m [2021-08-03 07:30:42 +0000] [3253] [INFO] Booting worker with pid: 3253\n"
     ]
    }
   ],
   "source": [
    "import os\n",
    "\n",
    "test_preproc_dir_artifact_file = os.path.join(test_preproc_dir_artifact, 'test.csv')"
   ]
  },
  {
   "cell_type": "code",
   "execution_count": 10,
   "metadata": {},
   "outputs": [
    {
     "name": "stdout",
     "output_type": "stream",
     "text": [
      "\u001b[36m7ifkzzcgjh-algo-1-7grkv |\u001b[0m [2021-08-03 07:30:42 +0000] [3379] [INFO] Booting worker with pid: 3379\n",
      "\u001b[36m7ifkzzcgjh-algo-1-7grkv |\u001b[0m [2021-08-03 07:30:42 +0000] [3378] [INFO] Booting worker with pid: 3378\n",
      "\u001b[36m7ifkzzcgjh-algo-1-7grkv |\u001b[0m [2021-08-03 07:30:42 +0000] [3383] [INFO] Booting worker with pid: 3383\n",
      "\u001b[36m7ifkzzcgjh-algo-1-7grkv |\u001b[0m [2021-08-03 07:30:42 +0000] [3556] [INFO] Booting worker with pid: 3556\n",
      "\u001b[36m7ifkzzcgjh-algo-1-7grkv |\u001b[0m [2021-08-03 07:30:42 +0000] [3692] [INFO] Booting worker with pid: 3692\n",
      "\u001b[36m7ifkzzcgjh-algo-1-7grkv |\u001b[0m [2021-08-03 07:30:42 +0000] [3711] [INFO] Booting worker with pid: 3711\n",
      "\u001b[36m7ifkzzcgjh-algo-1-7grkv |\u001b[0m [2021-08-03 07:30:42 +0000] [3726] [INFO] Booting worker with pid: 3726\n",
      "\u001b[36m7ifkzzcgjh-algo-1-7grkv |\u001b[0m [2021-08-03 07:30:42 +0000] [3779] [INFO] Booting worker with pid: 3779\n",
      "\u001b[36m7ifkzzcgjh-algo-1-7grkv |\u001b[0m [2021-08-03 07:30:43 +0000] [3911] [INFO] Booting worker with pid: 3911\n",
      "\u001b[36m7ifkzzcgjh-algo-1-7grkv |\u001b[0m [2021-08-03 07:30:43 +0000] [3914] [INFO] Booting worker with pid: 3914\n",
      "\u001b[36m7ifkzzcgjh-algo-1-7grkv |\u001b[0m [2021-08-03 07:30:43 +0000] [4042] [INFO] Booting worker with pid: 4042\n",
      "\u001b[36m7ifkzzcgjh-algo-1-7grkv |\u001b[0m [2021-08-03 07:30:43 +0000] [4043] [INFO] Booting worker with pid: 4043\n",
      "\u001b[36m7ifkzzcgjh-algo-1-7grkv |\u001b[0m [2021-08-03 07:30:43 +0000] [4174] [INFO] Booting worker with pid: 4174\n",
      "\u001b[36m7ifkzzcgjh-algo-1-7grkv |\u001b[0m [2021-08-03 07:30:43 +0000] [4175] [INFO] Booting worker with pid: 4175\n",
      "\u001b[36m7ifkzzcgjh-algo-1-7grkv |\u001b[0m [2021-08-03 07:30:43 +0000] [4243] [INFO] Booting worker with pid: 4243\n",
      "\u001b[36m7ifkzzcgjh-algo-1-7grkv |\u001b[0m [2021-08-03 07:30:43 +0000] [4245] [INFO] Booting worker with pid: 4245\n",
      "\u001b[36m7ifkzzcgjh-algo-1-7grkv |\u001b[0m [2021-08-03 07:30:43 +0000] [4501] [INFO] Booting worker with pid: 4501\n",
      "\u001b[36m7ifkzzcgjh-algo-1-7grkv |\u001b[0m [2021-08-03 07:30:43 +0000] [4566] [INFO] Booting worker with pid: 4566\n",
      "\u001b[36m7ifkzzcgjh-algo-1-7grkv |\u001b[0m [2021-08-03 07:30:43 +0000] [4565] [INFO] Booting worker with pid: 4565\n",
      "\u001b[36m7ifkzzcgjh-algo-1-7grkv |\u001b[0m [2021-08-03 07:30:43 +0000] [4883] [INFO] Booting worker with pid: 4883\n",
      "\u001b[36m7ifkzzcgjh-algo-1-7grkv |\u001b[0m [2021-08-03 07:30:43 +0000] [4921] [INFO] Booting worker with pid: 4921\n"
     ]
    },
    {
     "data": {
      "text/html": [
       "<div>\n",
       "<style scoped>\n",
       "    .dataframe tbody tr th:only-of-type {\n",
       "        vertical-align: middle;\n",
       "    }\n",
       "\n",
       "    .dataframe tbody tr th {\n",
       "        vertical-align: top;\n",
       "    }\n",
       "\n",
       "    .dataframe thead th {\n",
       "        text-align: right;\n",
       "    }\n",
       "</style>\n",
       "<table border=\"1\" class=\"dataframe\">\n",
       "  <thead>\n",
       "    <tr style=\"text-align: right;\">\n",
       "      <th></th>\n",
       "      <th>fraud</th>\n",
       "      <th>vehicle_claim</th>\n",
       "      <th>total_claim_amount</th>\n",
       "      <th>customer_age</th>\n",
       "      <th>months_as_customer</th>\n",
       "      <th>num_claims_past_year</th>\n",
       "      <th>num_insurers_past_5_years</th>\n",
       "      <th>policy_deductable</th>\n",
       "      <th>policy_annual_premium</th>\n",
       "      <th>customer_zip</th>\n",
       "      <th>...</th>\n",
       "      <th>collision_type_missing</th>\n",
       "      <th>incident_severity_Major</th>\n",
       "      <th>incident_severity_Minor</th>\n",
       "      <th>incident_severity_Totaled</th>\n",
       "      <th>authorities_contacted_Ambulance</th>\n",
       "      <th>authorities_contacted_Fire</th>\n",
       "      <th>authorities_contacted_None</th>\n",
       "      <th>authorities_contacted_Police</th>\n",
       "      <th>police_report_available_No</th>\n",
       "      <th>police_report_available_Yes</th>\n",
       "    </tr>\n",
       "  </thead>\n",
       "  <tbody>\n",
       "    <tr>\n",
       "      <th>0</th>\n",
       "      <td>0</td>\n",
       "      <td>23901.432507</td>\n",
       "      <td>36201.432507</td>\n",
       "      <td>56</td>\n",
       "      <td>118</td>\n",
       "      <td>0</td>\n",
       "      <td>1</td>\n",
       "      <td>750</td>\n",
       "      <td>3000</td>\n",
       "      <td>98039</td>\n",
       "      <td>...</td>\n",
       "      <td>0</td>\n",
       "      <td>0</td>\n",
       "      <td>0</td>\n",
       "      <td>1</td>\n",
       "      <td>0</td>\n",
       "      <td>0</td>\n",
       "      <td>0</td>\n",
       "      <td>1</td>\n",
       "      <td>0</td>\n",
       "      <td>1</td>\n",
       "    </tr>\n",
       "    <tr>\n",
       "      <th>1</th>\n",
       "      <td>0</td>\n",
       "      <td>29095.295736</td>\n",
       "      <td>73695.295736</td>\n",
       "      <td>36</td>\n",
       "      <td>71</td>\n",
       "      <td>0</td>\n",
       "      <td>1</td>\n",
       "      <td>750</td>\n",
       "      <td>2650</td>\n",
       "      <td>95307</td>\n",
       "      <td>...</td>\n",
       "      <td>0</td>\n",
       "      <td>0</td>\n",
       "      <td>0</td>\n",
       "      <td>1</td>\n",
       "      <td>0</td>\n",
       "      <td>0</td>\n",
       "      <td>0</td>\n",
       "      <td>1</td>\n",
       "      <td>0</td>\n",
       "      <td>1</td>\n",
       "    </tr>\n",
       "  </tbody>\n",
       "</table>\n",
       "<p>2 rows × 59 columns</p>\n",
       "</div>"
      ],
      "text/plain": [
       "   fraud  vehicle_claim  total_claim_amount  customer_age  months_as_customer  \\\n",
       "0      0   23901.432507        36201.432507            56                 118   \n",
       "1      0   29095.295736        73695.295736            36                  71   \n",
       "\n",
       "   num_claims_past_year  num_insurers_past_5_years  policy_deductable  \\\n",
       "0                     0                          1                750   \n",
       "1                     0                          1                750   \n",
       "\n",
       "   policy_annual_premium  customer_zip  ...  collision_type_missing  \\\n",
       "0                   3000         98039  ...                       0   \n",
       "1                   2650         95307  ...                       0   \n",
       "\n",
       "   incident_severity_Major  incident_severity_Minor  \\\n",
       "0                        0                        0   \n",
       "1                        0                        0   \n",
       "\n",
       "   incident_severity_Totaled  authorities_contacted_Ambulance  \\\n",
       "0                          1                                0   \n",
       "1                          1                                0   \n",
       "\n",
       "   authorities_contacted_Fire  authorities_contacted_None  \\\n",
       "0                           0                           0   \n",
       "1                           0                           0   \n",
       "\n",
       "   authorities_contacted_Police  police_report_available_No  \\\n",
       "0                             1                           0   \n",
       "1                             1                           0   \n",
       "\n",
       "   police_report_available_Yes  \n",
       "0                            1  \n",
       "1                            1  \n",
       "\n",
       "[2 rows x 59 columns]"
      ]
     },
     "execution_count": 10,
     "metadata": {},
     "output_type": "execute_result"
    },
    {
     "name": "stdout",
     "output_type": "stream",
     "text": [
      "\u001b[36m7ifkzzcgjh-algo-1-7grkv |\u001b[0m [2021-08-03 07:30:43 +0000] [5012] [INFO] Booting worker with pid: 5012\n"
     ]
    }
   ],
   "source": [
    "test_df = pd.read_csv(test_preproc_dir_artifact_file)\n",
    "test_df.head(2)"
   ]
  },
  {
   "cell_type": "markdown",
   "metadata": {},
   "source": [
    "### [6] 추론에 사용할 Payload 생성 및 추론\n",
    "- 위의 테스트 데이터를 통해서 엔드포인트에 전달할 CSV 형태의 String을 생성합니다. (payload).\n",
    "- payload 를 엔드포인트에 제공하면, 확률값을 0.0726071447134018 을 리턴합니다. \n",
    "- 보통 확률값이 0.5 보다 작으면 0 (Non-Fruad), 0.5 보다 크면 1 (Fruad) 로 변환해서 예측값으로 사용합니다.\n",
    "\n",
    "```\n",
    "payload: \n",
    " 6038.102399076349,15838.10239907635,39,64,0,1,750,2750,95660,2012,1,0,0,9800,1,9,2,16,0,1,0,0,0,0,0,0,1,0,0,1,0,0,0,0,1,0,0,0,0,1,0,0,0,1,0,1,0,0,0,0,1,0,0,0,1,0,1,0\n",
    "Reponse: \n",
    "[['0.0726071447134018']]\n",
    "\n",
    "```"
   ]
  },
  {
   "cell_type": "code",
   "execution_count": 11,
   "metadata": {},
   "outputs": [],
   "source": [
    "from IPython.display import display as dp\n",
    " \n",
    "def get_payload(sample, label_col = 'fraud', verbose=False):    \n",
    "    '''\n",
    "    아래왁 같이 ',' 형태의 문자형을 리턴함.\n",
    "    0,0,750,2,0,2,0,2,1,16596.0,1,18,0,59,1,0,0,4500.0,0,0,1,1,0,52,2020,3,0,0,0,2,1,0,0,0,0,0,0,10,12096.0,1,3000,1,0,1,0    \n",
    "    '''\n",
    "\n",
    "    sample = sample.drop(columns=[label_col]) # 레이블 제거\n",
    "\n",
    "    payload = sample.to_csv(header=None, index=None).splitlines() # \n",
    "    payload = payload[0]\n",
    "\n",
    "    if verbose:\n",
    "        #dp(sample)\n",
    "        # print(\"payload length: \\n\", len(payload))    \n",
    "        print(\"pay load type: \", type(payload))\n",
    "        print(\"payload: \\n\", payload)\n",
    "    \n",
    "    return payload\n",
    "\n",
    "def predict(predictor, payload):\n",
    "    '''\n",
    "    프리딕터에 콤마 분리된 문자형과 ContentType을 'text/csv' 로 제공\n",
    "    참고:\n",
    "        CSVDeserializer 를 사용하지 않으면 byte stream 으로 제공되기에, 아래와 같이 디코딩 하여 사용함.\n",
    "        result = float(result.decode())\n",
    "    '''\n",
    "\n",
    "    pay_load = get_payload(test_df, label_col='fraud', verbose=True)\n",
    "    result = predictor.predict(pay_load, initial_args = {\"ContentType\": \"text/csv\"})\n",
    "    \n",
    "    return result\n",
    "\n"
   ]
  },
  {
   "cell_type": "code",
   "execution_count": 12,
   "metadata": {},
   "outputs": [
    {
     "name": "stdout",
     "output_type": "stream",
     "text": [
      "\u001b[36m7ifkzzcgjh-algo-1-7grkv |\u001b[0m [2021-08-03 07:30:43 +0000] [5014] [INFO] Booting worker with pid: 5014\n",
      "pay load type:  <class 'str'>\n",
      "payload: \n",
      " 23901.43250714285,36201.43250714285,56,118,0,1,750,3000,98039,2012,3,3,1,12300,9,12,3,14,0,0,0,0,0,1,0,0,1,0,0,1,0,0,0,0,0,0,1,0,0,1,0,0,0,1,0,0,0,1,0,0,0,1,0,0,0,1,0,1\n",
      "\u001b[36m7ifkzzcgjh-algo-1-7grkv |\u001b[0m [2021-08-03:07:30:43:INFO] No GPUs detected (normal if no gpus installed)\n",
      "\u001b[36m7ifkzzcgjh-algo-1-7grkv |\u001b[0m [2021-08-03 07:30:43 +0000] [5082] [INFO] Booting worker with pid: 5082\n",
      "\u001b[36m7ifkzzcgjh-algo-1-7grkv |\u001b[0m [2021-08-03:07:30:43:INFO] Determined delimiter of CSV input is ','\n"
     ]
    },
    {
     "data": {
      "text/plain": [
       "[['0.10092484205961227']]"
      ]
     },
     "execution_count": 12,
     "metadata": {},
     "output_type": "execute_result"
    },
    {
     "name": "stdout",
     "output_type": "stream",
     "text": [
      "\u001b[36m7ifkzzcgjh-algo-1-7grkv |\u001b[0m 172.21.0.1 - - [03/Aug/2021:07:30:43 +0000] \"POST /invocations HTTP/1.1\" 200 19 \"-\" \"python-urllib3/1.26.5\"\n"
     ]
    }
   ],
   "source": [
    "sample = test_df.sample(1)\n",
    "payload = get_payload(test_df, label_col = 'fraud', verbose=False)\n",
    "pred_prob = predict(predictor, payload)\n",
    "pred_prob"
   ]
  },
  {
   "cell_type": "markdown",
   "metadata": {},
   "source": [
    "### [7] 로컬 엔드 포인트 삭제\n",
    "- 위에서 생성한 세이지 메이커 모델, enpoint config, endpoint를 삭제 합니다."
   ]
  },
  {
   "cell_type": "code",
   "execution_count": 13,
   "metadata": {},
   "outputs": [],
   "source": [
    "def delete_endpoint(client, endpoint_name ,is_del_model=True):\n",
    "    '''\n",
    "    model, EndpointConfig, Endpoint 삭제\n",
    "    '''\n",
    "    response = client.describe_endpoint(EndpointName=endpoint_name)\n",
    "    EndpointConfigName = response['EndpointConfigName']\n",
    "    \n",
    "    response = client.describe_endpoint_config(EndpointConfigName=EndpointConfigName)\n",
    "    model_name = response['ProductionVariants'][0]['ModelName']    \n",
    "\n",
    "#     print(\"EndpointConfigName: \\n\", EndpointConfigName)\n",
    "#     print(\"model_name: \\n\", model_name)    \n",
    "\n",
    "    if is_del_model: # 모델도 삭제 여부 임.\n",
    "        client.delete_model(ModelName=model_name)    \n",
    "        \n",
    "    client.delete_endpoint(EndpointName=endpoint_name)\n",
    "    client.delete_endpoint_config(EndpointConfigName=EndpointConfigName)    \n",
    "    \n",
    "    print(f'--- Deleted model: {model_name}')\n",
    "    print(f'--- Deleted endpoint: {endpoint_name}')\n",
    "    print(f'--- Deleted endpoint_config: {EndpointConfigName}')    \n"
   ]
  },
  {
   "cell_type": "code",
   "execution_count": 14,
   "metadata": {},
   "outputs": [
    {
     "name": "stdout",
     "output_type": "stream",
     "text": [
      "Gracefully stopping... (press Ctrl+C again to force)\n",
      "--- Deleted model: sagemaker-xgboost-2021-08-03-07-30-37-039\n",
      "--- Deleted endpoint: local-endpoint-605527\n",
      "--- Deleted endpoint_config: local-endpoint-605527\n"
     ]
    }
   ],
   "source": [
    "client = sagemaker.local.LocalSagemakerClient() # 로컬 세션 생성\n",
    "delete_endpoint(client, local_endpoint_name )"
   ]
  },
  {
   "cell_type": "markdown",
   "metadata": {},
   "source": [
    "---\n",
    "\n",
    "## (2) 로컬에서 Endpoint 생성 스크립트 실행 (Boto3 API 이용)\n",
    "\n",
    "### [중요] 아래는 약 8분 정도의 시간이 소요 됩니다.\n",
    "### 다음과 같은 단계를 실행 합니다.\n",
    "- [1] 배포 스크립트 확인\n",
    "- [2] 배포 스크립트 커맨드 인자 정의 및 확인\n",
    "- [3] 배포 스크립트 실행\n",
    "- [4] 추론 테스트 (프리딕터 생성, payload 생성, 추론 실행)\n",
    "- [5] 앤드포인트 컨피그, 앤드포인트 삭제\n"
   ]
  },
  {
   "cell_type": "markdown",
   "metadata": {},
   "source": [
    "### [1] 배포 스크립트 확인"
   ]
  },
  {
   "cell_type": "code",
   "execution_count": 15,
   "metadata": {},
   "outputs": [
    {
     "name": "stdout",
     "output_type": "stream",
     "text": [
      "\u001b[34mimport\u001b[39;49;00m \u001b[04m\u001b[36mtime\u001b[39;49;00m\n",
      "\u001b[34mimport\u001b[39;49;00m \u001b[04m\u001b[36mboto3\u001b[39;49;00m\n",
      "\u001b[34mimport\u001b[39;49;00m \u001b[04m\u001b[36margparse\u001b[39;49;00m\n",
      "\u001b[34mimport\u001b[39;49;00m \u001b[04m\u001b[36msys\u001b[39;49;00m, \u001b[04m\u001b[36mos\u001b[39;49;00m\n",
      "\n",
      "\u001b[34mimport\u001b[39;49;00m \u001b[04m\u001b[36mlogging\u001b[39;49;00m\n",
      "\u001b[34mimport\u001b[39;49;00m \u001b[04m\u001b[36mlogging\u001b[39;49;00m\u001b[04m\u001b[36m.\u001b[39;49;00m\u001b[04m\u001b[36mhandlers\u001b[39;49;00m\n",
      "\n",
      "\u001b[34mdef\u001b[39;49;00m \u001b[32m_get_logger\u001b[39;49;00m():\n",
      "    \u001b[33m'''\u001b[39;49;00m\n",
      "\u001b[33m    로깅을 위해 파이썬 로거를 사용\u001b[39;49;00m\n",
      "\u001b[33m    # https://stackoverflow.com/questions/17745914/python-logging-module-is-printing-lines-multiple-times\u001b[39;49;00m\n",
      "\u001b[33m    '''\u001b[39;49;00m\n",
      "    loglevel = logging.DEBUG\n",
      "    l = logging.getLogger(\u001b[31m__name__\u001b[39;49;00m)\n",
      "    \u001b[34mif\u001b[39;49;00m \u001b[35mnot\u001b[39;49;00m l.hasHandlers():\n",
      "        l.setLevel(loglevel)\n",
      "        logging.getLogger().addHandler(logging.StreamHandler(sys.stdout))        \n",
      "        l.handler_set = \u001b[34mTrue\u001b[39;49;00m\n",
      "    \u001b[34mreturn\u001b[39;49;00m l  \n",
      "\n",
      "logger = _get_logger()\n",
      "\n",
      "\n",
      "\u001b[37m#########################################\u001b[39;49;00m\n",
      "\u001b[37m## 커맨드 인자 처리\u001b[39;49;00m\n",
      "\u001b[37m#########################################\u001b[39;49;00m\n",
      "\n",
      "\u001b[37m# Parse argument variables passed via the DeployModel processing step\u001b[39;49;00m\n",
      "parser = argparse.ArgumentParser()\n",
      "parser.add_argument(\u001b[33m'\u001b[39;49;00m\u001b[33m--model_name\u001b[39;49;00m\u001b[33m'\u001b[39;49;00m, \u001b[36mtype\u001b[39;49;00m=\u001b[36mstr\u001b[39;49;00m)\n",
      "parser.add_argument(\u001b[33m'\u001b[39;49;00m\u001b[33m--region\u001b[39;49;00m\u001b[33m'\u001b[39;49;00m, \u001b[36mtype\u001b[39;49;00m=\u001b[36mstr\u001b[39;49;00m, default=\u001b[33m\"\u001b[39;49;00m\u001b[33map-northeast-2\u001b[39;49;00m\u001b[33m\"\u001b[39;49;00m)\n",
      "parser.add_argument(\u001b[33m'\u001b[39;49;00m\u001b[33m--endpoint_instance_type\u001b[39;49;00m\u001b[33m'\u001b[39;49;00m, \u001b[36mtype\u001b[39;49;00m=\u001b[36mstr\u001b[39;49;00m, default=\u001b[33m'\u001b[39;49;00m\u001b[33mml.t3.medium\u001b[39;49;00m\u001b[33m'\u001b[39;49;00m)\n",
      "parser.add_argument(\u001b[33m'\u001b[39;49;00m\u001b[33m--endpoint_name\u001b[39;49;00m\u001b[33m'\u001b[39;49;00m, \u001b[36mtype\u001b[39;49;00m=\u001b[36mstr\u001b[39;49;00m)\n",
      "args = parser.parse_args()\n",
      "\n",
      "logger.info(\u001b[33m\"\u001b[39;49;00m\u001b[33m#############################################\u001b[39;49;00m\u001b[33m\"\u001b[39;49;00m)\n",
      "logger.info(\u001b[33mf\u001b[39;49;00m\u001b[33m\"\u001b[39;49;00m\u001b[33margs.model_name: \u001b[39;49;00m\u001b[33m{\u001b[39;49;00margs.model_name\u001b[33m}\u001b[39;49;00m\u001b[33m\"\u001b[39;49;00m)\n",
      "logger.info(\u001b[33mf\u001b[39;49;00m\u001b[33m\"\u001b[39;49;00m\u001b[33margs.region: \u001b[39;49;00m\u001b[33m{\u001b[39;49;00margs.region\u001b[33m}\u001b[39;49;00m\u001b[33m\"\u001b[39;49;00m)    \n",
      "logger.info(\u001b[33mf\u001b[39;49;00m\u001b[33m\"\u001b[39;49;00m\u001b[33margs.endpoint_instance_type: \u001b[39;49;00m\u001b[33m{\u001b[39;49;00margs.endpoint_instance_type\u001b[33m}\u001b[39;49;00m\u001b[33m\"\u001b[39;49;00m)        \n",
      "logger.info(\u001b[33mf\u001b[39;49;00m\u001b[33m\"\u001b[39;49;00m\u001b[33margs.endpoint_name: \u001b[39;49;00m\u001b[33m{\u001b[39;49;00margs.endpoint_name\u001b[33m}\u001b[39;49;00m\u001b[33m\"\u001b[39;49;00m)    \n",
      "\n",
      "region = args.region\n",
      "instance_type = args.endpoint_instance_type\n",
      "model_name = args.model_name\n",
      "\n",
      "\n",
      "boto3.setup_default_session(region_name=region)\n",
      "sagemaker_boto_client = boto3.client(\u001b[33m'\u001b[39;49;00m\u001b[33msagemaker\u001b[39;49;00m\u001b[33m'\u001b[39;49;00m)\n",
      "\n",
      "\u001b[37m#name truncated per sagameker length requirememnts (63 char max)\u001b[39;49;00m\n",
      "endpoint_config_name=\u001b[33mf\u001b[39;49;00m\u001b[33m'\u001b[39;49;00m\u001b[33m{\u001b[39;49;00margs.model_name[:\u001b[34m56\u001b[39;49;00m]\u001b[33m}\u001b[39;49;00m\u001b[33m-config\u001b[39;49;00m\u001b[33m'\u001b[39;49;00m\n",
      "existing_configs = sagemaker_boto_client.list_endpoint_configs(NameContains=endpoint_config_name)[\u001b[33m'\u001b[39;49;00m\u001b[33mEndpointConfigs\u001b[39;49;00m\u001b[33m'\u001b[39;49;00m]\n",
      "\n",
      "\u001b[37m#########################################\u001b[39;49;00m\n",
      "\u001b[37m## endpoint_config 생성\u001b[39;49;00m\n",
      "\u001b[37m#########################################\u001b[39;49;00m\n",
      "\n",
      "\u001b[34mif\u001b[39;49;00m \u001b[35mnot\u001b[39;49;00m existing_configs:\n",
      "    create_ep_config_response = sagemaker_boto_client.create_endpoint_config(\n",
      "        EndpointConfigName=endpoint_config_name,\n",
      "        ProductionVariants=[{\n",
      "            \u001b[33m'\u001b[39;49;00m\u001b[33mInstanceType\u001b[39;49;00m\u001b[33m'\u001b[39;49;00m: instance_type,\n",
      "            \u001b[33m'\u001b[39;49;00m\u001b[33mInitialVariantWeight\u001b[39;49;00m\u001b[33m'\u001b[39;49;00m: \u001b[34m1\u001b[39;49;00m,\n",
      "            \u001b[33m'\u001b[39;49;00m\u001b[33mInitialInstanceCount\u001b[39;49;00m\u001b[33m'\u001b[39;49;00m: \u001b[34m1\u001b[39;49;00m,\n",
      "            \u001b[33m'\u001b[39;49;00m\u001b[33mModelName\u001b[39;49;00m\u001b[33m'\u001b[39;49;00m: model_name,\n",
      "            \u001b[33m'\u001b[39;49;00m\u001b[33mVariantName\u001b[39;49;00m\u001b[33m'\u001b[39;49;00m: \u001b[33m'\u001b[39;49;00m\u001b[33mAllTraffic\u001b[39;49;00m\u001b[33m'\u001b[39;49;00m\n",
      "        }]\n",
      "    )\n",
      "\n",
      "existing_endpoints = sagemaker_boto_client.list_endpoints(NameContains=args.endpoint_name)[\u001b[33m'\u001b[39;49;00m\u001b[33mEndpoints\u001b[39;49;00m\u001b[33m'\u001b[39;49;00m]\n",
      "\n",
      "\u001b[37m#########################################\u001b[39;49;00m\n",
      "\u001b[37m## endpoint 생성\u001b[39;49;00m\n",
      "\u001b[37m#########################################\u001b[39;49;00m\n",
      "\n",
      "\u001b[34mif\u001b[39;49;00m \u001b[35mnot\u001b[39;49;00m existing_endpoints:\n",
      "    logger.info(\u001b[33mf\u001b[39;49;00m\u001b[33m\"\u001b[39;49;00m\u001b[33mCreating endpoint\u001b[39;49;00m\u001b[33m\"\u001b[39;49;00m)        \n",
      "    create_endpoint_response = sagemaker_boto_client.create_endpoint(\n",
      "        EndpointName=args.endpoint_name,\n",
      "        EndpointConfigName=endpoint_config_name)\n",
      "\u001b[34melse\u001b[39;49;00m:\n",
      "    logger.info(\u001b[33mf\u001b[39;49;00m\u001b[33m\"\u001b[39;49;00m\u001b[33mEndpoint exists\u001b[39;49;00m\u001b[33m\"\u001b[39;49;00m)            \n",
      "    \n",
      "\n",
      "endpoint_info = sagemaker_boto_client.describe_endpoint(EndpointName=args.endpoint_name)\n",
      "endpoint_status = endpoint_info[\u001b[33m'\u001b[39;49;00m\u001b[33mEndpointStatus\u001b[39;49;00m\u001b[33m'\u001b[39;49;00m]\n",
      "\n",
      "\n",
      "logger.info(\u001b[33mf\u001b[39;49;00m\u001b[33m'\u001b[39;49;00m\u001b[33mEndpoint status is creating\u001b[39;49;00m\u001b[33m'\u001b[39;49;00m)    \n",
      "\u001b[34mwhile\u001b[39;49;00m endpoint_status == \u001b[33m'\u001b[39;49;00m\u001b[33mCreating\u001b[39;49;00m\u001b[33m'\u001b[39;49;00m:\n",
      "    endpoint_info = sagemaker_boto_client.describe_endpoint(EndpointName=args.endpoint_name)\n",
      "    endpoint_status = endpoint_info[\u001b[33m'\u001b[39;49;00m\u001b[33mEndpointStatus\u001b[39;49;00m\u001b[33m'\u001b[39;49;00m]\n",
      "    logger.info(\u001b[33mf\u001b[39;49;00m\u001b[33m'\u001b[39;49;00m\u001b[33mEndpoint status: \u001b[39;49;00m\u001b[33m{\u001b[39;49;00mendpoint_status\u001b[33m}\u001b[39;49;00m\u001b[33m'\u001b[39;49;00m)\n",
      "    \u001b[34mif\u001b[39;49;00m endpoint_status == \u001b[33m'\u001b[39;49;00m\u001b[33mCreating\u001b[39;49;00m\u001b[33m'\u001b[39;49;00m:\n",
      "        time.sleep(\u001b[34m30\u001b[39;49;00m)\n"
     ]
    }
   ],
   "source": [
    "!pygmentize src/deploy_model.py # 코드를 보기 위해서 주석을 제거하세요."
   ]
  },
  {
   "cell_type": "markdown",
   "metadata": {},
   "source": [
    "### [2] 배포 스크립트 커맨드 인자 정의 및 확인"
   ]
  },
  {
   "cell_type": "code",
   "execution_count": 16,
   "metadata": {},
   "outputs": [],
   "source": [
    "import sagemaker\n",
    "region = sagemaker.Session().boto_region_name\n",
    "endpoint_name = 'fraud2scratch-' + str(suffix)\n",
    "endpoint_instance_type = 'ml.t2.xlarge'"
   ]
  },
  {
   "cell_type": "code",
   "execution_count": 17,
   "metadata": {},
   "outputs": [
    {
     "name": "stdout",
     "output_type": "stream",
     "text": [
      "Using AWS Region: ap-northeast-2\n",
      "sagemaker_model:  pipelines-ptvhrz2rc2jp-fraudscratchmodel-oeukwysix7\n",
      "endpoint_instance_type:  ml.t2.xlarge\n",
      "endpoint_name:  fraud2scratch-115651\n"
     ]
    }
   ],
   "source": [
    "print(\"Using AWS Region: {}\".format(region))\n",
    "print(\"sagemaker_model: \", sagemaker_model)\n",
    "print(\"endpoint_instance_type: \", endpoint_instance_type)\n",
    "print(\"endpoint_name: \", endpoint_name)"
   ]
  },
  {
   "cell_type": "markdown",
   "metadata": {},
   "source": [
    "### [3] 배포 스크립트 실행\n",
    "- [중요] 약 8분 소요 됩니다. 기다려 주세요."
   ]
  },
  {
   "cell_type": "code",
   "execution_count": 18,
   "metadata": {},
   "outputs": [
    {
     "name": "stdout",
     "output_type": "stream",
     "text": [
      "#############################################\n",
      "args.model_name: pipelines-ptvhrz2rc2jp-fraudscratchmodel-oeukwysix7\n",
      "args.region: ap-northeast-2\n",
      "args.endpoint_instance_type: ml.t2.xlarge\n",
      "args.endpoint_name: fraud2scratch-115651\n",
      "Creating endpoint\n",
      "Endpoint status is creating\n",
      "Endpoint status: Creating\n",
      "Endpoint status: Creating\n",
      "Endpoint status: Creating\n",
      "Endpoint status: Creating\n",
      "Endpoint status: Creating\n",
      "Endpoint status: Creating\n",
      "Endpoint status: Creating\n",
      "Endpoint status: Creating\n",
      "Endpoint status: Creating\n",
      "Endpoint status: Creating\n",
      "Endpoint status: Creating\n",
      "Endpoint status: Creating\n",
      "Endpoint status: Creating\n",
      "Endpoint status: InService\n"
     ]
    }
   ],
   "source": [
    "%%sh -s \"$sagemaker_model\" \"$region\" \"$endpoint_instance_type\" \"$endpoint_name\" \n",
    "python src/deploy_model.py \\\n",
    "--model_name $1 \\\n",
    "--region $2 \\\n",
    "--endpoint_instance_type $3 \\\n",
    "--endpoint_name $4\n",
    "\n"
   ]
  },
  {
   "cell_type": "markdown",
   "metadata": {},
   "source": [
    "위의 `[3] 배포 스크립트 실행` 수행 후에 아래 세이지 메이커 컨솔에 가셔서 앤드로인트가 생성 중인지를 확인 해보세요.\n",
    "![console_create_endpoint-1.png](img/console_create_endpoint.png)"
   ]
  },
  {
   "cell_type": "markdown",
   "metadata": {},
   "source": [
    "### [4] 추론 테스트 (프리딕터 생성, payload 생성, 추론 실행)"
   ]
  },
  {
   "cell_type": "code",
   "execution_count": 19,
   "metadata": {},
   "outputs": [],
   "source": [
    "predictor = get_predictor(endpoint_name, sagemaker_session, csv_deserializer)"
   ]
  },
  {
   "cell_type": "code",
   "execution_count": 20,
   "metadata": {},
   "outputs": [
    {
     "name": "stdout",
     "output_type": "stream",
     "text": [
      "pay load type:  <class 'str'>\n",
      "payload: \n",
      " 23901.43250714285,36201.43250714285,56,118,0,1,750,3000,98039,2012,3,3,1,12300,9,12,3,14,0,0,0,0,0,1,0,0,1,0,0,1,0,0,0,0,0,0,1,0,0,1,0,0,0,1,0,0,0,1,0,0,0,1,0,0,0,1,0,1\n"
     ]
    },
    {
     "data": {
      "text/plain": [
       "[['0.10092484205961227']]"
      ]
     },
     "execution_count": 20,
     "metadata": {},
     "output_type": "execute_result"
    }
   ],
   "source": [
    "import numpy as np\n",
    "sample = test_df.sample(1)\n",
    "payload = get_payload(test_df, label_col = 'fraud', verbose=False)\n",
    "pred_prob = predict(predictor, payload)\n",
    "pred_prob"
   ]
  },
  {
   "cell_type": "markdown",
   "metadata": {},
   "source": [
    "### [5] 앤드포인트 컨피그, 앤드포인트 삭제\n",
    "- is_del_model=False  를 통해서 생성한 모델은 삭제 하지 않습니다. 아래 파이프라인을 통한 엔드포인트 생성시에 모델을 사용하기 위함입니다."
   ]
  },
  {
   "cell_type": "code",
   "execution_count": 21,
   "metadata": {},
   "outputs": [
    {
     "name": "stdout",
     "output_type": "stream",
     "text": [
      "--- Deleted model: pipelines-ptvhrz2rc2jp-fraudscratchmodel-oeukwysix7\n",
      "--- Deleted endpoint: fraud2scratch-115651\n",
      "--- Deleted endpoint_config: pipelines-ptvhrz2rc2jp-fraudscratchmodel-oeukwysix7-config\n"
     ]
    }
   ],
   "source": [
    "import boto3\n",
    "boto3_client = boto3.client('sagemaker')\n",
    "delete_endpoint(boto3_client, endpoint_name, is_del_model=False )\n",
    "# delete_endpoint(client, local_endpoint_name )"
   ]
  },
  {
   "cell_type": "markdown",
   "metadata": {},
   "source": [
    "---\n",
    "## (3) SageMaker Model Building Pipeline 에서 엔드포인트 생성을 수행합니다.\n",
    "### [중요] 이 단계는 약 20분 정도 소요 됩니다.\n",
    "\n",
    "이 단계는 내부적으로 크게 아래 두가지 요소로 진행 됩니다.\n",
    "- deploy_step 단계로 이름 지어진 Processing Step 의 진행  (EC2 생성), \n",
    "- 이후에 EC2 안에서 src/deploy_model.py 실행 되면서 엔드포인트 생성에 시간 (약 8분) 이 걸립니다.\n"
   ]
  },
  {
   "cell_type": "markdown",
   "metadata": {},
   "source": [
    "### 모델 빌딩 파이프라인 변수 생성"
   ]
  },
  {
   "cell_type": "code",
   "execution_count": 22,
   "metadata": {},
   "outputs": [],
   "source": [
    "from sagemaker.workflow.parameters import (\n",
    "    ParameterInteger,\n",
    "    ParameterString,\n",
    ")\n",
    "\n",
    "processing_instance_count = ParameterInteger(\n",
    "    name=\"ProcessingInstanceCount\",\n",
    "    default_value=1\n",
    ")\n",
    "processing_instance_type = ParameterString(\n",
    "    name=\"ProcessingInstanceType\",\n",
    "    default_value=\"ml.m5.xlarge\"\n",
    ")"
   ]
  },
  {
   "cell_type": "markdown",
   "metadata": {},
   "source": [
    "## 배포 스텝 정의\n",
    "[중요] `pipeline_endpoint_name` 에 '_' 언데바를 넣으면 에러가 납니다. '-' 대시는 가능합니다."
   ]
  },
  {
   "cell_type": "code",
   "execution_count": 23,
   "metadata": {},
   "outputs": [
    {
     "name": "stdout",
     "output_type": "stream",
     "text": [
      "s3_deploy_code_uri:  s3://sagemaker-ap-northeast-2-057716757052/sagemaker-pipeline-step-by-step/code/deploy_model.py\n"
     ]
    }
   ],
   "source": [
    "\n",
    "local_deploy_code_path = 'src/deploy_model.py'\n",
    "s3_deploy_code_path = f\"s3://{default_bucket}/{project_prefix}/code\"\n",
    "s3_deploy_code_uri = sagemaker.s3.S3Uploader.upload(\n",
    "    local_path=local_deploy_code_path, \n",
    "    desired_s3_uri=s3_deploy_code_path,\n",
    ")\n",
    "print(\"s3_deploy_code_uri: \", s3_deploy_code_uri)\n",
    "\n",
    "pipeline_endpoint_name = 'pipeline-endpoint-'  + str(suffix)"
   ]
  },
  {
   "cell_type": "code",
   "execution_count": 24,
   "metadata": {},
   "outputs": [],
   "source": [
    "from sagemaker.sklearn.processing import SKLearnProcessor\n",
    "from sagemaker.workflow.steps import ProcessingStep\n",
    "\n",
    "deploy_model_processor = SKLearnProcessor(\n",
    "    framework_version='0.23-1',\n",
    "    role= role,\n",
    "    instance_type=\"ml.t3.medium\",\n",
    "    instance_count=1,\n",
    "    base_job_name='fraud-scratch-deploy-model',\n",
    "    sagemaker_session=sagemaker_session)\n",
    "\n",
    "\n",
    "deploy_step = ProcessingStep(\n",
    "    name='DeployModel',\n",
    "    processor=deploy_model_processor,\n",
    "    job_arguments=[\n",
    "        \"--model_name\", sagemaker_model, \n",
    "        \"--region\", region,\n",
    "        \"--endpoint_instance_type\", endpoint_instance_type,\n",
    "        \"--endpoint_name\", pipeline_endpoint_name\n",
    "    ],\n",
    "    code=s3_deploy_code_uri)"
   ]
  },
  {
   "cell_type": "markdown",
   "metadata": {},
   "source": [
    "### 파리마터, 단계, 조건을 조합하여 최종 파이프라인 정의\n",
    "\n"
   ]
  },
  {
   "cell_type": "code",
   "execution_count": 25,
   "metadata": {},
   "outputs": [],
   "source": [
    "from sagemaker.workflow.pipeline import Pipeline\n",
    "\n",
    "\n",
    "pipeline_name = project_prefix\n",
    "pipeline = Pipeline(\n",
    "    name=pipeline_name,\n",
    "    parameters=[\n",
    "        processing_instance_type, \n",
    "        processing_instance_count,\n",
    "    ],\n",
    "    steps=[deploy_step],\n",
    ")"
   ]
  },
  {
   "cell_type": "markdown",
   "metadata": {},
   "source": [
    "#### (선택) 파이프라인 정의 확인 \n",
    "\n",
    "파이프라인을 정의하는 JSON을 생성하고 파이프라인 내에서 사용하는 파라미터와 단계별 속성들이 잘 정의되었는지 확인할 수 있습니다."
   ]
  },
  {
   "cell_type": "code",
   "execution_count": 26,
   "metadata": {},
   "outputs": [
    {
     "data": {
      "text/plain": [
       "{'Version': '2020-12-01',\n",
       " 'Metadata': {},\n",
       " 'Parameters': [{'Name': 'ProcessingInstanceType',\n",
       "   'Type': 'String',\n",
       "   'DefaultValue': 'ml.m5.xlarge'},\n",
       "  {'Name': 'ProcessingInstanceCount', 'Type': 'Integer', 'DefaultValue': 1}],\n",
       " 'PipelineExperimentConfig': {'ExperimentName': {'Get': 'Execution.PipelineName'},\n",
       "  'TrialName': {'Get': 'Execution.PipelineExecutionId'}},\n",
       " 'Steps': [{'Name': 'DeployModel',\n",
       "   'Type': 'Processing',\n",
       "   'Arguments': {'ProcessingResources': {'ClusterConfig': {'InstanceType': 'ml.t3.medium',\n",
       "      'InstanceCount': 1,\n",
       "      'VolumeSizeInGB': 30}},\n",
       "    'AppSpecification': {'ImageUri': '366743142698.dkr.ecr.ap-northeast-2.amazonaws.com/sagemaker-scikit-learn:0.23-1-cpu-py3',\n",
       "     'ContainerArguments': ['--model_name',\n",
       "      'pipelines-ptvhrz2rc2jp-fraudscratchmodel-oeukwysix7',\n",
       "      '--region',\n",
       "      'ap-northeast-2',\n",
       "      '--endpoint_instance_type',\n",
       "      'ml.t2.xlarge',\n",
       "      '--endpoint_name',\n",
       "      'pipeline-endpoint-115651'],\n",
       "     'ContainerEntrypoint': ['python3',\n",
       "      '/opt/ml/processing/input/code/deploy_model.py']},\n",
       "    'RoleArn': 'arn:aws:iam::057716757052:role/service-role/AmazonSageMaker-ExecutionRole-20210120T193680',\n",
       "    'ProcessingInputs': [{'InputName': 'code',\n",
       "      'AppManaged': False,\n",
       "      'S3Input': {'S3Uri': 's3://sagemaker-ap-northeast-2-057716757052/sagemaker-pipeline-step-by-step/code/deploy_model.py',\n",
       "       'LocalPath': '/opt/ml/processing/input/code',\n",
       "       'S3DataType': 'S3Prefix',\n",
       "       'S3InputMode': 'File',\n",
       "       'S3DataDistributionType': 'FullyReplicated',\n",
       "       'S3CompressionType': 'None'}}]}}]}"
      ]
     },
     "execution_count": 26,
     "metadata": {},
     "output_type": "execute_result"
    }
   ],
   "source": [
    "import json\n",
    "\n",
    "\n",
    "definition = json.loads(pipeline.definition())\n",
    "definition"
   ]
  },
  {
   "cell_type": "markdown",
   "metadata": {},
   "source": [
    "#### 파이프라인을 SageMaker에 제출하고 실행하기 \n",
    "\n",
    "파이프라인 정의를 SageMaker Pipelines 서비스에 제출하여 파이프라인을 생성하거나 파이프라인이 이미 존재하면 파이프라인 정의를 업데이트합니다. 함께 전달되는 역할(role)을 이용하여 AWS에서 파이프라인을 생성하고 작업의 각 단계를 실행할 것입니다.   "
   ]
  },
  {
   "cell_type": "code",
   "execution_count": 27,
   "metadata": {},
   "outputs": [
    {
     "data": {
      "text/plain": [
       "{'PipelineArn': 'arn:aws:sagemaker:ap-northeast-2:057716757052:pipeline/sagemaker-pipeline-step-by-step',\n",
       " 'ResponseMetadata': {'RequestId': '68961a13-fd91-434b-909e-c6d4f242a49a',\n",
       "  'HTTPStatusCode': 200,\n",
       "  'HTTPHeaders': {'x-amzn-requestid': '68961a13-fd91-434b-909e-c6d4f242a49a',\n",
       "   'content-type': 'application/x-amz-json-1.1',\n",
       "   'content-length': '104',\n",
       "   'date': 'Tue, 03 Aug 2021 07:37:18 GMT'},\n",
       "  'RetryAttempts': 0}}"
      ]
     },
     "execution_count": 27,
     "metadata": {},
     "output_type": "execute_result"
    }
   ],
   "source": [
    "pipeline.upsert(role_arn=role)"
   ]
  },
  {
   "cell_type": "code",
   "execution_count": 28,
   "metadata": {},
   "outputs": [],
   "source": [
    "execution = pipeline.start()"
   ]
  },
  {
   "cell_type": "markdown",
   "metadata": {},
   "source": [
    "### 파이프라인 운영: 파이프라인 대기 및 실행상태 확인\n",
    "\n",
    "워크플로우의 실행상황을 살펴봅니다. "
   ]
  },
  {
   "cell_type": "code",
   "execution_count": 29,
   "metadata": {},
   "outputs": [
    {
     "data": {
      "text/plain": [
       "{'PipelineArn': 'arn:aws:sagemaker:ap-northeast-2:057716757052:pipeline/sagemaker-pipeline-step-by-step',\n",
       " 'PipelineExecutionArn': 'arn:aws:sagemaker:ap-northeast-2:057716757052:pipeline/sagemaker-pipeline-step-by-step/execution/clq5s5jkqi8v',\n",
       " 'PipelineExecutionDisplayName': 'execution-1627976239028',\n",
       " 'PipelineExecutionStatus': 'Executing',\n",
       " 'CreationTime': datetime.datetime(2021, 8, 3, 7, 37, 18, 964000, tzinfo=tzlocal()),\n",
       " 'LastModifiedTime': datetime.datetime(2021, 8, 3, 7, 37, 18, 964000, tzinfo=tzlocal()),\n",
       " 'CreatedBy': {},\n",
       " 'LastModifiedBy': {},\n",
       " 'ResponseMetadata': {'RequestId': 'c66f7a0b-4a92-421c-b577-02126fe5a09f',\n",
       "  'HTTPStatusCode': 200,\n",
       "  'HTTPHeaders': {'x-amzn-requestid': 'c66f7a0b-4a92-421c-b577-02126fe5a09f',\n",
       "   'content-type': 'application/x-amz-json-1.1',\n",
       "   'content-length': '437',\n",
       "   'date': 'Tue, 03 Aug 2021 07:37:18 GMT'},\n",
       "  'RetryAttempts': 0}}"
      ]
     },
     "execution_count": 29,
     "metadata": {},
     "output_type": "execute_result"
    }
   ],
   "source": [
    "execution.describe()"
   ]
  },
  {
   "cell_type": "code",
   "execution_count": 30,
   "metadata": {},
   "outputs": [],
   "source": [
    "execution.wait()"
   ]
  },
  {
   "cell_type": "code",
   "execution_count": 31,
   "metadata": {},
   "outputs": [
    {
     "data": {
      "text/plain": [
       "[{'StepName': 'DeployModel',\n",
       "  'StartTime': datetime.datetime(2021, 8, 3, 7, 37, 19, 532000, tzinfo=tzlocal()),\n",
       "  'EndTime': datetime.datetime(2021, 8, 3, 7, 55, 10, 930000, tzinfo=tzlocal()),\n",
       "  'StepStatus': 'Succeeded',\n",
       "  'Metadata': {'ProcessingJob': {'Arn': 'arn:aws:sagemaker:ap-northeast-2:057716757052:processing-job/pipelines-clq5s5jkqi8v-deploymodel-w0f1rkhaq9'}}}]"
      ]
     },
     "execution_count": 31,
     "metadata": {},
     "output_type": "execute_result"
    }
   ],
   "source": [
    "execution.list_steps()"
   ]
  },
  {
   "cell_type": "markdown",
   "metadata": {},
   "source": [
    "### [옵션] SageMaker Studio에서 확인하기\n",
    "- 이전의 3.1.Preprocesing-Pipleline 노트북에서 언급 되었듯이, SageMaker Studio 에서도 확인이 가능합니다. 이전 노트북을 참조 해주세요.\n"
   ]
  },
  {
   "cell_type": "markdown",
   "metadata": {},
   "source": [
    "### 배포 파이프라인 추론 테스트"
   ]
  },
  {
   "cell_type": "code",
   "execution_count": 32,
   "metadata": {},
   "outputs": [
    {
     "name": "stdout",
     "output_type": "stream",
     "text": [
      "pay load type:  <class 'str'>\n",
      "payload: \n",
      " 23901.43250714285,36201.43250714285,56,118,0,1,750,3000,98039,2012,3,3,1,12300,9,12,3,14,0,0,0,0,0,1,0,0,1,0,0,1,0,0,0,0,0,0,1,0,0,1,0,0,0,1,0,0,0,1,0,0,0,1,0,0,0,1,0,1\n",
      "pred_prob: \n",
      " [['0.10092484205961227']]\n"
     ]
    }
   ],
   "source": [
    "import boto3\n",
    "sagemaker_boto_client = boto3.client('sagemaker')\n",
    "\n",
    "\n",
    "def is_available_endpoint(endpoint_name, verbose=False):\n",
    "    '''\n",
    "    Return True if endpoint is in service, otherise do False\n",
    "    '''\n",
    "    response = sagemaker_boto_client.list_endpoints(NameContains=endpoint_name)\n",
    "    #existing_endpoints = sagemaker_boto_client.list_endpoints(NameContains=endpoint_name)['Endpoints']\n",
    "    \n",
    "    if verbose:\n",
    "        print(\"Response: \\n\", response)\n",
    "\n",
    "            \n",
    "    EndpointStatus = response['Endpoints'][0]['EndpointStatus']\n",
    "    if verbose:\n",
    "        print(\"EndpointStatus: \", EndpointStatus)\n",
    "    \n",
    "        \n",
    "    if EndpointStatus == 'InService':\n",
    "        return True\n",
    "    else:\n",
    "        return False\n",
    "\n",
    "\n",
    "\n",
    "if is_available_endpoint(pipeline_endpoint_name, verbose=False):\n",
    "    pipeline_predictor = get_predictor(pipeline_endpoint_name, sagemaker_session, csv_deserializer)\n",
    "    sample = test_df.sample(1)\n",
    "    payload = get_payload(test_df, label_col = 'fraud', verbose=False)\n",
    "    pred_prob = predict(pipeline_predictor, payload)\n",
    "    print(\"pred_prob: \\n\", pred_prob)\n",
    "else:\n",
    "    print(\"Wait for creating an endpoint\")\n"
   ]
  },
  {
   "cell_type": "markdown",
   "metadata": {},
   "source": [
    "### 엔드포인트 삭제"
   ]
  },
  {
   "cell_type": "code",
   "execution_count": 33,
   "metadata": {},
   "outputs": [
    {
     "name": "stdout",
     "output_type": "stream",
     "text": [
      "--- Deleted model: pipelines-ptvhrz2rc2jp-fraudscratchmodel-oeukwysix7\n",
      "--- Deleted endpoint: pipeline-endpoint-115651\n",
      "--- Deleted endpoint_config: pipelines-ptvhrz2rc2jp-fraudscratchmodel-oeukwysix7-config\n"
     ]
    }
   ],
   "source": [
    "delete_endpoint(boto3_client, pipeline_endpoint_name, is_del_model = True )"
   ]
  },
  {
   "cell_type": "code",
   "execution_count": null,
   "metadata": {},
   "outputs": [],
   "source": []
  }
 ],
 "metadata": {
  "instance_type": "ml.m5.large",
  "kernelspec": {
   "display_name": "conda_python3",
   "language": "python",
   "name": "conda_python3"
  },
  "language_info": {
   "codemirror_mode": {
    "name": "ipython",
    "version": 3
   },
   "file_extension": ".py",
   "mimetype": "text/x-python",
   "name": "python",
   "nbconvert_exporter": "python",
   "pygments_lexer": "ipython3",
   "version": "3.6.13"
  }
 },
 "nbformat": 4,
 "nbformat_minor": 4
}
