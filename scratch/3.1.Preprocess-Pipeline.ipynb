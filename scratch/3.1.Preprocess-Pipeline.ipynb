{
 "cells": [
  {
   "cell_type": "markdown",
   "metadata": {},
   "source": [
    "# [모듈 3.1] 전처리 스텝 개발 (SageMaker Preprocessing)\n",
    "---"
   ]
  },
  {
   "cell_type": "markdown",
   "metadata": {},
   "source": [
    "이 노트북은 세이지 메이커의 Processing Job을 통해서 데이터 전처리를 합니다. \n",
    "- 일반적으로 크게 아래 4가지의 스텝으로 진행이 됩니다.\n",
    "    - S3에 입력 파일 준비\n",
    "    - 전처리를 수행하는 코드 준비\n",
    "    - Projcessing Job을 생성시에 아래와 같은 항목을 제공합니다.\n",
    "        - Projcessing Job을 실행할 EC2(예: ml.m4.2xlarge) 기술\n",
    "        - Ec2에서 로딩할 다커 이미지의 이름 기술\n",
    "        - S3 입력 파일 경로\n",
    "        - 전처리 수행 코드 경로\n",
    "        - S3 출력 파일 경로\n",
    "    - EC2에서 전치리 실행 하여 S3 출력 위치에 저장\n",
    "- 상세한 사항은 개발자 가이드를 참조 하세요. -->  [SageMaker Processing](https://docs.aws.amazon.com/ko_kr/sagemaker/latest/dg/processing-job.html)"
   ]
  },
  {
   "cell_type": "markdown",
   "metadata": {},
   "source": [
    "![Processing-1.png](img/Processing-1.png)"
   ]
  },
  {
   "cell_type": "markdown",
   "metadata": {},
   "source": [
    "---\n",
    "### 위와 같은 전처리를 개발하기 위해서는 아래 3개의 단계를 수행합니다.\n",
    "- (1) 로컬 노트북 인스턴스에서 **다커 컨테이너 없이** 전처리 코드 실행\n",
    "    - SageMaker Processing은 다커 컨테이너에서 실행이 되기에, 로컬에서 다커 환경과 비슷한 환경을 구성(예: 입력, 출력 위치)하여 실행합니다.\n",
    "    - 실제적으로 현업 프로젝트의 개발시에 로직 확인, 디버깅이 수월하기 위해서 이 단계를 진행하는 것을 권장 합니다.\n",
    "- (2) 로컬 노트북 인스턴스에서 **다커 컨테이너를 통해서** 전처리 코드 실행      \n",
    "    - 위의 (1) 단계에서 전처리 코드의 로직 확인이 되었기에, 실제 로컬 노트북 인스턴스에서 다커 컨테이너를 통해 전치리 코드를 수행 합니다.\n",
    "    - [알림] 로컬 모드 참고 자료\n",
    "        - 로컬모드 설명하는 블로그 자료 --> [Use the Amazon SageMaker local mode to train on your notebook instance](https://aws.amazon.com/blogs/machine-learning/use-the-amazon-sagemaker-local-mode-to-train-on-your-notebook-instance/)\n",
    "        - TF, Pytorch, SKLean, SKLearn Processing JOb에 대한 로컬 모드 샘플 --> [Amazon SageMaker Local Mode Examples](https://github.com/aws-samples/amazon-sagemaker-local-mode)\n",
    "        - Python SDK -->  [로컬모드 Python SDK](https://sagemaker.readthedocs.io/en/stable/overview.html#local-mode)\n",
    "- (3) SageMaker Pipeline 에서 전치러를 수행합니다.\n",
    "    - 상세 사항은 여기에서 확인 하세요. --> [Amazon SageMaker 모델 구축 파이프라인](img/https://docs.aws.amazon.com/ko_kr/sagemaker/latest/dg/pipelines.html)\n",
    "    "
   ]
  },
  {
   "cell_type": "markdown",
   "metadata": {},
   "source": [
    "## 0. 기본 세이지 메이커 정보 및 기본 변수 로딩"
   ]
  },
  {
   "cell_type": "code",
   "execution_count": 1,
   "metadata": {},
   "outputs": [],
   "source": [
    "import boto3\n",
    "import sagemaker\n",
    "import pandas as pd\n",
    "from IPython.display import display as dp\n",
    "\n",
    "region = boto3.Session().region_name\n",
    "sagemaker_session = sagemaker.session.Session()\n",
    "role = sagemaker.get_execution_role()\n",
    "\n",
    "%store -r "
   ]
  },
  {
   "cell_type": "code",
   "execution_count": 3,
   "metadata": {},
   "outputs": [
    {
     "name": "stdout",
     "output_type": "stream",
     "text": [
      "Stored variables and their in-db values:\n",
      "claims_data_uri                -> 's3://sagemaker-ap-northeast-2-057716757052/sagema\n",
      "customers_data_uri             -> 's3://sagemaker-ap-northeast-2-057716757052/sagema\n",
      "default_bucket                 -> 'sagemaker-ap-northeast-2-057716757052'\n",
      "input_data_uri                 -> 's3://sagemaker-ap-northeast-2-057716757052/sagema\n",
      "project_prefix                 -> 'sagemaker-pipeline-step-by-step'\n"
     ]
    }
   ],
   "source": [
    "# 현재 로컬 디스크에 저장되어 있는 변수를 확인\n",
    "%store "
   ]
  },
  {
   "cell_type": "markdown",
   "metadata": {},
   "source": [
    "## 1. 전처리 스크립트 확인\n",
    "\n",
    "전처리 코드는 크게 아래와 같이 구성 되어 있습니다.\n",
    "- 커맨드 인자로 전달된 변수 내용 확인\n",
    "- 두개의 입력 파일(claim, customer)을 로딩하고, policy_id 로 조인하여 하나의 데이터 세트로 만듦\n",
    "- 카테고리 피쳐를 원핫인코딩을 함.\n",
    "- 숫자형 변수의 결측값에 대해서 채우는 전처리 수행\n",
    "    - [알림] 이 워크샵은 XGBoost를 통해서 훈련을 합니다. XGBoost 같은 Tree 계열의 알고리즘은 피쳐의 스케일링(Scaling)이 필요하지 않습니다.\n",
    "- 전치리 결과를 모두 결합 합니다.\n",
    "- 훈련, 테스트 데이터 세트로 9:1 로 분리 합니다.\n",
    "    - [알림] 일반적으로 Fruad Detection의 훈련, 테스트 데이터의 분리는 시간의 순서에 따라 분리 합니다. 예를 들어서 2021.01.01 ~ 2021.12.31 의 데이터가 존재한다고 하면, 2021.01.01 ~ 2021.11.30 을 훈련 데이터, 2021.12.01 ~ 2021.12.31을 테스트 테이터로 분리 합니다. 이 워크샵에서 사용하고 있는 데이터 세트는 명시적인 날짜 정보가 없어서, 5000개의 의 policy_id에서 1~4,500 은 훈련 데이터, 4501 ~ 5,000은 테스트 데이터로 분리 하였습니다.\n",
    "\n",
    "---"
   ]
  },
  {
   "cell_type": "code",
   "execution_count": 21,
   "metadata": {},
   "outputs": [
    {
     "name": "stdout",
     "output_type": "stream",
     "text": [
      "Stored 'preprocessing_code' (str)\n"
     ]
    }
   ],
   "source": [
    "preprocessing_code = 'src/preprocessing.py'\n",
    "%store preprocessing_code"
   ]
  },
  {
   "cell_type": "code",
   "execution_count": 11,
   "metadata": {},
   "outputs": [],
   "source": [
    "# !pygmentize {preprocessing_code}"
   ]
  },
  {
   "cell_type": "markdown",
   "metadata": {},
   "source": [
    "## 2. 전처리 코드 실행\n",
    "---\n",
    "\n",
    "### (1) 로컬 노트북 인스턴스에서 다커 컨테이너 없이 전처리 코드 실행\n",
    "\n",
    "\n"
   ]
  },
  {
   "cell_type": "markdown",
   "metadata": {},
   "source": [
    "#### 로컬 환경 셋업 \n",
    "\n",
    "로컬에서 테스트 하기 위해 다커 컨테이너와 같은 환경을 생성합니다."
   ]
  },
  {
   "cell_type": "code",
   "execution_count": 15,
   "metadata": {},
   "outputs": [],
   "source": [
    "import os\n",
    "base_output_dir = 'opt/ml/processing/output'\n",
    "# base_preproc_dir = 'opt/ml/processing'\n",
    "\n",
    "base_preproc_input_dir = 'opt/ml/processing/input'\n",
    "os.makedirs(base_preproc_input_dir, exist_ok=True)\n",
    "\n",
    "# base_train_dir = 'opt/ml/processing/output/train'\n",
    "# os.makedirs(base_train_dir, exist_ok=True)\n",
    "\n",
    "# base_validation_dir = 'opt/ml/processing/output/validation'\n",
    "# os.makedirs(base_validation_dir, exist_ok=True)\n",
    "\n",
    "# base_test_dir = 'opt/ml/processing/output/test'\n",
    "# os.makedirs(base_test_dir, exist_ok=True)\n"
   ]
  },
  {
   "cell_type": "markdown",
   "metadata": {},
   "source": [
    "#### claims.csv, customers.csv 를 다커환경에서 사용하는 입력 경로로 복사"
   ]
  },
  {
   "cell_type": "code",
   "execution_count": 16,
   "metadata": {},
   "outputs": [],
   "source": [
    "! cp ../data/claims.csv {base_preproc_input_dir}\n",
    "! cp ../data/customers.csv {base_preproc_input_dir}"
   ]
  },
  {
   "cell_type": "markdown",
   "metadata": {},
   "source": [
    "#### 로컬에서 스크립트 실행\n",
    "- 전처리 코드에서 제공하는 로그를 통해서, 전처리 수행 내역을 확인 합니다."
   ]
  },
  {
   "cell_type": "code",
   "execution_count": 17,
   "metadata": {},
   "outputs": [
    {
     "name": "stdout",
     "output_type": "stream",
     "text": [
      "######### Argument Info ####################################\n",
      "args.base_output_dir: opt/ml/processing/output\n",
      "args.base_preproc_input_dir: opt/ml/processing/input\n",
      "args.label_column: fraud\n",
      "\n",
      "### Loading Claim Dataset\n",
      "input_files: \n",
      " ['opt/ml/processing/input/claims.csv']\n",
      "dataframe shape \n",
      " (5000, 17)\n",
      "dataset sample \n",
      "           driver_relationship incident_type  ... incident_hour fraud\n",
      "policy_id                                    ...                    \n",
      "1                      Spouse     Collision  ...             8     0\n",
      "2                        Self     Collision  ...            11     0\n",
      "\n",
      "[2 rows x 17 columns]\n",
      "\n",
      "### Loading Customer Dataset\n",
      "input_files: \n",
      " ['opt/ml/processing/input/customers.csv']\n",
      "dataframe shape \n",
      " (5000, 12)\n",
      "dataset sample \n",
      "            customer_age  months_as_customer  ...  customer_education  auto_year\n",
      "policy_id                                    ...                               \n",
      "1                    54                  94  ...           Associate       2006\n",
      "2                    41                 165  ...            Bachelor       2012\n",
      "\n",
      "[2 rows x 12 columns]\n",
      "### dataframe merged with customer and claim: (5000, 29)\n",
      "\n",
      " ### Encoding: Category Features\n",
      "categorical_features: ['policy_state', 'policy_liability', 'customer_gender', 'customer_education', 'driver_relationship', 'incident_type', 'collision_type', 'incident_severity', 'authorities_contacted', 'police_report_available']\n",
      "\n",
      " ### Encoding: Numeric Features\n",
      "int_cols: \n",
      "['customer_age' 'months_as_customer' 'num_claims_past_year'\n",
      " 'num_insurers_past_5_years' 'policy_deductable' 'policy_annual_premium'\n",
      " 'customer_zip' 'auto_year' 'num_vehicles_involved' 'num_injuries'\n",
      " 'num_witnesses' 'injury_claim' 'incident_month' 'incident_day'\n",
      " 'incident_dow' 'incident_hour' 'fraud']\n",
      "float_cols: \n",
      "['vehicle_claim' 'total_claim_amount']\n",
      "\n",
      " ### Handle preprocess results\n",
      "preprocessed train shape \n",
      " (4500, 59)\n",
      "preprocessed validation shape \n",
      " (500, 59)\n",
      "\n",
      " ### Final result for train dataset \n",
      "preprocessed train sample \n",
      "    fraud  ...  police_report_available_Yes\n",
      "0      0  ...                            0\n",
      "1      0  ...                            1\n",
      "\n",
      "[2 rows x 59 columns]\n"
     ]
    }
   ],
   "source": [
    "! python {preprocessing_code} --base_preproc_input_dir {base_preproc_input_dir} \\\n",
    "                              --base_output_dir {base_output_dir} \n"
   ]
  },
  {
   "cell_type": "markdown",
   "metadata": {},
   "source": [
    "#### 전처리된 데이터 확인\n",
    "- 실제로 전처리 된 파일의 내역을 확인 합니다.\n",
    "- 훈련 및 테스트 세트의 fraud 의 분포를 확인 합니다. (0: non-fruad, 1: fraud)"
   ]
  },
  {
   "cell_type": "code",
   "execution_count": 18,
   "metadata": {},
   "outputs": [
    {
     "data": {
      "text/html": [
       "<div>\n",
       "<style scoped>\n",
       "    .dataframe tbody tr th:only-of-type {\n",
       "        vertical-align: middle;\n",
       "    }\n",
       "\n",
       "    .dataframe tbody tr th {\n",
       "        vertical-align: top;\n",
       "    }\n",
       "\n",
       "    .dataframe thead th {\n",
       "        text-align: right;\n",
       "    }\n",
       "</style>\n",
       "<table border=\"1\" class=\"dataframe\">\n",
       "  <thead>\n",
       "    <tr style=\"text-align: right;\">\n",
       "      <th></th>\n",
       "      <th>fraud</th>\n",
       "      <th>vehicle_claim</th>\n",
       "      <th>total_claim_amount</th>\n",
       "      <th>customer_age</th>\n",
       "      <th>months_as_customer</th>\n",
       "      <th>num_claims_past_year</th>\n",
       "      <th>num_insurers_past_5_years</th>\n",
       "      <th>policy_deductable</th>\n",
       "      <th>policy_annual_premium</th>\n",
       "      <th>customer_zip</th>\n",
       "      <th>...</th>\n",
       "      <th>collision_type_missing</th>\n",
       "      <th>incident_severity_Major</th>\n",
       "      <th>incident_severity_Minor</th>\n",
       "      <th>incident_severity_Totaled</th>\n",
       "      <th>authorities_contacted_Ambulance</th>\n",
       "      <th>authorities_contacted_Fire</th>\n",
       "      <th>authorities_contacted_None</th>\n",
       "      <th>authorities_contacted_Police</th>\n",
       "      <th>police_report_available_No</th>\n",
       "      <th>police_report_available_Yes</th>\n",
       "    </tr>\n",
       "  </thead>\n",
       "  <tbody>\n",
       "    <tr>\n",
       "      <th>0</th>\n",
       "      <td>0</td>\n",
       "      <td>8913.668763</td>\n",
       "      <td>80513.668763</td>\n",
       "      <td>54</td>\n",
       "      <td>94</td>\n",
       "      <td>0</td>\n",
       "      <td>1</td>\n",
       "      <td>750</td>\n",
       "      <td>3000</td>\n",
       "      <td>99207</td>\n",
       "      <td>...</td>\n",
       "      <td>0</td>\n",
       "      <td>0</td>\n",
       "      <td>1</td>\n",
       "      <td>0</td>\n",
       "      <td>0</td>\n",
       "      <td>0</td>\n",
       "      <td>1</td>\n",
       "      <td>0</td>\n",
       "      <td>1</td>\n",
       "      <td>0</td>\n",
       "    </tr>\n",
       "    <tr>\n",
       "      <th>1</th>\n",
       "      <td>0</td>\n",
       "      <td>19746.724395</td>\n",
       "      <td>26146.724395</td>\n",
       "      <td>41</td>\n",
       "      <td>165</td>\n",
       "      <td>0</td>\n",
       "      <td>1</td>\n",
       "      <td>750</td>\n",
       "      <td>2950</td>\n",
       "      <td>95632</td>\n",
       "      <td>...</td>\n",
       "      <td>0</td>\n",
       "      <td>0</td>\n",
       "      <td>0</td>\n",
       "      <td>1</td>\n",
       "      <td>0</td>\n",
       "      <td>0</td>\n",
       "      <td>0</td>\n",
       "      <td>1</td>\n",
       "      <td>0</td>\n",
       "      <td>1</td>\n",
       "    </tr>\n",
       "    <tr>\n",
       "      <th>2</th>\n",
       "      <td>0</td>\n",
       "      <td>11652.969918</td>\n",
       "      <td>22052.969918</td>\n",
       "      <td>57</td>\n",
       "      <td>155</td>\n",
       "      <td>0</td>\n",
       "      <td>1</td>\n",
       "      <td>750</td>\n",
       "      <td>3000</td>\n",
       "      <td>93203</td>\n",
       "      <td>...</td>\n",
       "      <td>0</td>\n",
       "      <td>0</td>\n",
       "      <td>1</td>\n",
       "      <td>0</td>\n",
       "      <td>0</td>\n",
       "      <td>0</td>\n",
       "      <td>0</td>\n",
       "      <td>1</td>\n",
       "      <td>0</td>\n",
       "      <td>1</td>\n",
       "    </tr>\n",
       "    <tr>\n",
       "      <th>3</th>\n",
       "      <td>0</td>\n",
       "      <td>11260.930936</td>\n",
       "      <td>115960.930936</td>\n",
       "      <td>39</td>\n",
       "      <td>80</td>\n",
       "      <td>0</td>\n",
       "      <td>1</td>\n",
       "      <td>750</td>\n",
       "      <td>3000</td>\n",
       "      <td>85208</td>\n",
       "      <td>...</td>\n",
       "      <td>0</td>\n",
       "      <td>0</td>\n",
       "      <td>1</td>\n",
       "      <td>0</td>\n",
       "      <td>0</td>\n",
       "      <td>0</td>\n",
       "      <td>1</td>\n",
       "      <td>0</td>\n",
       "      <td>1</td>\n",
       "      <td>0</td>\n",
       "    </tr>\n",
       "    <tr>\n",
       "      <th>4</th>\n",
       "      <td>0</td>\n",
       "      <td>27987.704652</td>\n",
       "      <td>31387.704652</td>\n",
       "      <td>39</td>\n",
       "      <td>60</td>\n",
       "      <td>0</td>\n",
       "      <td>1</td>\n",
       "      <td>750</td>\n",
       "      <td>3000</td>\n",
       "      <td>91792</td>\n",
       "      <td>...</td>\n",
       "      <td>0</td>\n",
       "      <td>1</td>\n",
       "      <td>0</td>\n",
       "      <td>0</td>\n",
       "      <td>0</td>\n",
       "      <td>0</td>\n",
       "      <td>0</td>\n",
       "      <td>1</td>\n",
       "      <td>1</td>\n",
       "      <td>0</td>\n",
       "    </tr>\n",
       "    <tr>\n",
       "      <th>...</th>\n",
       "      <td>...</td>\n",
       "      <td>...</td>\n",
       "      <td>...</td>\n",
       "      <td>...</td>\n",
       "      <td>...</td>\n",
       "      <td>...</td>\n",
       "      <td>...</td>\n",
       "      <td>...</td>\n",
       "      <td>...</td>\n",
       "      <td>...</td>\n",
       "      <td>...</td>\n",
       "      <td>...</td>\n",
       "      <td>...</td>\n",
       "      <td>...</td>\n",
       "      <td>...</td>\n",
       "      <td>...</td>\n",
       "      <td>...</td>\n",
       "      <td>...</td>\n",
       "      <td>...</td>\n",
       "      <td>...</td>\n",
       "      <td>...</td>\n",
       "    </tr>\n",
       "    <tr>\n",
       "      <th>4495</th>\n",
       "      <td>0</td>\n",
       "      <td>19657.157428</td>\n",
       "      <td>40757.157428</td>\n",
       "      <td>55</td>\n",
       "      <td>151</td>\n",
       "      <td>0</td>\n",
       "      <td>1</td>\n",
       "      <td>750</td>\n",
       "      <td>3000</td>\n",
       "      <td>92105</td>\n",
       "      <td>...</td>\n",
       "      <td>0</td>\n",
       "      <td>1</td>\n",
       "      <td>0</td>\n",
       "      <td>0</td>\n",
       "      <td>0</td>\n",
       "      <td>0</td>\n",
       "      <td>0</td>\n",
       "      <td>1</td>\n",
       "      <td>1</td>\n",
       "      <td>0</td>\n",
       "    </tr>\n",
       "    <tr>\n",
       "      <th>4496</th>\n",
       "      <td>0</td>\n",
       "      <td>17431.505171</td>\n",
       "      <td>28331.505171</td>\n",
       "      <td>47</td>\n",
       "      <td>155</td>\n",
       "      <td>0</td>\n",
       "      <td>1</td>\n",
       "      <td>750</td>\n",
       "      <td>3000</td>\n",
       "      <td>93704</td>\n",
       "      <td>...</td>\n",
       "      <td>0</td>\n",
       "      <td>1</td>\n",
       "      <td>0</td>\n",
       "      <td>0</td>\n",
       "      <td>0</td>\n",
       "      <td>0</td>\n",
       "      <td>0</td>\n",
       "      <td>1</td>\n",
       "      <td>0</td>\n",
       "      <td>1</td>\n",
       "    </tr>\n",
       "    <tr>\n",
       "      <th>4497</th>\n",
       "      <td>0</td>\n",
       "      <td>13691.463019</td>\n",
       "      <td>22791.463019</td>\n",
       "      <td>34</td>\n",
       "      <td>177</td>\n",
       "      <td>0</td>\n",
       "      <td>1</td>\n",
       "      <td>750</td>\n",
       "      <td>2800</td>\n",
       "      <td>89131</td>\n",
       "      <td>...</td>\n",
       "      <td>1</td>\n",
       "      <td>1</td>\n",
       "      <td>0</td>\n",
       "      <td>0</td>\n",
       "      <td>0</td>\n",
       "      <td>0</td>\n",
       "      <td>0</td>\n",
       "      <td>1</td>\n",
       "      <td>1</td>\n",
       "      <td>0</td>\n",
       "    </tr>\n",
       "    <tr>\n",
       "      <th>4498</th>\n",
       "      <td>0</td>\n",
       "      <td>11806.709642</td>\n",
       "      <td>15506.709642</td>\n",
       "      <td>61</td>\n",
       "      <td>268</td>\n",
       "      <td>0</td>\n",
       "      <td>1</td>\n",
       "      <td>750</td>\n",
       "      <td>2550</td>\n",
       "      <td>83686</td>\n",
       "      <td>...</td>\n",
       "      <td>0</td>\n",
       "      <td>0</td>\n",
       "      <td>1</td>\n",
       "      <td>0</td>\n",
       "      <td>0</td>\n",
       "      <td>0</td>\n",
       "      <td>1</td>\n",
       "      <td>0</td>\n",
       "      <td>1</td>\n",
       "      <td>0</td>\n",
       "    </tr>\n",
       "    <tr>\n",
       "      <th>4499</th>\n",
       "      <td>0</td>\n",
       "      <td>34446.382771</td>\n",
       "      <td>41146.382771</td>\n",
       "      <td>23</td>\n",
       "      <td>26</td>\n",
       "      <td>0</td>\n",
       "      <td>1</td>\n",
       "      <td>750</td>\n",
       "      <td>2900</td>\n",
       "      <td>97013</td>\n",
       "      <td>...</td>\n",
       "      <td>0</td>\n",
       "      <td>0</td>\n",
       "      <td>0</td>\n",
       "      <td>1</td>\n",
       "      <td>0</td>\n",
       "      <td>0</td>\n",
       "      <td>0</td>\n",
       "      <td>1</td>\n",
       "      <td>0</td>\n",
       "      <td>1</td>\n",
       "    </tr>\n",
       "  </tbody>\n",
       "</table>\n",
       "<p>4500 rows × 59 columns</p>\n",
       "</div>"
      ],
      "text/plain": [
       "      fraud  vehicle_claim  total_claim_amount  customer_age  \\\n",
       "0         0    8913.668763        80513.668763            54   \n",
       "1         0   19746.724395        26146.724395            41   \n",
       "2         0   11652.969918        22052.969918            57   \n",
       "3         0   11260.930936       115960.930936            39   \n",
       "4         0   27987.704652        31387.704652            39   \n",
       "...     ...            ...                 ...           ...   \n",
       "4495      0   19657.157428        40757.157428            55   \n",
       "4496      0   17431.505171        28331.505171            47   \n",
       "4497      0   13691.463019        22791.463019            34   \n",
       "4498      0   11806.709642        15506.709642            61   \n",
       "4499      0   34446.382771        41146.382771            23   \n",
       "\n",
       "      months_as_customer  num_claims_past_year  num_insurers_past_5_years  \\\n",
       "0                     94                     0                          1   \n",
       "1                    165                     0                          1   \n",
       "2                    155                     0                          1   \n",
       "3                     80                     0                          1   \n",
       "4                     60                     0                          1   \n",
       "...                  ...                   ...                        ...   \n",
       "4495                 151                     0                          1   \n",
       "4496                 155                     0                          1   \n",
       "4497                 177                     0                          1   \n",
       "4498                 268                     0                          1   \n",
       "4499                  26                     0                          1   \n",
       "\n",
       "      policy_deductable  policy_annual_premium  customer_zip  ...  \\\n",
       "0                   750                   3000         99207  ...   \n",
       "1                   750                   2950         95632  ...   \n",
       "2                   750                   3000         93203  ...   \n",
       "3                   750                   3000         85208  ...   \n",
       "4                   750                   3000         91792  ...   \n",
       "...                 ...                    ...           ...  ...   \n",
       "4495                750                   3000         92105  ...   \n",
       "4496                750                   3000         93704  ...   \n",
       "4497                750                   2800         89131  ...   \n",
       "4498                750                   2550         83686  ...   \n",
       "4499                750                   2900         97013  ...   \n",
       "\n",
       "      collision_type_missing  incident_severity_Major  \\\n",
       "0                          0                        0   \n",
       "1                          0                        0   \n",
       "2                          0                        0   \n",
       "3                          0                        0   \n",
       "4                          0                        1   \n",
       "...                      ...                      ...   \n",
       "4495                       0                        1   \n",
       "4496                       0                        1   \n",
       "4497                       1                        1   \n",
       "4498                       0                        0   \n",
       "4499                       0                        0   \n",
       "\n",
       "      incident_severity_Minor  incident_severity_Totaled  \\\n",
       "0                           1                          0   \n",
       "1                           0                          1   \n",
       "2                           1                          0   \n",
       "3                           1                          0   \n",
       "4                           0                          0   \n",
       "...                       ...                        ...   \n",
       "4495                        0                          0   \n",
       "4496                        0                          0   \n",
       "4497                        0                          0   \n",
       "4498                        1                          0   \n",
       "4499                        0                          1   \n",
       "\n",
       "      authorities_contacted_Ambulance  authorities_contacted_Fire  \\\n",
       "0                                   0                           0   \n",
       "1                                   0                           0   \n",
       "2                                   0                           0   \n",
       "3                                   0                           0   \n",
       "4                                   0                           0   \n",
       "...                               ...                         ...   \n",
       "4495                                0                           0   \n",
       "4496                                0                           0   \n",
       "4497                                0                           0   \n",
       "4498                                0                           0   \n",
       "4499                                0                           0   \n",
       "\n",
       "      authorities_contacted_None  authorities_contacted_Police  \\\n",
       "0                              1                             0   \n",
       "1                              0                             1   \n",
       "2                              0                             1   \n",
       "3                              1                             0   \n",
       "4                              0                             1   \n",
       "...                          ...                           ...   \n",
       "4495                           0                             1   \n",
       "4496                           0                             1   \n",
       "4497                           0                             1   \n",
       "4498                           1                             0   \n",
       "4499                           0                             1   \n",
       "\n",
       "      police_report_available_No  police_report_available_Yes  \n",
       "0                              1                            0  \n",
       "1                              0                            1  \n",
       "2                              0                            1  \n",
       "3                              1                            0  \n",
       "4                              1                            0  \n",
       "...                          ...                          ...  \n",
       "4495                           1                            0  \n",
       "4496                           0                            1  \n",
       "4497                           1                            0  \n",
       "4498                           1                            0  \n",
       "4499                           0                            1  \n",
       "\n",
       "[4500 rows x 59 columns]"
      ]
     },
     "execution_count": 18,
     "metadata": {},
     "output_type": "execute_result"
    }
   ],
   "source": [
    "preprocessed_train_path = os.path.join(base_output_dir + '/train/train.csv')\n",
    "preprocessed_test_path = os.path.join(base_output_dir + '/test/test.csv')\n",
    "#print(\"preprocessed_train_path: \", preprocessed_train_path)\n",
    "\n",
    "preprocessed_train_df = pd.read_csv(preprocessed_train_path)\n",
    "preprocessed_test_df = pd.read_csv(preprocessed_test_path)\n",
    "#print(preprocessed_train_df[[0]].value_counts())\n",
    "preprocessed_train_df\n",
    "                                       "
   ]
  },
  {
   "cell_type": "code",
   "execution_count": 19,
   "metadata": {},
   "outputs": [
    {
     "data": {
      "text/plain": [
       "fraud\n",
       "0        4351\n",
       "1         149\n",
       "dtype: int64"
      ]
     },
     "metadata": {},
     "output_type": "display_data"
    },
    {
     "data": {
      "text/plain": [
       "fraud\n",
       "0        485\n",
       "1         15\n",
       "dtype: int64"
      ]
     },
     "metadata": {},
     "output_type": "display_data"
    }
   ],
   "source": [
    "dp(preprocessed_train_df[['fraud']].value_counts())\n",
    "dp(preprocessed_test_df[['fraud']].value_counts())"
   ]
  },
  {
   "cell_type": "markdown",
   "metadata": {},
   "source": [
    "### (2) 로컬 노트북 인스턴스에서 **다커 컨테이너를 통해서** 전처리 코드 실행      \n",
    "- 아래 셀은 최초 실행시에 약 1분 정도 소요 됩니다. 이후에는 약 5초 정도 걸립니다.\n",
    "    - 최초 실행에는 SKLearnProcessor 의 다커 이미지를 다운로드 받기에 시간이 걸립니다.\n",
    "- instance_type 을 local 로 해야만, 로컬 모드로 수행 됩니다.\n",
    "- 아래 코드의 상세 설명은 여기를 참조 하세요. --> [Scikit-learn을 통한 데이터 처리](https://docs.aws.amazon.com/ko_kr/sagemaker/latest/dg/use-scikit-learn-processing-container.html)\n",
    "---\n"
   ]
  },
  {
   "cell_type": "code",
   "execution_count": 23,
   "metadata": {},
   "outputs": [
    {
     "name": "stdout",
     "output_type": "stream",
     "text": [
      "\n",
      "Job Name:  sagemaker-scikit-learn-2021-06-26-08-21-39-619\n",
      "Inputs:  [{'InputName': 'input-1', 'AppManaged': False, 'S3Input': {'S3Uri': 's3://sagemaker-ap-northeast-2-057716757052/sagemaker-pipeline-step-by-step/input', 'LocalPath': '/opt/ml/processing/input', 'S3DataType': 'S3Prefix', 'S3InputMode': 'File', 'S3DataDistributionType': 'FullyReplicated', 'S3CompressionType': 'None'}}, {'InputName': 'code', 'AppManaged': False, 'S3Input': {'S3Uri': 's3://sagemaker-ap-northeast-2-057716757052/sagemaker-scikit-learn-2021-06-26-08-21-39-619/input/code/preprocessing.py', 'LocalPath': '/opt/ml/processing/input/code', 'S3DataType': 'S3Prefix', 'S3InputMode': 'File', 'S3DataDistributionType': 'FullyReplicated', 'S3CompressionType': 'None'}}]\n",
      "Outputs:  [{'OutputName': 'output-1', 'AppManaged': False, 'S3Output': {'S3Uri': 's3://sagemaker-ap-northeast-2-057716757052/sagemaker-scikit-learn-2021-06-26-08-21-39-619/output/output-1', 'LocalPath': '/opt/ml/processing/output/train', 'S3UploadMode': 'EndOfJob'}}, {'OutputName': 'output-2', 'AppManaged': False, 'S3Output': {'S3Uri': 's3://sagemaker-ap-northeast-2-057716757052/sagemaker-scikit-learn-2021-06-26-08-21-39-619/output/output-2', 'LocalPath': '/opt/ml/processing/output/test', 'S3UploadMode': 'EndOfJob'}}]\n",
      "Creating 6qimbnwsx6-algo-1-d1taw ... \n",
      "Creating 6qimbnwsx6-algo-1-d1taw ... done\n",
      "Attaching to 6qimbnwsx6-algo-1-d1taw\n",
      "\u001b[36m6qimbnwsx6-algo-1-d1taw |\u001b[0m ######### Argument Info ####################################\n",
      "\u001b[36m6qimbnwsx6-algo-1-d1taw |\u001b[0m args.base_output_dir: /opt/ml/processing/output\n",
      "\u001b[36m6qimbnwsx6-algo-1-d1taw |\u001b[0m args.base_preproc_input_dir: /opt/ml/processing/input\n",
      "\u001b[36m6qimbnwsx6-algo-1-d1taw |\u001b[0m args.label_column: fraud\n",
      "\u001b[36m6qimbnwsx6-algo-1-d1taw |\u001b[0m \n",
      "\u001b[36m6qimbnwsx6-algo-1-d1taw |\u001b[0m ### Loading Claim Dataset\n",
      "\u001b[36m6qimbnwsx6-algo-1-d1taw |\u001b[0m input_files: \n",
      "\u001b[36m6qimbnwsx6-algo-1-d1taw |\u001b[0m  ['/opt/ml/processing/input/claims.csv']\n",
      "\u001b[36m6qimbnwsx6-algo-1-d1taw |\u001b[0m dataframe shape \n",
      "\u001b[36m6qimbnwsx6-algo-1-d1taw |\u001b[0m  (5000, 17)\n",
      "\u001b[36m6qimbnwsx6-algo-1-d1taw |\u001b[0m dataset sample \n",
      "\u001b[36m6qimbnwsx6-algo-1-d1taw |\u001b[0m            driver_relationship  ... fraud\n",
      "\u001b[36m6qimbnwsx6-algo-1-d1taw |\u001b[0m policy_id                      ...      \n",
      "\u001b[36m6qimbnwsx6-algo-1-d1taw |\u001b[0m 1                      Spouse  ...     0\n",
      "\u001b[36m6qimbnwsx6-algo-1-d1taw |\u001b[0m 2                        Self  ...     0\n",
      "\u001b[36m6qimbnwsx6-algo-1-d1taw |\u001b[0m \n",
      "\u001b[36m6qimbnwsx6-algo-1-d1taw |\u001b[0m [2 rows x 17 columns]\n",
      "\u001b[36m6qimbnwsx6-algo-1-d1taw |\u001b[0m \n",
      "\u001b[36m6qimbnwsx6-algo-1-d1taw |\u001b[0m ### Loading Customer Dataset\n",
      "\u001b[36m6qimbnwsx6-algo-1-d1taw |\u001b[0m input_files: \n",
      "\u001b[36m6qimbnwsx6-algo-1-d1taw |\u001b[0m  ['/opt/ml/processing/input/customers.csv']\n",
      "\u001b[36m6qimbnwsx6-algo-1-d1taw |\u001b[0m dataframe shape \n",
      "\u001b[36m6qimbnwsx6-algo-1-d1taw |\u001b[0m  (5000, 12)\n",
      "\u001b[36m6qimbnwsx6-algo-1-d1taw |\u001b[0m dataset sample \n",
      "\u001b[36m6qimbnwsx6-algo-1-d1taw |\u001b[0m             customer_age  ...  auto_year\n",
      "\u001b[36m6qimbnwsx6-algo-1-d1taw |\u001b[0m policy_id                ...           \n",
      "\u001b[36m6qimbnwsx6-algo-1-d1taw |\u001b[0m 1                    54  ...       2006\n",
      "\u001b[36m6qimbnwsx6-algo-1-d1taw |\u001b[0m 2                    41  ...       2012\n",
      "\u001b[36m6qimbnwsx6-algo-1-d1taw |\u001b[0m \n",
      "\u001b[36m6qimbnwsx6-algo-1-d1taw |\u001b[0m [2 rows x 12 columns]\n",
      "\u001b[36m6qimbnwsx6-algo-1-d1taw |\u001b[0m ### dataframe merged with customer and claim: (5000, 29)\n",
      "\u001b[36m6qimbnwsx6-algo-1-d1taw |\u001b[0m \n",
      "\u001b[36m6qimbnwsx6-algo-1-d1taw |\u001b[0m  ### Encoding: Category Features\n",
      "\u001b[36m6qimbnwsx6-algo-1-d1taw |\u001b[0m categorical_features: ['policy_state', 'policy_liability', 'customer_gender', 'customer_education', 'driver_relationship', 'incident_type', 'collision_type', 'incident_severity', 'authorities_contacted', 'police_report_available']\n",
      "\u001b[36m6qimbnwsx6-algo-1-d1taw |\u001b[0m \n",
      "\u001b[36m6qimbnwsx6-algo-1-d1taw |\u001b[0m  ### Encoding: Numeric Features\n",
      "\u001b[36m6qimbnwsx6-algo-1-d1taw |\u001b[0m int_cols: \n",
      "\u001b[36m6qimbnwsx6-algo-1-d1taw |\u001b[0m ['customer_age' 'months_as_customer' 'num_claims_past_year'\n",
      "\u001b[36m6qimbnwsx6-algo-1-d1taw |\u001b[0m  'num_insurers_past_5_years' 'policy_deductable' 'policy_annual_premium'\n",
      "\u001b[36m6qimbnwsx6-algo-1-d1taw |\u001b[0m  'customer_zip' 'auto_year' 'num_vehicles_involved' 'num_injuries'\n",
      "\u001b[36m6qimbnwsx6-algo-1-d1taw |\u001b[0m  'num_witnesses' 'injury_claim' 'incident_month' 'incident_day'\n",
      "\u001b[36m6qimbnwsx6-algo-1-d1taw |\u001b[0m  'incident_dow' 'incident_hour' 'fraud']\n",
      "\u001b[36m6qimbnwsx6-algo-1-d1taw |\u001b[0m float_cols: \n",
      "\u001b[36m6qimbnwsx6-algo-1-d1taw |\u001b[0m ['vehicle_claim' 'total_claim_amount']\n",
      "\u001b[36m6qimbnwsx6-algo-1-d1taw |\u001b[0m \n",
      "\u001b[36m6qimbnwsx6-algo-1-d1taw |\u001b[0m  ### Handle preprocess results\n",
      "\u001b[36m6qimbnwsx6-algo-1-d1taw |\u001b[0m preprocessed train shape \n",
      "\u001b[36m6qimbnwsx6-algo-1-d1taw |\u001b[0m  (4500, 59)\n",
      "\u001b[36m6qimbnwsx6-algo-1-d1taw |\u001b[0m preprocessed validation shape \n",
      "\u001b[36m6qimbnwsx6-algo-1-d1taw |\u001b[0m  (500, 59)\n",
      "\u001b[36m6qimbnwsx6-algo-1-d1taw |\u001b[0m \n",
      "\u001b[36m6qimbnwsx6-algo-1-d1taw |\u001b[0m  ### Final result for train dataset \n",
      "\u001b[36m6qimbnwsx6-algo-1-d1taw |\u001b[0m preprocessed train sample \n",
      "\u001b[36m6qimbnwsx6-algo-1-d1taw |\u001b[0m     fraud  ...  police_report_available_Yes\n",
      "\u001b[36m6qimbnwsx6-algo-1-d1taw |\u001b[0m 0      0  ...                            0\n",
      "\u001b[36m6qimbnwsx6-algo-1-d1taw |\u001b[0m 1      0  ...                            1\n",
      "\u001b[36m6qimbnwsx6-algo-1-d1taw |\u001b[0m \n",
      "\u001b[36m6qimbnwsx6-algo-1-d1taw |\u001b[0m [2 rows x 59 columns]\n",
      "\u001b[36m6qimbnwsx6-algo-1-d1taw exited with code 0\n",
      "\u001b[0mAborting on container exit...\n",
      "===== Job Complete =====\n",
      "."
     ]
    }
   ],
   "source": [
    "from sagemaker.sklearn.processing import SKLearnProcessor\n",
    "from sagemaker.processing import ProcessingInput, ProcessingOutput\n",
    "\n",
    "instance_type = 'local'\n",
    "sklearn_processor = SKLearnProcessor(framework_version= \"0.23-1\",\n",
    "                                     role=role,\n",
    "                                     instance_type= instance_type,\n",
    "                                     instance_count=1)\n",
    "\n",
    "sklearn_processor.run(code= preprocessing_code,\n",
    "                      inputs=[\n",
    "                        ProcessingInput(source=input_data_uri,\n",
    "                                        destination='/opt/ml/processing/input'),\n",
    "                             ],\n",
    "                      outputs=[ProcessingOutput(source='/opt/ml/processing/output/train'),\n",
    "                               ProcessingOutput(source='/opt/ml/processing/output/test')]\n",
    "                     )"
   ]
  },
  {
   "cell_type": "markdown",
   "metadata": {},
   "source": [
    "### (3) SageMaker Pipeline 에서 전치러를 수행합니다.\n",
    "---\n",
    "\n"
   ]
  },
  {
   "cell_type": "markdown",
   "metadata": {},
   "source": [
    "### 모델 빌딩 파이프라인 변수 생성\n",
    "\n"
   ]
  },
  {
   "cell_type": "code",
   "execution_count": 35,
   "metadata": {},
   "outputs": [],
   "source": [
    "from sagemaker.workflow.parameters import (\n",
    "    ParameterInteger,\n",
    "    ParameterString,\n",
    ")\n",
    "\n",
    "processing_instance_count = ParameterInteger(\n",
    "    name=\"ProcessingInstanceCount\",\n",
    "    default_value=1\n",
    ")\n",
    "processing_instance_type = ParameterString(\n",
    "    name=\"ProcessingInstanceType\",\n",
    "    default_value=\"ml.m5.xlarge\"\n",
    ")\n",
    "\n",
    "input_data = ParameterString(\n",
    "    name=\"InputData\",\n",
    "    default_value=input_data_uri,\n",
    ")\n"
   ]
  },
  {
   "cell_type": "markdown",
   "metadata": {},
   "source": [
    "### 전처리 스텝 단계 정의"
   ]
  },
  {
   "cell_type": "code",
   "execution_count": 36,
   "metadata": {},
   "outputs": [
    {
     "name": "stdout",
     "output_type": "stream",
     "text": [
      "input_data: \n",
      " s3://sagemaker-ap-northeast-2-057716757052/sagemaker-pipeline-step-by-step/input\n"
     ]
    }
   ],
   "source": [
    "from sagemaker.sklearn.processing import SKLearnProcessor\n",
    "\n",
    "framework_version = \"0.23-1\"\n",
    "\n",
    "sklearn_processor = SKLearnProcessor(\n",
    "    framework_version=framework_version,\n",
    "    instance_type=processing_instance_type,\n",
    "    instance_count=processing_instance_count,\n",
    "    base_job_name=\"sklearn-fraud-process\",\n",
    "    role=role,\n",
    ")\n",
    "print(\"input_data: \\n\", input_data)"
   ]
  },
  {
   "cell_type": "code",
   "execution_count": 37,
   "metadata": {},
   "outputs": [],
   "source": [
    "from sagemaker.processing import ProcessingInput, ProcessingOutput\n",
    "from sagemaker.workflow.steps import ProcessingStep\n",
    "    \n",
    "\n",
    "step_process = ProcessingStep(\n",
    "    name=\"FraudScratchProcess\",\n",
    "    processor=sklearn_processor,\n",
    "    inputs=[\n",
    "        ProcessingInput(source=input_data_uri,destination='/opt/ml/processing/input'),\n",
    "         ],\n",
    "    outputs=[ProcessingOutput(output_name=\"train\",\n",
    "                              source='/opt/ml/processing/output/train'),\n",
    "             ProcessingOutput(output_name=\"test\",\n",
    "                              source='/opt/ml/processing/output/test')],\n",
    "    code= preprocessing_code\n",
    ")\n"
   ]
  },
  {
   "cell_type": "markdown",
   "metadata": {},
   "source": [
    "### 파리마터, 단계, 조건을 조합하여 최종 파이프라인 정의\n",
    "\n"
   ]
  },
  {
   "cell_type": "code",
   "execution_count": 38,
   "metadata": {},
   "outputs": [],
   "source": [
    "from sagemaker.workflow.pipeline import Pipeline\n",
    "\n",
    "\n",
    "pipeline_name = project_prefix\n",
    "pipeline = Pipeline(\n",
    "    name=pipeline_name,\n",
    "    parameters=[\n",
    "        processing_instance_type, \n",
    "        processing_instance_count,\n",
    "        input_data,\n",
    "    ],\n",
    "    steps=[step_process],\n",
    ")"
   ]
  },
  {
   "cell_type": "markdown",
   "metadata": {},
   "source": [
    "#### (선택) 파이프라인 정의 확인 \n",
    "\n",
    "파이프라인을 정의하는 JSON을 생성하고 파이프라인 내에서 사용하는 파라미터와 단계별 속성들이 잘 정의되었는지 확인할 수 있습니다."
   ]
  },
  {
   "cell_type": "code",
   "execution_count": 39,
   "metadata": {},
   "outputs": [
    {
     "data": {
      "text/plain": [
       "{'Version': '2020-12-01',\n",
       " 'Metadata': {},\n",
       " 'Parameters': [{'Name': 'ProcessingInstanceType',\n",
       "   'Type': 'String',\n",
       "   'DefaultValue': 'ml.m5.xlarge'},\n",
       "  {'Name': 'ProcessingInstanceCount', 'Type': 'Integer', 'DefaultValue': 1},\n",
       "  {'Name': 'InputData',\n",
       "   'Type': 'String',\n",
       "   'DefaultValue': 's3://sagemaker-ap-northeast-2-057716757052/sagemaker-pipeline-step-by-step/input'}],\n",
       " 'PipelineExperimentConfig': {'ExperimentName': {'Get': 'Execution.PipelineName'},\n",
       "  'TrialName': {'Get': 'Execution.PipelineExecutionId'}},\n",
       " 'Steps': [{'Name': 'FraudScratchProcess',\n",
       "   'Type': 'Processing',\n",
       "   'Arguments': {'ProcessingResources': {'ClusterConfig': {'InstanceType': {'Get': 'Parameters.ProcessingInstanceType'},\n",
       "      'InstanceCount': {'Get': 'Parameters.ProcessingInstanceCount'},\n",
       "      'VolumeSizeInGB': 30}},\n",
       "    'AppSpecification': {'ImageUri': '366743142698.dkr.ecr.ap-northeast-2.amazonaws.com/sagemaker-scikit-learn:0.23-1-cpu-py3',\n",
       "     'ContainerEntrypoint': ['python3',\n",
       "      '/opt/ml/processing/input/code/preprocessing.py']},\n",
       "    'RoleArn': 'arn:aws:iam::057716757052:role/service-role/AmazonSageMaker-ExecutionRole-20210120T193680',\n",
       "    'ProcessingInputs': [{'InputName': 'input-1',\n",
       "      'AppManaged': False,\n",
       "      'S3Input': {'S3Uri': 's3://sagemaker-ap-northeast-2-057716757052/sagemaker-pipeline-step-by-step/input',\n",
       "       'LocalPath': '/opt/ml/processing/input',\n",
       "       'S3DataType': 'S3Prefix',\n",
       "       'S3InputMode': 'File',\n",
       "       'S3DataDistributionType': 'FullyReplicated',\n",
       "       'S3CompressionType': 'None'}},\n",
       "     {'InputName': 'code',\n",
       "      'AppManaged': False,\n",
       "      'S3Input': {'S3Uri': 's3://sagemaker-ap-northeast-2-057716757052/sklearn-fraud-process-2021-06-26-08-52-28-611/input/code/preprocessing.py',\n",
       "       'LocalPath': '/opt/ml/processing/input/code',\n",
       "       'S3DataType': 'S3Prefix',\n",
       "       'S3InputMode': 'File',\n",
       "       'S3DataDistributionType': 'FullyReplicated',\n",
       "       'S3CompressionType': 'None'}}],\n",
       "    'ProcessingOutputConfig': {'Outputs': [{'OutputName': 'train',\n",
       "       'AppManaged': False,\n",
       "       'S3Output': {'S3Uri': 's3://sagemaker-ap-northeast-2-057716757052/sklearn-fraud-process-2021-06-26-08-52-28-611/output/train',\n",
       "        'LocalPath': '/opt/ml/processing/output/train',\n",
       "        'S3UploadMode': 'EndOfJob'}},\n",
       "      {'OutputName': 'test',\n",
       "       'AppManaged': False,\n",
       "       'S3Output': {'S3Uri': 's3://sagemaker-ap-northeast-2-057716757052/sklearn-fraud-process-2021-06-26-08-52-28-611/output/test',\n",
       "        'LocalPath': '/opt/ml/processing/output/test',\n",
       "        'S3UploadMode': 'EndOfJob'}}]}}}]}"
      ]
     },
     "execution_count": 39,
     "metadata": {},
     "output_type": "execute_result"
    }
   ],
   "source": [
    "import json\n",
    "\n",
    "\n",
    "definition = json.loads(pipeline.definition())\n",
    "definition"
   ]
  },
  {
   "cell_type": "markdown",
   "metadata": {},
   "source": [
    "#### 파이프라인을 SageMaker에 제출하고 실행하기 \n",
    "\n",
    "파이프라인 정의를 파이프라인 서비스에 제출합니다. 함께 전달되는 역할(role)을 이용하여 AWS에서 파이프라인을 생성하고 작업의 각 단계를 실행할 것입니다.   "
   ]
  },
  {
   "cell_type": "code",
   "execution_count": 40,
   "metadata": {},
   "outputs": [
    {
     "data": {
      "text/plain": [
       "{'PipelineArn': 'arn:aws:sagemaker:ap-northeast-2:057716757052:pipeline/sagemaker-pipeline-step-by-step',\n",
       " 'ResponseMetadata': {'RequestId': '33acf102-0053-49fb-893b-f05176f8eca5',\n",
       "  'HTTPStatusCode': 200,\n",
       "  'HTTPHeaders': {'x-amzn-requestid': '33acf102-0053-49fb-893b-f05176f8eca5',\n",
       "   'content-type': 'application/x-amz-json-1.1',\n",
       "   'content-length': '104',\n",
       "   'date': 'Sat, 26 Jun 2021 08:52:29 GMT'},\n",
       "  'RetryAttempts': 0}}"
      ]
     },
     "execution_count": 40,
     "metadata": {},
     "output_type": "execute_result"
    }
   ],
   "source": [
    "pipeline.upsert(role_arn=role)"
   ]
  },
  {
   "cell_type": "markdown",
   "metadata": {},
   "source": [
    "디폴트값을 이용하여 파이프라인을 샐행합니다. "
   ]
  },
  {
   "cell_type": "code",
   "execution_count": 41,
   "metadata": {},
   "outputs": [],
   "source": [
    "execution = pipeline.start()"
   ]
  },
  {
   "cell_type": "markdown",
   "metadata": {},
   "source": [
    "#### 파이프라인 운영: 파이프라인 대기 및 실행상태 확인\n",
    "\n",
    "워크플로우의 실행상황을 살펴봅니다. "
   ]
  },
  {
   "cell_type": "code",
   "execution_count": 42,
   "metadata": {},
   "outputs": [],
   "source": [
    "execution.describe()\n",
    "execution.wait()"
   ]
  },
  {
   "cell_type": "markdown",
   "metadata": {},
   "source": [
    "실행이 완료될 때까지 기다립니다."
   ]
  },
  {
   "cell_type": "markdown",
   "metadata": {},
   "source": [
    "실행된 단계들을 리스트업합니다. 파이프라인의 단계실행 서비스에 의해 시작되거나 완료된 단계를 보여줍니다."
   ]
  },
  {
   "cell_type": "code",
   "execution_count": 45,
   "metadata": {},
   "outputs": [
    {
     "data": {
      "text/plain": [
       "[{'StepName': 'FraudScratchProcess',\n",
       "  'StartTime': datetime.datetime(2021, 6, 26, 8, 52, 31, 214000, tzinfo=tzlocal()),\n",
       "  'EndTime': datetime.datetime(2021, 6, 26, 8, 56, 29, 185000, tzinfo=tzlocal()),\n",
       "  'StepStatus': 'Succeeded',\n",
       "  'Metadata': {'ProcessingJob': {'Arn': 'arn:aws:sagemaker:ap-northeast-2:057716757052:processing-job/pipelines-yalv7nzpksob-fraudscratchprocess-dzotrrjmq7'}}}]"
      ]
     },
     "execution_count": 45,
     "metadata": {},
     "output_type": "execute_result"
    }
   ],
   "source": [
    "execution.list_steps()"
   ]
  },
  {
   "cell_type": "markdown",
   "metadata": {},
   "source": [
    "#### 아티펙트 경로 추출"
   ]
  },
  {
   "cell_type": "code",
   "execution_count": 46,
   "metadata": {},
   "outputs": [
    {
     "name": "stdout",
     "output_type": "stream",
     "text": [
      "train_preproc_dir_artifact:  s3://sagemaker-ap-northeast-2-057716757052/sklearn-fraud-process-2021-06-26-08-52-28-611/output/train\n",
      "test_preproc__dir_artifact:  s3://sagemaker-ap-northeast-2-057716757052/sklearn-fraud-process-2021-06-26-08-52-28-611/output/test\n",
      "Stored 'train_preproc_dir_artifact' (str)\n",
      "Stored 'test_preproc_dir_artifact' (str)\n"
     ]
    }
   ],
   "source": [
    "def get_proc_artifact(execution, client, kind=0):\n",
    "    '''\n",
    "    kind: 0 --> train\n",
    "    kind: 2 --> test\n",
    "    '''\n",
    "    response = execution.list_steps()\n",
    "    proc_arn = response[0]['Metadata']['ProcessingJob']['Arn']\n",
    "    proc_job_name = proc_arn.split('/')[-1]\n",
    "    # print(\"proc_job_name: \", proc_job_name)\n",
    "    \n",
    "    response = client.describe_processing_job(ProcessingJobName = proc_job_name)\n",
    "    train_preproc_artifact = response['ProcessingOutputConfig']['Outputs'][kind]['S3Output']['S3Uri']    \n",
    "    \n",
    "    return train_preproc_artifact\n",
    "\n",
    "import boto3\n",
    "client = boto3.client(\"sagemaker\")\n",
    "\n",
    "train_preproc_dir_artifact = get_proc_artifact(execution, client, kind=0 )\n",
    "#val_preproc_dir_artifact = get_proc_artifact(execution, client, kind=1 )\n",
    "test_preproc_dir_artifact = get_proc_artifact(execution, client, kind=1 )\n",
    "\n",
    "print(\"train_preproc_dir_artifact: \", train_preproc_dir_artifact)\n",
    "#print(\"val_preproc_dir_artifact: \", val_preproc_dir_artifact)\n",
    "print(\"test_preproc__dir_artifact: \", test_preproc_dir_artifact)\n",
    "\n",
    "%store train_preproc_dir_artifact\n",
    "#%store val_preproc_dir_artifact\n",
    "%store test_preproc_dir_artifact"
   ]
  },
  {
   "cell_type": "code",
   "execution_count": 47,
   "metadata": {},
   "outputs": [
    {
     "name": "stdout",
     "output_type": "stream",
     "text": [
      "2021-06-26 08:56:22     767618 sklearn-fraud-process-2021-06-26-08-52-28-611/output/train/train.csv\n"
     ]
    }
   ],
   "source": [
    "! aws s3 ls {train_preproc_dir_artifact} --recursive"
   ]
  },
  {
   "cell_type": "code",
   "execution_count": 48,
   "metadata": {},
   "outputs": [
    {
     "name": "stdout",
     "output_type": "stream",
     "text": [
      "2021-06-26 08:56:23      86423 sklearn-fraud-process-2021-06-26-08-52-28-611/output/test/test.csv\n"
     ]
    }
   ],
   "source": [
    "! aws s3 ls {test_preproc_dir_artifact} --recursive"
   ]
  },
  {
   "cell_type": "code",
   "execution_count": null,
   "metadata": {},
   "outputs": [],
   "source": []
  }
 ],
 "metadata": {
  "instance_type": "ml.m5.large",
  "kernelspec": {
   "display_name": "conda_python3",
   "language": "python",
   "name": "conda_python3"
  },
  "language_info": {
   "codemirror_mode": {
    "name": "ipython",
    "version": 3
   },
   "file_extension": ".py",
   "mimetype": "text/x-python",
   "name": "python",
   "nbconvert_exporter": "python",
   "pygments_lexer": "ipython3",
   "version": "3.6.13"
  }
 },
 "nbformat": 4,
 "nbformat_minor": 4
}
