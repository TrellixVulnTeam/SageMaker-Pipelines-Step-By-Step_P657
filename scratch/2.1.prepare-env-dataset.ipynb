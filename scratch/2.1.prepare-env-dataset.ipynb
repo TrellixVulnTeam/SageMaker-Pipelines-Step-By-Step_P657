{
 "cells": [
  {
   "cell_type": "markdown",
   "metadata": {},
   "source": [
    "# [모듈 2.1] 환경 설정 및 데이터 준비"
   ]
  },
  {
   "cell_type": "markdown",
   "metadata": {},
   "source": [
    "## 0. 기본 세이지 메이커 정보 로딩"
   ]
  },
  {
   "cell_type": "code",
   "execution_count": 6,
   "metadata": {},
   "outputs": [],
   "source": [
    "import boto3\n",
    "import sagemaker\n",
    "\n",
    "import os\n",
    "import pandas as pd\n",
    "\n",
    "region = boto3.Session().region_name\n",
    "sagemaker_session = sagemaker.session.Session()\n",
    "role = sagemaker.get_execution_role()\n",
    "default_bucket = sagemaker_session.default_bucket()\n"
   ]
  },
  {
   "cell_type": "markdown",
   "metadata": {},
   "source": [
    "## 1. 노트북 변수 설정\n",
    "---"
   ]
  },
  {
   "cell_type": "code",
   "execution_count": 7,
   "metadata": {},
   "outputs": [],
   "source": [
    "# 프로젝트 변수\n",
    "project_prefix = 'fraud2scratch'\n",
    "dataset_prefix = 'fraud2scratch/input'\n",
    "\n",
    "# 데이타 위치 및 파일 경로 \n",
    "data_dir = '../data'\n",
    "base_preproc_input_dir = 'opt/ml/processing/input'\n",
    "os.makedirs(base_preproc_input_dir, exist_ok=True)\n",
    "\n",
    "train_data_path = f\"{data_dir}/train.csv\"\n",
    "test_data_path = f\"{data_dir}/test.csv\"\n",
    "dataset_path = \"{}/dataset.csv\".format(base_preproc_input_dir)    \n",
    "s3_dataset_path = f\"s3://{default_bucket}/{dataset_prefix}\"\n",
    "\n",
    "# 모델 패키지 그룹 이름\n",
    "model_package_group_name = f\"FraudScratchModelPackageGroupName\""
   ]
  },
  {
   "cell_type": "markdown",
   "metadata": {},
   "source": [
    "# 2. 데이터 준비\n",
    "---"
   ]
  },
  {
   "cell_type": "markdown",
   "metadata": {},
   "source": [
    "## 데이터 세트 로컬 저장"
   ]
  },
  {
   "cell_type": "code",
   "execution_count": 8,
   "metadata": {},
   "outputs": [
    {
     "name": "stdout",
     "output_type": "stream",
     "text": [
      "df_train shape:  (16000, 45)\n",
      "df_test shape:  (4000, 45)\n",
      "opt/ml/processing/input/dataset.csv is saved\n",
      "df_dataset shape:  (20000, 46)\n"
     ]
    }
   ],
   "source": [
    "def get_dataset(train_data_path, test_data_path):\n",
    "    df_train = pd.read_csv(train_data_path, index_col=0)\n",
    "    df_test = pd.read_csv(test_data_path, index_col=0)\n",
    "    df_dataset = pd.concat([df_train, df_test], axis=0)\n",
    "    print(\"df_train shape: \", df_train.shape)\n",
    "    print(\"df_test shape: \", df_test.shape)\n",
    "\n",
    "    df_dataset = df_dataset.reset_index() # label 컴럼이 index로 되어 있어서, 컬럼으로 추출\n",
    "    df_dataset.to_csv(dataset_path, index=None)\n",
    "    print(f\"{dataset_path} is saved\")\n",
    "    \n",
    "    dataset_df = pd.read_csv(dataset_path)\n",
    "    print(\"df_dataset shape: \", dataset_df.shape) # fraud 추가\n",
    "\n",
    "get_dataset(train_data_path, test_data_path)    "
   ]
  },
  {
   "cell_type": "markdown",
   "metadata": {},
   "source": [
    "## S3에 데이터 세트 업로딩"
   ]
  },
  {
   "cell_type": "markdown",
   "metadata": {},
   "source": [
    "이제 데이터를 디폴트 버킷으로 업로드합니다. `input_data_uri` 변수를 통해 데이터셋의 위치를 저장하였습니다."
   ]
  },
  {
   "cell_type": "code",
   "execution_count": 9,
   "metadata": {},
   "outputs": [
    {
     "name": "stdout",
     "output_type": "stream",
     "text": [
      "s3://sagemaker-ap-northeast-2-057716757052/fraud2scratch/input/dataset.csv\n"
     ]
    }
   ],
   "source": [
    "input_data_uri = sagemaker.s3.S3Uploader.upload(\n",
    "    local_path=dataset_path, \n",
    "    desired_s3_uri=s3_dataset_path,\n",
    ")\n",
    "print(input_data_uri)"
   ]
  },
  {
   "cell_type": "markdown",
   "metadata": {},
   "source": [
    "## 3.변수 저장\n",
    "---"
   ]
  },
  {
   "cell_type": "code",
   "execution_count": 10,
   "metadata": {},
   "outputs": [
    {
     "name": "stdout",
     "output_type": "stream",
     "text": [
      "Stored 'project_prefix' (str)\n",
      "Stored 'base_preproc_input_dir' (str)\n",
      "Stored 'dataset_path' (str)\n",
      "Stored 's3_dataset_path' (str)\n",
      "Stored 'input_data_uri' (str)\n",
      "Stored 'default_bucket' (str)\n"
     ]
    }
   ],
   "source": [
    "%store project_prefix\n",
    "%store base_preproc_input_dir\n",
    "%store dataset_path \n",
    "%store s3_dataset_path \n",
    "%store input_data_uri\n",
    "%store default_bucket\n",
    "\n"
   ]
  },
  {
   "cell_type": "code",
   "execution_count": null,
   "metadata": {},
   "outputs": [],
   "source": []
  }
 ],
 "metadata": {
  "instance_type": "ml.m5.large",
  "kernelspec": {
   "display_name": "conda_python3",
   "language": "python",
   "name": "conda_python3"
  },
  "language_info": {
   "codemirror_mode": {
    "name": "ipython",
    "version": 3
   },
   "file_extension": ".py",
   "mimetype": "text/x-python",
   "name": "python",
   "nbconvert_exporter": "python",
   "pygments_lexer": "ipython3",
   "version": "3.6.13"
  }
 },
 "nbformat": 4,
 "nbformat_minor": 4
}
