{
 "cells": [
  {
   "cell_type": "markdown",
   "metadata": {},
   "source": [
    "# [모듈 9.1] 추론 및 결과 분석"
   ]
  },
  {
   "cell_type": "markdown",
   "metadata": {},
   "source": [
    "## 0. 기본 세이지 메이커 정보 및 기본 변수 로딩"
   ]
  },
  {
   "cell_type": "code",
   "execution_count": 2,
   "metadata": {},
   "outputs": [
    {
     "name": "stdout",
     "output_type": "stream",
     "text": [
      "Stored variables and their in-db values:\n",
      "base_preproc_input_dir                 -> 'opt/ml/processing/input'\n",
      "dataset_path                           -> 'opt/ml/processing/input/dataset.csv'\n",
      "default_bucket                         -> 'sagemaker-ap-northeast-2-057716757052'\n",
      "image_uri                              -> '366743142698.dkr.ecr.ap-northeast-2.amazonaws.com\n",
      "input_data_uri                         -> 's3://sagemaker-ap-northeast-2-057716757052/fraud2\n",
      "pipeline_endpoint_name                 -> 'all-pipeline-endpoint-0414'\n",
      "preprocessing_code_dir                 -> 'fraud/preprocessing.py'\n",
      "processing_instance_count              -> ParameterInteger(name='ProcessingInstanceCount', p\n",
      "project_prefix                         -> 'fraud2scratch'\n",
      "s3_dataset_path                        -> 's3://sagemaker-ap-northeast-2-057716757052/fraud2\n",
      "sagemaker_model                        -> 'pipelines-n5qxc409wxod-fraudscratchmodel-jdpbccud\n",
      "test_preproc__dir_artifact             -> 's3://sagemaker-ap-northeast-2-057716757052/sklear\n",
      "train_model_artifact                   -> 's3://sagemaker-ap-northeast-2-057716757052/fraud2\n",
      "train_preproc_dir_artifact             -> 's3://sagemaker-ap-northeast-2-057716757052/sklear\n",
      "val_preproc_dir_artifact               -> 's3://sagemaker-ap-northeast-2-057716757052/sklear\n"
     ]
    }
   ],
   "source": [
    "import boto3\n",
    "import sagemaker\n",
    "import pandas as pd\n",
    "\n",
    "region = boto3.Session().region_name\n",
    "sagemaker_session = sagemaker.session.Session()\n",
    "role = sagemaker.get_execution_role()\n",
    "\n",
    "%store -r \n",
    "%store"
   ]
  },
  {
   "cell_type": "markdown",
   "metadata": {},
   "source": [
    "## 1. 환경 셋업"
   ]
  },
  {
   "cell_type": "code",
   "execution_count": 3,
   "metadata": {},
   "outputs": [
    {
     "name": "stdout",
     "output_type": "stream",
     "text": [
      "s3_batch_test_path:  s3://sagemaker-ap-northeast-2-057716757052/fraud2scratch/input/batch\n",
      "batch_test_path:  opt/ml/processing/input/batch/batch.csv\n",
      "input_batch_data_uri:  s3://sagemaker-ap-northeast-2-057716757052/fraud2scratch/input/batch/batch.csv\n"
     ]
    }
   ],
   "source": [
    "import os\n",
    "\n",
    "def split_X_y(test_preproc_path):\n",
    "    df = pd.read_csv(test_preproc_path)\n",
    "    y_test = df.iloc[:, 0].to_numpy()\n",
    "    df.drop(df.columns[0], axis=1, inplace=True)\n",
    "    \n",
    "    return y_test, df\n",
    "\n",
    "s3_batch_test_path = f\"{s3_dataset_path}/batch\"\n",
    "print(\"s3_batch_test_path: \", s3_batch_test_path)\n",
    "\n",
    "\n",
    "# 전처리된 테스트 데이터 생성\n",
    "test_preproc_path = f\"{test_preproc__dir_artifact}/test.csv\"\n",
    "y_test, test_batch_df = split_X_y(test_preproc_path)\n",
    "\n",
    "# 로컬에 배치 변환 테스트 데이터 폴더 및 경로 생성 \n",
    "base_preproc_input_batch_dir = 'opt/ml/processing/input/batch'\n",
    "os.makedirs(base_preproc_input_batch_dir, exist_ok=True)\n",
    "batch_test_path = f\"{base_preproc_input_batch_dir}/batch.csv\"\n",
    "print(\"batch_test_path: \", batch_test_path)\n",
    "\n",
    "# 로컬에 배치 변환 파일 저장\n",
    "test_batch_df.to_csv(batch_test_path, index=None)\n",
    "\n",
    "# S3에 업로드\n",
    "input_batch_data_uri = sagemaker.s3.S3Uploader.upload(\n",
    "    local_path=batch_test_path, \n",
    "    desired_s3_uri=s3_batch_test_path,\n",
    ")\n",
    "print(\"input_batch_data_uri: \", input_batch_data_uri)"
   ]
  },
  {
   "cell_type": "markdown",
   "metadata": {},
   "source": [
    "## 2. 로컬에서 스크립트 실행"
   ]
  },
  {
   "cell_type": "code",
   "execution_count": 5,
   "metadata": {},
   "outputs": [
    {
     "name": "stdout",
     "output_type": "stream",
     "text": [
      "0.029452353715896606\n"
     ]
    }
   ],
   "source": [
    "import numpy as np\n",
    "\n",
    "def get_predictor(endpoint_name, sagemaker_session):\n",
    "    predictor = sagemaker.predictor.Predictor(\n",
    "        endpoint_name=endpoint_name,\n",
    "        sagemaker_session=sagemaker_session)\n",
    "    return predictor\n",
    "\n",
    "def predict(data_df,predictor, rows=5):\n",
    "    \n",
    "    data_df = data_df[0:rows]\n",
    "\n",
    "    for index, data in data_df.iterrows():\n",
    "        sample = data.squeeze().tolist()\n",
    "        sample = ','.join(str(e) for e in sample)\n",
    "        \n",
    "        response = predictor.predict(sample, initial_args = {\"ContentType\": \"text/csv\"})    \n",
    "        print(response.decode('utf-8'))\n",
    "    \n",
    "test_df = pd.read_csv(input_batch_data_uri, )    \n",
    "predictor = get_predictor(pipeline_endpoint_name, sagemaker_session)    \n",
    "predict(test_df, predictor, rows=1)"
   ]
  },
  {
   "cell_type": "code",
   "execution_count": null,
   "metadata": {},
   "outputs": [],
   "source": []
  }
 ],
 "metadata": {
  "instance_type": "ml.m5.large",
  "kernelspec": {
   "display_name": "conda_python3",
   "language": "python",
   "name": "conda_python3"
  },
  "language_info": {
   "codemirror_mode": {
    "name": "ipython",
    "version": 3
   },
   "file_extension": ".py",
   "mimetype": "text/x-python",
   "name": "python",
   "nbconvert_exporter": "python",
   "pygments_lexer": "ipython3",
   "version": "3.6.13"
  }
 },
 "nbformat": 4,
 "nbformat_minor": 4
}
