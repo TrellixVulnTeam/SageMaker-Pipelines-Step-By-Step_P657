{
 "cells": [
  {
   "cell_type": "markdown",
   "metadata": {},
   "source": [
    "# [모듈 9.1] 추론 및 결과 분석\n",
    "\n",
    "이 노트북은 이전 노트북에서 생성한 앤드포인트를 대상으로 실제 추론을 하여, 평가 결과를 얻습니다. 테스트 데이터 세트는 1000개를 사용하여 결과를 확인 합니다."
   ]
  },
  {
   "cell_type": "markdown",
   "metadata": {},
   "source": [
    "## 0. 기본 세이지 메이커 정보 및 기본 변수 로딩"
   ]
  },
  {
   "cell_type": "code",
   "execution_count": 4,
   "metadata": {},
   "outputs": [],
   "source": [
    "import boto3\n",
    "import sagemaker\n",
    "import pandas as pd\n",
    "\n",
    "region = boto3.Session().region_name\n",
    "sagemaker_session = sagemaker.session.Session()\n",
    "role = sagemaker.get_execution_role()\n",
    "\n",
    "%store -r "
   ]
  },
  {
   "cell_type": "markdown",
   "metadata": {},
   "source": [
    "## 1. 환경 셋업\n",
    "- 아래는 사용자 정의의 함수를 로딩 할때마다, 캐시에 있는 것보다는 원본을 로딩함."
   ]
  },
  {
   "cell_type": "code",
   "execution_count": 5,
   "metadata": {},
   "outputs": [
    {
     "name": "stdout",
     "output_type": "stream",
     "text": [
      "The autoreload extension is already loaded. To reload it, use:\n",
      "  %reload_ext autoreload\n"
     ]
    }
   ],
   "source": [
    "%load_ext autoreload\n",
    "%autoreload 2"
   ]
  },
  {
   "cell_type": "markdown",
   "metadata": {},
   "source": [
    "## 2. 테스트 데이터 세트 로딩"
   ]
  },
  {
   "cell_type": "code",
   "execution_count": 6,
   "metadata": {},
   "outputs": [
    {
     "data": {
      "text/html": [
       "<div>\n",
       "<style scoped>\n",
       "    .dataframe tbody tr th:only-of-type {\n",
       "        vertical-align: middle;\n",
       "    }\n",
       "\n",
       "    .dataframe tbody tr th {\n",
       "        vertical-align: top;\n",
       "    }\n",
       "\n",
       "    .dataframe thead th {\n",
       "        text-align: right;\n",
       "    }\n",
       "</style>\n",
       "<table border=\"1\" class=\"dataframe\">\n",
       "  <thead>\n",
       "    <tr style=\"text-align: right;\">\n",
       "      <th></th>\n",
       "      <th>fraud</th>\n",
       "      <th>vehicle_claim</th>\n",
       "      <th>total_claim_amount</th>\n",
       "      <th>customer_age</th>\n",
       "      <th>months_as_customer</th>\n",
       "      <th>num_claims_past_year</th>\n",
       "      <th>num_insurers_past_5_years</th>\n",
       "      <th>policy_deductable</th>\n",
       "      <th>policy_annual_premium</th>\n",
       "      <th>customer_zip</th>\n",
       "      <th>...</th>\n",
       "      <th>collision_type_missing</th>\n",
       "      <th>incident_severity_Major</th>\n",
       "      <th>incident_severity_Minor</th>\n",
       "      <th>incident_severity_Totaled</th>\n",
       "      <th>authorities_contacted_Ambulance</th>\n",
       "      <th>authorities_contacted_Fire</th>\n",
       "      <th>authorities_contacted_None</th>\n",
       "      <th>authorities_contacted_Police</th>\n",
       "      <th>police_report_available_No</th>\n",
       "      <th>police_report_available_Yes</th>\n",
       "    </tr>\n",
       "  </thead>\n",
       "  <tbody>\n",
       "    <tr>\n",
       "      <th>0</th>\n",
       "      <td>0</td>\n",
       "      <td>23901.432507</td>\n",
       "      <td>36201.432507</td>\n",
       "      <td>56</td>\n",
       "      <td>118</td>\n",
       "      <td>0</td>\n",
       "      <td>1</td>\n",
       "      <td>750</td>\n",
       "      <td>3000</td>\n",
       "      <td>98039</td>\n",
       "      <td>...</td>\n",
       "      <td>0</td>\n",
       "      <td>0</td>\n",
       "      <td>0</td>\n",
       "      <td>1</td>\n",
       "      <td>0</td>\n",
       "      <td>0</td>\n",
       "      <td>0</td>\n",
       "      <td>1</td>\n",
       "      <td>0</td>\n",
       "      <td>1</td>\n",
       "    </tr>\n",
       "    <tr>\n",
       "      <th>1</th>\n",
       "      <td>0</td>\n",
       "      <td>29095.295736</td>\n",
       "      <td>73695.295736</td>\n",
       "      <td>36</td>\n",
       "      <td>71</td>\n",
       "      <td>0</td>\n",
       "      <td>1</td>\n",
       "      <td>750</td>\n",
       "      <td>2650</td>\n",
       "      <td>95307</td>\n",
       "      <td>...</td>\n",
       "      <td>0</td>\n",
       "      <td>0</td>\n",
       "      <td>0</td>\n",
       "      <td>1</td>\n",
       "      <td>0</td>\n",
       "      <td>0</td>\n",
       "      <td>0</td>\n",
       "      <td>1</td>\n",
       "      <td>0</td>\n",
       "      <td>1</td>\n",
       "    </tr>\n",
       "    <tr>\n",
       "      <th>2</th>\n",
       "      <td>0</td>\n",
       "      <td>11232.831826</td>\n",
       "      <td>25032.831826</td>\n",
       "      <td>24</td>\n",
       "      <td>11</td>\n",
       "      <td>1</td>\n",
       "      <td>4</td>\n",
       "      <td>750</td>\n",
       "      <td>3000</td>\n",
       "      <td>98391</td>\n",
       "      <td>...</td>\n",
       "      <td>0</td>\n",
       "      <td>0</td>\n",
       "      <td>1</td>\n",
       "      <td>0</td>\n",
       "      <td>0</td>\n",
       "      <td>0</td>\n",
       "      <td>1</td>\n",
       "      <td>0</td>\n",
       "      <td>1</td>\n",
       "      <td>0</td>\n",
       "    </tr>\n",
       "    <tr>\n",
       "      <th>3</th>\n",
       "      <td>0</td>\n",
       "      <td>11125.579356</td>\n",
       "      <td>25125.579356</td>\n",
       "      <td>23</td>\n",
       "      <td>65</td>\n",
       "      <td>0</td>\n",
       "      <td>1</td>\n",
       "      <td>750</td>\n",
       "      <td>3000</td>\n",
       "      <td>91302</td>\n",
       "      <td>...</td>\n",
       "      <td>0</td>\n",
       "      <td>0</td>\n",
       "      <td>1</td>\n",
       "      <td>0</td>\n",
       "      <td>0</td>\n",
       "      <td>0</td>\n",
       "      <td>1</td>\n",
       "      <td>0</td>\n",
       "      <td>1</td>\n",
       "      <td>0</td>\n",
       "    </tr>\n",
       "    <tr>\n",
       "      <th>4</th>\n",
       "      <td>0</td>\n",
       "      <td>4529.773913</td>\n",
       "      <td>22329.773913</td>\n",
       "      <td>37</td>\n",
       "      <td>142</td>\n",
       "      <td>0</td>\n",
       "      <td>1</td>\n",
       "      <td>750</td>\n",
       "      <td>3000</td>\n",
       "      <td>90744</td>\n",
       "      <td>...</td>\n",
       "      <td>0</td>\n",
       "      <td>0</td>\n",
       "      <td>1</td>\n",
       "      <td>0</td>\n",
       "      <td>0</td>\n",
       "      <td>0</td>\n",
       "      <td>0</td>\n",
       "      <td>1</td>\n",
       "      <td>1</td>\n",
       "      <td>0</td>\n",
       "    </tr>\n",
       "  </tbody>\n",
       "</table>\n",
       "<p>5 rows × 59 columns</p>\n",
       "</div>"
      ],
      "text/plain": [
       "   fraud  vehicle_claim  total_claim_amount  customer_age  months_as_customer  \\\n",
       "0      0   23901.432507        36201.432507            56                 118   \n",
       "1      0   29095.295736        73695.295736            36                  71   \n",
       "2      0   11232.831826        25032.831826            24                  11   \n",
       "3      0   11125.579356        25125.579356            23                  65   \n",
       "4      0    4529.773913        22329.773913            37                 142   \n",
       "\n",
       "   num_claims_past_year  num_insurers_past_5_years  policy_deductable  \\\n",
       "0                     0                          1                750   \n",
       "1                     0                          1                750   \n",
       "2                     1                          4                750   \n",
       "3                     0                          1                750   \n",
       "4                     0                          1                750   \n",
       "\n",
       "   policy_annual_premium  customer_zip  ...  collision_type_missing  \\\n",
       "0                   3000         98039  ...                       0   \n",
       "1                   2650         95307  ...                       0   \n",
       "2                   3000         98391  ...                       0   \n",
       "3                   3000         91302  ...                       0   \n",
       "4                   3000         90744  ...                       0   \n",
       "\n",
       "   incident_severity_Major  incident_severity_Minor  \\\n",
       "0                        0                        0   \n",
       "1                        0                        0   \n",
       "2                        0                        1   \n",
       "3                        0                        1   \n",
       "4                        0                        1   \n",
       "\n",
       "   incident_severity_Totaled  authorities_contacted_Ambulance  \\\n",
       "0                          1                                0   \n",
       "1                          1                                0   \n",
       "2                          0                                0   \n",
       "3                          0                                0   \n",
       "4                          0                                0   \n",
       "\n",
       "   authorities_contacted_Fire  authorities_contacted_None  \\\n",
       "0                           0                           0   \n",
       "1                           0                           0   \n",
       "2                           0                           1   \n",
       "3                           0                           1   \n",
       "4                           0                           0   \n",
       "\n",
       "   authorities_contacted_Police  police_report_available_No  \\\n",
       "0                             1                           0   \n",
       "1                             1                           0   \n",
       "2                             0                           1   \n",
       "3                             0                           1   \n",
       "4                             1                           1   \n",
       "\n",
       "   police_report_available_Yes  \n",
       "0                            1  \n",
       "1                            1  \n",
       "2                            0  \n",
       "3                            0  \n",
       "4                            0  \n",
       "\n",
       "[5 rows x 59 columns]"
      ]
     },
     "execution_count": 6,
     "metadata": {},
     "output_type": "execute_result"
    }
   ],
   "source": [
    "import os\n",
    "test_preproc_dir_artifact_file= os.path.join(test_preproc_dir_artifact, 'test.csv')\n",
    "test_df = pd.read_csv(test_preproc_dir_artifact_file)\n",
    "test_df.head()"
   ]
  },
  {
   "cell_type": "markdown",
   "metadata": {},
   "source": [
    "## 3. 추론\n",
    "\n",
    "#### 추론에 입력될 CST String 형태의 데이터로 변경"
   ]
  },
  {
   "cell_type": "code",
   "execution_count": 7,
   "metadata": {},
   "outputs": [
    {
     "name": "stdout",
     "output_type": "stream",
     "text": [
      "payload_list: \n",
      " ['23901.43250714285,36201.43250714285,56,118,0,1,750,3000,98039,2012,3,3,1,12300,9,12,3,14,0,0,0,0,0,1,0,0,1,0,0,1,0,0,0,0,0,0,1,0,0,1,0,0,0,1,0,0,0,1,0,0,0,1,0,0,0,1,0,1', '29095.295735759966,73695.29573575997,36,71,0,1,750,2650,95307,2016,3,1,1,44600,8,8,3,17,0,1,0,0,0,0,0,1,0,0,1,0,0,0,0,0,0,0,1,0,1,0,0,0,0,1,0,1,0,0,0,0,0,1,0,0,0,1,0,1', '11232.831825505647,25032.83182550565,24,11,1,4,750,3000,98391,2016,2,0,2,13800,2,11,0,21,0,0,0,0,0,1,0,0,0,1,0,1,0,0,0,0,1,0,0,0,0,1,0,0,0,1,0,0,0,1,0,0,1,0,0,0,1,0,1,0', '11125.579356093212,25125.579356093214,23,65,0,1,750,3000,91302,2015,2,0,0,14000,8,7,2,7,0,1,0,0,0,0,0,1,0,0,1,0,0,0,0,0,1,0,0,0,0,1,0,0,0,1,0,1,0,0,0,0,1,0,0,0,1,0,1,0', '4529.773913037943,22329.773913037934,37,142,0,1,750,3000,90744,2008,2,0,1,17800,4,2,1,13,0,1,0,0,0,0,0,1,0,0,0,1,0,0,0,0,1,0,0,0,0,1,0,0,0,1,0,0,1,0,0,0,1,0,0,0,0,1,1,0']\n"
     ]
    }
   ],
   "source": [
    "def get_payload_list(test_df, label_col):\n",
    "    '''\n",
    "    CSV String 행태로 변경\n",
    "    '''\n",
    "    s = test_df.drop(columns=[label_col])\n",
    "    s = s.to_csv(header=None, index=None)\n",
    "    payload_list = s.splitlines()\n",
    "    return payload_list\n",
    "\n",
    "payload_list = get_payload_list(test_df, label_col='fraud')\n",
    "y_test = test_df['fraud'].tolist()\n",
    "\n",
    "print(\"payload_list: \\n\", payload_list[0:5]) # 샘플로 5개의 리스트 보여줌.\n"
   ]
  },
  {
   "cell_type": "markdown",
   "metadata": {},
   "source": [
    "### 추론 실행\n",
    "- 앤드포인트가 InServie로 유효하면 추론을 하여, 확률값을 제공함."
   ]
  },
  {
   "cell_type": "code",
   "execution_count": 8,
   "metadata": {},
   "outputs": [
    {
     "name": "stdout",
     "output_type": "stream",
     "text": [
      "pred_prob_list: \n",
      " [0.10092484205961227, 0.08251918852329254, 0.4293206036090851, 0.23539546132087708, 0.669212281703949]\n",
      "CPU times: user 2.52 s, sys: 36.2 ms, total: 2.56 s\n",
      "Wall time: 8.99 s\n"
     ]
    }
   ],
   "source": [
    "%%time\n",
    "\n",
    "import numpy as np\n",
    "import boto3\n",
    "sagemaker_boto_client = boto3.client('sagemaker')\n",
    "\n",
    "from sagemaker.deserializers import CSVDeserializer\n",
    "csv_deserializer = CSVDeserializer(accept='text/csv') # 디폴트가 accept가 'text/csv' 이지만 직관적 이유로 기술함.\n",
    "\n",
    "from src.p_utils import is_available_endpoint, get_predictor, get_payload, predict, delete_endpoint\n",
    "\n",
    "if is_available_endpoint(all_pipeline_endpoint_name, verbose=False):\n",
    "    pipeline_predictor = get_predictor(all_pipeline_endpoint_name, sagemaker_session, csv_deserializer)\n",
    "    pred_prob_list = []\n",
    "    payload_list = get_payload_list(test_df, label_col='fraud')\n",
    "    for payload in payload_list:\n",
    "        pred_prob = predict(pipeline_predictor, payload)\n",
    "        pred_prob_list.append(float(pred_prob[0]))\n",
    "    print(\"pred_prob_list: \\n\", pred_prob_list[0:5])\n",
    "else:\n",
    "    print(\"Wait for creating an endpoint\")"
   ]
  },
  {
   "cell_type": "markdown",
   "metadata": {},
   "source": [
    "### 예측의 확률값을 0, 1로 변화하여 리포팅\n",
    "- threshold 값이 보다 작으면 0, 크면 1로 할당한후에, Confustion Matrix로 보여줌"
   ]
  },
  {
   "cell_type": "code",
   "execution_count": 9,
   "metadata": {},
   "outputs": [
    {
     "name": "stdout",
     "output_type": "stream",
     "text": [
      "              precision    recall  f1-score   support\n",
      "\n",
      "           0       0.99      0.72      0.83       967\n",
      "           1       0.09      0.79      0.16        33\n",
      "\n",
      "    accuracy                           0.72      1000\n",
      "   macro avg       0.54      0.75      0.50      1000\n",
      "weighted avg       0.96      0.72      0.81      1000\n",
      "\n",
      "[[697 270]\n",
      " [  7  26]]\n"
     ]
    }
   ],
   "source": [
    "from sklearn.metrics import classification_report\n",
    "from sklearn.metrics import confusion_matrix\n",
    "\n",
    "threshold = 0.5\n",
    "predictions = [1 if e >= threshold else 0 for e in pred_prob_list ] \n",
    "    \n",
    "print(f\"{classification_report(y_true=y_test, y_pred = predictions)}\")\n",
    "cm = confusion_matrix(y_true= y_test, y_pred= predictions)    \n",
    "print(cm)\n",
    "\n"
   ]
  },
  {
   "cell_type": "markdown",
   "metadata": {},
   "source": [
    "## 4. 엔드포인트 삭제\n",
    "- 과금을 막기 위해서 아래 코드를 꼭 수행 바랍니다.\n",
    "- is_del_model= True  를 통해서 생성한 모델 및 이전 파이프라인을 통한 엔드포인트 컨피그 와  엔드포인트를 삭제 합니다."
   ]
  },
  {
   "cell_type": "code",
   "execution_count": 10,
   "metadata": {},
   "outputs": [
    {
     "name": "stdout",
     "output_type": "stream",
     "text": [
      "--- Deleted model: pipelines-eg0revhx2vbq-FraudScratchModel-QxvaJNTtdU\n",
      "--- Deleted endpoint: all-pipeline-endpoint-545904\n",
      "--- Deleted endpoint_config: pipelines-eg0revhx2vbq-FraudScratchModel-QxvaJNTtdU-config\n"
     ]
    }
   ],
   "source": [
    "import boto3\n",
    "boto3_client = boto3.client('sagemaker')\n",
    "delete_endpoint(boto3_client, all_pipeline_endpoint_name, is_del_model=True )\n",
    "\n"
   ]
  },
  {
   "cell_type": "code",
   "execution_count": null,
   "metadata": {},
   "outputs": [],
   "source": []
  }
 ],
 "metadata": {
  "instance_type": "ml.m5.large",
  "kernelspec": {
   "display_name": "conda_python3",
   "language": "python",
   "name": "conda_python3"
  },
  "language_info": {
   "codemirror_mode": {
    "name": "ipython",
    "version": 3
   },
   "file_extension": ".py",
   "mimetype": "text/x-python",
   "name": "python",
   "nbconvert_exporter": "python",
   "pygments_lexer": "ipython3",
   "version": "3.6.13"
  }
 },
 "nbformat": 4,
 "nbformat_minor": 4
}
