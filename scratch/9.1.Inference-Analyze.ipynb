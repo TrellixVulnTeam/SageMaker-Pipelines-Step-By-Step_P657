{
 "cells": [
  {
   "cell_type": "markdown",
   "metadata": {},
   "source": [
    "# [모듈 9.1] 추론 및 결과 분석"
   ]
  },
  {
   "cell_type": "markdown",
   "metadata": {},
   "source": [
    "## 0. 기본 세이지 메이커 정보 및 기본 변수 로딩"
   ]
  },
  {
   "cell_type": "code",
   "execution_count": 1,
   "metadata": {},
   "outputs": [
    {
     "name": "stdout",
     "output_type": "stream",
     "text": [
      "Stored variables and their in-db values:\n",
      "base_preproc_input_dir                 -> 'opt/ml/processing/input'\n",
      "dataset_path                           -> 'opt/ml/processing/input/dataset.csv'\n",
      "default_bucket                         -> 'sagemaker-ap-northeast-2-057716757052'\n",
      "hyperparameters                        -> {'max_depth': '3', 'eta': '0.2', 'objective': 'bin\n",
      "image_uri                              -> '366743142698.dkr.ecr.ap-northeast-2.amazonaws.com\n",
      "input_data_uri                         -> 's3://sagemaker-ap-northeast-2-057716757052/fraud2\n",
      "pipeline_endpoint_name                 -> 'all-pipeline-endpoint-0414'\n",
      "preprocessing_code                     -> 'src/preprocessing.py'\n",
      "preprocessing_code_dir                 -> 'src/preprocessing.py'\n",
      "project_prefix                         -> 'fraud2scratch'\n",
      "s3_dataset_path                        -> 's3://sagemaker-ap-northeast-2-057716757052/fraud2\n",
      "s3_test_path                           -> 's3://sagemaker-ap-northeast-2-057716757052/fraud2\n",
      "s3_train_path                          -> 's3://sagemaker-ap-northeast-2-057716757052/fraud2\n",
      "sagemaker_model                        -> 'pipelines-5an4231anin6-fraudscratchmodel-99jq0j2e\n",
      "test_data_uri                          -> 's3://sagemaker-ap-northeast-2-057716757052/fraud2\n",
      "test_preproc__dir_artifact             -> 's3://sagemaker-ap-northeast-2-057716757052/sklear\n",
      "train_data_uri                         -> 's3://sagemaker-ap-northeast-2-057716757052/fraud2\n",
      "train_model_artifact                   -> 's3://sagemaker-ap-northeast-2-057716757052/fraud2\n",
      "train_preproc_dir_artifact             -> 's3://sagemaker-ap-northeast-2-057716757052/sklear\n",
      "training_job_1_name                    -> 'sagemaker-xgboost-2021-06-19-09-09-34-141'\n",
      "val_preproc_dir_artifact               -> 's3://sagemaker-ap-northeast-2-057716757052/sklear\n"
     ]
    }
   ],
   "source": [
    "import boto3\n",
    "import sagemaker\n",
    "import pandas as pd\n",
    "\n",
    "region = boto3.Session().region_name\n",
    "sagemaker_session = sagemaker.session.Session()\n",
    "role = sagemaker.get_execution_role()\n",
    "\n",
    "%store -r \n",
    "%store"
   ]
  },
  {
   "cell_type": "markdown",
   "metadata": {},
   "source": [
    "## 1. 환경 셋업"
   ]
  },
  {
   "cell_type": "code",
   "execution_count": 2,
   "metadata": {},
   "outputs": [],
   "source": [
    "%load_ext autoreload\n",
    "%autoreload 2"
   ]
  },
  {
   "cell_type": "code",
   "execution_count": 3,
   "metadata": {},
   "outputs": [],
   "source": [
    "# import os\n",
    "\n",
    "# def split_X_y(test_preproc_path):\n",
    "#     df = pd.read_csv(test_preproc_path)\n",
    "#     y_test = df.iloc[:, 0].to_numpy()\n",
    "#     df.drop(df.columns[0], axis=1, inplace=True)\n",
    "    \n",
    "#     return y_test, df\n",
    "\n",
    "# s3_batch_test_path = f\"{s3_dataset_path}/batch\"\n",
    "# print(\"s3_batch_test_path: \", s3_batch_test_path)\n",
    "\n",
    "\n",
    "# # 전처리된 테스트 데이터 생성\n",
    "# test_preproc_path = f\"{test_preproc__dir_artifact}/test.csv\"\n",
    "# y_test, test_batch_df = split_X_y(test_preproc_path)\n",
    "\n",
    "# # 로컬에 배치 변환 테스트 데이터 폴더 및 경로 생성 \n",
    "# base_preproc_input_batch_dir = 'opt/ml/processing/input/batch'\n",
    "# os.makedirs(base_preproc_input_batch_dir, exist_ok=True)\n",
    "# batch_test_path = f\"{base_preproc_input_batch_dir}/batch.csv\"\n",
    "# print(\"batch_test_path: \", batch_test_path)\n",
    "\n",
    "# # 로컬에 배치 변환 파일 저장\n",
    "# test_batch_df.to_csv(batch_test_path, index=None)\n",
    "\n",
    "# # S3에 업로드\n",
    "# input_batch_data_uri = sagemaker.s3.S3Uploader.upload(\n",
    "#     local_path=batch_test_path, \n",
    "#     desired_s3_uri=s3_batch_test_path,\n",
    "# )\n",
    "# print(\"input_batch_data_uri: \", input_batch_data_uri)"
   ]
  },
  {
   "cell_type": "markdown",
   "metadata": {},
   "source": [
    "## 2. 로컬에서 스크립트 실행"
   ]
  },
  {
   "cell_type": "code",
   "execution_count": 40,
   "metadata": {},
   "outputs": [],
   "source": [
    "def get_payload_list(test_df, label_col):\n",
    "    s = test_df.drop(columns=[label_col])\n",
    "    s = s.to_csv(header=None, index=None)\n",
    "    payload_list = s.splitlines()\n",
    "    return payload_list\n",
    "\n",
    "payload_list = get_payload_list(test_df, label_col='fraud')\n",
    "y_test = test_df['fraud'].tolist()\n"
   ]
  },
  {
   "cell_type": "code",
   "execution_count": 36,
   "metadata": {},
   "outputs": [],
   "source": [
    "import numpy as np\n",
    "import boto3\n",
    "sagemaker_boto_client = boto3.client('sagemaker')\n",
    "\n",
    "from sagemaker.deserializers import CSVDeserializer\n",
    "csv_deserializer = CSVDeserializer(accept='text/csv') # 디폴트가 accept가 'text/csv' 이지만 직관적 이유로 기술함.\n",
    "\n",
    "\n",
    "from src.p_utils import is_available_endpoint, get_predictor, get_payload, predict\n",
    "\n",
    "\n",
    "test_df = pd.read_csv(test_data_uri)    \n"
   ]
  },
  {
   "cell_type": "code",
   "execution_count": 37,
   "metadata": {},
   "outputs": [
    {
     "name": "stdout",
     "output_type": "stream",
     "text": [
      "pred_prob_list: \n",
      " [0.010533533059060574, 0.010797908529639244, 0.03525015339255333, 0.0008525751763954759, 0.0029946493450552225]\n",
      "CPU times: user 9.91 s, sys: 140 ms, total: 10.1 s\n",
      "Wall time: 31.8 s\n"
     ]
    }
   ],
   "source": [
    "%%time\n",
    "\n",
    "if is_available_endpoint(pipeline_endpoint_name, verbose=False):\n",
    "    pipeline_predictor = get_predictor(pipeline_endpoint_name, sagemaker_session, csv_deserializer)\n",
    "    pred_prob_list = []\n",
    "    payload_list = get_payload_list(test_df, label_col='fraud')\n",
    "    for payload in payload_list:\n",
    "        pred_prob = predict(pipeline_predictor, payload)\n",
    "        pred_prob_list.append(float(pred_prob[0]))\n",
    "    print(\"pred_prob_list: \\n\", pred_prob_list[0:5])\n",
    "else:\n",
    "    print(\"Wait for creating an endpoint\")\n",
    "\n"
   ]
  },
  {
   "cell_type": "code",
   "execution_count": 49,
   "metadata": {},
   "outputs": [
    {
     "name": "stdout",
     "output_type": "stream",
     "text": [
      "              precision    recall  f1-score   support\n",
      "\n",
      "           0       0.97      1.00      0.98      3876\n",
      "           1       0.50      0.01      0.02       124\n",
      "\n",
      "    accuracy                           0.97      4000\n",
      "   macro avg       0.73      0.50      0.50      4000\n",
      "weighted avg       0.95      0.97      0.95      4000\n",
      "\n",
      "[[3875    1]\n",
      " [ 123    1]]\n"
     ]
    }
   ],
   "source": [
    "from sklearn.metrics import classification_report\n",
    "from sklearn.metrics import confusion_matrix\n",
    "\n",
    "threshold = 0.4\n",
    "predictions = [1 if e >= threshold else 0 for e in pred_prob_list ] \n",
    "    \n",
    "#     print(\"y_test: \", y_test)\n",
    "#     print(\"y_test length: \", len(y_test))    \n",
    "#     print(\"predctions length: \", len(predictions))\n",
    "#     print(\"predctions: \", predictions)    \n",
    "#     print(\"predictions: \", predictions)\n",
    "    # logging.info(f\"{classification_report(y_true=y_test, y_pred = predictions)}\")\n",
    "print(f\"{classification_report(y_true=y_test, y_pred = predictions)}\")\n",
    "cm = confusion_matrix(y_true= y_test, y_pred= predictions)    \n",
    "print(cm)\n",
    "\n"
   ]
  },
  {
   "cell_type": "code",
   "execution_count": null,
   "metadata": {},
   "outputs": [],
   "source": []
  }
 ],
 "metadata": {
  "instance_type": "ml.m5.large",
  "kernelspec": {
   "display_name": "conda_python3",
   "language": "python",
   "name": "conda_python3"
  },
  "language_info": {
   "codemirror_mode": {
    "name": "ipython",
    "version": 3
   },
   "file_extension": ".py",
   "mimetype": "text/x-python",
   "name": "python",
   "nbconvert_exporter": "python",
   "pygments_lexer": "ipython3",
   "version": "3.6.13"
  }
 },
 "nbformat": 4,
 "nbformat_minor": 4
}
