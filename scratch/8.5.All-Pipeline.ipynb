{
 "cells": [
  {
   "cell_type": "markdown",
   "metadata": {},
   "source": [
    "# [모듈 8.5] 전체 모델 빌딩 파이프라인"
   ]
  },
  {
   "cell_type": "markdown",
   "metadata": {},
   "source": [
    "## 0. 기본 세이지 메이커 정보 및 기본 변수 로딩"
   ]
  },
  {
   "cell_type": "code",
   "execution_count": 1,
   "metadata": {},
   "outputs": [
    {
     "name": "stdout",
     "output_type": "stream",
     "text": [
      "Stored variables and their in-db values:\n",
      "base_preproc_input_dir                 -> 'opt/ml/processing/input'\n",
      "claims_data_uri                        -> 's3://sagemaker-ap-northeast-2-057716757052/fraud2\n",
      "customers_data_uri                     -> 's3://sagemaker-ap-northeast-2-057716757052/fraud2\n",
      "dataset_path                           -> 'opt/ml/processing/input/dataset.csv'\n",
      "default_bucket                         -> 'sagemaker-ap-northeast-2-057716757052'\n",
      "hyperparameters                        -> {'max_depth': '3', 'eta': '0.2', 'objective': 'bin\n",
      "image_uri                              -> '366743142698.dkr.ecr.ap-northeast-2.amazonaws.com\n",
      "input_data_uri                         -> 's3://sagemaker-ap-northeast-2-057716757052/fraud2\n",
      "local_test_path                        -> 'preproc/test/test.csv'\n",
      "local_train_path                       -> 'preproc/train/train.csv'\n",
      "pipeline_endpoint_name                 -> 'all-pipeline-endpoint-0414'\n",
      "preprocessing_code                     -> 'src/preprocessing.py'\n",
      "preprocessing_code_dir                 -> 'src/preprocessing.py'\n",
      "project_prefix                         -> 'fraud2scratch'\n",
      "s3_dataset_path                        -> 's3://sagemaker-ap-northeast-2-057716757052/fraud2\n",
      "s3_test_path                           -> 's3://sagemaker-ap-northeast-2-057716757052/fraud2\n",
      "s3_train_path                          -> 's3://sagemaker-ap-northeast-2-057716757052/fraud2\n",
      "sagemaker_model                        -> 'pipelines-460lbbvwpsmp-fraudscratchmodel-4ap057a5\n",
      "test_data_uri                          -> 's3://sagemaker-ap-northeast-2-057716757052/fraud2\n",
      "test_preproc__dir_artifact             -> 's3://sagemaker-ap-northeast-2-057716757052/sklear\n",
      "test_preproc_dir_artifact              -> 's3://sagemaker-ap-northeast-2-057716757052/sklear\n",
      "train_data_uri                         -> 's3://sagemaker-ap-northeast-2-057716757052/fraud2\n",
      "train_model_artifact                   -> 's3://sagemaker-ap-northeast-2-057716757052/fraud2\n",
      "train_preproc_dir_artifact             -> 's3://sagemaker-ap-northeast-2-057716757052/sklear\n",
      "training_job_1_name                    -> 'sagemaker-xgboost-2021-06-19-09-09-34-141'\n",
      "val_preproc_dir_artifact               -> 's3://sagemaker-ap-northeast-2-057716757052/sklear\n"
     ]
    }
   ],
   "source": [
    "import boto3\n",
    "import sagemaker\n",
    "import pandas as pd\n",
    "\n",
    "region = boto3.Session().region_name\n",
    "sagemaker_session = sagemaker.session.Session()\n",
    "role = sagemaker.get_execution_role()\n",
    "\n",
    "%store -r \n",
    "%store"
   ]
  },
  {
   "cell_type": "markdown",
   "metadata": {},
   "source": [
    "## 1. 모델 빌딩 파이프라인 변수 생성\n",
    "\n"
   ]
  },
  {
   "cell_type": "code",
   "execution_count": 2,
   "metadata": {},
   "outputs": [],
   "source": [
    "from sagemaker.workflow.parameters import (\n",
    "    ParameterInteger,\n",
    "    ParameterString,\n",
    ")\n",
    "\n",
    "processing_instance_count = ParameterInteger(\n",
    "    name=\"ProcessingInstanceCount\",\n",
    "    default_value=1\n",
    ")\n",
    "processing_instance_type = ParameterString(\n",
    "    name=\"ProcessingInstanceType\",\n",
    "    default_value=\"ml.m5.xlarge\"\n",
    ")\n",
    "\n",
    "training_instance_type = ParameterString(\n",
    "    name=\"TrainingInstanceType\",\n",
    "    default_value=\"ml.m5.xlarge\"\n",
    ")\n",
    "\n",
    "\n",
    "\n",
    "input_data = ParameterString(\n",
    "    name=\"InputData\",\n",
    "    default_value=input_data_uri,\n",
    ")\n"
   ]
  },
  {
   "cell_type": "markdown",
   "metadata": {},
   "source": [
    "## 2.전처리 스텝 단계 정의"
   ]
  },
  {
   "cell_type": "code",
   "execution_count": 3,
   "metadata": {},
   "outputs": [
    {
     "name": "stdout",
     "output_type": "stream",
     "text": [
      "input_data: \n",
      " s3://sagemaker-ap-northeast-2-057716757052/fraud2scratch/input\n"
     ]
    }
   ],
   "source": [
    "from sagemaker.sklearn.processing import SKLearnProcessor\n",
    "\n",
    "framework_version = \"0.23-1\"\n",
    "\n",
    "sklearn_processor = SKLearnProcessor(\n",
    "    framework_version=framework_version,\n",
    "    instance_type=processing_instance_type,\n",
    "    instance_count=processing_instance_count,\n",
    "    base_job_name=\"sklearn-fraud-process\",\n",
    "    role=role,\n",
    ")\n",
    "print(\"input_data: \\n\", input_data)"
   ]
  },
  {
   "cell_type": "code",
   "execution_count": 4,
   "metadata": {},
   "outputs": [],
   "source": [
    "from sagemaker.processing import ProcessingInput, ProcessingOutput\n",
    "from sagemaker.workflow.steps import ProcessingStep\n",
    "    \n",
    "step_process = ProcessingStep(\n",
    "    name=\"FraudScratchProcess\",\n",
    "    processor=sklearn_processor,\n",
    "    inputs=[\n",
    "        ProcessingInput(source=input_data_uri,destination='/opt/ml/processing/input'),\n",
    "         ],\n",
    "    outputs=[ProcessingOutput(output_name=\"train\",\n",
    "                              source='/opt/ml/processing/output/train'),\n",
    "             ProcessingOutput(output_name=\"test\",\n",
    "                              source='/opt/ml/processing/output/test')],\n",
    "    code= preprocessing_code_dir,\n",
    ")\n"
   ]
  },
  {
   "cell_type": "markdown",
   "metadata": {},
   "source": [
    "## 3.모델 학습을 위한 학습단계 정의 \n",
    "\n"
   ]
  },
  {
   "cell_type": "code",
   "execution_count": 5,
   "metadata": {},
   "outputs": [],
   "source": [
    "# train_preproc_dir_artifact_path = train_preproc_dir_artifact + '/train.csv'\n",
    "\n",
    "# print(train_preproc_dir_artifact_path)\n",
    "\n",
    "# train_df = pd.read_csv(train_preproc_dir_artifact_path, header=None)\n",
    "# # print(train_df.head())\n",
    "\n",
    "# def get_pos_scale_weight(df, label):\n",
    "#     '''\n",
    "#     1, 0 의 레이블 분포를 계산하여 클래스 가중치 리턴\n",
    "#     예: 1: 10, 0: 90 이면 90/10 = 9 를 제공함. \n",
    "#     '''\n",
    "#     fraud_sum = df[df[label] == 1].shape[0]\n",
    "#     non_fraud_sum = df[df[label] == 0].shape[0]\n",
    "#     class_weight = int(non_fraud_sum / fraud_sum)\n",
    "#     print(f\"fraud_sum: {fraud_sum} , non_fraud_sum: {non_fraud_sum}, class_weight: {class_weight}\")\n",
    "#     return class_weight\n",
    "\n",
    "# class_weight = get_pos_scale_weight(train_df, label=0)\n"
   ]
  },
  {
   "cell_type": "code",
   "execution_count": 6,
   "metadata": {},
   "outputs": [],
   "source": [
    "# from sagemaker.estimator import Estimator\n",
    "\n",
    "# model_prefix = 'fraud2scratch/model'\n",
    "# model_path = f\"s3://{default_bucket}/{model_prefix}\"\n",
    "# image_uri = sagemaker.image_uris.retrieve(\n",
    "#     framework=\"xgboost\",\n",
    "#     region=region,\n",
    "#     version=\"1.0-1\",\n",
    "#     py_version=\"py3\",\n",
    "# )\n",
    "# xgb_train = Estimator(\n",
    "#     image_uri=image_uri,\n",
    "#     instance_type=training_instance_type,\n",
    "#     instance_count=1,\n",
    "#     output_path=model_path,\n",
    "#     role=role,\n",
    "# )\n",
    "# xgb_train.set_hyperparameters(\n",
    "#     objective=\"binary:logistic\",    \n",
    "#     scale_pos_weight = class_weight,\n",
    "#     num_round=50,\n",
    "#     max_depth=5,\n",
    "#     eta=0.2,\n",
    "#     gamma=4,\n",
    "#     min_child_weight=6,\n",
    "#     subsample=0.7,\n",
    "#     silent=0\n",
    "# )"
   ]
  },
  {
   "cell_type": "code",
   "execution_count": null,
   "metadata": {},
   "outputs": [],
   "source": []
  },
  {
   "cell_type": "markdown",
   "metadata": {},
   "source": [
    "### 기본 훈련 변수 및 하이퍼파라미터 설정"
   ]
  },
  {
   "cell_type": "code",
   "execution_count": 7,
   "metadata": {},
   "outputs": [],
   "source": [
    "from sagemaker.xgboost.estimator import XGBoost\n",
    "\n",
    "bucket = sagemaker_session.default_bucket()\n",
    "prefix = 'fraud2train'\n",
    "\n",
    "estimator_output_path = f's3://{bucket}/{prefix}/training_jobs'\n",
    "train_instance_count = 1\n",
    "\n",
    "hyperparameters = {\n",
    "        \"max_depth\": \"3\",\n",
    "        \"eta\": \"0.2\",\n",
    "        \"objective\": \"binary:logistic\",\n",
    "        \"num_round\": \"100\",\n",
    "}"
   ]
  },
  {
   "cell_type": "code",
   "execution_count": 8,
   "metadata": {},
   "outputs": [],
   "source": [
    "xgb_train = XGBoost(\n",
    "    entry_point = \"xgboost_starter_script.py\",\n",
    "    source_dir = \"src\",\n",
    "    output_path = estimator_output_path,\n",
    "    code_location = estimator_output_path,\n",
    "    hyperparameters = hyperparameters,\n",
    "    role = role,\n",
    "    instance_count = train_instance_count,\n",
    "    instance_type = training_instance_type,\n",
    "    framework_version = \"1.0-1\")"
   ]
  },
  {
   "cell_type": "code",
   "execution_count": 9,
   "metadata": {},
   "outputs": [],
   "source": [
    "from sagemaker.inputs import TrainingInput\n",
    "from sagemaker.workflow.steps import TrainingStep\n",
    "\n",
    "\n",
    "step_train = TrainingStep(\n",
    "    name=\"FraudScratchTrain\",\n",
    "    estimator=xgb_train,\n",
    "    inputs={\n",
    "        \"train\": TrainingInput(\n",
    "            s3_data=step_process.properties.ProcessingOutputConfig.Outputs[\n",
    "                \"train\"\n",
    "            ].S3Output.S3Uri,\n",
    "            # s3_data= train_preproc_dir_artifact,            \n",
    "            content_type=\"text/csv\"\n",
    "        ),\n",
    "    },\n",
    ")"
   ]
  },
  {
   "cell_type": "markdown",
   "metadata": {},
   "source": [
    "'FailureReason': 'ClientError: Key [train] on Property [ProcessingOutputConfig.Outputs] does not exist.',"
   ]
  },
  {
   "cell_type": "markdown",
   "metadata": {},
   "source": [
    "## 4.모델 평가단계 정의 \n"
   ]
  },
  {
   "cell_type": "code",
   "execution_count": 10,
   "metadata": {},
   "outputs": [],
   "source": [
    "# from sagemaker.processing import ScriptProcessor\n",
    "\n",
    "\n",
    "# script_eval = ScriptProcessor(\n",
    "#     image_uri=image_uri,\n",
    "#     command=[\"python3\"],\n",
    "#     instance_type=processing_instance_type,\n",
    "#     instance_count=1,\n",
    "#     base_job_name=\"script-fraud2scratch-eval\",\n",
    "#     role=role,\n",
    "# )"
   ]
  },
  {
   "cell_type": "code",
   "execution_count": 11,
   "metadata": {},
   "outputs": [],
   "source": [
    "# from sagemaker.workflow.properties import PropertyFile\n",
    "\n",
    "\n",
    "# # evaluation_report = PropertyFile(\n",
    "# #     name=\"EvaluationReport\",\n",
    "# #     output_name=\"evaluation\",\n",
    "# #     path=\"evaluation.json\"\n",
    "# # )\n",
    "# step_eval = ProcessingStep(\n",
    "#     name=\"FraudEval\",\n",
    "#     processor=script_eval,\n",
    "#     inputs=[\n",
    "#         ProcessingInput(\n",
    "#             source=step_train.properties.ModelArtifacts.S3ModelArtifacts,\n",
    "#             destination=\"/opt/ml/processing/model\"\n",
    "#         ),\n",
    "#         ProcessingInput(\n",
    "#             source=step_process.properties.ProcessingOutputConfig.Outputs[\n",
    "#                 \"test\"\n",
    "#             ].S3Output.S3Uri,\n",
    "#             destination=\"/opt/ml/processing/test\"\n",
    "#         )\n",
    "#     ],\n",
    "#     outputs=[\n",
    "#         ProcessingOutput(output_name=\"evaluation\", source=\"/opt/ml/processing/evaluation\"),\n",
    "#     ],\n",
    "#     code=\"src/evaluation.py\",\n",
    "# #     property_files=[evaluation_report],\n",
    "# )"
   ]
  },
  {
   "cell_type": "markdown",
   "metadata": {},
   "source": [
    "## 5.세이지 메이커 모델 스텝 생성"
   ]
  },
  {
   "cell_type": "code",
   "execution_count": 12,
   "metadata": {},
   "outputs": [],
   "source": [
    "from sagemaker.model import Model\n",
    "    \n",
    "model = Model(\n",
    "    image_uri= step_train.properties.AlgorithmSpecification.TrainingImage,\n",
    "    model_data= step_train.properties.ModelArtifacts.S3ModelArtifacts,\n",
    "    sagemaker_session=sagemaker_session,\n",
    "    role=role,\n",
    ")"
   ]
  },
  {
   "cell_type": "code",
   "execution_count": 13,
   "metadata": {},
   "outputs": [],
   "source": [
    "from sagemaker.inputs import CreateModelInput\n",
    "from sagemaker.workflow.steps import CreateModelStep\n",
    "\n",
    "\n",
    "inputs = CreateModelInput(\n",
    "    instance_type=\"ml.m5.large\",\n",
    "    # accelerator_type=\"ml.eia1.medium\",\n",
    ")\n",
    "step_create_model = CreateModelStep(\n",
    "    name=\"FraudScratchModel\",\n",
    "    model=model,\n",
    "    inputs=inputs,\n",
    ")"
   ]
  },
  {
   "cell_type": "markdown",
   "metadata": {},
   "source": [
    "## 6.실시간 엔드 포인트 배포 스텝 생성"
   ]
  },
  {
   "cell_type": "code",
   "execution_count": 14,
   "metadata": {},
   "outputs": [
    {
     "name": "stdout",
     "output_type": "stream",
     "text": [
      "s3_deploy_code_uri:  s3://sagemaker-ap-northeast-2-057716757052/fraud2scratch/code/deploy_model.py\n"
     ]
    }
   ],
   "source": [
    "\n",
    "local_deploy_code_path = 'src/deploy_model.py'\n",
    "s3_deploy_code_path = f\"s3://{default_bucket}/{project_prefix}/code\"\n",
    "s3_deploy_code_uri = sagemaker.s3.S3Uploader.upload(\n",
    "    local_path=local_deploy_code_path, \n",
    "    desired_s3_uri=s3_deploy_code_path,\n",
    ")\n",
    "print(\"s3_deploy_code_uri: \", s3_deploy_code_uri)\n",
    "\n",
    "pipeline_endpoint_name = 'all-pipeline-endpoint-0414'\n",
    "endpoint_instance_type = \"ml.m5.xlarge\""
   ]
  },
  {
   "cell_type": "code",
   "execution_count": 15,
   "metadata": {},
   "outputs": [],
   "source": [
    "from sagemaker.sklearn.processing import SKLearnProcessor\n",
    "from sagemaker.workflow.steps import ProcessingStep\n",
    "\n",
    "deploy_model_processor = SKLearnProcessor(\n",
    "    framework_version='0.23-1',\n",
    "    role= role,\n",
    "    instance_type=\"ml.t3.medium\",\n",
    "    instance_count=1,\n",
    "    base_job_name='fraud-scratch-deploy-model',\n",
    "    sagemaker_session=sagemaker_session)\n",
    "\n",
    "\n",
    "deploy_step = ProcessingStep(\n",
    "    name='DeployModel',\n",
    "    processor=deploy_model_processor,\n",
    "    job_arguments=[\n",
    "        \"--model_name\", step_create_model.properties.ModelName, \n",
    "        \"--region\", region,\n",
    "        \"--endpoint_instance_type\", endpoint_instance_type,\n",
    "        \"--endpoint_name\", pipeline_endpoint_name\n",
    "    ],\n",
    "    code=s3_deploy_code_uri)"
   ]
  },
  {
   "cell_type": "markdown",
   "metadata": {},
   "source": [
    "## 7.모델 빌딩 파이프라인 정의"
   ]
  },
  {
   "cell_type": "code",
   "execution_count": 16,
   "metadata": {},
   "outputs": [],
   "source": [
    "from sagemaker.workflow.pipeline import Pipeline\n",
    "\n",
    "project_prefix = 'FraudScratchProduction'\n",
    "\n",
    "pipeline_name = project_prefix\n",
    "pipeline = Pipeline(\n",
    "    name=pipeline_name,\n",
    "    parameters=[\n",
    "        processing_instance_type, \n",
    "        processing_instance_count,\n",
    "        training_instance_type,        \n",
    "        input_data,\n",
    "    ],\n",
    "    steps=[step_process, step_train, step_create_model, deploy_step],\n",
    ")"
   ]
  },
  {
   "cell_type": "code",
   "execution_count": 17,
   "metadata": {},
   "outputs": [],
   "source": [
    "import json\n",
    "\n",
    "definition = json.loads(pipeline.definition())\n",
    "# definition"
   ]
  },
  {
   "cell_type": "markdown",
   "metadata": {},
   "source": [
    "### 파이프라인을 SageMaker에 제출하고 실행하기 \n"
   ]
  },
  {
   "cell_type": "code",
   "execution_count": 18,
   "metadata": {},
   "outputs": [
    {
     "data": {
      "text/plain": [
       "{'PipelineArn': 'arn:aws:sagemaker:ap-northeast-2:057716757052:pipeline/fraudscratchproduction',\n",
       " 'ResponseMetadata': {'RequestId': '7c56a318-3301-424d-ba1e-4901dfbd1ddf',\n",
       "  'HTTPStatusCode': 200,\n",
       "  'HTTPHeaders': {'x-amzn-requestid': '7c56a318-3301-424d-ba1e-4901dfbd1ddf',\n",
       "   'content-type': 'application/x-amz-json-1.1',\n",
       "   'content-length': '95',\n",
       "   'date': 'Sat, 26 Jun 2021 05:29:35 GMT'},\n",
       "  'RetryAttempts': 0}}"
      ]
     },
     "execution_count": 18,
     "metadata": {},
     "output_type": "execute_result"
    }
   ],
   "source": [
    "pipeline.upsert(role_arn=role)"
   ]
  },
  {
   "cell_type": "markdown",
   "metadata": {},
   "source": [
    "디폴트값을 이용하여 파이프라인을 샐행합니다. "
   ]
  },
  {
   "cell_type": "code",
   "execution_count": 19,
   "metadata": {},
   "outputs": [],
   "source": [
    "execution = pipeline.start()"
   ]
  },
  {
   "cell_type": "markdown",
   "metadata": {},
   "source": [
    "### 파이프라인 운영: 파이프라인 대기 및 실행상태 확인\n",
    "\n",
    "워크플로우의 실행상황을 살펴봅니다. "
   ]
  },
  {
   "cell_type": "code",
   "execution_count": 20,
   "metadata": {},
   "outputs": [
    {
     "data": {
      "text/plain": [
       "[]"
      ]
     },
     "execution_count": 20,
     "metadata": {},
     "output_type": "execute_result"
    }
   ],
   "source": [
    "execution.list_steps()"
   ]
  },
  {
   "cell_type": "code",
   "execution_count": 21,
   "metadata": {},
   "outputs": [],
   "source": [
    "# execution.describe()\n",
    "execution.wait()"
   ]
  },
  {
   "cell_type": "markdown",
   "metadata": {},
   "source": [
    "실행이 완료될 때까지 기다립니다."
   ]
  },
  {
   "cell_type": "markdown",
   "metadata": {},
   "source": [
    "실행된 단계들을 리스트업합니다. 파이프라인의 단계실행 서비스에 의해 시작되거나 완료된 단계를 보여줍니다."
   ]
  },
  {
   "cell_type": "code",
   "execution_count": 22,
   "metadata": {},
   "outputs": [
    {
     "data": {
      "text/plain": [
       "[{'StepName': 'DeployModel',\n",
       "  'StartTime': datetime.datetime(2021, 6, 26, 5, 37, 7, 129000, tzinfo=tzlocal()),\n",
       "  'EndTime': datetime.datetime(2021, 6, 26, 5, 54, 55, 207000, tzinfo=tzlocal()),\n",
       "  'StepStatus': 'Succeeded',\n",
       "  'Metadata': {'ProcessingJob': {'Arn': 'arn:aws:sagemaker:ap-northeast-2:057716757052:processing-job/pipelines-njzy7i5wy4i2-deploymodel-rrg8l0rsdp'}}},\n",
       " {'StepName': 'FraudScratchModel',\n",
       "  'StartTime': datetime.datetime(2021, 6, 26, 5, 37, 5, 675000, tzinfo=tzlocal()),\n",
       "  'EndTime': datetime.datetime(2021, 6, 26, 5, 37, 6, 461000, tzinfo=tzlocal()),\n",
       "  'StepStatus': 'Succeeded',\n",
       "  'Metadata': {'Model': {'Arn': 'arn:aws:sagemaker:ap-northeast-2:057716757052:model/pipelines-njzy7i5wy4i2-fraudscratchmodel-v8nfn4rdb5'}}},\n",
       " {'StepName': 'FraudScratchTrain',\n",
       "  'StartTime': datetime.datetime(2021, 6, 26, 5, 34, 2, 525000, tzinfo=tzlocal()),\n",
       "  'EndTime': datetime.datetime(2021, 6, 26, 5, 37, 5, 52000, tzinfo=tzlocal()),\n",
       "  'StepStatus': 'Succeeded',\n",
       "  'Metadata': {'TrainingJob': {'Arn': 'arn:aws:sagemaker:ap-northeast-2:057716757052:training-job/pipelines-njzy7i5wy4i2-fraudscratchtrain-ivnmj4rdbw'}}},\n",
       " {'StepName': 'FraudScratchProcess',\n",
       "  'StartTime': datetime.datetime(2021, 6, 26, 5, 29, 35, 672000, tzinfo=tzlocal()),\n",
       "  'EndTime': datetime.datetime(2021, 6, 26, 5, 33, 56, 560000, tzinfo=tzlocal()),\n",
       "  'StepStatus': 'Succeeded',\n",
       "  'Metadata': {'ProcessingJob': {'Arn': 'arn:aws:sagemaker:ap-northeast-2:057716757052:processing-job/pipelines-njzy7i5wy4i2-fraudscratchprocess-fuhcviiqm9'}}}]"
      ]
     },
     "execution_count": 22,
     "metadata": {},
     "output_type": "execute_result"
    }
   ],
   "source": [
    "execution.list_steps()"
   ]
  },
  {
   "cell_type": "markdown",
   "metadata": {},
   "source": [
    "## 변수 저장"
   ]
  },
  {
   "cell_type": "code",
   "execution_count": 23,
   "metadata": {},
   "outputs": [
    {
     "name": "stdout",
     "output_type": "stream",
     "text": [
      "Stored 'pipeline_endpoint_name' (str)\n"
     ]
    }
   ],
   "source": [
    "%store pipeline_endpoint_name"
   ]
  },
  {
   "cell_type": "code",
   "execution_count": null,
   "metadata": {},
   "outputs": [],
   "source": []
  },
  {
   "cell_type": "code",
   "execution_count": null,
   "metadata": {},
   "outputs": [],
   "source": []
  },
  {
   "cell_type": "code",
   "execution_count": null,
   "metadata": {},
   "outputs": [],
   "source": []
  }
 ],
 "metadata": {
  "instance_type": "ml.m5.large",
  "kernelspec": {
   "display_name": "conda_python3",
   "language": "python",
   "name": "conda_python3"
  },
  "language_info": {
   "codemirror_mode": {
    "name": "ipython",
    "version": 3
   },
   "file_extension": ".py",
   "mimetype": "text/x-python",
   "name": "python",
   "nbconvert_exporter": "python",
   "pygments_lexer": "ipython3",
   "version": "3.6.13"
  }
 },
 "nbformat": 4,
 "nbformat_minor": 4
}
