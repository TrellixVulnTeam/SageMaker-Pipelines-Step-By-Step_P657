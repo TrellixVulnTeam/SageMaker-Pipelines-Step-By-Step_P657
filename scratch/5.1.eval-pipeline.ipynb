{
 "cells": [
  {
   "cell_type": "markdown",
   "metadata": {},
   "source": [
    "# [모듈 5.1] 평가 스텝 개발"
   ]
  },
  {
   "cell_type": "markdown",
   "metadata": {},
   "source": [
    "## 0. 기본 세이지 메이커 정보 및 기본 변수 로딩"
   ]
  },
  {
   "cell_type": "code",
   "execution_count": 1,
   "metadata": {},
   "outputs": [
    {
     "name": "stdout",
     "output_type": "stream",
     "text": [
      "Stored variables and their in-db values:\n",
      "base_preproc_input_dir                 -> 'opt/ml/processing/input'\n",
      "dataset_path                           -> 'opt/ml/processing/input/dataset.csv'\n",
      "default_bucket                         -> 'sagemaker-ap-northeast-2-057716757052'\n",
      "input_data_uri                         -> 's3://sagemaker-ap-northeast-2-057716757052/fraud2\n",
      "preprocessing_code_dir                 -> 'fraud/preprocessing.py'\n",
      "processing_instance_count              -> ParameterInteger(name='ProcessingInstanceCount', p\n",
      "project_prefix                         -> 'fraud2scratch'\n",
      "s3_dataset_path                        -> 's3://sagemaker-ap-northeast-2-057716757052/fraud2\n",
      "test_preproc__dir_artifact             -> 's3://sagemaker-ap-northeast-2-057716757052/sklear\n",
      "train_model_artifact                   -> 's3://sagemaker-ap-northeast-2-057716757052/fraud2\n",
      "train_preproc_dir_artifact             -> 's3://sagemaker-ap-northeast-2-057716757052/sklear\n",
      "val_preproc_dir_artifact               -> 's3://sagemaker-ap-northeast-2-057716757052/sklear\n"
     ]
    }
   ],
   "source": [
    "import boto3\n",
    "import sagemaker\n",
    "import pandas as pd\n",
    "\n",
    "region = boto3.Session().region_name\n",
    "sagemaker_session = sagemaker.session.Session()\n",
    "role = sagemaker.get_execution_role()\n",
    "\n",
    "%store -r \n",
    "%store"
   ]
  },
  {
   "cell_type": "markdown",
   "metadata": {},
   "source": [
    "## 1. 로컬에서 스크립트 실행"
   ]
  },
  {
   "cell_type": "markdown",
   "metadata": {},
   "source": [
    "### 환경 셋업"
   ]
  },
  {
   "cell_type": "code",
   "execution_count": 2,
   "metadata": {},
   "outputs": [
    {
     "name": "stdout",
     "output_type": "stream",
     "text": [
      "download: s3://sagemaker-ap-northeast-2-057716757052/fraud2scratch/model/pipelines-tfr3929pycdw-FraudScratchTrain-YBzZARNFEU/output/model.tar.gz to opt/ml/processing/model/model.tar.gz\n",
      "base_test_path:  s3://sagemaker-ap-northeast-2-057716757052/sklearn-fraud-process-2021-04-13-03-08-45-278/output/test/test.csv\n"
     ]
    }
   ],
   "source": [
    "import os\n",
    "base_dir = 'opt/ml/processing'\n",
    "os.makedirs(base_dir, exist_ok=True)\n",
    "\n",
    "output_evaluation_dir = 'opt/ml/processing/evaluation'\n",
    "os.makedirs(output_evaluation_dir, exist_ok=True)\n",
    "\n",
    "# 훈련 아티펙트를 다운로드 하여 로컬 저장\n",
    "base_model_dir = 'opt/ml/processing/model'\n",
    "base_model_path = f\"{base_model_dir}/model.tar.gz\"\n",
    "os.makedirs(base_model_dir, exist_ok=True)\n",
    "\n",
    "! aws s3 cp  {train_model_artifact} {base_model_dir}\n",
    "\n",
    "# 테스트 데이터 세트의 파일 경로 기술\n",
    "base_test_path = f\"{test_preproc__dir_artifact}/test.csv\"\n",
    "print(\"base_test_path: \", base_test_path)\n"
   ]
  },
  {
   "cell_type": "code",
   "execution_count": 3,
   "metadata": {},
   "outputs": [
    {
     "name": "stdout",
     "output_type": "stream",
     "text": [
      "base_dir: \n",
      " opt/ml/processing\n",
      "base_model_path: \n",
      " opt/ml/processing/model/model.tar.gz\n",
      "base_test_path: \n",
      " s3://sagemaker-ap-northeast-2-057716757052/sklearn-fraud-process-2021-04-13-03-08-45-278/output/test/test.csv\n",
      "output_evaluation_dir: \n",
      " opt/ml/processing/evaluation\n"
     ]
    }
   ],
   "source": [
    "print(\"base_dir: \\n\", base_dir)\n",
    "print(\"base_model_path: \\n\", base_model_path)\n",
    "print(\"base_test_path: \\n\", base_test_path)\n",
    "print(\"output_evaluation_dir: \\n\", output_evaluation_dir)"
   ]
  },
  {
   "cell_type": "markdown",
   "metadata": {},
   "source": [
    "### 로컬에서 스크립트 실행"
   ]
  },
  {
   "cell_type": "code",
   "execution_count": 4,
   "metadata": {},
   "outputs": [
    {
     "name": "stdout",
     "output_type": "stream",
     "text": [
      "Requirement already satisfied: xgboost in /home/ec2-user/anaconda3/envs/python3/lib/python3.6/site-packages (1.3.3)\n",
      "Requirement already satisfied: numpy in /home/ec2-user/anaconda3/envs/python3/lib/python3.6/site-packages (from xgboost) (1.19.5)\n",
      "Requirement already satisfied: scipy in /home/ec2-user/anaconda3/envs/python3/lib/python3.6/site-packages (from xgboost) (1.5.3)\n",
      "#############################################\n",
      "args.model_path: opt/ml/processing/model/model.tar.gz\n",
      "args.test_path: s3://sagemaker-ap-northeast-2-057716757052/sklearn-fraud-process-2021-04-13-03-08-45-278/output/test/test.csv\n",
      "args.output_evaluation_dir: opt/ml/processing/evaluation\n",
      "****** All folder and files under opt/ml/processing ****** \n",
      "('opt/ml/processing', ['validation', 'train', 'test', 'evaluation', 'input', 'output', 'model'], [])\n",
      "('opt/ml/processing/validation', [], ['validation.csv'])\n",
      "('opt/ml/processing/train', [], ['train.csv'])\n",
      "('opt/ml/processing/test', [], ['test.csv'])\n",
      "('opt/ml/processing/evaluation', [], ['evaluation.json'])\n",
      "('opt/ml/processing/input', ['.ipynb_checkpoints'], ['dataset.csv'])\n",
      "('opt/ml/processing/input/.ipynb_checkpoints', [], [])\n",
      "('opt/ml/processing/output', ['validation', 'train', 'test'], [])\n",
      "('opt/ml/processing/output/validation', [], ['validation.csv'])\n",
      "('opt/ml/processing/output/train', [], ['train.csv'])\n",
      "('opt/ml/processing/output/test', [], ['test.csv'])\n",
      "('opt/ml/processing/model', [], ['model.tar.gz'])\n",
      "************************************************* \n",
      "[07:23:29] WARNING: ../src/objective/regression_obj.cu:170: reg:linear is now deprecated in favor of reg:squarederror.\n",
      "model is loaded\n",
      "test df sample \n",
      ":    0.0  1.7132916658505457  ...  1.8780136487325414  -0.8604307681951779\n",
      "0  0.0           -0.491188  ...            1.878014            -0.860431\n",
      "1  0.0           -0.356077  ...            1.878014            -0.860431\n",
      "\n",
      "[2 rows x 46 columns]\n",
      "evaluation_path \n",
      ": opt/ml/processing/evaluation/evaluation.json\n",
      "report_dict \n",
      ": {'regression_metrics': {'mse': {'value': 0.03193776410742062, 'standard_deviation': 0.17866526608361205}}}\n"
     ]
    }
   ],
   "source": [
    "%%sh -s \"$base_dir\" \"$base_model_path\" \"$base_test_path\" \"$output_evaluation_dir\"\n",
    "python fraud/evaluation.py \\\n",
    "--base_dir $1 \\\n",
    "--model_path $2 \\\n",
    "--test_path $3 \\\n",
    "--output_evaluation_dir $4\n"
   ]
  },
  {
   "cell_type": "markdown",
   "metadata": {},
   "source": [
    "## 2. 로컬 다커 에서 모델 평가\n",
    "xgboost 내장 알고리즘 컨테이너는 local mode (로컬에서 다커 실행)을 지원하지 않기에 Scikit-learn를 기본 이미지로 가져오고, 스크립트에서 xgboost를 설치하여 사용함"
   ]
  },
  {
   "cell_type": "code",
   "execution_count": 5,
   "metadata": {},
   "outputs": [],
   "source": [
    "# scikit learn 다커 이미지\n",
    "image_uri = '366743142698.dkr.ecr.ap-northeast-2.amazonaws.com/sagemaker-scikit-learn:0.23-1-cpu-py3'"
   ]
  },
  {
   "cell_type": "code",
   "execution_count": 6,
   "metadata": {},
   "outputs": [],
   "source": [
    "from sagemaker.processing import ScriptProcessor\n",
    "\n",
    "processing_instance_type = 'local'\n",
    "eval_script_processor = ScriptProcessor(\n",
    "    image_uri=image_uri,\n",
    "    command=[\"python3\"],\n",
    "    instance_type=processing_instance_type,\n",
    "    instance_count=1,\n",
    "    base_job_name=\"script-fraud-scratch-eval\",\n",
    "    role=role,\n",
    ")"
   ]
  },
  {
   "cell_type": "code",
   "execution_count": 7,
   "metadata": {},
   "outputs": [
    {
     "name": "stdout",
     "output_type": "stream",
     "text": [
      "\n",
      "Job Name:  script-fraud-scratch-eval-2021-04-13-07-23-30-415\n",
      "Inputs:  [{'InputName': 'input-1', 'AppManaged': False, 'S3Input': {'S3Uri': 's3://sagemaker-ap-northeast-2-057716757052/fraud2scratch/model/pipelines-tfr3929pycdw-FraudScratchTrain-YBzZARNFEU/output/model.tar.gz', 'LocalPath': '/opt/ml/processing/model', 'S3DataType': 'S3Prefix', 'S3InputMode': 'File', 'S3DataDistributionType': 'FullyReplicated', 'S3CompressionType': 'None'}}, {'InputName': 'input-2', 'AppManaged': False, 'S3Input': {'S3Uri': 's3://sagemaker-ap-northeast-2-057716757052/sklearn-fraud-process-2021-04-13-03-08-45-278/output/test', 'LocalPath': '/opt/ml/processing/test', 'S3DataType': 'S3Prefix', 'S3InputMode': 'File', 'S3DataDistributionType': 'FullyReplicated', 'S3CompressionType': 'None'}}, {'InputName': 'code', 'AppManaged': False, 'S3Input': {'S3Uri': 's3://sagemaker-ap-northeast-2-057716757052/script-fraud-scratch-eval-2021-04-13-07-23-30-415/input/code/evaluation.py', 'LocalPath': '/opt/ml/processing/input/code', 'S3DataType': 'S3Prefix', 'S3InputMode': 'File', 'S3DataDistributionType': 'FullyReplicated', 'S3CompressionType': 'None'}}]\n",
      "Outputs:  [{'OutputName': 'evaluation', 'AppManaged': False, 'S3Output': {'S3Uri': 's3://sagemaker-ap-northeast-2-057716757052/script-fraud-scratch-eval-2021-04-13-07-23-30-415/output/evaluation', 'LocalPath': '/opt/ml/processing/evaluation', 'S3UploadMode': 'EndOfJob'}}]\n",
      "Creating v4brjai4mh-algo-1-gwp6t ... \n",
      "Creating v4brjai4mh-algo-1-gwp6t ... done\n",
      "Attaching to v4brjai4mh-algo-1-gwp6t\n",
      "\u001b[36mv4brjai4mh-algo-1-gwp6t |\u001b[0m Collecting xgboost\n",
      "\u001b[36mv4brjai4mh-algo-1-gwp6t |\u001b[0m   Downloading xgboost-1.4.0-py3-none-manylinux2010_x86_64.whl (166.7 MB)\n",
      "\u001b[K     |████████████████████████████████| 166.7 MB 32.8 MB/s eta 0:00:01\n",
      "\u001b[36mv4brjai4mh-algo-1-gwp6t |\u001b[0m \u001b[?25hRequirement already satisfied: scipy in /miniconda3/lib/python3.7/site-packages (from xgboost) (1.5.3)\n",
      "\u001b[36mv4brjai4mh-algo-1-gwp6t |\u001b[0m Requirement already satisfied: numpy in /miniconda3/lib/python3.7/site-packages (from xgboost) (1.19.2)\n",
      "\u001b[36mv4brjai4mh-algo-1-gwp6t |\u001b[0m Installing collected packages: xgboost\n",
      "\u001b[36mv4brjai4mh-algo-1-gwp6t |\u001b[0m Successfully installed xgboost-1.4.0\n",
      "\u001b[36mv4brjai4mh-algo-1-gwp6t |\u001b[0m #############################################\n",
      "\u001b[36mv4brjai4mh-algo-1-gwp6t |\u001b[0m args.model_path: /opt/ml/processing/model/model.tar.gz\n",
      "\u001b[36mv4brjai4mh-algo-1-gwp6t |\u001b[0m args.test_path: /opt/ml/processing/test/test.csv\n",
      "\u001b[36mv4brjai4mh-algo-1-gwp6t |\u001b[0m args.output_evaluation_dir:  /opt/ml/processing/evaluation\n",
      "\u001b[36mv4brjai4mh-algo-1-gwp6t |\u001b[0m ****** All folder and files under /opt/ml/processing ****** \n",
      "\u001b[36mv4brjai4mh-algo-1-gwp6t |\u001b[0m ('/opt/ml/processing', ['input', 'test', 'evaluation', 'model'], [])\n",
      "\u001b[36mv4brjai4mh-algo-1-gwp6t |\u001b[0m ('/opt/ml/processing/input', ['code'], [])\n",
      "\u001b[36mv4brjai4mh-algo-1-gwp6t |\u001b[0m ('/opt/ml/processing/input/code', [], ['evaluation.py'])\n",
      "\u001b[36mv4brjai4mh-algo-1-gwp6t |\u001b[0m ('/opt/ml/processing/test', [], ['test.csv'])\n",
      "\u001b[36mv4brjai4mh-algo-1-gwp6t |\u001b[0m ('/opt/ml/processing/evaluation', [], [])\n",
      "\u001b[36mv4brjai4mh-algo-1-gwp6t |\u001b[0m ('/opt/ml/processing/model', [], ['model.tar.gz'])\n",
      "\u001b[36mv4brjai4mh-algo-1-gwp6t |\u001b[0m ************************************************* \n",
      "\u001b[36mv4brjai4mh-algo-1-gwp6t |\u001b[0m [07:23:42] WARNING: ../src/objective/regression_obj.cu:171: reg:linear is now deprecated in favor of reg:squarederror.\n",
      "\u001b[36mv4brjai4mh-algo-1-gwp6t |\u001b[0m model is loaded\n",
      "\u001b[36mv4brjai4mh-algo-1-gwp6t |\u001b[0m test df sample \n",
      "\u001b[36mv4brjai4mh-algo-1-gwp6t |\u001b[0m :    0.0  ...  -0.8604307681951779\n",
      "\u001b[36mv4brjai4mh-algo-1-gwp6t |\u001b[0m 0  0.0  ...            -0.860431\n",
      "\u001b[36mv4brjai4mh-algo-1-gwp6t |\u001b[0m 1  0.0  ...            -0.860431\n",
      "\u001b[36mv4brjai4mh-algo-1-gwp6t |\u001b[0m \n",
      "\u001b[36mv4brjai4mh-algo-1-gwp6t |\u001b[0m [2 rows x 46 columns]\n",
      "\u001b[36mv4brjai4mh-algo-1-gwp6t |\u001b[0m evaluation_path \n",
      "\u001b[36mv4brjai4mh-algo-1-gwp6t |\u001b[0m :  /opt/ml/processing/evaluation/evaluation.json\n",
      "\u001b[36mv4brjai4mh-algo-1-gwp6t |\u001b[0m report_dict \n",
      "\u001b[36mv4brjai4mh-algo-1-gwp6t |\u001b[0m : {'regression_metrics': {'mse': {'value': 0.03193776410742062, 'standard_deviation': 0.17866526608361205}}}\n",
      "\u001b[36mv4brjai4mh-algo-1-gwp6t exited with code 0\n",
      "\u001b[0mAborting on container exit...\n",
      "===== Job Complete =====\n",
      "."
     ]
    }
   ],
   "source": [
    "from sagemaker.processing import ProcessingInput, ProcessingOutput\n",
    "\n",
    "eval_script_processor.run(\n",
    "                        inputs=[\n",
    "                            ProcessingInput(\n",
    "#                                source=step_train.properties.ModelArtifacts.S3ModelArtifacts,\n",
    "                                source= train_model_artifact,  # model_artifcat_path,\n",
    "                                destination=\"/opt/ml/processing/model\"\n",
    "                            ),\n",
    "                            ProcessingInput(\n",
    "#                                 source=step_process.properties.ProcessingOutputConfig.Outputs[\n",
    "#                                     \"test\"\n",
    "#                                 ].S3Output.S3Uri,\n",
    "                                source = test_preproc__dir_artifact, # prep_test_output,\n",
    "                                destination=\"/opt/ml/processing/test\"\n",
    "                            )\n",
    "                        ],\n",
    "                        outputs=[\n",
    "                            ProcessingOutput(output_name=\"evaluation\", source=\"/opt/ml/processing/evaluation\"),\n",
    "                        ],\n",
    "                        code=\"fraud/evaluation.py\",\n",
    ")"
   ]
  },
  {
   "cell_type": "markdown",
   "metadata": {},
   "source": [
    "## 3. 모델 빌딩 파이프라인에서  실행 \n",
    "---\n",
    "\n"
   ]
  },
  {
   "cell_type": "markdown",
   "metadata": {},
   "source": [
    "### 모델 빌딩 파이프라인 변수 생성\n",
    "\n"
   ]
  },
  {
   "cell_type": "code",
   "execution_count": 8,
   "metadata": {},
   "outputs": [],
   "source": [
    "from sagemaker.workflow.parameters import (\n",
    "    ParameterInteger,\n",
    "    ParameterString,\n",
    ")\n",
    "\n",
    "processing_instance_count = ParameterInteger(\n",
    "    name=\"ProcessingInstanceCount\",\n",
    "    default_value=1\n",
    ")\n",
    "processing_instance_type = ParameterString(\n",
    "    name=\"ProcessingInstanceType\",\n",
    "    default_value=\"ml.m5.xlarge\"\n",
    ")"
   ]
  },
  {
   "cell_type": "markdown",
   "metadata": {},
   "source": [
    "### 학습모델을 평가하기 위한 모델 평가단계 정의 \n",
    "\n",
    "먼저 모델 평가용 프로세싱 단계에서 질행할 평가용 스크립트를 작성합니다. \n",
    "\n",
    "파이프라인 실행 후 `evaluation.json`파일을 통해 평가결과를 확인할 수 있습니다.\n",
    "\n",
    "평가 스크립트는 `xgboost`를 사용하고 다음을 실행합니다.\n",
    "\n",
    "* 모델을 로드합니다. \n",
    "* 테스트 데이터를 읽습니다. \n",
    "* 테스트 데이터에 대한 예측을 실행합니다. \n",
    "* mse 등을 포함하는 분류보고서를 작성합니다. "
   ]
  },
  {
   "cell_type": "code",
   "execution_count": 9,
   "metadata": {},
   "outputs": [],
   "source": [
    "from sagemaker.processing import ScriptProcessor\n",
    "\n",
    "\n",
    "script_eval = ScriptProcessor(\n",
    "    image_uri=image_uri,\n",
    "    command=[\"python3\"],\n",
    "    instance_type=processing_instance_type,\n",
    "    instance_count=1,\n",
    "    base_job_name=\"script-fraud2scratch-eval\",\n",
    "    role=role,\n",
    ")"
   ]
  },
  {
   "cell_type": "code",
   "execution_count": 10,
   "metadata": {},
   "outputs": [],
   "source": [
    "from sagemaker.workflow.properties import PropertyFile\n",
    "from sagemaker.workflow.steps import ProcessingStep\n",
    "\n",
    "\n",
    "# evaluation_report = PropertyFile(\n",
    "#     name=\"EvaluationReport\",\n",
    "#     output_name=\"evaluation\",\n",
    "#     path=\"evaluation.json\"\n",
    "# )\n",
    "step_eval = ProcessingStep(\n",
    "    name=\"FraudEval\",\n",
    "    processor=script_eval,\n",
    "    inputs=[\n",
    "        ProcessingInput(\n",
    "            source= train_model_artifact,\n",
    "            destination=\"/opt/ml/processing/model\"\n",
    "        ),\n",
    "        ProcessingInput(\n",
    "            source= test_preproc__dir_artifact,\n",
    "            destination=\"/opt/ml/processing/test\"\n",
    "        )\n",
    "    ],\n",
    "    outputs=[\n",
    "        ProcessingOutput(output_name=\"evaluation\", source=\"/opt/ml/processing/evaluation\"),\n",
    "    ],\n",
    "    code=\"fraud/evaluation.py\",\n",
    "#    property_files=[evaluation_report],\n",
    ")"
   ]
  },
  {
   "cell_type": "markdown",
   "metadata": {},
   "source": [
    "### 파리마터, 단계, 조건을 조합하여 최종 파이프라인 정의\n",
    "\n"
   ]
  },
  {
   "cell_type": "code",
   "execution_count": 11,
   "metadata": {},
   "outputs": [],
   "source": [
    "from sagemaker.workflow.pipeline import Pipeline\n",
    "\n",
    "\n",
    "pipeline_name = f\"FraudScratch\"\n",
    "pipeline = Pipeline(\n",
    "    name=pipeline_name,\n",
    "    parameters=[\n",
    "        processing_instance_type, \n",
    "        processing_instance_count,\n",
    "    ],\n",
    "    steps=[step_eval],\n",
    ")"
   ]
  },
  {
   "cell_type": "markdown",
   "metadata": {},
   "source": [
    "#### (선택) 파이프라인 정의 확인 \n",
    "\n",
    "파이프라인을 정의하는 JSON을 생성하고 파이프라인 내에서 사용하는 파라미터와 단계별 속성들이 잘 정의되었는지 확인할 수 있습니다."
   ]
  },
  {
   "cell_type": "code",
   "execution_count": 12,
   "metadata": {},
   "outputs": [],
   "source": [
    "import json\n",
    "\n",
    "\n",
    "definition = json.loads(pipeline.definition())\n",
    "# definition"
   ]
  },
  {
   "cell_type": "markdown",
   "metadata": {},
   "source": [
    "### 파이프라인을 SageMaker에 제출하고 실행하기 \n",
    "\n",
    "파이프라인 정의를 파이프라인 서비스에 제출합니다. 함께 전달되는 역할(role)을 이용하여 AWS에서 파이프라인을 생성하고 작업의 각 단계를 실행할 것입니다.   "
   ]
  },
  {
   "cell_type": "code",
   "execution_count": 13,
   "metadata": {},
   "outputs": [
    {
     "data": {
      "text/plain": [
       "{'PipelineArn': 'arn:aws:sagemaker:ap-northeast-2:057716757052:pipeline/fraudscratch',\n",
       " 'ResponseMetadata': {'RequestId': 'e6414334-68d6-4bf1-a0ea-308fbec24ec3',\n",
       "  'HTTPStatusCode': 200,\n",
       "  'HTTPHeaders': {'x-amzn-requestid': 'e6414334-68d6-4bf1-a0ea-308fbec24ec3',\n",
       "   'content-type': 'application/x-amz-json-1.1',\n",
       "   'content-length': '85',\n",
       "   'date': 'Tue, 13 Apr 2021 07:23:45 GMT'},\n",
       "  'RetryAttempts': 0}}"
      ]
     },
     "execution_count": 13,
     "metadata": {},
     "output_type": "execute_result"
    }
   ],
   "source": [
    "pipeline.upsert(role_arn=role)"
   ]
  },
  {
   "cell_type": "code",
   "execution_count": 14,
   "metadata": {},
   "outputs": [],
   "source": [
    "execution = pipeline.start()"
   ]
  },
  {
   "cell_type": "markdown",
   "metadata": {},
   "source": [
    "### 파이프라인 운영: 파이프라인 대기 및 실행상태 확인\n",
    "\n",
    "워크플로우의 실행상황을 살펴봅니다. "
   ]
  },
  {
   "cell_type": "code",
   "execution_count": 15,
   "metadata": {},
   "outputs": [
    {
     "data": {
      "text/plain": [
       "{'PipelineArn': 'arn:aws:sagemaker:ap-northeast-2:057716757052:pipeline/fraudscratch',\n",
       " 'PipelineExecutionArn': 'arn:aws:sagemaker:ap-northeast-2:057716757052:pipeline/fraudscratch/execution/d7tbbeb35rbw',\n",
       " 'PipelineExecutionDisplayName': 'execution-1618298626788',\n",
       " 'PipelineExecutionStatus': 'Executing',\n",
       " 'CreationTime': datetime.datetime(2021, 4, 13, 7, 23, 46, 706000, tzinfo=tzlocal()),\n",
       " 'LastModifiedTime': datetime.datetime(2021, 4, 13, 7, 23, 46, 706000, tzinfo=tzlocal()),\n",
       " 'CreatedBy': {},\n",
       " 'LastModifiedBy': {},\n",
       " 'ResponseMetadata': {'RequestId': '85bafe78-5562-421a-a7e8-ed82169b9dcd',\n",
       "  'HTTPStatusCode': 200,\n",
       "  'HTTPHeaders': {'x-amzn-requestid': '85bafe78-5562-421a-a7e8-ed82169b9dcd',\n",
       "   'content-type': 'application/x-amz-json-1.1',\n",
       "   'content-length': '399',\n",
       "   'date': 'Tue, 13 Apr 2021 07:23:45 GMT'},\n",
       "  'RetryAttempts': 0}}"
      ]
     },
     "execution_count": 15,
     "metadata": {},
     "output_type": "execute_result"
    }
   ],
   "source": [
    "execution.describe()\n",
    "# execution.wait()"
   ]
  },
  {
   "cell_type": "code",
   "execution_count": 16,
   "metadata": {},
   "outputs": [
    {
     "data": {
      "text/plain": [
       "[]"
      ]
     },
     "execution_count": 16,
     "metadata": {},
     "output_type": "execute_result"
    }
   ],
   "source": [
    "execution.list_steps()"
   ]
  },
  {
   "cell_type": "code",
   "execution_count": null,
   "metadata": {},
   "outputs": [],
   "source": []
  }
 ],
 "metadata": {
  "instance_type": "ml.m5.large",
  "kernelspec": {
   "display_name": "conda_python3",
   "language": "python",
   "name": "conda_python3"
  },
  "language_info": {
   "codemirror_mode": {
    "name": "ipython",
    "version": 3
   },
   "file_extension": ".py",
   "mimetype": "text/x-python",
   "name": "python",
   "nbconvert_exporter": "python",
   "pygments_lexer": "ipython3",
   "version": "3.6.13"
  }
 },
 "nbformat": 4,
 "nbformat_minor": 4
}
