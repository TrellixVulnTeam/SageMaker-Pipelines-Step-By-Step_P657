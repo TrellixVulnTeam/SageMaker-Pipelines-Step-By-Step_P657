{
 "cells": [
  {
   "cell_type": "markdown",
   "metadata": {},
   "source": [
    "# [모듈 0] 전처리 스크래치, 로컬 다커 및 모델 빌딩 파이프라인"
   ]
  },
  {
   "cell_type": "code",
   "execution_count": 208,
   "metadata": {},
   "outputs": [],
   "source": [
    "import boto3\n",
    "import sagemaker\n",
    "import pandas as pd\n",
    "import os\n",
    "\n",
    "\n",
    "region = boto3.Session().region_name\n",
    "sagemaker_session = sagemaker.session.Session()\n",
    "role = sagemaker.get_execution_role()\n",
    "default_bucket = sagemaker_session.default_bucket()\n",
    "model_package_group_name = f\"FraudScratchModelPackageGroupName\""
   ]
  },
  {
   "cell_type": "markdown",
   "metadata": {},
   "source": [
    "# 1. 데이터 준비\n",
    "---"
   ]
  },
  {
   "cell_type": "markdown",
   "metadata": {},
   "source": [
    "## 데이터 세트 로딩 및 S3 업로드"
   ]
  },
  {
   "cell_type": "code",
   "execution_count": 218,
   "metadata": {},
   "outputs": [],
   "source": [
    "data_dir = '../data'\n",
    "base_preproc_input_dir = 'opt/ml/processing/input'\n",
    "os.makedirs(base_preproc_input_dir, exist_ok=True)\n",
    "\n"
   ]
  },
  {
   "cell_type": "code",
   "execution_count": 219,
   "metadata": {},
   "outputs": [
    {
     "name": "stdout",
     "output_type": "stream",
     "text": [
      "df_train shape:  (16000, 45)\n",
      "df_test shape:  (4000, 45)\n",
      "df_dataset shape:  (20000, 46)\n"
     ]
    }
   ],
   "source": [
    "\n",
    "df_train = pd.read_csv(f\"{data_dir}/train.csv\", index_col=0)\n",
    "df_test = pd.read_csv(f\"{data_dir}/test.csv\", index_col=0)\n",
    "df_dataset = pd.concat([df_train, df_test], axis=0)\n",
    "df_dataset = df_dataset.reset_index()\n",
    "\n",
    "dataset_path = \"{}/dataset.csv\".format(base_preproc_input_dir)\n",
    "df_dataset.to_csv(dataset_path, index=None)\n",
    "print(\"df_train shape: \", df_train.shape)\n",
    "print(\"df_test shape: \", df_test.shape)\n",
    "dataset_df = pd.read_csv(dataset_path)\n",
    "print(\"df_dataset shape: \", dataset_df.shape) # fraud 추가"
   ]
  },
  {
   "cell_type": "code",
   "execution_count": null,
   "metadata": {},
   "outputs": [],
   "source": []
  },
  {
   "cell_type": "markdown",
   "metadata": {},
   "source": [
    "이제 데이터를 디폴트 버킷으로 업로드합니다. `input_data_uri` 변수를 통해 데이터셋의 위치를 저장하였습니다."
   ]
  },
  {
   "cell_type": "code",
   "execution_count": 220,
   "metadata": {},
   "outputs": [
    {
     "name": "stdout",
     "output_type": "stream",
     "text": [
      "s3://sagemaker-ap-northeast-2-057716757052/fraud2scratch/dataset.csv\n"
     ]
    }
   ],
   "source": [
    "local_path = f\"{base_preproc_input_dir}/dataset.csv\"\n",
    "project_prefix = 'fraud2scratch'\n",
    "data_prefix = 'fraud2scratch'\n",
    "base_uri = f\"s3://{default_bucket}/{data_prefix}\"\n",
    "input_data_uri = sagemaker.s3.S3Uploader.upload(\n",
    "    local_path=local_path, \n",
    "    desired_s3_uri=base_uri,\n",
    ")\n",
    "print(input_data_uri)"
   ]
  },
  {
   "cell_type": "markdown",
   "metadata": {},
   "source": [
    "# 2. 전처리 로직 프로토타이핑"
   ]
  },
  {
   "cell_type": "markdown",
   "metadata": {},
   "source": [
    "## (1) 로컬 노트북에서 전처리 로직 실행 \n",
    "\n"
   ]
  },
  {
   "cell_type": "markdown",
   "metadata": {},
   "source": [
    "### 로컬 환경 셋업 \n",
    "\n",
    "로컬에서 테스트 하기 위해 다커 컨테이너와 같은 환경 생성"
   ]
  },
  {
   "cell_type": "code",
   "execution_count": 221,
   "metadata": {},
   "outputs": [],
   "source": [
    "import os\n",
    "base_output_dir = 'opt/ml/processing/output'\n",
    "# base_preproc_dir = 'opt/ml/processing'\n",
    "\n",
    "\n",
    "base_train_dir = 'opt/ml/processing/output/train'\n",
    "os.makedirs(base_train_dir, exist_ok=True)\n",
    "\n",
    "base_validation_dir = 'opt/ml/processing/output/validation'\n",
    "os.makedirs(base_validation_dir, exist_ok=True)\n",
    "\n",
    "base_test_dir = 'opt/ml/processing/output/test'\n",
    "os.makedirs(base_test_dir, exist_ok=True)\n"
   ]
  },
  {
   "cell_type": "markdown",
   "metadata": {},
   "source": [
    "로컬 폴더에 입력 데이터 저장"
   ]
  },
  {
   "cell_type": "markdown",
   "metadata": {},
   "source": [
    "### 로컬에서 스크립트 실행"
   ]
  },
  {
   "cell_type": "code",
   "execution_count": 222,
   "metadata": {},
   "outputs": [
    {
     "name": "stdout",
     "output_type": "stream",
     "text": [
      "numpy version:  1.19.5\n",
      "#############################################\n",
      "args.base_output_dir: opt/ml/processing/output\n",
      "args.base_preproc_input_dir: opt/ml/processing/input\n",
      "args.label_column: fraud\n",
      "input files: \n",
      " ['opt/ml/processing/input/dataset.csv']\n",
      "dataset sample \n",
      "    fraud  incident_type_theft  ...  collision_type_rear  collision_type_front\n",
      "0      0                    0  ...                    1                     0\n",
      "1      0                    0  ...                    1                     0\n",
      "\n",
      "[2 rows x 46 columns]\n",
      "df columns \n",
      " Index(['fraud', 'incident_type_theft', 'policy_state_ca', 'policy_deductable',\n",
      "       'num_witnesses', 'policy_state_or', 'incident_month',\n",
      "       'customer_gender_female', 'num_insurers_past_5_years',\n",
      "       'customer_gender_male', 'total_claim_amount',\n",
      "       'authorities_contacted_police', 'incident_day', 'collision_type_side',\n",
      "       'customer_age', 'customer_education', 'driver_relationship_child',\n",
      "       'driver_relationship_spouse', 'injury_claim', 'incident_dow',\n",
      "       'collision_type_na', 'incident_severity', 'driver_relationship_self',\n",
      "       'num_claims_past_year', 'months_as_customer', 'auto_year',\n",
      "       'num_vehicles_involved', 'policy_state_nv',\n",
      "       'authorities_contacted_ambulance', 'num_injuries', 'policy_liability',\n",
      "       'police_report_available', 'driver_relationship_na',\n",
      "       'incident_type_breakin', 'authorities_contacted_none',\n",
      "       'authorities_contacted_fire', 'driver_relationship_other',\n",
      "       'policy_state_id', 'incident_hour', 'vehicle_claim',\n",
      "       'incident_type_collision', 'policy_annual_premium', 'policy_state_az',\n",
      "       'policy_state_wa', 'collision_type_rear', 'collision_type_front'],\n",
      "      dtype='object')\n",
      "preprocessed train path \n",
      " opt/ml/processing/output/train/train.csv\n",
      "preprocessed train shape \n",
      "        0\n",
      "0  14000\n",
      "1     46\n",
      "preprocessed train sample \n",
      "     0         1         2         3   ...        42        43        44        45\n",
      "0  0.0 -0.797521 -0.590689 -0.739390  ... -0.357993 -0.371021 -0.532477  1.162209\n",
      "1  0.0  0.585482  0.148516  1.249454  ... -0.357993 -0.371021 -0.532477  1.162209\n",
      "\n",
      "[2 rows x 46 columns]\n",
      "All files are preprocessed\n"
     ]
    }
   ],
   "source": [
    "%%sh -s \"$base_preproc_input_dir\" \"$base_output_dir\"\n",
    "python fraud/preprocessing.py \\\n",
    "--base_preproc_input_dir $1 \\\n",
    "--base_output_dir $2 \n",
    "\n",
    "#! python fraud/preprocessing.py --base_preproc_input_dir {base_preproc_input_dir} --base_output_dir {base_output_dir} \n"
   ]
  },
  {
   "cell_type": "markdown",
   "metadata": {},
   "source": [
    "## (2) 로컬 다커 컨테이너에서 전처리 로직 실행 \n",
    "\n"
   ]
  },
  {
   "cell_type": "code",
   "execution_count": 223,
   "metadata": {
    "collapsed": true,
    "jupyter": {
     "outputs_hidden": true
    }
   },
   "outputs": [
    {
     "name": "stdout",
     "output_type": "stream",
     "text": [
      "\n",
      "Job Name:  sagemaker-scikit-learn-2021-04-12-11-40-41-489\n",
      "Inputs:  [{'InputName': 'input-1', 'AppManaged': False, 'S3Input': {'S3Uri': 's3://sagemaker-ap-northeast-2-057716757052/fraud2scratch/dataset.csv', 'LocalPath': '/opt/ml/processing/input', 'S3DataType': 'S3Prefix', 'S3InputMode': 'File', 'S3DataDistributionType': 'FullyReplicated', 'S3CompressionType': 'None'}}, {'InputName': 'code', 'AppManaged': False, 'S3Input': {'S3Uri': 's3://sagemaker-ap-northeast-2-057716757052/sagemaker-scikit-learn-2021-04-12-11-40-41-489/input/code/preprocessing.py', 'LocalPath': '/opt/ml/processing/input/code', 'S3DataType': 'S3Prefix', 'S3InputMode': 'File', 'S3DataDistributionType': 'FullyReplicated', 'S3CompressionType': 'None'}}]\n",
      "Outputs:  [{'OutputName': 'output-1', 'AppManaged': False, 'S3Output': {'S3Uri': 's3://sagemaker-ap-northeast-2-057716757052/sagemaker-scikit-learn-2021-04-12-11-40-41-489/output/output-1', 'LocalPath': '/opt/ml/processing/output/train', 'S3UploadMode': 'EndOfJob'}}, {'OutputName': 'output-2', 'AppManaged': False, 'S3Output': {'S3Uri': 's3://sagemaker-ap-northeast-2-057716757052/sagemaker-scikit-learn-2021-04-12-11-40-41-489/output/output-2', 'LocalPath': '/opt/ml/processing/output/validation', 'S3UploadMode': 'EndOfJob'}}, {'OutputName': 'output-3', 'AppManaged': False, 'S3Output': {'S3Uri': 's3://sagemaker-ap-northeast-2-057716757052/sagemaker-scikit-learn-2021-04-12-11-40-41-489/output/output-3', 'LocalPath': '/opt/ml/processing/output/test', 'S3UploadMode': 'EndOfJob'}}]\n",
      "Creating g0cmsyqptq-algo-1-adt0c ... \n",
      "Creating g0cmsyqptq-algo-1-adt0c ... done\n",
      "Attaching to g0cmsyqptq-algo-1-adt0c\n",
      "\u001b[36mg0cmsyqptq-algo-1-adt0c |\u001b[0m numpy version:  1.19.2\n",
      "\u001b[36mg0cmsyqptq-algo-1-adt0c |\u001b[0m #############################################\n",
      "\u001b[36mg0cmsyqptq-algo-1-adt0c |\u001b[0m args.base_output_dir: /opt/ml/processing/output\n",
      "\u001b[36mg0cmsyqptq-algo-1-adt0c |\u001b[0m args.base_preproc_input_dir: /opt/ml/processing/input\n",
      "\u001b[36mg0cmsyqptq-algo-1-adt0c |\u001b[0m args.label_column: fraud\n",
      "\u001b[36mg0cmsyqptq-algo-1-adt0c |\u001b[0m input files: \n",
      "\u001b[36mg0cmsyqptq-algo-1-adt0c |\u001b[0m  ['/opt/ml/processing/input/dataset.csv']\n",
      "\u001b[36mg0cmsyqptq-algo-1-adt0c |\u001b[0m dataset sample \n",
      "\u001b[36mg0cmsyqptq-algo-1-adt0c |\u001b[0m     fraud  ...  collision_type_front\n",
      "\u001b[36mg0cmsyqptq-algo-1-adt0c |\u001b[0m 0      0  ...                     0\n",
      "\u001b[36mg0cmsyqptq-algo-1-adt0c |\u001b[0m 1      0  ...                     0\n",
      "\u001b[36mg0cmsyqptq-algo-1-adt0c |\u001b[0m \n",
      "\u001b[36mg0cmsyqptq-algo-1-adt0c |\u001b[0m [2 rows x 46 columns]\n",
      "\u001b[36mg0cmsyqptq-algo-1-adt0c |\u001b[0m df columns \n",
      "\u001b[36mg0cmsyqptq-algo-1-adt0c |\u001b[0m  Index(['fraud', 'incident_type_theft', 'policy_state_ca', 'policy_deductable',\n",
      "\u001b[36mg0cmsyqptq-algo-1-adt0c |\u001b[0m        'num_witnesses', 'policy_state_or', 'incident_month',\n",
      "\u001b[36mg0cmsyqptq-algo-1-adt0c |\u001b[0m        'customer_gender_female', 'num_insurers_past_5_years',\n",
      "\u001b[36mg0cmsyqptq-algo-1-adt0c |\u001b[0m        'customer_gender_male', 'total_claim_amount',\n",
      "\u001b[36mg0cmsyqptq-algo-1-adt0c |\u001b[0m        'authorities_contacted_police', 'incident_day', 'collision_type_side',\n",
      "\u001b[36mg0cmsyqptq-algo-1-adt0c |\u001b[0m        'customer_age', 'customer_education', 'driver_relationship_child',\n",
      "\u001b[36mg0cmsyqptq-algo-1-adt0c |\u001b[0m        'driver_relationship_spouse', 'injury_claim', 'incident_dow',\n",
      "\u001b[36mg0cmsyqptq-algo-1-adt0c |\u001b[0m        'collision_type_na', 'incident_severity', 'driver_relationship_self',\n",
      "\u001b[36mg0cmsyqptq-algo-1-adt0c |\u001b[0m        'num_claims_past_year', 'months_as_customer', 'auto_year',\n",
      "\u001b[36mg0cmsyqptq-algo-1-adt0c |\u001b[0m        'num_vehicles_involved', 'policy_state_nv',\n",
      "\u001b[36mg0cmsyqptq-algo-1-adt0c |\u001b[0m        'authorities_contacted_ambulance', 'num_injuries', 'policy_liability',\n",
      "\u001b[36mg0cmsyqptq-algo-1-adt0c |\u001b[0m        'police_report_available', 'driver_relationship_na',\n",
      "\u001b[36mg0cmsyqptq-algo-1-adt0c |\u001b[0m        'incident_type_breakin', 'authorities_contacted_none',\n",
      "\u001b[36mg0cmsyqptq-algo-1-adt0c |\u001b[0m        'authorities_contacted_fire', 'driver_relationship_other',\n",
      "\u001b[36mg0cmsyqptq-algo-1-adt0c |\u001b[0m        'policy_state_id', 'incident_hour', 'vehicle_claim',\n",
      "\u001b[36mg0cmsyqptq-algo-1-adt0c |\u001b[0m        'incident_type_collision', 'policy_annual_premium', 'policy_state_az',\n",
      "\u001b[36mg0cmsyqptq-algo-1-adt0c |\u001b[0m        'policy_state_wa', 'collision_type_rear', 'collision_type_front'],\n",
      "\u001b[36mg0cmsyqptq-algo-1-adt0c |\u001b[0m       dtype='object')\n",
      "\u001b[36mg0cmsyqptq-algo-1-adt0c |\u001b[0m preprocessed train path \n",
      "\u001b[36mg0cmsyqptq-algo-1-adt0c |\u001b[0m  /opt/ml/processing/output/train/train.csv\n",
      "\u001b[36mg0cmsyqptq-algo-1-adt0c |\u001b[0m preprocessed train shape \n",
      "\u001b[36mg0cmsyqptq-algo-1-adt0c |\u001b[0m         0\n",
      "\u001b[36mg0cmsyqptq-algo-1-adt0c |\u001b[0m 0  14000\n",
      "\u001b[36mg0cmsyqptq-algo-1-adt0c |\u001b[0m 1     46\n",
      "\u001b[36mg0cmsyqptq-algo-1-adt0c |\u001b[0m preprocessed train sample \n",
      "\u001b[36mg0cmsyqptq-algo-1-adt0c |\u001b[0m      0   ...        45\n",
      "\u001b[36mg0cmsyqptq-algo-1-adt0c |\u001b[0m 0  0.0  ... -0.860431\n",
      "\u001b[36mg0cmsyqptq-algo-1-adt0c |\u001b[0m 1  0.0  ... -0.860431\n",
      "\u001b[36mg0cmsyqptq-algo-1-adt0c |\u001b[0m \n",
      "\u001b[36mg0cmsyqptq-algo-1-adt0c |\u001b[0m [2 rows x 46 columns]\n",
      "\u001b[36mg0cmsyqptq-algo-1-adt0c |\u001b[0m All files are preprocessed\n",
      "\u001b[36mg0cmsyqptq-algo-1-adt0c exited with code 0\n",
      "\u001b[0mAborting on container exit...\n",
      "===== Job Complete =====\n"
     ]
    }
   ],
   "source": [
    "from sagemaker.sklearn.processing import SKLearnProcessor\n",
    "from sagemaker.processing import ProcessingInput, ProcessingOutput\n",
    "\n",
    "instance_type = 'local'\n",
    "sklearn_processor = SKLearnProcessor(framework_version= \"0.23-1\",\n",
    "                                     role=role,\n",
    "                                     instance_type= instance_type,\n",
    "                                     instance_count=1)\n",
    "\n",
    "sklearn_processor.run(code='fraud/preprocessing.py',\n",
    "                      inputs=[ProcessingInput(\n",
    "                        source=input_data_uri,\n",
    "                        destination='/opt/ml/processing/input')],\n",
    "                      outputs=[ProcessingOutput(source='/opt/ml/processing/output/train'),\n",
    "                               ProcessingOutput(source='/opt/ml/processing/output/validation'),\n",
    "                               ProcessingOutput(source='/opt/ml/processing/output/test')]\n",
    "                      ,wait=False\n",
    "                     )"
   ]
  },
  {
   "cell_type": "markdown",
   "metadata": {},
   "source": [
    "# 2. 훈련 로직 프로토타이핑"
   ]
  },
  {
   "cell_type": "code",
   "execution_count": 274,
   "metadata": {},
   "outputs": [
    {
     "name": "stdout",
     "output_type": "stream",
     "text": [
      "prep_train_dir:  s3://sagemaker-ap-northeast-2-057716757052/sagemaker-scikit-learn-2021-04-12-11-40-41-489/output/output-1/train.csv\n",
      "prep_test_output:  s3://sagemaker-ap-northeast-2-057716757052/sagemaker-scikit-learn-2021-04-12-11-40-41-489/output/output-3/test.csv\n"
     ]
    }
   ],
   "source": [
    "sklearn_processor.latest_job.describe()\n",
    "prep_train_dir = sklearn_processor.latest_job.describe()['ProcessingOutputConfig']['Outputs'][0]['S3Output']['S3Uri']\n",
    "prep_train_output = f\"{prep_train_dir}/train.csv\"\n",
    "print(\"prep_train_dir: \", prep_train_output)\n",
    "s3_input_train = sagemaker.inputs.TrainingInput(\n",
    "    s3_data= prep_train_output, \n",
    "    content_type='csv')\n",
    "prep_test_dir = sklearn_processor.latest_job.describe()['ProcessingOutputConfig']['Outputs'][2]['S3Output']['S3Uri']\n",
    "prep_test_output = f\"{prep_test_dir}/test.csv\"\n",
    "print(\"prep_test_output: \", prep_test_output)\n",
    "\n"
   ]
  },
  {
   "cell_type": "code",
   "execution_count": 245,
   "metadata": {},
   "outputs": [],
   "source": [
    "import sagemaker\n",
    "\n",
    "sagemaker_session = sagemaker.Session()\n",
    "bucket = sagemaker.Session().default_bucket()  # replace with an existing bucket if needed\n",
    "\n",
    "\n",
    "\n",
    "# Define IAM role\n",
    "import boto3\n",
    "from sagemaker import get_execution_role\n",
    "\n",
    "role = get_execution_role()\n"
   ]
  },
  {
   "cell_type": "code",
   "execution_count": 246,
   "metadata": {},
   "outputs": [
    {
     "name": "stdout",
     "output_type": "stream",
     "text": [
      "image_uri:  366743142698.dkr.ecr.ap-northeast-2.amazonaws.com/sagemaker-xgboost:1.0-1-cpu-py3\n",
      "SageMaker session is assigned\n"
     ]
    }
   ],
   "source": [
    "from sagemaker import image_uris, session\n",
    "# container = image_uris.retrieve(\"xgboost\", session.Session().boto_region_name, version=\"latest\")\n",
    "image_uri = sagemaker.image_uris.retrieve(\n",
    "    framework=\"xgboost\",\n",
    "    region=region,\n",
    "    version=\"1.0-1\",\n",
    "    py_version=\"py3\",\n",
    ")\n",
    "\n",
    "\n",
    "print(\"image_uri: \", image_uri)\n",
    "\n",
    "# train_instance_type = 'local'\n",
    "train_instance_type = 'ml.m5.2xlarge'\n",
    "\n",
    "\n",
    "\n",
    "from sagemaker import local\n",
    "\n",
    "if train_instance_type == 'local':\n",
    "    sess = local.LocalSession()\n",
    "    print(\"local session is assigned\")\n",
    "else:\n",
    "    sess = sagemaker.Session()\n",
    "    print(\"SageMaker session is assigned\")    "
   ]
  },
  {
   "cell_type": "code",
   "execution_count": 247,
   "metadata": {},
   "outputs": [
    {
     "name": "stdout",
     "output_type": "stream",
     "text": [
      "CPU times: user 20.2 ms, sys: 0 ns, total: 20.2 ms\n",
      "Wall time: 243 ms\n"
     ]
    }
   ],
   "source": [
    "%%time \n",
    "\n",
    "xgb = sagemaker.estimator.Estimator(image_uri,\n",
    "                                    role, \n",
    "                                    instance_count=1, \n",
    "                                    instance_type= train_instance_type,\n",
    "                                    output_path='s3://{}/{}/output'.format(bucket, project_prefix),\n",
    "                                    sagemaker_session= sess)\n",
    "xgb.set_hyperparameters(max_depth=6, # default: 6\n",
    "                        eta=0.3, # learning_rate, default : 0.3\n",
    "                        alpha = 10, # L1 regularization, default : 0.3\n",
    "                        gamma=0, # regularization, default : 0\n",
    "                        colsample_bytree = 0.3,                         \n",
    "                        min_child_weight=1, # regularization, default: 1, possible: 6\n",
    "                        subsample=0.8, # default: 1\n",
    "                        silent=0,\n",
    "                        num_class = 5,\n",
    "                        objective='multi:softmax',\n",
    "                        num_round=100,\n",
    "                        seed = 1000\n",
    "                       )\n",
    "\n",
    "# xgb.fit({'train': s3_input_train, 'validation': s3_input_validation})\n",
    "xgb.fit({'train': s3_input_train}, wait=False)"
   ]
  },
  {
   "cell_type": "code",
   "execution_count": 249,
   "metadata": {},
   "outputs": [
    {
     "name": "stdout",
     "output_type": "stream",
     "text": [
      "\n",
      "2021-04-12 11:51:43 Starting - Preparing the instances for training\n",
      "2021-04-12 11:51:43 Downloading - Downloading input data\n",
      "2021-04-12 11:51:43 Training - Training image download completed. Training in progress.\n",
      "2021-04-12 11:51:43 Uploading - Uploading generated training model\n",
      "2021-04-12 11:51:43 Completed - Training job completed\n"
     ]
    }
   ],
   "source": [
    "xgb.latest_training_job.wait(logs=False)"
   ]
  },
  {
   "cell_type": "code",
   "execution_count": 250,
   "metadata": {},
   "outputs": [],
   "source": [
    "# prep_train = s3_input_train.config['DataSource']['S3DataSource']['S3Uri']\n",
    "# prep_df = pd.read_csv(prep_train)\n",
    "# prep_df.shape\n"
   ]
  },
  {
   "cell_type": "markdown",
   "metadata": {},
   "source": [
    "# 3. 평가 (Evaluation)\n",
    "---"
   ]
  },
  {
   "cell_type": "markdown",
   "metadata": {},
   "source": [
    "### 환경 셋업"
   ]
  },
  {
   "cell_type": "code",
   "execution_count": 281,
   "metadata": {},
   "outputs": [
    {
     "name": "stdout",
     "output_type": "stream",
     "text": [
      "base_test_path:  opt/ml/processing/output/test/test.csv\n",
      "(2999, 46)\n"
     ]
    }
   ],
   "source": [
    "import os\n",
    "base_dir = 'opt/ml/processing'\n",
    "os.makedirs(base_dir, exist_ok=True)\n",
    "\n",
    "base_model_dir = 'opt/ml/processing/model'\n",
    "base_model_path = f\"{base_model_dir}/model.tar.gz\"\n",
    "os.makedirs(base_model_dir, exist_ok=True)\n",
    "\n",
    "base_test_path = f\"{base_test_dir}/test.csv\"\n",
    "print(\"base_test_path: \", base_test_path)\n",
    "test_df = pd.read_csv(base_test_path)\n",
    "print(test_df.shape)"
   ]
  },
  {
   "cell_type": "code",
   "execution_count": 282,
   "metadata": {},
   "outputs": [
    {
     "name": "stdout",
     "output_type": "stream",
     "text": [
      "model_artifcat_path: \n",
      " s3://sagemaker-ap-northeast-2-057716757052/fraud2scratch/output/sagemaker-xgboost-2021-04-12-11-48-20-620/output/model.tar.gz\n",
      "model_artifcat_path:  s3://sagemaker-ap-northeast-2-057716757052/fraud2scratch/output/sagemaker-xgboost-2021-04-12-11-48-20-620/output/model.tar.gz\n",
      "download: s3://sagemaker-ap-northeast-2-057716757052/fraud2scratch/output/sagemaker-xgboost-2021-04-12-11-48-20-620/output/model.tar.gz to opt/ml/processing/model/model.tar.gz\n"
     ]
    }
   ],
   "source": [
    "\n",
    "model_artifcat_path = xgb.latest_training_job.describe()['ModelArtifacts']['S3ModelArtifacts']\n",
    "print(\"model_artifcat_path: \\n\", model_artifcat_path)\n",
    "# model_artifcat_path = 's3://sagemaker-ap-northeast-2-057716757052/fraud2scratch/model/pipelines-9ct6szmb6rb0-FraudScratchTrain-zQJzAc2pYM/output/model.tar.gz'\n",
    "print(\"model_artifcat_path: \", model_artifcat_path)\n",
    "! aws s3 cp  {model_artifcat_path} {base_model_dir}"
   ]
  },
  {
   "cell_type": "markdown",
   "metadata": {},
   "source": [
    "### 로컬에서 스크립트 실행"
   ]
  },
  {
   "cell_type": "code",
   "execution_count": 284,
   "metadata": {},
   "outputs": [
    {
     "name": "stdout",
     "output_type": "stream",
     "text": [
      "model_artifcat_path:  s3://sagemaker-ap-northeast-2-057716757052/fraud2scratch/output/sagemaker-xgboost-2021-04-12-11-48-20-620/output/model.tar.gz\n"
     ]
    }
   ],
   "source": [
    "output_evaluation_dir = 'opt/ml/processing/evaluation'\n",
    "print(\"model_artifcat_path: \", model_artifcat_path)"
   ]
  },
  {
   "cell_type": "code",
   "execution_count": 287,
   "metadata": {},
   "outputs": [
    {
     "name": "stdout",
     "output_type": "stream",
     "text": [
      "#############################################\n",
      "args.model_path: opt/ml/processing/model/model.tar.gz\n",
      "args.test_path: opt/ml/processing/output/test/test.csv\n",
      "args.output_evaluation_dir: opt/ml/processing/evaluation\n",
      "****** All folder and files under opt/ml/processing ****** \n",
      "('opt/ml/processing', ['validation', 'train', 'test', 'evaluation', 'input', 'output', 'model'], [])\n",
      "('opt/ml/processing/validation', [], ['validation.csv'])\n",
      "('opt/ml/processing/train', [], ['train.csv'])\n",
      "('opt/ml/processing/test', [], ['test.csv'])\n",
      "('opt/ml/processing/evaluation', [], ['evaluation.json'])\n",
      "('opt/ml/processing/input', ['.ipynb_checkpoints'], ['dataset.csv'])\n",
      "('opt/ml/processing/input/.ipynb_checkpoints', [], [])\n",
      "('opt/ml/processing/output', ['validation', 'train', 'test'], [])\n",
      "('opt/ml/processing/output/validation', [], ['validation.csv'])\n",
      "('opt/ml/processing/output/train', [], ['train.csv'])\n",
      "('opt/ml/processing/output/test', [], ['test.csv'])\n",
      "('opt/ml/processing/model', [], ['model.tar.gz'])\n",
      "************************************************* \n",
      "model is loaded\n",
      "test df sample \n",
      ":    0.0  2.4095322888213375  ...  1.8780136487325414  -0.8604307681951779\n",
      "0  0.0           -0.727245  ...           -0.532477            -0.860431\n",
      "1  0.0            0.001684  ...           -0.532477             1.162209\n",
      "\n",
      "[2 rows x 46 columns]\n",
      "evaluation_path \n",
      ": opt/ml/processing/evaluation/evaluation.json\n",
      "report_dict \n",
      ": {'regression_metrics': {'mse': {'value': 0.024674891630543514, 'standard_deviation': 0.1551323349710319}}}\n"
     ]
    }
   ],
   "source": [
    "%%sh -s \"$base_dir\" \"$base_model_path\" \"$base_test_path\" \"$output_evaluation_dir\"\n",
    "python fraud/evaluation.py \\\n",
    "--base_dir $1 \\\n",
    "--model_path $2 \\\n",
    "--test_path $3 \\\n",
    "--output_evaluation_dir $4\n"
   ]
  },
  {
   "cell_type": "markdown",
   "metadata": {},
   "source": [
    "## 모델 빌딩 평가"
   ]
  },
  {
   "cell_type": "code",
   "execution_count": 292,
   "metadata": {},
   "outputs": [],
   "source": [
    "image_uri = '366743142698.dkr.ecr.ap-northeast-2.amazonaws.com/sagemaker-scikit-learn:0.23-1-cpu-py3'"
   ]
  },
  {
   "cell_type": "code",
   "execution_count": 293,
   "metadata": {},
   "outputs": [],
   "source": [
    "from sagemaker.processing import ScriptProcessor\n",
    "\n",
    "processing_instance_type = 'local'\n",
    "eval_script_processor = ScriptProcessor(\n",
    "    image_uri=image_uri,\n",
    "    command=[\"python3\"],\n",
    "    instance_type=processing_instance_type,\n",
    "    instance_count=1,\n",
    "    base_job_name=\"script-fraud-scratch-eval\",\n",
    "    role=role,\n",
    ")"
   ]
  },
  {
   "cell_type": "code",
   "execution_count": 294,
   "metadata": {},
   "outputs": [
    {
     "data": {
      "text/plain": [
       "'s3://sagemaker-ap-northeast-2-057716757052/sagemaker-scikit-learn-2021-04-12-11-40-41-489/output/output-3/test.csv'"
      ]
     },
     "execution_count": 294,
     "metadata": {},
     "output_type": "execute_result"
    }
   ],
   "source": [
    "#model_artifcat_path\n",
    "prep_test_output"
   ]
  },
  {
   "cell_type": "code",
   "execution_count": 298,
   "metadata": {},
   "outputs": [
    {
     "name": "stdout",
     "output_type": "stream",
     "text": [
      "2021-04-12 11:40:47    2684966 test.csv\n"
     ]
    }
   ],
   "source": [
    "prep_test_output = 's3://sagemaker-ap-northeast-2-057716757052/sagemaker-scikit-learn-2021-04-12-11-40-41-489/output/output-3/test.csv'\n",
    "! aws s3 ls {prep_test_output}"
   ]
  },
  {
   "cell_type": "code",
   "execution_count": 301,
   "metadata": {},
   "outputs": [
    {
     "name": "stdout",
     "output_type": "stream",
     "text": [
      "\n",
      "Job Name:  script-fraud-scratch-eval-2021-04-13-01-37-01-915\n",
      "Inputs:  [{'InputName': 'input-1', 'AppManaged': False, 'S3Input': {'S3Uri': 's3://sagemaker-ap-northeast-2-057716757052/fraud2scratch/output/sagemaker-xgboost-2021-04-12-11-48-20-620/output/model.tar.gz', 'LocalPath': '/opt/ml/processing/model', 'S3DataType': 'S3Prefix', 'S3InputMode': 'File', 'S3DataDistributionType': 'FullyReplicated', 'S3CompressionType': 'None'}}, {'InputName': 'input-2', 'AppManaged': False, 'S3Input': {'S3Uri': 's3://sagemaker-ap-northeast-2-057716757052/sagemaker-scikit-learn-2021-04-12-11-40-41-489/output/output-3/test.csv', 'LocalPath': '/opt/ml/processing/test', 'S3DataType': 'S3Prefix', 'S3InputMode': 'File', 'S3DataDistributionType': 'FullyReplicated', 'S3CompressionType': 'None'}}, {'InputName': 'code', 'AppManaged': False, 'S3Input': {'S3Uri': 's3://sagemaker-ap-northeast-2-057716757052/script-fraud-scratch-eval-2021-04-13-01-37-01-915/input/code/evaluation.py', 'LocalPath': '/opt/ml/processing/input/code', 'S3DataType': 'S3Prefix', 'S3InputMode': 'File', 'S3DataDistributionType': 'FullyReplicated', 'S3CompressionType': 'None'}}]\n",
      "Outputs:  [{'OutputName': 'evaluation', 'AppManaged': False, 'S3Output': {'S3Uri': 's3://sagemaker-ap-northeast-2-057716757052/script-fraud-scratch-eval-2021-04-13-01-37-01-915/output/evaluation', 'LocalPath': '/opt/ml/processing/evaluation', 'S3UploadMode': 'EndOfJob'}}]\n",
      "Creating xkylf09bo4-algo-1-6wix1 ... \n",
      "Creating xkylf09bo4-algo-1-6wix1 ... done\n",
      "Attaching to xkylf09bo4-algo-1-6wix1\n",
      "\u001b[36mxkylf09bo4-algo-1-6wix1 |\u001b[0m Collecting xgboost\n",
      "\u001b[36mxkylf09bo4-algo-1-6wix1 |\u001b[0m   Downloading xgboost-1.4.0-py3-none-manylinux2010_x86_64.whl (166.7 MB)\n",
      "\u001b[K     |████████████████████████████████| 166.7 MB 86 kB/s s eta 0:00:01\n",
      "\u001b[36mxkylf09bo4-algo-1-6wix1 |\u001b[0m \u001b[?25hRequirement already satisfied: scipy in /miniconda3/lib/python3.7/site-packages (from xgboost) (1.5.3)\n",
      "\u001b[36mxkylf09bo4-algo-1-6wix1 |\u001b[0m Requirement already satisfied: numpy in /miniconda3/lib/python3.7/site-packages (from xgboost) (1.19.2)\n",
      "\u001b[36mxkylf09bo4-algo-1-6wix1 |\u001b[0m Installing collected packages: xgboost\n",
      "\u001b[36mxkylf09bo4-algo-1-6wix1 |\u001b[0m Successfully installed xgboost-1.4.0\n",
      "\u001b[36mxkylf09bo4-algo-1-6wix1 |\u001b[0m #############################################\n",
      "\u001b[36mxkylf09bo4-algo-1-6wix1 |\u001b[0m args.model_path: /opt/ml/processing/model/model.tar.gz\n",
      "\u001b[36mxkylf09bo4-algo-1-6wix1 |\u001b[0m args.test_path: /opt/ml/processing/test/test.csv\n",
      "\u001b[36mxkylf09bo4-algo-1-6wix1 |\u001b[0m args.output_evaluation_dir:  /opt/ml/processing/evaluation\n",
      "\u001b[36mxkylf09bo4-algo-1-6wix1 |\u001b[0m ****** All folder and files under /opt/ml/processing ****** \n",
      "\u001b[36mxkylf09bo4-algo-1-6wix1 |\u001b[0m ('/opt/ml/processing', ['input', 'test', 'evaluation', 'model'], [])\n",
      "\u001b[36mxkylf09bo4-algo-1-6wix1 |\u001b[0m ('/opt/ml/processing/input', ['code'], [])\n",
      "\u001b[36mxkylf09bo4-algo-1-6wix1 |\u001b[0m ('/opt/ml/processing/input/code', [], ['evaluation.py'])\n",
      "\u001b[36mxkylf09bo4-algo-1-6wix1 |\u001b[0m ('/opt/ml/processing/test', [], ['test.csv'])\n",
      "\u001b[36mxkylf09bo4-algo-1-6wix1 |\u001b[0m ('/opt/ml/processing/evaluation', [], [])\n",
      "\u001b[36mxkylf09bo4-algo-1-6wix1 |\u001b[0m ('/opt/ml/processing/model', [], ['model.tar.gz'])\n",
      "\u001b[36mxkylf09bo4-algo-1-6wix1 |\u001b[0m ************************************************* \n",
      "\u001b[36mxkylf09bo4-algo-1-6wix1 |\u001b[0m model is loaded\n",
      "\u001b[36mxkylf09bo4-algo-1-6wix1 |\u001b[0m test df sample \n",
      "\u001b[36mxkylf09bo4-algo-1-6wix1 |\u001b[0m :    0.0  ...  1.1622085552537593\n",
      "\u001b[36mxkylf09bo4-algo-1-6wix1 |\u001b[0m 0  0.0  ...           -0.860431\n",
      "\u001b[36mxkylf09bo4-algo-1-6wix1 |\u001b[0m 1  0.0  ...            1.162209\n",
      "\u001b[36mxkylf09bo4-algo-1-6wix1 |\u001b[0m \n",
      "\u001b[36mxkylf09bo4-algo-1-6wix1 |\u001b[0m [2 rows x 46 columns]\n",
      "\u001b[36mxkylf09bo4-algo-1-6wix1 |\u001b[0m evaluation_path \n",
      "\u001b[36mxkylf09bo4-algo-1-6wix1 |\u001b[0m :  /opt/ml/processing/evaluation/evaluation.json\n",
      "\u001b[36mxkylf09bo4-algo-1-6wix1 |\u001b[0m report_dict \n",
      "\u001b[36mxkylf09bo4-algo-1-6wix1 |\u001b[0m : {'regression_metrics': {'mse': {'value': 0.030010003334444816, 'standard_deviation': 0.17061477964792915}}}\n",
      "\u001b[36mxkylf09bo4-algo-1-6wix1 exited with code 0\n",
      "\u001b[0mAborting on container exit...\n",
      "===== Job Complete =====\n",
      "."
     ]
    }
   ],
   "source": [
    "eval_script_processor.run(\n",
    "                        inputs=[\n",
    "                            ProcessingInput(\n",
    "#                                source=step_train.properties.ModelArtifacts.S3ModelArtifacts,\n",
    "                                source= model_artifcat_path,\n",
    "                                destination=\"/opt/ml/processing/model\"\n",
    "                            ),\n",
    "                            ProcessingInput(\n",
    "#                                 source=step_process.properties.ProcessingOutputConfig.Outputs[\n",
    "#                                     \"test\"\n",
    "#                                 ].S3Output.S3Uri,\n",
    "                                source = prep_test_output,\n",
    "                                destination=\"/opt/ml/processing/test\"\n",
    "                            )\n",
    "                        ],\n",
    "                        outputs=[\n",
    "                            ProcessingOutput(output_name=\"evaluation\", source=\"/opt/ml/processing/evaluation\"),\n",
    "                        ],\n",
    "                        code=\"fraud/evaluation.py\",\n",
    ")"
   ]
  },
  {
   "cell_type": "code",
   "execution_count": null,
   "metadata": {},
   "outputs": [],
   "source": [
    "from sagemaker.workflow.properties import PropertyFile\n",
    "\n",
    "\n",
    "evaluation_report = PropertyFile(\n",
    "    name=\"EvaluationReport\",\n",
    "    output_name=\"evaluation\",\n",
    "    path=\"evaluation.json\"\n",
    ")\n",
    "step_eval = ProcessingStep(\n",
    "    name=\"AbaloneEval\",\n",
    "    processor=script_eval,\n",
    "    inputs=[\n",
    "        ProcessingInput(\n",
    "            source=step_train.properties.ModelArtifacts.S3ModelArtifacts,\n",
    "            destination=\"/opt/ml/processing/model\"\n",
    "        ),\n",
    "        ProcessingInput(\n",
    "            source=step_process.properties.ProcessingOutputConfig.Outputs[\n",
    "                \"test\"\n",
    "            ].S3Output.S3Uri,\n",
    "            destination=\"/opt/ml/processing/test\"\n",
    "        )\n",
    "    ],\n",
    "    outputs=[\n",
    "        ProcessingOutput(output_name=\"evaluation\", source=\"/opt/ml/processing/evaluation\"),\n",
    "    ],\n",
    "    code=\"abalone/evaluation.py\",\n",
    "    property_files=[evaluation_report],\n",
    ")"
   ]
  }
 ],
 "metadata": {
  "instance_type": "ml.m5.large",
  "kernelspec": {
   "display_name": "conda_python3",
   "language": "python",
   "name": "conda_python3"
  },
  "language_info": {
   "codemirror_mode": {
    "name": "ipython",
    "version": 3
   },
   "file_extension": ".py",
   "mimetype": "text/x-python",
   "name": "python",
   "nbconvert_exporter": "python",
   "pygments_lexer": "ipython3",
   "version": "3.6.13"
  }
 },
 "nbformat": 4,
 "nbformat_minor": 4
}
