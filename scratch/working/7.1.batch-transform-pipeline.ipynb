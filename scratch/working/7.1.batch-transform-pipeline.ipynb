{
 "cells": [
  {
   "cell_type": "markdown",
   "metadata": {},
   "source": [
    "# [모듈 7.1] 배치 변환 스텝 개발"
   ]
  },
  {
   "cell_type": "markdown",
   "metadata": {},
   "source": [
    "## 0. 기본 세이지 메이커 정보 및 기본 변수 로딩"
   ]
  },
  {
   "cell_type": "code",
   "execution_count": 21,
   "metadata": {},
   "outputs": [
    {
     "name": "stdout",
     "output_type": "stream",
     "text": [
      "Stored variables and their in-db values:\n",
      "base_preproc_input_dir                 -> 'opt/ml/processing/input'\n",
      "dataset_path                           -> 'opt/ml/processing/input/dataset.csv'\n",
      "default_bucket                         -> 'sagemaker-ap-northeast-2-057716757052'\n",
      "image_uri                              -> '366743142698.dkr.ecr.ap-northeast-2.amazonaws.com\n",
      "input_data_uri                         -> 's3://sagemaker-ap-northeast-2-057716757052/fraud2\n",
      "preprocessing_code_dir                 -> 'fraud/preprocessing.py'\n",
      "processing_instance_count              -> ParameterInteger(name='ProcessingInstanceCount', p\n",
      "project_prefix                         -> 'fraud2scratch'\n",
      "s3_dataset_path                        -> 's3://sagemaker-ap-northeast-2-057716757052/fraud2\n",
      "sagemaker_model                        -> 'pipelines-z2fiqp2pcp83-fraudscratchmodel-jvft2mid\n",
      "test_preproc__dir_artifact             -> 's3://sagemaker-ap-northeast-2-057716757052/sklear\n",
      "train_model_artifact                   -> 's3://sagemaker-ap-northeast-2-057716757052/fraud2\n",
      "train_preproc_dir_artifact             -> 's3://sagemaker-ap-northeast-2-057716757052/sklear\n",
      "val_preproc_dir_artifact               -> 's3://sagemaker-ap-northeast-2-057716757052/sklear\n"
     ]
    }
   ],
   "source": [
    "import boto3\n",
    "import sagemaker\n",
    "import pandas as pd\n",
    "\n",
    "region = boto3.Session().region_name\n",
    "sagemaker_session = sagemaker.session.Session()\n",
    "role = sagemaker.get_execution_role()\n",
    "\n",
    "%store -r \n",
    "%store"
   ]
  },
  {
   "cell_type": "markdown",
   "metadata": {},
   "source": [
    "## 로컬 모드"
   ]
  },
  {
   "cell_type": "code",
   "execution_count": null,
   "metadata": {},
   "outputs": [],
   "source": [
    "# from sagemaker.transformer import Transformer\n",
    "# import pandas as pd\n",
    "\n",
    "# instance_type = 'local'\n",
    "# output_prefix = 'batch-output'\n",
    "# output_path = 's3://{}/{}/{}'.format(default_bucket, project_prefix, output_prefix)\n",
    "\n",
    "# transformer = Transformer(base_transform_job_name = \"FraudScratchBatchTransform\",\n",
    "#                           model_name = sagemaker_model,\n",
    "#                           instance_count=1,\n",
    "#                           instance_type= instance_type,\n",
    "#                           output_path= output_path\n",
    "#                          )\n",
    "\n",
    "# transformer.transform(test_preproc__dir_artifact,\n",
    "#                       content_type='text/csv'\n",
    "#                      )\n",
    "# # transformer.wait()"
   ]
  },
  {
   "cell_type": "markdown",
   "metadata": {},
   "source": [
    "## 1. 로컬에서 스크립트 실행"
   ]
  },
  {
   "cell_type": "markdown",
   "metadata": {},
   "source": [
    "### 환경 셋업"
   ]
  },
  {
   "cell_type": "code",
   "execution_count": 26,
   "metadata": {},
   "outputs": [
    {
     "name": "stdout",
     "output_type": "stream",
     "text": [
      "s3_batch_test_path:  s3://sagemaker-ap-northeast-2-057716757052/fraud2scratch/input/batch\n",
      "batch_test_path:  opt/ml/processing/input/batch/batch.csv\n",
      "input_batch_data_uri:  s3://sagemaker-ap-northeast-2-057716757052/fraud2scratch/input/batch/batch.csv\n"
     ]
    }
   ],
   "source": [
    "import os\n",
    "\n",
    "def split_X_y(test_preproc_path):\n",
    "    df = pd.read_csv(test_preproc_path)\n",
    "    y_test = df.iloc[:, 0].to_numpy()\n",
    "    df.drop(df.columns[0], axis=1, inplace=True)\n",
    "    \n",
    "    return y_test, df\n",
    "\n",
    "s3_batch_test_path = f\"{s3_dataset_path}/batch\"\n",
    "print(\"s3_batch_test_path: \", s3_batch_test_path)\n",
    "\n",
    "\n",
    "# 전처리된 테스트 데이터 생성\n",
    "test_preproc_path = f\"{test_preproc__dir_artifact}/test.csv\"\n",
    "y_test, test_batch_df = split_X_y(test_preproc_path)\n",
    "\n",
    "# 로컬에 배치 변환 테스트 데이터 폴더 및 경로 생성 \n",
    "base_preproc_input_batch_dir = 'opt/ml/processing/input/batch'\n",
    "os.makedirs(base_preproc_input_batch_dir, exist_ok=True)\n",
    "batch_test_path = f\"{base_preproc_input_batch_dir}/batch.csv\"\n",
    "print(\"batch_test_path: \", batch_test_path)\n",
    "\n",
    "# 로컬에 배치 변환 파일 저장\n",
    "test_batch_df.to_csv(batch_test_path, index=None)\n",
    "\n",
    "# S3에 업로드\n",
    "input_batch_data_uri = sagemaker.s3.S3Uploader.upload(\n",
    "    local_path=batch_test_path, \n",
    "    desired_s3_uri=s3_batch_test_path,\n",
    ")\n",
    "print(\"input_batch_data_uri: \", input_batch_data_uri)"
   ]
  },
  {
   "cell_type": "code",
   "execution_count": 28,
   "metadata": {},
   "outputs": [
    {
     "name": "stdout",
     "output_type": "stream",
     "text": [
      "sagemaker_model: \n",
      "  pipelines-z2fiqp2pcp83-fraudscratchmodel-jvft2midf1\n"
     ]
    }
   ],
   "source": [
    "print(\"sagemaker_model: \\n \", sagemaker_model)"
   ]
  },
  {
   "cell_type": "markdown",
   "metadata": {},
   "source": [
    "## 3. 모델 빌딩 파이프라인에서  실행 \n",
    "---\n",
    "\n"
   ]
  },
  {
   "cell_type": "markdown",
   "metadata": {},
   "source": [
    "### 모델 빌딩 파이프라인 변수 생성\n",
    "\n"
   ]
  },
  {
   "cell_type": "code",
   "execution_count": 11,
   "metadata": {},
   "outputs": [],
   "source": [
    "from sagemaker.workflow.parameters import (\n",
    "    ParameterInteger,\n",
    "    ParameterString,\n",
    ")\n",
    "\n",
    "processing_instance_count = ParameterInteger(\n",
    "    name=\"ProcessingInstanceCount\",\n",
    "    default_value=1\n",
    ")\n",
    "processing_instance_type = ParameterString(\n",
    "    name=\"ProcessingInstanceType\",\n",
    "    default_value=\"ml.m5.xlarge\"\n",
    ")"
   ]
  },
  {
   "cell_type": "markdown",
   "metadata": {},
   "source": [
    "### 배치추론 실행을 위해 배치 변환단계 정의 \n",
    "\n",
    "이제 모델 인스턴스가 정의되었습니다. 다음으로 `Transformer`인스턴스를 정의합니다. 적절한 모델 타입과 실행할 인스턴스타입, 출력이 저장될 S3 URI를 지정합니다. \n",
    "\n",
    "\n",
    "구체적으로는 `CreateModelStep`단계의 `step_create_model` 인스턴스의 속성 중 `ModelName`을 이용하여 모델명을 전달하였습니다. `CreateModelStep`의 `properties`속성은 [DescribeModel](https://docs.aws.amazon.com/sagemaker/latest/APIReference/API_DescribeModel.html) API의 응답 오브젝트와 대응됩니다. \n"
   ]
  },
  {
   "cell_type": "code",
   "execution_count": 12,
   "metadata": {},
   "outputs": [
    {
     "name": "stdout",
     "output_type": "stream",
     "text": [
      "batch_transform_output: \n",
      " s3://sagemaker-ap-northeast-2-057716757052/fraud2scratch\n"
     ]
    }
   ],
   "source": [
    "batch_data = ParameterString(\n",
    "    name=\"BatchData\",\n",
    "    default_value=input_batch_data_uri,\n",
    ")\n",
    "\n",
    "batch_transform_output = f\"s3://{default_bucket}/{project_prefix}\"\n",
    "print(\"batch_transform_output: \\n\", batch_transform_output)"
   ]
  },
  {
   "cell_type": "code",
   "execution_count": 29,
   "metadata": {},
   "outputs": [],
   "source": [
    "from sagemaker.transformer import Transformer\n",
    "\n",
    "\n",
    "transformer = Transformer(\n",
    "    model_name= sagemaker_model,\n",
    "    instance_type=\"ml.m5.xlarge\",\n",
    "    instance_count=1,\n",
    "    output_path= batch_transform_output\n",
    ")"
   ]
  },
  {
   "cell_type": "code",
   "execution_count": 30,
   "metadata": {},
   "outputs": [],
   "source": [
    "from sagemaker.inputs import TransformInput\n",
    "from sagemaker.workflow.steps import TransformStep\n",
    "\n",
    "\n",
    "step_transform = TransformStep(\n",
    "    name=\"FraudScratchTransform\",\n",
    "    transformer=transformer,\n",
    "    inputs=TransformInput(data= batch_data,  \n",
    "                           split_type='Line',\n",
    "                          content_type = \"text/csv\")\n",
    ")"
   ]
  },
  {
   "cell_type": "code",
   "execution_count": null,
   "metadata": {},
   "outputs": [],
   "source": []
  },
  {
   "cell_type": "markdown",
   "metadata": {},
   "source": [
    "### 파리마터, 단계, 조건을 조합하여 최종 파이프라인 정의\n",
    "\n"
   ]
  },
  {
   "cell_type": "code",
   "execution_count": 31,
   "metadata": {},
   "outputs": [],
   "source": [
    "from sagemaker.workflow.pipeline import Pipeline\n",
    "\n",
    "\n",
    "pipeline_name = project_prefix\n",
    "pipeline = Pipeline(\n",
    "    name=pipeline_name,\n",
    "    parameters=[\n",
    "#         processing_instance_type, \n",
    "#         processing_instance_count,\n",
    "        batch_data\n",
    "    ],\n",
    "    steps=[step_transform],\n",
    ")"
   ]
  },
  {
   "cell_type": "markdown",
   "metadata": {},
   "source": [
    "#### (선택) 파이프라인 정의 확인 \n",
    "\n",
    "파이프라인을 정의하는 JSON을 생성하고 파이프라인 내에서 사용하는 파라미터와 단계별 속성들이 잘 정의되었는지 확인할 수 있습니다."
   ]
  },
  {
   "cell_type": "code",
   "execution_count": 32,
   "metadata": {},
   "outputs": [],
   "source": [
    "import json\n",
    "\n",
    "\n",
    "definition = json.loads(pipeline.definition())\n",
    "# definition"
   ]
  },
  {
   "cell_type": "markdown",
   "metadata": {},
   "source": [
    "### 파이프라인을 SageMaker에 제출하고 실행하기 \n",
    "\n",
    "파이프라인 정의를 파이프라인 서비스에 제출합니다. 함께 전달되는 역할(role)을 이용하여 AWS에서 파이프라인을 생성하고 작업의 각 단계를 실행할 것입니다.   "
   ]
  },
  {
   "cell_type": "code",
   "execution_count": 33,
   "metadata": {},
   "outputs": [
    {
     "data": {
      "text/plain": [
       "{'PipelineArn': 'arn:aws:sagemaker:ap-northeast-2:057716757052:pipeline/fraud2scratch',\n",
       " 'ResponseMetadata': {'RequestId': 'ef9ac205-1b76-48c5-8d89-58f1f39703ac',\n",
       "  'HTTPStatusCode': 200,\n",
       "  'HTTPHeaders': {'x-amzn-requestid': 'ef9ac205-1b76-48c5-8d89-58f1f39703ac',\n",
       "   'content-type': 'application/x-amz-json-1.1',\n",
       "   'content-length': '86',\n",
       "   'date': 'Tue, 13 Apr 2021 12:15:37 GMT'},\n",
       "  'RetryAttempts': 0}}"
      ]
     },
     "execution_count": 33,
     "metadata": {},
     "output_type": "execute_result"
    }
   ],
   "source": [
    "pipeline.upsert(role_arn=role)"
   ]
  },
  {
   "cell_type": "code",
   "execution_count": 34,
   "metadata": {},
   "outputs": [],
   "source": [
    "execution = pipeline.start()"
   ]
  },
  {
   "cell_type": "markdown",
   "metadata": {},
   "source": [
    "### 파이프라인 운영: 파이프라인 대기 및 실행상태 확인\n",
    "\n",
    "워크플로우의 실행상황을 살펴봅니다. "
   ]
  },
  {
   "cell_type": "code",
   "execution_count": 35,
   "metadata": {},
   "outputs": [
    {
     "data": {
      "text/plain": [
       "{'PipelineArn': 'arn:aws:sagemaker:ap-northeast-2:057716757052:pipeline/fraud2scratch',\n",
       " 'PipelineExecutionArn': 'arn:aws:sagemaker:ap-northeast-2:057716757052:pipeline/fraud2scratch/execution/tjn7tdn4m8v7',\n",
       " 'PipelineExecutionDisplayName': 'execution-1618316138411',\n",
       " 'PipelineExecutionStatus': 'Executing',\n",
       " 'CreationTime': datetime.datetime(2021, 4, 13, 12, 15, 38, 288000, tzinfo=tzlocal()),\n",
       " 'LastModifiedTime': datetime.datetime(2021, 4, 13, 12, 15, 38, 288000, tzinfo=tzlocal()),\n",
       " 'CreatedBy': {},\n",
       " 'LastModifiedBy': {},\n",
       " 'ResponseMetadata': {'RequestId': '9d07393a-3ab0-4e7c-bcca-319326a8dd46',\n",
       "  'HTTPStatusCode': 200,\n",
       "  'HTTPHeaders': {'x-amzn-requestid': '9d07393a-3ab0-4e7c-bcca-319326a8dd46',\n",
       "   'content-type': 'application/x-amz-json-1.1',\n",
       "   'content-length': '401',\n",
       "   'date': 'Tue, 13 Apr 2021 12:15:38 GMT'},\n",
       "  'RetryAttempts': 0}}"
      ]
     },
     "execution_count": 35,
     "metadata": {},
     "output_type": "execute_result"
    }
   ],
   "source": [
    "execution.describe()\n",
    "# execution.wait()"
   ]
  },
  {
   "cell_type": "code",
   "execution_count": 36,
   "metadata": {},
   "outputs": [
    {
     "data": {
      "text/plain": [
       "[{'StepName': 'FraudScratchTransform',\n",
       "  'StartTime': datetime.datetime(2021, 4, 13, 12, 15, 39, 55000, tzinfo=tzlocal()),\n",
       "  'StepStatus': 'Executing',\n",
       "  'Metadata': {'TransformJob': {'Arn': 'arn:aws:sagemaker:ap-northeast-2:057716757052:transform-job/pipelines-tjn7tdn4m8v7-fraudscratchtransfor-gwrsalii3q'}}}]"
      ]
     },
     "execution_count": 36,
     "metadata": {},
     "output_type": "execute_result"
    }
   ],
   "source": [
    "execution.list_steps()"
   ]
  },
  {
   "cell_type": "code",
   "execution_count": null,
   "metadata": {},
   "outputs": [],
   "source": []
  }
 ],
 "metadata": {
  "instance_type": "ml.m5.large",
  "kernelspec": {
   "display_name": "conda_python3",
   "language": "python",
   "name": "conda_python3"
  },
  "language_info": {
   "codemirror_mode": {
    "name": "ipython",
    "version": 3
   },
   "file_extension": ".py",
   "mimetype": "text/x-python",
   "name": "python",
   "nbconvert_exporter": "python",
   "pygments_lexer": "ipython3",
   "version": "3.6.13"
  }
 },
 "nbformat": 4,
 "nbformat_minor": 4
}
