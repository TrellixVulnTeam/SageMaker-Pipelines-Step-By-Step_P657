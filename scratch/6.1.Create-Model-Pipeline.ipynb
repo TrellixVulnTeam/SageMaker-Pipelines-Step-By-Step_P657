{
 "cells": [
  {
   "cell_type": "markdown",
   "metadata": {},
   "source": [
    "# [모듈 6.1] 세이지메이커 모델 스텝 개발 (SageMaker Model Building Pipeline 훈련 스텝)\n",
    "\n",
    "이 노트북은 아래와 같은 목차로 진행 됩니다. 전체를 모두 실행시에 완료 시간은 약 5분-10분 소요 됩니다.\n",
    "\n",
    "- 0. 세이지메이커 모델 개요 \n",
    "- 1. 모델 빌딩 파이프라인에서 세이지 메이커 모델 생성 스텝 실행 \n",
    "    \n",
    "---"
   ]
  },
  {
   "cell_type": "markdown",
   "metadata": {},
   "source": [
    "# 0.세이지메이커 모델 개요"
   ]
  },
  {
   "cell_type": "markdown",
   "metadata": {},
   "source": [
    "## SageMaker 호스팅 서비스를 사용하여 모델 배포는 다음과 같은 3단계 프로세스\n",
    "\n",
    "![hosting-architecture.png](img/hosting-architecture.png)\n",
    "\n",
    "### (1) SageMaker 에서 모델 생성 (이 노트북에서 포함하는 내용임)\n",
    "- 모델을 생성하여 모델 컴포넌트를 찾을 수 있는 위치를 SageMaker 에 알려줍니다.\n",
    "    - 모델 컴포넌트: \n",
    "        - (1) 모델 결과물(아티펙트)이 저장되는 S3 경로 (model.tar.gz)\n",
    "        - (2) 추론 코드를 포함하는 이미지에 대한 도커 컨테이너 레지스트리 경로\n",
    "\n",
    "### (2) HTTPS endpoint에 대한 endpoint configuration 만들기\n",
    "- 프로덕션 변형(Product Varaiant) 에서 하나 이상의 모델 이름과 SageMaker 에서 각 프로덕션 변형을 호스트하기 위해 시작할 ML 인스턴스를 지정\n",
    "    - 프로덕션 변형의 중요 인자\n",
    "        - Model Name: 위의 \"(1)\" 에서 생성한 세이지 메이커 모델 경로\n",
    "        - InstanceType: 배포할 EC2 인스턴스 타입 (에: ml.m4.2xlarge)\n",
    "        - InitialInstanceCount: EC2 인스턴스 갯수\n",
    "\n",
    "### (3) HTTPS 엔드포인트 생성\n",
    "- endpoint configuration을 SageMaker에 제공합니다. SageMaker는 ML 인스턴스를 시작하고 configuration에서 지정된 대로 모델을 배포합니다. endpoint 에서 추론을 받으려면 클라이언트 애플리케이션에서 SageMaker 런타임 HTTPS 엔드포인트로 요청을 전송합니다. API에 대한 자세한 정보는 InvokeEndpoint API를 참조하십시오.\n",
    "\n",
    "\n",
    "\n",
    "### [참조] 세이지 메이커 훈련, 배포, 추론 아키텍쳐\n",
    "아래 그림에서 \"Deployment / hosting on ML compute instances\" 와 \"Endpoint\" 부분이 위의 세이지 메이커 모델 배포 3단계를 \n",
    "- 상세 사항은 여기를 참조 하세요. --> [Amazon SageMaker 에서 모델 배포](https://docs.aws.amazon.com/ko_kr/sagemaker/latest/dg/how-it-works-deployment.html)"
   ]
  },
  {
   "cell_type": "markdown",
   "metadata": {},
   "source": [
    "![sagemaker_architecture.png](img/sagemaker-architecture.png)\n",
    "### 예시: 세이지 메이커 모델 생성 내용\n",
    "- Container1: Image\n",
    "    - inference code가 사용하는 추론 다커 이미지 입니다.\n",
    "- Container1: Model data location\n",
    "    - 훈련 알고리즘(예: 사용자 정의 알고리즘 혹은 세이지 메이커 내장 알고리즘)으로 훈련을 하고 난후에 S3에 저장된 모델 아티펙트 입니다."
   ]
  },
  {
   "cell_type": "markdown",
   "metadata": {},
   "source": [
    "\n",
    "![sagemaker-model.png](img/sagemaker-model.png)"
   ]
  },
  {
   "cell_type": "markdown",
   "metadata": {},
   "source": [
    "# 1. 모델 빌딩 파이프라인에서 세이지 메이커 모델 생성 스텝 실행 \n",
    "---\n",
    "\n"
   ]
  },
  {
   "cell_type": "markdown",
   "metadata": {},
   "source": [
    "기본적인 세이지 메이커 정보를 가져옵니다."
   ]
  },
  {
   "cell_type": "code",
   "execution_count": 1,
   "metadata": {},
   "outputs": [],
   "source": [
    "import boto3\n",
    "import sagemaker\n",
    "import pandas as pd\n",
    "\n",
    "sagemaker_session = sagemaker.session.Session()\n",
    "role = sagemaker.get_execution_role()\n",
    "\n",
    "%store -r "
   ]
  },
  {
   "cell_type": "markdown",
   "metadata": {},
   "source": [
    "### 추론 실행에 사용할 모델 정의 \n",
    "\n",
    "모델을 사용하는 배치변환작업을 실행하기 위해 SageMaker Model을 생성합니다.\n",
    "\n",
    "```python\n",
    "model = Model(\n",
    "    image_uri= step_train.properties.AlgorithmSpecification.TrainingImage,\n",
    "    model_data= step_train.properties.ModelArtifacts.S3ModelArtifacts,\n",
    "    sagemaker_session=sagemaker_session,\n",
    "    role=role,\n",
    ")\n",
    "```\n",
    "\n",
    "구체적으로, `TrainingStep` 인스턴스인 `step_train`의 속성 중 `TrainingImagea, S3ModelArtifacts` 의 결과물을 입력으로 다시 사용합니다.\n",
    "- 아래의 예시는 '세이지 메이커 모델 생성' 스텝을 독립적으로 실행하기 위해서, 이전 노트북의 결과인 image_uri (모델 훈련시 다커 컨테이너 경로), model_data 또한 이전 노트북에서 모델 훈련의 아티펙트의 경로인 train_model_artifact를 사용합니다.\n",
    "- [알림] image_uri 를 여기서는 모델 훈련시의 다커 컨테이너와 동일하게 추론에서 사용했습니다. 추론 다커 컨테이너를 따로 구성해서 사용할 수도 있습니다.\n",
    "- [알림] `TrainingStep`의 `properties` 속성은 [DescribeTrainingJob](https://docs.aws.amazon.com/sagemaker/latest/APIReference/API_DescribeTrainingJob.html) API의 응답결과와 동일합니다.\n"
   ]
  },
  {
   "cell_type": "code",
   "execution_count": 2,
   "metadata": {},
   "outputs": [],
   "source": [
    "from sagemaker.model import Model\n",
    "\n",
    "# sklearn_image_uri = '366743142698.dkr.ecr.ap-northeast-2.amazonaws.com/sagemaker-scikit-learn:0.23-1-cpu-py3'\n",
    "\n",
    "model = Model(\n",
    "    image_uri=image_uri,\n",
    "#     image_uri=sklearn_image_uri,    \n",
    "    model_data= train_model_artifact,\n",
    "    sagemaker_session=sagemaker_session,\n",
    "    role=role,\n",
    ")"
   ]
  },
  {
   "cell_type": "code",
   "execution_count": 3,
   "metadata": {},
   "outputs": [],
   "source": [
    "from sagemaker.inputs import CreateModelInput\n",
    "from sagemaker.workflow.steps import CreateModelStep\n",
    "\n",
    "\n",
    "inputs = CreateModelInput(\n",
    "    instance_type=\"ml.m5.large\",\n",
    ")\n",
    "step_create_model = CreateModelStep(\n",
    "    name=\"FraudScratchModel\",\n",
    "    model=model,\n",
    "    inputs=inputs,\n",
    ")"
   ]
  },
  {
   "cell_type": "markdown",
   "metadata": {},
   "source": [
    "### 파리마터, 단계, 조건을 조합하여 최종 파이프라인 정의\n",
    "\n"
   ]
  },
  {
   "cell_type": "code",
   "execution_count": 4,
   "metadata": {},
   "outputs": [],
   "source": [
    "from sagemaker.workflow.pipeline import Pipeline\n",
    "\n",
    "\n",
    "pipeline_name = project_prefix\n",
    "pipeline = Pipeline(\n",
    "    name=pipeline_name,\n",
    "    steps=[step_create_model],\n",
    ")"
   ]
  },
  {
   "cell_type": "markdown",
   "metadata": {},
   "source": [
    "#### (선택) 파이프라인 정의 확인 \n",
    "\n",
    "파이프라인을 정의하는 JSON을 생성하고 파이프라인 내에서 사용하는 파라미터와 단계별 속성들이 잘 정의되었는지 확인할 수 있습니다."
   ]
  },
  {
   "cell_type": "code",
   "execution_count": 5,
   "metadata": {},
   "outputs": [],
   "source": [
    "import json\n",
    "\n",
    "\n",
    "definition = json.loads(pipeline.definition())\n",
    "# definition"
   ]
  },
  {
   "cell_type": "markdown",
   "metadata": {},
   "source": [
    "#### 파이프라인을 SageMaker에 제출하고 실행하기 \n",
    "\n",
    "파이프라인 정의를 SageMaker Pipelines 서비스에 제출하여 파이프라인을 생성하거나 파이프라인이 이미 존재하면 파이프라인 정의를 업데이트합니다. 함께 전달되는 역할(role)을 이용하여 AWS에서 파이프라인을 생성하고 작업의 각 단계를 실행할 것입니다.   "
   ]
  },
  {
   "cell_type": "code",
   "execution_count": 6,
   "metadata": {},
   "outputs": [
    {
     "data": {
      "text/plain": [
       "{'PipelineArn': 'arn:aws:sagemaker:ap-northeast-2:057716757052:pipeline/sagemaker-pipeline-step-by-step',\n",
       " 'ResponseMetadata': {'RequestId': 'e8e69e09-aaed-4481-8891-cf77a400e86c',\n",
       "  'HTTPStatusCode': 200,\n",
       "  'HTTPHeaders': {'x-amzn-requestid': 'e8e69e09-aaed-4481-8891-cf77a400e86c',\n",
       "   'content-type': 'application/x-amz-json-1.1',\n",
       "   'content-length': '104',\n",
       "   'date': 'Sun, 11 Jul 2021 03:16:04 GMT'},\n",
       "  'RetryAttempts': 0}}"
      ]
     },
     "execution_count": 6,
     "metadata": {},
     "output_type": "execute_result"
    }
   ],
   "source": [
    "pipeline.upsert(role_arn=role)"
   ]
  },
  {
   "cell_type": "code",
   "execution_count": 7,
   "metadata": {},
   "outputs": [],
   "source": [
    "execution = pipeline.start()"
   ]
  },
  {
   "cell_type": "markdown",
   "metadata": {},
   "source": [
    "### 파이프라인 운영: 파이프라인 대기 및 실행상태 확인\n",
    "\n",
    "워크플로우의 실행상황을 살펴봅니다. "
   ]
  },
  {
   "cell_type": "code",
   "execution_count": 8,
   "metadata": {},
   "outputs": [],
   "source": [
    "execution.describe()\n",
    "execution.wait()"
   ]
  },
  {
   "cell_type": "code",
   "execution_count": 9,
   "metadata": {},
   "outputs": [
    {
     "data": {
      "text/plain": [
       "[{'StepName': 'FraudScratchModel',\n",
       "  'StartTime': datetime.datetime(2021, 7, 11, 3, 16, 5, 726000, tzinfo=tzlocal()),\n",
       "  'EndTime': datetime.datetime(2021, 7, 11, 3, 16, 6, 552000, tzinfo=tzlocal()),\n",
       "  'StepStatus': 'Succeeded',\n",
       "  'Metadata': {'Model': {'Arn': 'arn:aws:sagemaker:ap-northeast-2:057716757052:model/pipelines-im40b7hcs5s1-fraudscratchmodel-kydsghz1zj'}}}]"
      ]
     },
     "execution_count": 9,
     "metadata": {},
     "output_type": "execute_result"
    }
   ],
   "source": [
    "execution.list_steps()"
   ]
  },
  {
   "cell_type": "markdown",
   "metadata": {},
   "source": [
    "### SageMaker Studio에서 확인하기\n",
    "- 이전의 3.1.Preprocesing-Pipleline 노트북에서 언급 되었듯이, SageMaker Studio 에서도 확인이 가능합니다. 이전 노트북을 참조 해주세요.\n"
   ]
  },
  {
   "cell_type": "markdown",
   "metadata": {},
   "source": [
    "### 세이지 메이커 모델의 경로를 저장함. \n",
    "- 다음 노트북에서 사용합니다."
   ]
  },
  {
   "cell_type": "code",
   "execution_count": 10,
   "metadata": {},
   "outputs": [
    {
     "name": "stdout",
     "output_type": "stream",
     "text": [
      "sagemaker_model: \n",
      " pipelines-im40b7hcs5s1-fraudscratchmodel-kydsghz1zj\n",
      "Stored 'sagemaker_model' (str)\n"
     ]
    }
   ],
   "source": [
    "response = execution.list_steps()\n",
    "sagemaker_model = response[0]['Metadata']['Model']['Arn'].split(\"/\")[-1]\n",
    "print(\"sagemaker_model: \\n\", sagemaker_model)\n",
    "\n",
    "%store sagemaker_model"
   ]
  },
  {
   "cell_type": "code",
   "execution_count": null,
   "metadata": {},
   "outputs": [],
   "source": []
  }
 ],
 "metadata": {
  "instance_type": "ml.m5.large",
  "kernelspec": {
   "display_name": "conda_python3",
   "language": "python",
   "name": "conda_python3"
  },
  "language_info": {
   "codemirror_mode": {
    "name": "ipython",
    "version": 3
   },
   "file_extension": ".py",
   "mimetype": "text/x-python",
   "name": "python",
   "nbconvert_exporter": "python",
   "pygments_lexer": "ipython3",
   "version": "3.6.13"
  }
 },
 "nbformat": 4,
 "nbformat_minor": 4
}
