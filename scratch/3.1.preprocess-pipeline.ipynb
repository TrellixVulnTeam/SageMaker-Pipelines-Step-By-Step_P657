{
 "cells": [
  {
   "cell_type": "markdown",
   "metadata": {},
   "source": [
    "# [모듈 3.1] 전처리 스텝 개발"
   ]
  },
  {
   "cell_type": "markdown",
   "metadata": {},
   "source": [
    "## 0. 기본 세이지 메이커 정보 및 기본 변수 로딩"
   ]
  },
  {
   "cell_type": "code",
   "execution_count": 1,
   "metadata": {},
   "outputs": [
    {
     "name": "stdout",
     "output_type": "stream",
     "text": [
      "Stored variables and their in-db values:\n",
      "base_preproc_input_dir                -> 'opt/ml/processing/input'\n",
      "dataset_path                          -> 'opt/ml/processing/input/dataset.csv'\n",
      "input_data_uri                        -> 's3://sagemaker-ap-northeast-2-057716757052/fraud2\n",
      "processing_instance_count             -> ParameterInteger(name='ProcessingInstanceCount', p\n",
      "project_prefix                        -> 'fraud2scratch'\n",
      "s3_dataset_path                       -> 's3://sagemaker-ap-northeast-2-057716757052/fraud2\n"
     ]
    }
   ],
   "source": [
    "import boto3\n",
    "import sagemaker\n",
    "import pandas as pd\n",
    "\n",
    "region = boto3.Session().region_name\n",
    "sagemaker_session = sagemaker.session.Session()\n",
    "role = sagemaker.get_execution_role()\n",
    "\n",
    "%store -r \n",
    "%store"
   ]
  },
  {
   "cell_type": "markdown",
   "metadata": {},
   "source": [
    "## 1. 노트북 변수 설정\n",
    "---"
   ]
  },
  {
   "cell_type": "code",
   "execution_count": 2,
   "metadata": {},
   "outputs": [
    {
     "name": "stdout",
     "output_type": "stream",
     "text": [
      "Stored 'preprocessing_code_dir' (str)\n"
     ]
    }
   ],
   "source": [
    "preprocessing_code_dir = 'fraud/preprocessing.py'\n",
    "%store preprocessing_code_dir"
   ]
  },
  {
   "cell_type": "markdown",
   "metadata": {},
   "source": [
    "## 2.로컬 노트북에서 전처리 로직 실행 \n",
    "---"
   ]
  },
  {
   "cell_type": "markdown",
   "metadata": {},
   "source": [
    "### 로컬 환경 셋업 \n",
    "\n",
    "로컬에서 테스트 하기 위해 다커 컨테이너와 같은 환경 생성"
   ]
  },
  {
   "cell_type": "code",
   "execution_count": 3,
   "metadata": {},
   "outputs": [],
   "source": [
    "import os\n",
    "base_output_dir = 'opt/ml/processing/output'\n",
    "# base_preproc_dir = 'opt/ml/processing'\n",
    "\n",
    "base_preproc_input_dir = 'opt/ml/processing/input'\n",
    "os.makedirs(base_preproc_input_dir, exist_ok=True)\n",
    "\n",
    "base_train_dir = 'opt/ml/processing/output/train'\n",
    "os.makedirs(base_train_dir, exist_ok=True)\n",
    "\n",
    "base_validation_dir = 'opt/ml/processing/output/validation'\n",
    "os.makedirs(base_validation_dir, exist_ok=True)\n",
    "\n",
    "base_test_dir = 'opt/ml/processing/output/test'\n",
    "os.makedirs(base_test_dir, exist_ok=True)\n"
   ]
  },
  {
   "cell_type": "markdown",
   "metadata": {},
   "source": [
    "### 로컬에서 스크립트 실행"
   ]
  },
  {
   "cell_type": "code",
   "execution_count": 4,
   "metadata": {},
   "outputs": [
    {
     "name": "stdout",
     "output_type": "stream",
     "text": [
      "numpy version:  1.19.5\n",
      "#############################################\n",
      "args.base_output_dir: opt/ml/processing/output\n",
      "args.base_preproc_input_dir: opt/ml/processing/input\n",
      "args.label_column: fraud\n",
      "input files: \n",
      " ['opt/ml/processing/input/dataset.csv']\n",
      "dataset sample \n",
      "    fraud  incident_type_theft  ...  collision_type_rear  collision_type_front\n",
      "0      0                    0  ...                    1                     0\n",
      "1      0                    0  ...                    1                     0\n",
      "\n",
      "[2 rows x 46 columns]\n",
      "df columns \n",
      " Index(['fraud', 'incident_type_theft', 'policy_state_ca', 'policy_deductable',\n",
      "       'num_witnesses', 'policy_state_or', 'incident_month',\n",
      "       'customer_gender_female', 'num_insurers_past_5_years',\n",
      "       'customer_gender_male', 'total_claim_amount',\n",
      "       'authorities_contacted_police', 'incident_day', 'collision_type_side',\n",
      "       'customer_age', 'customer_education', 'driver_relationship_child',\n",
      "       'driver_relationship_spouse', 'injury_claim', 'incident_dow',\n",
      "       'collision_type_na', 'incident_severity', 'driver_relationship_self',\n",
      "       'num_claims_past_year', 'months_as_customer', 'auto_year',\n",
      "       'num_vehicles_involved', 'policy_state_nv',\n",
      "       'authorities_contacted_ambulance', 'num_injuries', 'policy_liability',\n",
      "       'police_report_available', 'driver_relationship_na',\n",
      "       'incident_type_breakin', 'authorities_contacted_none',\n",
      "       'authorities_contacted_fire', 'driver_relationship_other',\n",
      "       'policy_state_id', 'incident_hour', 'vehicle_claim',\n",
      "       'incident_type_collision', 'policy_annual_premium', 'policy_state_az',\n",
      "       'policy_state_wa', 'collision_type_rear', 'collision_type_front'],\n",
      "      dtype='object')\n",
      "preprocessed train path \n",
      " opt/ml/processing/output/train/train.csv\n",
      "preprocessed train shape \n",
      "        0\n",
      "0  14000\n",
      "1     46\n",
      "preprocessed train sample \n",
      "     0         1         2         3   ...        42        43        44        45\n",
      "0  0.0 -1.013756 -0.590689 -1.336790  ... -0.357993 -0.371021 -0.532477 -0.860431\n",
      "1  0.0  0.079060  0.293143 -0.508097  ... -0.357993 -0.371021 -0.532477 -0.860431\n",
      "\n",
      "[2 rows x 46 columns]\n",
      "All files are preprocessed\n"
     ]
    }
   ],
   "source": [
    "! python fraud/preprocessing.py --base_preproc_input_dir {base_preproc_input_dir} --base_output_dir {base_output_dir} \n"
   ]
  },
  {
   "cell_type": "markdown",
   "metadata": {},
   "source": [
    "## 3. 로컬 다커 컨테이너에서 전처리 로직 실행 \n",
    "---\n"
   ]
  },
  {
   "cell_type": "code",
   "execution_count": 5,
   "metadata": {},
   "outputs": [
    {
     "name": "stdout",
     "output_type": "stream",
     "text": [
      "\n",
      "Job Name:  sagemaker-scikit-learn-2021-04-13-03-08-39-746\n",
      "Inputs:  [{'InputName': 'input-1', 'AppManaged': False, 'S3Input': {'S3Uri': 's3://sagemaker-ap-northeast-2-057716757052/fraud2scratch/input/dataset.csv', 'LocalPath': '/opt/ml/processing/input', 'S3DataType': 'S3Prefix', 'S3InputMode': 'File', 'S3DataDistributionType': 'FullyReplicated', 'S3CompressionType': 'None'}}, {'InputName': 'code', 'AppManaged': False, 'S3Input': {'S3Uri': 's3://sagemaker-ap-northeast-2-057716757052/sagemaker-scikit-learn-2021-04-13-03-08-39-746/input/code/preprocessing.py', 'LocalPath': '/opt/ml/processing/input/code', 'S3DataType': 'S3Prefix', 'S3InputMode': 'File', 'S3DataDistributionType': 'FullyReplicated', 'S3CompressionType': 'None'}}]\n",
      "Outputs:  [{'OutputName': 'output-1', 'AppManaged': False, 'S3Output': {'S3Uri': 's3://sagemaker-ap-northeast-2-057716757052/sagemaker-scikit-learn-2021-04-13-03-08-39-746/output/output-1', 'LocalPath': '/opt/ml/processing/output/train', 'S3UploadMode': 'EndOfJob'}}, {'OutputName': 'output-2', 'AppManaged': False, 'S3Output': {'S3Uri': 's3://sagemaker-ap-northeast-2-057716757052/sagemaker-scikit-learn-2021-04-13-03-08-39-746/output/output-2', 'LocalPath': '/opt/ml/processing/output/validation', 'S3UploadMode': 'EndOfJob'}}, {'OutputName': 'output-3', 'AppManaged': False, 'S3Output': {'S3Uri': 's3://sagemaker-ap-northeast-2-057716757052/sagemaker-scikit-learn-2021-04-13-03-08-39-746/output/output-3', 'LocalPath': '/opt/ml/processing/output/test', 'S3UploadMode': 'EndOfJob'}}]\n",
      "Creating 9pcef5i4ys-algo-1-ozdee ... \n",
      "Creating 9pcef5i4ys-algo-1-ozdee ... done\n",
      "Attaching to 9pcef5i4ys-algo-1-ozdee\n",
      "\u001b[36m9pcef5i4ys-algo-1-ozdee |\u001b[0m numpy version:  1.19.2\n",
      "\u001b[36m9pcef5i4ys-algo-1-ozdee |\u001b[0m #############################################\n",
      "\u001b[36m9pcef5i4ys-algo-1-ozdee |\u001b[0m args.base_output_dir: /opt/ml/processing/output\n",
      "\u001b[36m9pcef5i4ys-algo-1-ozdee |\u001b[0m args.base_preproc_input_dir: /opt/ml/processing/input\n",
      "\u001b[36m9pcef5i4ys-algo-1-ozdee |\u001b[0m args.label_column: fraud\n",
      "\u001b[36m9pcef5i4ys-algo-1-ozdee |\u001b[0m input files: \n",
      "\u001b[36m9pcef5i4ys-algo-1-ozdee |\u001b[0m  ['/opt/ml/processing/input/dataset.csv']\n",
      "\u001b[36m9pcef5i4ys-algo-1-ozdee |\u001b[0m dataset sample \n",
      "\u001b[36m9pcef5i4ys-algo-1-ozdee |\u001b[0m     fraud  ...  collision_type_front\n",
      "\u001b[36m9pcef5i4ys-algo-1-ozdee |\u001b[0m 0      0  ...                     0\n",
      "\u001b[36m9pcef5i4ys-algo-1-ozdee |\u001b[0m 1      0  ...                     0\n",
      "\u001b[36m9pcef5i4ys-algo-1-ozdee |\u001b[0m \n",
      "\u001b[36m9pcef5i4ys-algo-1-ozdee |\u001b[0m [2 rows x 46 columns]\n",
      "\u001b[36m9pcef5i4ys-algo-1-ozdee |\u001b[0m df columns \n",
      "\u001b[36m9pcef5i4ys-algo-1-ozdee |\u001b[0m  Index(['fraud', 'incident_type_theft', 'policy_state_ca', 'policy_deductable',\n",
      "\u001b[36m9pcef5i4ys-algo-1-ozdee |\u001b[0m        'num_witnesses', 'policy_state_or', 'incident_month',\n",
      "\u001b[36m9pcef5i4ys-algo-1-ozdee |\u001b[0m        'customer_gender_female', 'num_insurers_past_5_years',\n",
      "\u001b[36m9pcef5i4ys-algo-1-ozdee |\u001b[0m        'customer_gender_male', 'total_claim_amount',\n",
      "\u001b[36m9pcef5i4ys-algo-1-ozdee |\u001b[0m        'authorities_contacted_police', 'incident_day', 'collision_type_side',\n",
      "\u001b[36m9pcef5i4ys-algo-1-ozdee |\u001b[0m        'customer_age', 'customer_education', 'driver_relationship_child',\n",
      "\u001b[36m9pcef5i4ys-algo-1-ozdee |\u001b[0m        'driver_relationship_spouse', 'injury_claim', 'incident_dow',\n",
      "\u001b[36m9pcef5i4ys-algo-1-ozdee |\u001b[0m        'collision_type_na', 'incident_severity', 'driver_relationship_self',\n",
      "\u001b[36m9pcef5i4ys-algo-1-ozdee |\u001b[0m        'num_claims_past_year', 'months_as_customer', 'auto_year',\n",
      "\u001b[36m9pcef5i4ys-algo-1-ozdee |\u001b[0m        'num_vehicles_involved', 'policy_state_nv',\n",
      "\u001b[36m9pcef5i4ys-algo-1-ozdee |\u001b[0m        'authorities_contacted_ambulance', 'num_injuries', 'policy_liability',\n",
      "\u001b[36m9pcef5i4ys-algo-1-ozdee |\u001b[0m        'police_report_available', 'driver_relationship_na',\n",
      "\u001b[36m9pcef5i4ys-algo-1-ozdee |\u001b[0m        'incident_type_breakin', 'authorities_contacted_none',\n",
      "\u001b[36m9pcef5i4ys-algo-1-ozdee |\u001b[0m        'authorities_contacted_fire', 'driver_relationship_other',\n",
      "\u001b[36m9pcef5i4ys-algo-1-ozdee |\u001b[0m        'policy_state_id', 'incident_hour', 'vehicle_claim',\n",
      "\u001b[36m9pcef5i4ys-algo-1-ozdee |\u001b[0m        'incident_type_collision', 'policy_annual_premium', 'policy_state_az',\n",
      "\u001b[36m9pcef5i4ys-algo-1-ozdee |\u001b[0m        'policy_state_wa', 'collision_type_rear', 'collision_type_front'],\n",
      "\u001b[36m9pcef5i4ys-algo-1-ozdee |\u001b[0m       dtype='object')\n",
      "\u001b[36m9pcef5i4ys-algo-1-ozdee |\u001b[0m preprocessed train path \n",
      "\u001b[36m9pcef5i4ys-algo-1-ozdee |\u001b[0m  /opt/ml/processing/output/train/train.csv\n",
      "\u001b[36m9pcef5i4ys-algo-1-ozdee |\u001b[0m preprocessed train shape \n",
      "\u001b[36m9pcef5i4ys-algo-1-ozdee |\u001b[0m         0\n",
      "\u001b[36m9pcef5i4ys-algo-1-ozdee |\u001b[0m 0  14000\n",
      "\u001b[36m9pcef5i4ys-algo-1-ozdee |\u001b[0m 1     46\n",
      "\u001b[36m9pcef5i4ys-algo-1-ozdee |\u001b[0m preprocessed train sample \n",
      "\u001b[36m9pcef5i4ys-algo-1-ozdee |\u001b[0m      0   ...        45\n",
      "\u001b[36m9pcef5i4ys-algo-1-ozdee |\u001b[0m 0  0.0  ... -0.860431\n",
      "\u001b[36m9pcef5i4ys-algo-1-ozdee |\u001b[0m 1  0.0  ... -0.860431\n",
      "\u001b[36m9pcef5i4ys-algo-1-ozdee |\u001b[0m \n",
      "\u001b[36m9pcef5i4ys-algo-1-ozdee |\u001b[0m [2 rows x 46 columns]\n",
      "\u001b[36m9pcef5i4ys-algo-1-ozdee |\u001b[0m All files are preprocessed\n",
      "\u001b[36m9pcef5i4ys-algo-1-ozdee exited with code 0\n",
      "\u001b[0mAborting on container exit...\n",
      "===== Job Complete =====\n",
      "."
     ]
    }
   ],
   "source": [
    "from sagemaker.sklearn.processing import SKLearnProcessor\n",
    "from sagemaker.processing import ProcessingInput, ProcessingOutput\n",
    "\n",
    "instance_type = 'local'\n",
    "sklearn_processor = SKLearnProcessor(framework_version= \"0.23-1\",\n",
    "                                     role=role,\n",
    "                                     instance_type= instance_type,\n",
    "                                     instance_count=1)\n",
    "\n",
    "sklearn_processor.run(code= preprocessing_code_dir,\n",
    "                      inputs=[ProcessingInput(\n",
    "                        source=input_data_uri,\n",
    "                        destination='/opt/ml/processing/input')],\n",
    "                      outputs=[ProcessingOutput(source='/opt/ml/processing/output/train'),\n",
    "                               ProcessingOutput(source='/opt/ml/processing/output/validation'),\n",
    "                               ProcessingOutput(source='/opt/ml/processing/output/test')]\n",
    "                     )"
   ]
  },
  {
   "cell_type": "markdown",
   "metadata": {},
   "source": [
    "## 4. 모델 빌딩 파이프라인에서  실행 \n",
    "---\n",
    "\n"
   ]
  },
  {
   "cell_type": "markdown",
   "metadata": {},
   "source": [
    "### 모델 빌딩 파이프라인 변수 생성\n",
    "\n"
   ]
  },
  {
   "cell_type": "code",
   "execution_count": 6,
   "metadata": {},
   "outputs": [],
   "source": [
    "from sagemaker.workflow.parameters import (\n",
    "    ParameterInteger,\n",
    "    ParameterString,\n",
    ")\n",
    "\n",
    "processing_instance_count = ParameterInteger(\n",
    "    name=\"ProcessingInstanceCount\",\n",
    "    default_value=1\n",
    ")\n",
    "processing_instance_type = ParameterString(\n",
    "    name=\"ProcessingInstanceType\",\n",
    "    default_value=\"ml.m5.xlarge\"\n",
    ")\n",
    "\n",
    "input_data = ParameterString(\n",
    "    name=\"InputData\",\n",
    "    default_value=input_data_uri,\n",
    ")\n"
   ]
  },
  {
   "cell_type": "markdown",
   "metadata": {},
   "source": [
    "### 전처리 스텝 단계 정의"
   ]
  },
  {
   "cell_type": "code",
   "execution_count": 7,
   "metadata": {},
   "outputs": [
    {
     "name": "stdout",
     "output_type": "stream",
     "text": [
      "input_data: \n",
      " s3://sagemaker-ap-northeast-2-057716757052/fraud2scratch/input/dataset.csv\n"
     ]
    }
   ],
   "source": [
    "from sagemaker.sklearn.processing import SKLearnProcessor\n",
    "\n",
    "framework_version = \"0.23-1\"\n",
    "\n",
    "sklearn_processor = SKLearnProcessor(\n",
    "    framework_version=framework_version,\n",
    "    instance_type=processing_instance_type,\n",
    "    instance_count=processing_instance_count,\n",
    "    base_job_name=\"sklearn-fraud-process\",\n",
    "    role=role,\n",
    ")\n",
    "print(\"input_data: \\n\", input_data)"
   ]
  },
  {
   "cell_type": "code",
   "execution_count": 8,
   "metadata": {},
   "outputs": [],
   "source": [
    "from sagemaker.processing import ProcessingInput, ProcessingOutput\n",
    "from sagemaker.workflow.steps import ProcessingStep\n",
    "    \n",
    "\n",
    "step_process = ProcessingStep(\n",
    "    name=\"FraudScratchProcess\",\n",
    "    processor=sklearn_processor,\n",
    "    inputs=[\n",
    "      ProcessingInput(source=input_data, destination=\"/opt/ml/processing/input\"),  \n",
    "    ],\n",
    "    outputs=[\n",
    "        ProcessingOutput(output_name=\"train\", source=\"/opt/ml/processing/output/train\"),\n",
    "        ProcessingOutput(output_name=\"validation\", source=\"/opt/ml/processing/output/validation\"),\n",
    "        ProcessingOutput(output_name=\"test\", source=\"/opt/ml/processing/output/test\")\n",
    "    ],\n",
    "    code= preprocessing_code_dir,\n",
    ")"
   ]
  },
  {
   "cell_type": "markdown",
   "metadata": {},
   "source": [
    "### 파리마터, 단계, 조건을 조합하여 최종 파이프라인 정의\n",
    "\n"
   ]
  },
  {
   "cell_type": "code",
   "execution_count": 9,
   "metadata": {},
   "outputs": [],
   "source": [
    "from sagemaker.workflow.pipeline import Pipeline\n",
    "\n",
    "\n",
    "pipeline_name = f\"FraudScratchPreprocessing\"\n",
    "pipeline = Pipeline(\n",
    "    name=pipeline_name,\n",
    "    parameters=[\n",
    "        processing_instance_type, \n",
    "        processing_instance_count,\n",
    "        input_data,\n",
    "    ],\n",
    "    steps=[step_process],\n",
    ")"
   ]
  },
  {
   "cell_type": "markdown",
   "metadata": {},
   "source": [
    "#### (선택) 파이프라인 정의 확인 \n",
    "\n",
    "파이프라인을 정의하는 JSON을 생성하고 파이프라인 내에서 사용하는 파라미터와 단계별 속성들이 잘 정의되었는지 확인할 수 있습니다."
   ]
  },
  {
   "cell_type": "code",
   "execution_count": 10,
   "metadata": {},
   "outputs": [
    {
     "data": {
      "text/plain": [
       "{'Version': '2020-12-01',\n",
       " 'Metadata': {},\n",
       " 'Parameters': [{'Name': 'ProcessingInstanceType',\n",
       "   'Type': 'String',\n",
       "   'DefaultValue': 'ml.m5.xlarge'},\n",
       "  {'Name': 'ProcessingInstanceCount', 'Type': 'Integer', 'DefaultValue': 1},\n",
       "  {'Name': 'InputData',\n",
       "   'Type': 'String',\n",
       "   'DefaultValue': 's3://sagemaker-ap-northeast-2-057716757052/fraud2scratch/input/dataset.csv'}],\n",
       " 'Steps': [{'Name': 'FraudScratchProcess',\n",
       "   'Type': 'Processing',\n",
       "   'Arguments': {'ProcessingResources': {'ClusterConfig': {'InstanceType': {'Get': 'Parameters.ProcessingInstanceType'},\n",
       "      'InstanceCount': {'Get': 'Parameters.ProcessingInstanceCount'},\n",
       "      'VolumeSizeInGB': 30}},\n",
       "    'AppSpecification': {'ImageUri': '366743142698.dkr.ecr.ap-northeast-2.amazonaws.com/sagemaker-scikit-learn:0.23-1-cpu-py3',\n",
       "     'ContainerEntrypoint': ['python3',\n",
       "      '/opt/ml/processing/input/code/preprocessing.py']},\n",
       "    'RoleArn': 'arn:aws:iam::057716757052:role/service-role/AmazonSageMaker-ExecutionRole-20210120T193680',\n",
       "    'ProcessingInputs': [{'InputName': 'input-1',\n",
       "      'AppManaged': False,\n",
       "      'S3Input': {'S3Uri': {'Get': 'Parameters.InputData'},\n",
       "       'LocalPath': '/opt/ml/processing/input',\n",
       "       'S3DataType': 'S3Prefix',\n",
       "       'S3InputMode': 'File',\n",
       "       'S3DataDistributionType': 'FullyReplicated',\n",
       "       'S3CompressionType': 'None'}},\n",
       "     {'InputName': 'code',\n",
       "      'AppManaged': False,\n",
       "      'S3Input': {'S3Uri': 's3://sagemaker-ap-northeast-2-057716757052/sklearn-fraud-process-2021-04-13-03-08-45-278/input/code/preprocessing.py',\n",
       "       'LocalPath': '/opt/ml/processing/input/code',\n",
       "       'S3DataType': 'S3Prefix',\n",
       "       'S3InputMode': 'File',\n",
       "       'S3DataDistributionType': 'FullyReplicated',\n",
       "       'S3CompressionType': 'None'}}],\n",
       "    'ProcessingOutputConfig': {'Outputs': [{'OutputName': 'train',\n",
       "       'AppManaged': False,\n",
       "       'S3Output': {'S3Uri': 's3://sagemaker-ap-northeast-2-057716757052/sklearn-fraud-process-2021-04-13-03-08-45-278/output/train',\n",
       "        'LocalPath': '/opt/ml/processing/output/train',\n",
       "        'S3UploadMode': 'EndOfJob'}},\n",
       "      {'OutputName': 'validation',\n",
       "       'AppManaged': False,\n",
       "       'S3Output': {'S3Uri': 's3://sagemaker-ap-northeast-2-057716757052/sklearn-fraud-process-2021-04-13-03-08-45-278/output/validation',\n",
       "        'LocalPath': '/opt/ml/processing/output/validation',\n",
       "        'S3UploadMode': 'EndOfJob'}},\n",
       "      {'OutputName': 'test',\n",
       "       'AppManaged': False,\n",
       "       'S3Output': {'S3Uri': 's3://sagemaker-ap-northeast-2-057716757052/sklearn-fraud-process-2021-04-13-03-08-45-278/output/test',\n",
       "        'LocalPath': '/opt/ml/processing/output/test',\n",
       "        'S3UploadMode': 'EndOfJob'}}]}}}]}"
      ]
     },
     "execution_count": 10,
     "metadata": {},
     "output_type": "execute_result"
    }
   ],
   "source": [
    "import json\n",
    "\n",
    "\n",
    "definition = json.loads(pipeline.definition())\n",
    "definition"
   ]
  },
  {
   "cell_type": "markdown",
   "metadata": {},
   "source": [
    "### 파이프라인을 SageMaker에 제출하고 실행하기 \n",
    "\n",
    "파이프라인 정의를 파이프라인 서비스에 제출합니다. 함께 전달되는 역할(role)을 이용하여 AWS에서 파이프라인을 생성하고 작업의 각 단계를 실행할 것입니다.   "
   ]
  },
  {
   "cell_type": "code",
   "execution_count": 11,
   "metadata": {},
   "outputs": [
    {
     "data": {
      "text/plain": [
       "{'PipelineArn': 'arn:aws:sagemaker:ap-northeast-2:057716757052:pipeline/fraudscratchpreprocessing',\n",
       " 'ResponseMetadata': {'RequestId': '443bda3d-6aea-467b-8101-ba847eb1e63b',\n",
       "  'HTTPStatusCode': 200,\n",
       "  'HTTPHeaders': {'x-amzn-requestid': '443bda3d-6aea-467b-8101-ba847eb1e63b',\n",
       "   'content-type': 'application/x-amz-json-1.1',\n",
       "   'content-length': '98',\n",
       "   'date': 'Tue, 13 Apr 2021 03:08:45 GMT'},\n",
       "  'RetryAttempts': 0}}"
      ]
     },
     "execution_count": 11,
     "metadata": {},
     "output_type": "execute_result"
    }
   ],
   "source": [
    "pipeline.upsert(role_arn=role)"
   ]
  },
  {
   "cell_type": "markdown",
   "metadata": {},
   "source": [
    "디폴트값을 이용하여 파이프라인을 샐행합니다. "
   ]
  },
  {
   "cell_type": "code",
   "execution_count": 12,
   "metadata": {},
   "outputs": [],
   "source": [
    "execution = pipeline.start()"
   ]
  },
  {
   "cell_type": "markdown",
   "metadata": {},
   "source": [
    "## 파이프라인 운영: 파이프라인 대기 및 실행상태 확인\n",
    "\n",
    "워크플로우의 실행상황을 살펴봅니다. "
   ]
  },
  {
   "cell_type": "code",
   "execution_count": 13,
   "metadata": {},
   "outputs": [
    {
     "data": {
      "text/plain": [
       "{'PipelineArn': 'arn:aws:sagemaker:ap-northeast-2:057716757052:pipeline/fraudscratchpreprocessing',\n",
       " 'PipelineExecutionArn': 'arn:aws:sagemaker:ap-northeast-2:057716757052:pipeline/fraudscratchpreprocessing/execution/zmuxp5ebvie9',\n",
       " 'PipelineExecutionDisplayName': 'execution-1618283326240',\n",
       " 'PipelineExecutionStatus': 'Executing',\n",
       " 'CreationTime': datetime.datetime(2021, 4, 13, 3, 8, 46, 175000, tzinfo=tzlocal()),\n",
       " 'LastModifiedTime': datetime.datetime(2021, 4, 13, 3, 8, 46, 175000, tzinfo=tzlocal()),\n",
       " 'CreatedBy': {},\n",
       " 'LastModifiedBy': {},\n",
       " 'ResponseMetadata': {'RequestId': '9ebe93d1-81c2-4471-aefb-9c0d3ee19391',\n",
       "  'HTTPStatusCode': 200,\n",
       "  'HTTPHeaders': {'x-amzn-requestid': '9ebe93d1-81c2-4471-aefb-9c0d3ee19391',\n",
       "   'content-type': 'application/x-amz-json-1.1',\n",
       "   'content-length': '425',\n",
       "   'date': 'Tue, 13 Apr 2021 03:08:45 GMT'},\n",
       "  'RetryAttempts': 0}}"
      ]
     },
     "execution_count": 13,
     "metadata": {},
     "output_type": "execute_result"
    }
   ],
   "source": [
    "execution.describe()\n",
    "# execution.wait()"
   ]
  },
  {
   "cell_type": "markdown",
   "metadata": {},
   "source": [
    "실행이 완료될 때까지 기다립니다."
   ]
  },
  {
   "cell_type": "markdown",
   "metadata": {},
   "source": [
    "실행된 단계들을 리스트업합니다. 파이프라인의 단계실행 서비스에 의해 시작되거나 완료된 단계를 보여줍니다."
   ]
  },
  {
   "cell_type": "code",
   "execution_count": 16,
   "metadata": {},
   "outputs": [
    {
     "data": {
      "text/plain": [
       "[{'StepName': 'FraudScratchProcess',\n",
       "  'StartTime': datetime.datetime(2021, 4, 13, 3, 8, 46, 826000, tzinfo=tzlocal()),\n",
       "  'EndTime': datetime.datetime(2021, 4, 13, 3, 12, 33, 784000, tzinfo=tzlocal()),\n",
       "  'StepStatus': 'Succeeded',\n",
       "  'Metadata': {'ProcessingJob': {'Arn': 'arn:aws:sagemaker:ap-northeast-2:057716757052:processing-job/pipelines-zmuxp5ebvie9-fraudscratchprocess-ysitzyiwmb'}}}]"
      ]
     },
     "execution_count": 16,
     "metadata": {},
     "output_type": "execute_result"
    }
   ],
   "source": [
    "execution.list_steps()"
   ]
  },
  {
   "cell_type": "markdown",
   "metadata": {},
   "source": [
    "## 아티펙트 경로 추출"
   ]
  },
  {
   "cell_type": "code",
   "execution_count": 43,
   "metadata": {},
   "outputs": [
    {
     "name": "stdout",
     "output_type": "stream",
     "text": [
      "train_preproc_artifact:  s3://sagemaker-ap-northeast-2-057716757052/sklearn-fraud-process-2021-04-13-03-08-45-278/output/train\n",
      "val_preproc_artifact:  s3://sagemaker-ap-northeast-2-057716757052/sklearn-fraud-process-2021-04-13-03-08-45-278/output/train\n",
      "test_preproc_artifact:  s3://sagemaker-ap-northeast-2-057716757052/sklearn-fraud-process-2021-04-13-03-08-45-278/output/test\n",
      "Stored 'train_preproc_dir_artifact' (str)\n",
      "Stored 'val_preproc_dir_artifact' (str)\n",
      "Stored 'test_preproc__dir_artifact' (str)\n"
     ]
    }
   ],
   "source": [
    "def get_proc_artifact(execution, client, kind=0):\n",
    "    '''\n",
    "    kind: 0 --> train\n",
    "    kind: 2 --> test\n",
    "    '''\n",
    "    response = execution.list_steps()\n",
    "    proc_arn = response[0]['Metadata']['ProcessingJob']['Arn']\n",
    "    proc_job_name = proc_arn.split('/')[-1]\n",
    "    # print(\"proc_job_name: \", proc_job_name)\n",
    "    \n",
    "    response = client.describe_processing_job(ProcessingJobName = proc_job_name)\n",
    "    train_preproc_artifact = response['ProcessingOutputConfig']['Outputs'][kind]['S3Output']['S3Uri']    \n",
    "    \n",
    "    return train_preproc_artifact\n",
    "\n",
    "import boto3\n",
    "client = boto3.client(\"sagemaker\")\n",
    "\n",
    "train_preproc_dir_artifact = get_proc_artifact(execution, client, kind=0 )\n",
    "val_preproc_dir_artifact = get_proc_artifact(execution, client, kind=1 )\n",
    "test_preproc__dir_artifact = get_proc_artifact(execution, client, kind=2 )\n",
    "print(\"train_preproc_artifact: \", train_preproc_artifact)\n",
    "print(\"val_preproc_artifact: \", train_preproc_artifact)\n",
    "print(\"test_preproc_artifact: \", test_preproc_artifact)\n",
    "\n",
    "%store train_preproc_dir_artifact\n",
    "%store val_preproc_dir_artifact\n",
    "%store test_preproc__dir_artifact"
   ]
  },
  {
   "cell_type": "code",
   "execution_count": null,
   "metadata": {},
   "outputs": [],
   "source": []
  }
 ],
 "metadata": {
  "instance_type": "ml.m5.large",
  "kernelspec": {
   "display_name": "conda_python3",
   "language": "python",
   "name": "conda_python3"
  },
  "language_info": {
   "codemirror_mode": {
    "name": "ipython",
    "version": 3
   },
   "file_extension": ".py",
   "mimetype": "text/x-python",
   "name": "python",
   "nbconvert_exporter": "python",
   "pygments_lexer": "ipython3",
   "version": "3.6.13"
  }
 },
 "nbformat": 4,
 "nbformat_minor": 4
}
