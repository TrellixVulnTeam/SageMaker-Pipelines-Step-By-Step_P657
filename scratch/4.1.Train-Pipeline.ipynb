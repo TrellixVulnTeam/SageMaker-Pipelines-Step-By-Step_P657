{
 "cells": [
  {
   "cell_type": "markdown",
   "metadata": {},
   "source": [
    "# [모듈 4.1] 훈련 스텝 개발 (SageMaker Training Step)\n",
    "---"
   ]
  },
  {
   "cell_type": "markdown",
   "metadata": {},
   "source": [
    "이 노트북은 세이지 메이커의 Training Job을 통해서 데이터 전처리를 합니다. \n",
    "- 일반적으로 크게 아래 4가지의 스텝으로 진행이 됩니다.\n",
    "    - S3에 훈련 파일 준비\n",
    "        - 이전 단계의 전처리시의 결과 파일을 사용 합니다.\n",
    "    - 훈련 알고리즘을 준비 (세이지 메이커 내장 알고리즘 혹은 사용자 정의 알고리즘 사용)\n",
    "        - 이 노트북에서는 사용자 정의 알고리즘을 코드로 기술 했습니다.\n",
    "    - Training Job을 생성시에 아래와 같은 항목을 제공합니다.\n",
    "        - Training Job을 실행할 EC2(예: ml.m4.2xlarge) 기술\n",
    "        - Ec2에서 로딩할 다커 이미지의 이름 기술\n",
    "            - 아래 그림의 ECR(Amazon Elastic Container Registry)에서 다운로드\n",
    "        - S3 입력 파일 경로\n",
    "        - 훈련 코드 경로\n",
    "        - 훈련 결과로서 모델 아티펙트 S3 경로 (지정하지 않으면 디폴트를 사용 합니다.)\n",
    "    - EC2에서 훈련 실행 하여 S3에 모델 아티펙트 저장\n",
    "- 상세한 사항은 개발자 가이드를 참조 하세요. -->  [모델 훈련](https://sagemaker.readthedocs.io/en/stable/overview.html#local-mode)"
   ]
  },
  {
   "cell_type": "markdown",
   "metadata": {},
   "source": [
    "![sagemaker-training.png](img/sagemaker-training.png)"
   ]
  },
  {
   "cell_type": "markdown",
   "metadata": {},
   "source": [
    "---\n",
    "## 위와 같은 전처리를 개발하기 위해서는 아래 3개의 단계를 수행합니다.\n",
    "\n",
    "### (1) 로컬 노트북 인스턴스에서 다커 컨테이너로 훈련 코드 실행 (로컬 모드로 불리움)\n",
    "- 로컬 노트북 인스턴스의 다커 컨테이너로 실행하기 이전에, 쥬피터 노트북에서 훈련 코드를 실행할 수 있습니다. 이 노트북에서는 이 과정을 생략 했습니다.\n",
    "- [알림] 로컬 모드 참고 자료\n",
    "    - 로컬모드 설명하는 블로그 자료 --> [Use the Amazon SageMaker local mode to train on your notebook instance](https://aws.amazon.com/blogs/machine-learning/use-the-amazon-sagemaker-local-mode-to-train-on-your-notebook-instance/)\n",
    "    - TF, Pytorch, SKLean, SKLearn Processing JOb에 대한 로컬 모드 샘플 --> [Amazon SageMaker Local Mode Examples](https://github.com/aws-samples/amazon-sagemaker-local-mode)\n",
    "    - Python SDK -->  [로컬모드 Python SDK](https://sagemaker.readthedocs.io/en/stable/overview.html#local-mode)\n",
    "\n",
    "\n",
    "### (2) 세이지 메이커 호스트 모드로 (**로컬 노트북 인스턴스에서 실행이 되는 것이 아님**) 다커 컨테이너를 통해서 훈련 코드 실행      \n",
    "- 위의 (1) 단계에서 훈련 코드의 로직 확인이 되었기에, 실제 세이지 메이커의 호스트 모드로 다커 컨테이너를 통해 훈련 코드를 수행 합니다.\n",
    "    \n",
    "### (3) SageMaker Pipeline 에서 훈련을 수행합니다.\n",
    "- 상세 사항은 여기에서 확인 하세요. --> [Amazon SageMaker 모델 구축 파이프라인](img/https://docs.aws.amazon.com/ko_kr/sagemaker/latest/dg/pipelines.html)\n",
    "    "
   ]
  },
  {
   "cell_type": "markdown",
   "metadata": {},
   "source": [
    "## 0. 기본 세이지 메이커 정보 및 기본 변수 로딩"
   ]
  },
  {
   "cell_type": "code",
   "execution_count": 1,
   "metadata": {},
   "outputs": [],
   "source": [
    "import boto3\n",
    "import sagemaker\n",
    "import pandas as pd\n",
    "import os\n",
    "\n",
    "#region = boto3.Session().region_name\n",
    "sagemaker_session = sagemaker.session.Session()\n",
    "role = sagemaker.get_execution_role()\n",
    "\n",
    "# region = sagemaker.Session().boto_region_name\n",
    "# print(\"Using AWS Region: {}\".format(region))\n",
    "\n",
    "%store -r \n",
    "# 노트북에 저장되어 있는 변수를 보기 위해서는 주석을 제거하고 실행하시면 됩니다.\n",
    "# %store  "
   ]
  },
  {
   "cell_type": "markdown",
   "metadata": {},
   "source": [
    "## 1. 데이터 세트 로딩 및 기본 훈련 변수 설정\n",
    "- 이전 단계(전처리)에서 결과 파일을 로딩 합니다. 실제 훈련에 제공되는 데이터를 확인하기 위함 입니다.\n",
    "---"
   ]
  },
  {
   "cell_type": "code",
   "execution_count": 2,
   "metadata": {},
   "outputs": [
    {
     "name": "stdout",
     "output_type": "stream",
     "text": [
      "2021-06-26 08:56:22     767618 sklearn-fraud-process-2021-06-26-08-52-28-611/output/train/train.csv\n"
     ]
    }
   ],
   "source": [
    "! aws s3 ls {train_preproc_dir_artifact} --recursive"
   ]
  },
  {
   "cell_type": "code",
   "execution_count": 3,
   "metadata": {},
   "outputs": [
    {
     "data": {
      "text/html": [
       "<div>\n",
       "<style scoped>\n",
       "    .dataframe tbody tr th:only-of-type {\n",
       "        vertical-align: middle;\n",
       "    }\n",
       "\n",
       "    .dataframe tbody tr th {\n",
       "        vertical-align: top;\n",
       "    }\n",
       "\n",
       "    .dataframe thead th {\n",
       "        text-align: right;\n",
       "    }\n",
       "</style>\n",
       "<table border=\"1\" class=\"dataframe\">\n",
       "  <thead>\n",
       "    <tr style=\"text-align: right;\">\n",
       "      <th></th>\n",
       "      <th>fraud</th>\n",
       "      <th>vehicle_claim</th>\n",
       "      <th>total_claim_amount</th>\n",
       "      <th>customer_age</th>\n",
       "      <th>months_as_customer</th>\n",
       "      <th>num_claims_past_year</th>\n",
       "      <th>num_insurers_past_5_years</th>\n",
       "      <th>policy_deductable</th>\n",
       "      <th>policy_annual_premium</th>\n",
       "      <th>customer_zip</th>\n",
       "      <th>...</th>\n",
       "      <th>collision_type_missing</th>\n",
       "      <th>incident_severity_Major</th>\n",
       "      <th>incident_severity_Minor</th>\n",
       "      <th>incident_severity_Totaled</th>\n",
       "      <th>authorities_contacted_Ambulance</th>\n",
       "      <th>authorities_contacted_Fire</th>\n",
       "      <th>authorities_contacted_None</th>\n",
       "      <th>authorities_contacted_Police</th>\n",
       "      <th>police_report_available_No</th>\n",
       "      <th>police_report_available_Yes</th>\n",
       "    </tr>\n",
       "  </thead>\n",
       "  <tbody>\n",
       "    <tr>\n",
       "      <th>0</th>\n",
       "      <td>0</td>\n",
       "      <td>8913.668763</td>\n",
       "      <td>80513.668763</td>\n",
       "      <td>54</td>\n",
       "      <td>94</td>\n",
       "      <td>0</td>\n",
       "      <td>1</td>\n",
       "      <td>750</td>\n",
       "      <td>3000</td>\n",
       "      <td>99207</td>\n",
       "      <td>...</td>\n",
       "      <td>0</td>\n",
       "      <td>0</td>\n",
       "      <td>1</td>\n",
       "      <td>0</td>\n",
       "      <td>0</td>\n",
       "      <td>0</td>\n",
       "      <td>1</td>\n",
       "      <td>0</td>\n",
       "      <td>1</td>\n",
       "      <td>0</td>\n",
       "    </tr>\n",
       "    <tr>\n",
       "      <th>1</th>\n",
       "      <td>0</td>\n",
       "      <td>19746.724395</td>\n",
       "      <td>26146.724395</td>\n",
       "      <td>41</td>\n",
       "      <td>165</td>\n",
       "      <td>0</td>\n",
       "      <td>1</td>\n",
       "      <td>750</td>\n",
       "      <td>2950</td>\n",
       "      <td>95632</td>\n",
       "      <td>...</td>\n",
       "      <td>0</td>\n",
       "      <td>0</td>\n",
       "      <td>0</td>\n",
       "      <td>1</td>\n",
       "      <td>0</td>\n",
       "      <td>0</td>\n",
       "      <td>0</td>\n",
       "      <td>1</td>\n",
       "      <td>0</td>\n",
       "      <td>1</td>\n",
       "    </tr>\n",
       "    <tr>\n",
       "      <th>2</th>\n",
       "      <td>0</td>\n",
       "      <td>11652.969918</td>\n",
       "      <td>22052.969918</td>\n",
       "      <td>57</td>\n",
       "      <td>155</td>\n",
       "      <td>0</td>\n",
       "      <td>1</td>\n",
       "      <td>750</td>\n",
       "      <td>3000</td>\n",
       "      <td>93203</td>\n",
       "      <td>...</td>\n",
       "      <td>0</td>\n",
       "      <td>0</td>\n",
       "      <td>1</td>\n",
       "      <td>0</td>\n",
       "      <td>0</td>\n",
       "      <td>0</td>\n",
       "      <td>0</td>\n",
       "      <td>1</td>\n",
       "      <td>0</td>\n",
       "      <td>1</td>\n",
       "    </tr>\n",
       "    <tr>\n",
       "      <th>3</th>\n",
       "      <td>0</td>\n",
       "      <td>11260.930936</td>\n",
       "      <td>115960.930936</td>\n",
       "      <td>39</td>\n",
       "      <td>80</td>\n",
       "      <td>0</td>\n",
       "      <td>1</td>\n",
       "      <td>750</td>\n",
       "      <td>3000</td>\n",
       "      <td>85208</td>\n",
       "      <td>...</td>\n",
       "      <td>0</td>\n",
       "      <td>0</td>\n",
       "      <td>1</td>\n",
       "      <td>0</td>\n",
       "      <td>0</td>\n",
       "      <td>0</td>\n",
       "      <td>1</td>\n",
       "      <td>0</td>\n",
       "      <td>1</td>\n",
       "      <td>0</td>\n",
       "    </tr>\n",
       "    <tr>\n",
       "      <th>4</th>\n",
       "      <td>0</td>\n",
       "      <td>27987.704652</td>\n",
       "      <td>31387.704652</td>\n",
       "      <td>39</td>\n",
       "      <td>60</td>\n",
       "      <td>0</td>\n",
       "      <td>1</td>\n",
       "      <td>750</td>\n",
       "      <td>3000</td>\n",
       "      <td>91792</td>\n",
       "      <td>...</td>\n",
       "      <td>0</td>\n",
       "      <td>1</td>\n",
       "      <td>0</td>\n",
       "      <td>0</td>\n",
       "      <td>0</td>\n",
       "      <td>0</td>\n",
       "      <td>0</td>\n",
       "      <td>1</td>\n",
       "      <td>1</td>\n",
       "      <td>0</td>\n",
       "    </tr>\n",
       "    <tr>\n",
       "      <th>...</th>\n",
       "      <td>...</td>\n",
       "      <td>...</td>\n",
       "      <td>...</td>\n",
       "      <td>...</td>\n",
       "      <td>...</td>\n",
       "      <td>...</td>\n",
       "      <td>...</td>\n",
       "      <td>...</td>\n",
       "      <td>...</td>\n",
       "      <td>...</td>\n",
       "      <td>...</td>\n",
       "      <td>...</td>\n",
       "      <td>...</td>\n",
       "      <td>...</td>\n",
       "      <td>...</td>\n",
       "      <td>...</td>\n",
       "      <td>...</td>\n",
       "      <td>...</td>\n",
       "      <td>...</td>\n",
       "      <td>...</td>\n",
       "      <td>...</td>\n",
       "    </tr>\n",
       "    <tr>\n",
       "      <th>4495</th>\n",
       "      <td>0</td>\n",
       "      <td>19657.157428</td>\n",
       "      <td>40757.157428</td>\n",
       "      <td>55</td>\n",
       "      <td>151</td>\n",
       "      <td>0</td>\n",
       "      <td>1</td>\n",
       "      <td>750</td>\n",
       "      <td>3000</td>\n",
       "      <td>92105</td>\n",
       "      <td>...</td>\n",
       "      <td>0</td>\n",
       "      <td>1</td>\n",
       "      <td>0</td>\n",
       "      <td>0</td>\n",
       "      <td>0</td>\n",
       "      <td>0</td>\n",
       "      <td>0</td>\n",
       "      <td>1</td>\n",
       "      <td>1</td>\n",
       "      <td>0</td>\n",
       "    </tr>\n",
       "    <tr>\n",
       "      <th>4496</th>\n",
       "      <td>0</td>\n",
       "      <td>17431.505171</td>\n",
       "      <td>28331.505171</td>\n",
       "      <td>47</td>\n",
       "      <td>155</td>\n",
       "      <td>0</td>\n",
       "      <td>1</td>\n",
       "      <td>750</td>\n",
       "      <td>3000</td>\n",
       "      <td>93704</td>\n",
       "      <td>...</td>\n",
       "      <td>0</td>\n",
       "      <td>1</td>\n",
       "      <td>0</td>\n",
       "      <td>0</td>\n",
       "      <td>0</td>\n",
       "      <td>0</td>\n",
       "      <td>0</td>\n",
       "      <td>1</td>\n",
       "      <td>0</td>\n",
       "      <td>1</td>\n",
       "    </tr>\n",
       "    <tr>\n",
       "      <th>4497</th>\n",
       "      <td>0</td>\n",
       "      <td>13691.463019</td>\n",
       "      <td>22791.463019</td>\n",
       "      <td>34</td>\n",
       "      <td>177</td>\n",
       "      <td>0</td>\n",
       "      <td>1</td>\n",
       "      <td>750</td>\n",
       "      <td>2800</td>\n",
       "      <td>89131</td>\n",
       "      <td>...</td>\n",
       "      <td>1</td>\n",
       "      <td>1</td>\n",
       "      <td>0</td>\n",
       "      <td>0</td>\n",
       "      <td>0</td>\n",
       "      <td>0</td>\n",
       "      <td>0</td>\n",
       "      <td>1</td>\n",
       "      <td>1</td>\n",
       "      <td>0</td>\n",
       "    </tr>\n",
       "    <tr>\n",
       "      <th>4498</th>\n",
       "      <td>0</td>\n",
       "      <td>11806.709642</td>\n",
       "      <td>15506.709642</td>\n",
       "      <td>61</td>\n",
       "      <td>268</td>\n",
       "      <td>0</td>\n",
       "      <td>1</td>\n",
       "      <td>750</td>\n",
       "      <td>2550</td>\n",
       "      <td>83686</td>\n",
       "      <td>...</td>\n",
       "      <td>0</td>\n",
       "      <td>0</td>\n",
       "      <td>1</td>\n",
       "      <td>0</td>\n",
       "      <td>0</td>\n",
       "      <td>0</td>\n",
       "      <td>1</td>\n",
       "      <td>0</td>\n",
       "      <td>1</td>\n",
       "      <td>0</td>\n",
       "    </tr>\n",
       "    <tr>\n",
       "      <th>4499</th>\n",
       "      <td>0</td>\n",
       "      <td>34446.382771</td>\n",
       "      <td>41146.382771</td>\n",
       "      <td>23</td>\n",
       "      <td>26</td>\n",
       "      <td>0</td>\n",
       "      <td>1</td>\n",
       "      <td>750</td>\n",
       "      <td>2900</td>\n",
       "      <td>97013</td>\n",
       "      <td>...</td>\n",
       "      <td>0</td>\n",
       "      <td>0</td>\n",
       "      <td>0</td>\n",
       "      <td>1</td>\n",
       "      <td>0</td>\n",
       "      <td>0</td>\n",
       "      <td>0</td>\n",
       "      <td>1</td>\n",
       "      <td>0</td>\n",
       "      <td>1</td>\n",
       "    </tr>\n",
       "  </tbody>\n",
       "</table>\n",
       "<p>4500 rows × 59 columns</p>\n",
       "</div>"
      ],
      "text/plain": [
       "      fraud  vehicle_claim  total_claim_amount  customer_age  \\\n",
       "0         0    8913.668763        80513.668763            54   \n",
       "1         0   19746.724395        26146.724395            41   \n",
       "2         0   11652.969918        22052.969918            57   \n",
       "3         0   11260.930936       115960.930936            39   \n",
       "4         0   27987.704652        31387.704652            39   \n",
       "...     ...            ...                 ...           ...   \n",
       "4495      0   19657.157428        40757.157428            55   \n",
       "4496      0   17431.505171        28331.505171            47   \n",
       "4497      0   13691.463019        22791.463019            34   \n",
       "4498      0   11806.709642        15506.709642            61   \n",
       "4499      0   34446.382771        41146.382771            23   \n",
       "\n",
       "      months_as_customer  num_claims_past_year  num_insurers_past_5_years  \\\n",
       "0                     94                     0                          1   \n",
       "1                    165                     0                          1   \n",
       "2                    155                     0                          1   \n",
       "3                     80                     0                          1   \n",
       "4                     60                     0                          1   \n",
       "...                  ...                   ...                        ...   \n",
       "4495                 151                     0                          1   \n",
       "4496                 155                     0                          1   \n",
       "4497                 177                     0                          1   \n",
       "4498                 268                     0                          1   \n",
       "4499                  26                     0                          1   \n",
       "\n",
       "      policy_deductable  policy_annual_premium  customer_zip  ...  \\\n",
       "0                   750                   3000         99207  ...   \n",
       "1                   750                   2950         95632  ...   \n",
       "2                   750                   3000         93203  ...   \n",
       "3                   750                   3000         85208  ...   \n",
       "4                   750                   3000         91792  ...   \n",
       "...                 ...                    ...           ...  ...   \n",
       "4495                750                   3000         92105  ...   \n",
       "4496                750                   3000         93704  ...   \n",
       "4497                750                   2800         89131  ...   \n",
       "4498                750                   2550         83686  ...   \n",
       "4499                750                   2900         97013  ...   \n",
       "\n",
       "      collision_type_missing  incident_severity_Major  \\\n",
       "0                          0                        0   \n",
       "1                          0                        0   \n",
       "2                          0                        0   \n",
       "3                          0                        0   \n",
       "4                          0                        1   \n",
       "...                      ...                      ...   \n",
       "4495                       0                        1   \n",
       "4496                       0                        1   \n",
       "4497                       1                        1   \n",
       "4498                       0                        0   \n",
       "4499                       0                        0   \n",
       "\n",
       "      incident_severity_Minor  incident_severity_Totaled  \\\n",
       "0                           1                          0   \n",
       "1                           0                          1   \n",
       "2                           1                          0   \n",
       "3                           1                          0   \n",
       "4                           0                          0   \n",
       "...                       ...                        ...   \n",
       "4495                        0                          0   \n",
       "4496                        0                          0   \n",
       "4497                        0                          0   \n",
       "4498                        1                          0   \n",
       "4499                        0                          1   \n",
       "\n",
       "      authorities_contacted_Ambulance  authorities_contacted_Fire  \\\n",
       "0                                   0                           0   \n",
       "1                                   0                           0   \n",
       "2                                   0                           0   \n",
       "3                                   0                           0   \n",
       "4                                   0                           0   \n",
       "...                               ...                         ...   \n",
       "4495                                0                           0   \n",
       "4496                                0                           0   \n",
       "4497                                0                           0   \n",
       "4498                                0                           0   \n",
       "4499                                0                           0   \n",
       "\n",
       "      authorities_contacted_None  authorities_contacted_Police  \\\n",
       "0                              1                             0   \n",
       "1                              0                             1   \n",
       "2                              0                             1   \n",
       "3                              1                             0   \n",
       "4                              0                             1   \n",
       "...                          ...                           ...   \n",
       "4495                           0                             1   \n",
       "4496                           0                             1   \n",
       "4497                           0                             1   \n",
       "4498                           1                             0   \n",
       "4499                           0                             1   \n",
       "\n",
       "      police_report_available_No  police_report_available_Yes  \n",
       "0                              1                            0  \n",
       "1                              0                            1  \n",
       "2                              0                            1  \n",
       "3                              1                            0  \n",
       "4                              1                            0  \n",
       "...                          ...                          ...  \n",
       "4495                           1                            0  \n",
       "4496                           0                            1  \n",
       "4497                           1                            0  \n",
       "4498                           1                            0  \n",
       "4499                           0                            1  \n",
       "\n",
       "[4500 rows x 59 columns]"
      ]
     },
     "execution_count": 3,
     "metadata": {},
     "output_type": "execute_result"
    }
   ],
   "source": [
    "train_preproc_dir_artifact_file = os.path.join(train_preproc_dir_artifact,'train.csv')\n",
    "train_prep_df = pd.read_csv(train_preproc_dir_artifact_file)\n",
    "train_prep_df"
   ]
  },
  {
   "cell_type": "markdown",
   "metadata": {},
   "source": [
    "### 기본 훈련 변수 및 하이퍼파라미터 설정"
   ]
  },
  {
   "cell_type": "code",
   "execution_count": 4,
   "metadata": {},
   "outputs": [
    {
     "name": "stdout",
     "output_type": "stream",
     "text": [
      "Stored 'hyperparameters' (dict)\n"
     ]
    }
   ],
   "source": [
    "from sagemaker.xgboost.estimator import XGBoost\n",
    "\n",
    "bucket = sagemaker_session.default_bucket()\n",
    "prefix = project_prefix\n",
    "\n",
    "estimator_output_path = f's3://{bucket}/{prefix}/training_jobs'\n",
    "train_instance_count = 1\n",
    "\n",
    "hyperparameters = {\n",
    "        \"max_depth\": \"3\",\n",
    "        \"eta\": \"0.2\",\n",
    "        \"objective\": \"binary:logistic\",\n",
    "        \"num_round\": \"100\",\n",
    "}\n",
    "%store hyperparameters"
   ]
  },
  {
   "cell_type": "markdown",
   "metadata": {},
   "source": [
    "## 2. 훈련 스크립트 확인\n",
    "\n",
    "전처리 코드는 크게 아래와 같이 구성 되어 있습니다.\n",
    "- 커맨드 인자로 전달된 변수 내용 확인\n",
    "- 훈련 데이터를 로딩 합니다.\n",
    "- xgboost의 cross-validation(cv) 로 훈련 합니다.\n",
    "- 훈련 성능을 나타내는 지표를 저장합니다.\n",
    "- 훈련이 모델 아티펙트를 저장 합니다.\n",
    "    - [알림] 일반적으로 xgboost의 알고리즘의 큰 변경이 없으면, 세이지 메이커 내장 xgboost 알고리즘을 사용합니다. 여기서는 훈련 코드를 사용자가 정의해서 사용할 수 있는 예시를 위하여 따로 훈련 코드를 만들었습니다.\n",
    "---"
   ]
  },
  {
   "cell_type": "code",
   "execution_count": 5,
   "metadata": {},
   "outputs": [],
   "source": [
    "# !pygmentize src/xgboost_starter_script.py"
   ]
  },
  {
   "cell_type": "markdown",
   "metadata": {},
   "source": [
    "## 3. 훈련 코드 실행\n",
    "---\n",
    "\n",
    "### (1) 로컬 노트북 인스턴스에서 로컬 모드(로컬 다커 컨테이너 사용)로 훈련 코드 실행\n",
    "\n",
    "\n"
   ]
  },
  {
   "cell_type": "code",
   "execution_count": 6,
   "metadata": {},
   "outputs": [],
   "source": [
    "\n",
    "xgb_estimator = XGBoost(\n",
    "    entry_point = \"xgboost_starter_script.py\",\n",
    "    source_dir = \"src\",\n",
    "    output_path = estimator_output_path,\n",
    "    code_location = estimator_output_path,\n",
    "    hyperparameters = hyperparameters,\n",
    "    role = role,\n",
    "    instance_count = train_instance_count,\n",
    "    instance_type = 'local',\n",
    "    framework_version = \"1.0-1\")"
   ]
  },
  {
   "cell_type": "code",
   "execution_count": 7,
   "metadata": {},
   "outputs": [
    {
     "name": "stdout",
     "output_type": "stream",
     "text": [
      "Creating c5epl5ej9q-algo-1-lu66x ... \n",
      "Creating c5epl5ej9q-algo-1-lu66x ... done\n",
      "Attaching to c5epl5ej9q-algo-1-lu66x\n",
      "\u001b[36mc5epl5ej9q-algo-1-lu66x |\u001b[0m INFO:sagemaker-containers:Imported framework sagemaker_xgboost_container.training\n",
      "\u001b[36mc5epl5ej9q-algo-1-lu66x |\u001b[0m INFO:sagemaker-containers:No GPUs detected (normal if no gpus installed)\n",
      "\u001b[36mc5epl5ej9q-algo-1-lu66x |\u001b[0m INFO:sagemaker_xgboost_container.training:Invoking user training script.\n",
      "\u001b[36mc5epl5ej9q-algo-1-lu66x |\u001b[0m INFO:sagemaker-containers:Module xgboost_starter_script does not provide a setup.py. \n",
      "\u001b[36mc5epl5ej9q-algo-1-lu66x |\u001b[0m Generating setup.py\n",
      "\u001b[36mc5epl5ej9q-algo-1-lu66x |\u001b[0m INFO:sagemaker-containers:Generating setup.cfg\n",
      "\u001b[36mc5epl5ej9q-algo-1-lu66x |\u001b[0m INFO:sagemaker-containers:Generating MANIFEST.in\n",
      "\u001b[36mc5epl5ej9q-algo-1-lu66x |\u001b[0m INFO:sagemaker-containers:Installing module with the following command:\n",
      "\u001b[36mc5epl5ej9q-algo-1-lu66x |\u001b[0m /miniconda3/bin/python3 -m pip install . \n",
      "\u001b[36mc5epl5ej9q-algo-1-lu66x |\u001b[0m Processing /opt/ml/code\n",
      "\u001b[36mc5epl5ej9q-algo-1-lu66x |\u001b[0m Building wheels for collected packages: xgboost-starter-script\n",
      "\u001b[36mc5epl5ej9q-algo-1-lu66x |\u001b[0m   Building wheel for xgboost-starter-script (setup.py) ... \u001b[?25ldone\n",
      "\u001b[36mc5epl5ej9q-algo-1-lu66x |\u001b[0m \u001b[?25h  Created wheel for xgboost-starter-script: filename=xgboost_starter_script-1.0.0-py2.py3-none-any.whl size=35606 sha256=f0742f4232074cbb4102b87791cc784ad5dd9ee8fc76eef30804f9a2f2badd40\n",
      "\u001b[36mc5epl5ej9q-algo-1-lu66x |\u001b[0m   Stored in directory: /home/model-server/tmp/pip-ephem-wheel-cache-gquno9vc/wheels/95/c1/85/65aaf48b35aba88c6e896d2fd04a4b69f1cee0d81ea32993ca\n",
      "\u001b[36mc5epl5ej9q-algo-1-lu66x |\u001b[0m Successfully built xgboost-starter-script\n",
      "\u001b[36mc5epl5ej9q-algo-1-lu66x |\u001b[0m Installing collected packages: xgboost-starter-script\n",
      "\u001b[36mc5epl5ej9q-algo-1-lu66x |\u001b[0m Successfully installed xgboost-starter-script-1.0.0\n",
      "\u001b[36mc5epl5ej9q-algo-1-lu66x |\u001b[0m INFO:sagemaker-containers:No GPUs detected (normal if no gpus installed)\n",
      "\u001b[36mc5epl5ej9q-algo-1-lu66x |\u001b[0m INFO:sagemaker-containers:Invoking user script\n",
      "\u001b[36mc5epl5ej9q-algo-1-lu66x |\u001b[0m \n",
      "\u001b[36mc5epl5ej9q-algo-1-lu66x |\u001b[0m Training Env:\n",
      "\u001b[36mc5epl5ej9q-algo-1-lu66x |\u001b[0m \n",
      "\u001b[36mc5epl5ej9q-algo-1-lu66x |\u001b[0m {\n",
      "\u001b[36mc5epl5ej9q-algo-1-lu66x |\u001b[0m     \"additional_framework_parameters\": {},\n",
      "\u001b[36mc5epl5ej9q-algo-1-lu66x |\u001b[0m     \"channel_input_dirs\": {\n",
      "\u001b[36mc5epl5ej9q-algo-1-lu66x |\u001b[0m         \"train\": \"/opt/ml/input/data/train\"\n",
      "\u001b[36mc5epl5ej9q-algo-1-lu66x |\u001b[0m     },\n",
      "\u001b[36mc5epl5ej9q-algo-1-lu66x |\u001b[0m     \"current_host\": \"algo-1-lu66x\",\n",
      "\u001b[36mc5epl5ej9q-algo-1-lu66x |\u001b[0m     \"framework_module\": \"sagemaker_xgboost_container.training:main\",\n",
      "\u001b[36mc5epl5ej9q-algo-1-lu66x |\u001b[0m     \"hosts\": [\n",
      "\u001b[36mc5epl5ej9q-algo-1-lu66x |\u001b[0m         \"algo-1-lu66x\"\n",
      "\u001b[36mc5epl5ej9q-algo-1-lu66x |\u001b[0m     ],\n",
      "\u001b[36mc5epl5ej9q-algo-1-lu66x |\u001b[0m     \"hyperparameters\": {\n",
      "\u001b[36mc5epl5ej9q-algo-1-lu66x |\u001b[0m         \"max_depth\": \"3\",\n",
      "\u001b[36mc5epl5ej9q-algo-1-lu66x |\u001b[0m         \"eta\": \"0.2\",\n",
      "\u001b[36mc5epl5ej9q-algo-1-lu66x |\u001b[0m         \"objective\": \"binary:logistic\",\n",
      "\u001b[36mc5epl5ej9q-algo-1-lu66x |\u001b[0m         \"num_round\": \"100\"\n",
      "\u001b[36mc5epl5ej9q-algo-1-lu66x |\u001b[0m     },\n",
      "\u001b[36mc5epl5ej9q-algo-1-lu66x |\u001b[0m     \"input_config_dir\": \"/opt/ml/input/config\",\n",
      "\u001b[36mc5epl5ej9q-algo-1-lu66x |\u001b[0m     \"input_data_config\": {\n",
      "\u001b[36mc5epl5ej9q-algo-1-lu66x |\u001b[0m         \"train\": {\n",
      "\u001b[36mc5epl5ej9q-algo-1-lu66x |\u001b[0m             \"TrainingInputMode\": \"File\"\n",
      "\u001b[36mc5epl5ej9q-algo-1-lu66x |\u001b[0m         }\n",
      "\u001b[36mc5epl5ej9q-algo-1-lu66x |\u001b[0m     },\n",
      "\u001b[36mc5epl5ej9q-algo-1-lu66x |\u001b[0m     \"input_dir\": \"/opt/ml/input\",\n",
      "\u001b[36mc5epl5ej9q-algo-1-lu66x |\u001b[0m     \"is_master\": true,\n",
      "\u001b[36mc5epl5ej9q-algo-1-lu66x |\u001b[0m     \"job_name\": \"sagemaker-xgboost-2021-06-26-11-04-14-880\",\n",
      "\u001b[36mc5epl5ej9q-algo-1-lu66x |\u001b[0m     \"log_level\": 20,\n",
      "\u001b[36mc5epl5ej9q-algo-1-lu66x |\u001b[0m     \"master_hostname\": \"algo-1-lu66x\",\n",
      "\u001b[36mc5epl5ej9q-algo-1-lu66x |\u001b[0m     \"model_dir\": \"/opt/ml/model\",\n",
      "\u001b[36mc5epl5ej9q-algo-1-lu66x |\u001b[0m     \"module_dir\": \"s3://sagemaker-ap-northeast-2-057716757052/sagemaker-pipeline-step-by-step/training_jobs/sagemaker-xgboost-2021-06-26-11-04-14-880/source/sourcedir.tar.gz\",\n",
      "\u001b[36mc5epl5ej9q-algo-1-lu66x |\u001b[0m     \"module_name\": \"xgboost_starter_script\",\n",
      "\u001b[36mc5epl5ej9q-algo-1-lu66x |\u001b[0m     \"network_interface_name\": \"eth0\",\n",
      "\u001b[36mc5epl5ej9q-algo-1-lu66x |\u001b[0m     \"num_cpus\": 8,\n",
      "\u001b[36mc5epl5ej9q-algo-1-lu66x |\u001b[0m     \"num_gpus\": 0,\n",
      "\u001b[36mc5epl5ej9q-algo-1-lu66x |\u001b[0m     \"output_data_dir\": \"/opt/ml/output/data\",\n",
      "\u001b[36mc5epl5ej9q-algo-1-lu66x |\u001b[0m     \"output_dir\": \"/opt/ml/output\",\n",
      "\u001b[36mc5epl5ej9q-algo-1-lu66x |\u001b[0m     \"output_intermediate_dir\": \"/opt/ml/output/intermediate\",\n",
      "\u001b[36mc5epl5ej9q-algo-1-lu66x |\u001b[0m     \"resource_config\": {\n",
      "\u001b[36mc5epl5ej9q-algo-1-lu66x |\u001b[0m         \"current_host\": \"algo-1-lu66x\",\n",
      "\u001b[36mc5epl5ej9q-algo-1-lu66x |\u001b[0m         \"hosts\": [\n",
      "\u001b[36mc5epl5ej9q-algo-1-lu66x |\u001b[0m             \"algo-1-lu66x\"\n",
      "\u001b[36mc5epl5ej9q-algo-1-lu66x |\u001b[0m         ]\n",
      "\u001b[36mc5epl5ej9q-algo-1-lu66x |\u001b[0m     },\n",
      "\u001b[36mc5epl5ej9q-algo-1-lu66x |\u001b[0m     \"user_entry_point\": \"xgboost_starter_script.py\"\n",
      "\u001b[36mc5epl5ej9q-algo-1-lu66x |\u001b[0m }\n",
      "\u001b[36mc5epl5ej9q-algo-1-lu66x |\u001b[0m \n",
      "\u001b[36mc5epl5ej9q-algo-1-lu66x |\u001b[0m Environment variables:\n",
      "\u001b[36mc5epl5ej9q-algo-1-lu66x |\u001b[0m \n",
      "\u001b[36mc5epl5ej9q-algo-1-lu66x |\u001b[0m SM_HOSTS=[\"algo-1-lu66x\"]\n",
      "\u001b[36mc5epl5ej9q-algo-1-lu66x |\u001b[0m SM_NETWORK_INTERFACE_NAME=eth0\n",
      "\u001b[36mc5epl5ej9q-algo-1-lu66x |\u001b[0m SM_HPS={\"eta\":\"0.2\",\"max_depth\":\"3\",\"num_round\":\"100\",\"objective\":\"binary:logistic\"}\n",
      "\u001b[36mc5epl5ej9q-algo-1-lu66x |\u001b[0m SM_USER_ENTRY_POINT=xgboost_starter_script.py\n",
      "\u001b[36mc5epl5ej9q-algo-1-lu66x |\u001b[0m SM_FRAMEWORK_PARAMS={}\n",
      "\u001b[36mc5epl5ej9q-algo-1-lu66x |\u001b[0m SM_RESOURCE_CONFIG={\"current_host\":\"algo-1-lu66x\",\"hosts\":[\"algo-1-lu66x\"]}\n",
      "\u001b[36mc5epl5ej9q-algo-1-lu66x |\u001b[0m SM_INPUT_DATA_CONFIG={\"train\":{\"TrainingInputMode\":\"File\"}}\n",
      "\u001b[36mc5epl5ej9q-algo-1-lu66x |\u001b[0m SM_OUTPUT_DATA_DIR=/opt/ml/output/data\n",
      "\u001b[36mc5epl5ej9q-algo-1-lu66x |\u001b[0m SM_CHANNELS=[\"train\"]\n",
      "\u001b[36mc5epl5ej9q-algo-1-lu66x |\u001b[0m SM_CURRENT_HOST=algo-1-lu66x\n",
      "\u001b[36mc5epl5ej9q-algo-1-lu66x |\u001b[0m SM_MODULE_NAME=xgboost_starter_script\n",
      "\u001b[36mc5epl5ej9q-algo-1-lu66x |\u001b[0m SM_LOG_LEVEL=20\n",
      "\u001b[36mc5epl5ej9q-algo-1-lu66x |\u001b[0m SM_FRAMEWORK_MODULE=sagemaker_xgboost_container.training:main\n",
      "\u001b[36mc5epl5ej9q-algo-1-lu66x |\u001b[0m SM_INPUT_DIR=/opt/ml/input\n",
      "\u001b[36mc5epl5ej9q-algo-1-lu66x |\u001b[0m SM_INPUT_CONFIG_DIR=/opt/ml/input/config\n",
      "\u001b[36mc5epl5ej9q-algo-1-lu66x |\u001b[0m SM_OUTPUT_DIR=/opt/ml/output\n",
      "\u001b[36mc5epl5ej9q-algo-1-lu66x |\u001b[0m SM_NUM_CPUS=8\n",
      "\u001b[36mc5epl5ej9q-algo-1-lu66x |\u001b[0m SM_NUM_GPUS=0\n",
      "\u001b[36mc5epl5ej9q-algo-1-lu66x |\u001b[0m SM_MODEL_DIR=/opt/ml/model\n",
      "\u001b[36mc5epl5ej9q-algo-1-lu66x |\u001b[0m SM_MODULE_DIR=s3://sagemaker-ap-northeast-2-057716757052/sagemaker-pipeline-step-by-step/training_jobs/sagemaker-xgboost-2021-06-26-11-04-14-880/source/sourcedir.tar.gz\n",
      "\u001b[36mc5epl5ej9q-algo-1-lu66x |\u001b[0m SM_TRAINING_ENV={\"additional_framework_parameters\":{},\"channel_input_dirs\":{\"train\":\"/opt/ml/input/data/train\"},\"current_host\":\"algo-1-lu66x\",\"framework_module\":\"sagemaker_xgboost_container.training:main\",\"hosts\":[\"algo-1-lu66x\"],\"hyperparameters\":{\"eta\":\"0.2\",\"max_depth\":\"3\",\"num_round\":\"100\",\"objective\":\"binary:logistic\"},\"input_config_dir\":\"/opt/ml/input/config\",\"input_data_config\":{\"train\":{\"TrainingInputMode\":\"File\"}},\"input_dir\":\"/opt/ml/input\",\"is_master\":true,\"job_name\":\"sagemaker-xgboost-2021-06-26-11-04-14-880\",\"log_level\":20,\"master_hostname\":\"algo-1-lu66x\",\"model_dir\":\"/opt/ml/model\",\"module_dir\":\"s3://sagemaker-ap-northeast-2-057716757052/sagemaker-pipeline-step-by-step/training_jobs/sagemaker-xgboost-2021-06-26-11-04-14-880/source/sourcedir.tar.gz\",\"module_name\":\"xgboost_starter_script\",\"network_interface_name\":\"eth0\",\"num_cpus\":8,\"num_gpus\":0,\"output_data_dir\":\"/opt/ml/output/data\",\"output_dir\":\"/opt/ml/output\",\"output_intermediate_dir\":\"/opt/ml/output/intermediate\",\"resource_config\":{\"current_host\":\"algo-1-lu66x\",\"hosts\":[\"algo-1-lu66x\"]},\"user_entry_point\":\"xgboost_starter_script.py\"}\n",
      "\u001b[36mc5epl5ej9q-algo-1-lu66x |\u001b[0m SM_USER_ARGS=[\"--eta\",\"0.2\",\"--max_depth\",\"3\",\"--num_round\",\"100\",\"--objective\",\"binary:logistic\"]\n",
      "\u001b[36mc5epl5ej9q-algo-1-lu66x |\u001b[0m SM_OUTPUT_INTERMEDIATE_DIR=/opt/ml/output/intermediate\n",
      "\u001b[36mc5epl5ej9q-algo-1-lu66x |\u001b[0m SM_CHANNEL_TRAIN=/opt/ml/input/data/train\n",
      "\u001b[36mc5epl5ej9q-algo-1-lu66x |\u001b[0m SM_HP_MAX_DEPTH=3\n",
      "\u001b[36mc5epl5ej9q-algo-1-lu66x |\u001b[0m SM_HP_ETA=0.2\n",
      "\u001b[36mc5epl5ej9q-algo-1-lu66x |\u001b[0m SM_HP_OBJECTIVE=binary:logistic\n",
      "\u001b[36mc5epl5ej9q-algo-1-lu66x |\u001b[0m SM_HP_NUM_ROUND=100\n",
      "\u001b[36mc5epl5ej9q-algo-1-lu66x |\u001b[0m PYTHONPATH=/miniconda3/bin:/:/miniconda3/lib/python3.6/site-packages/xgboost/dmlc-core/tracker:/miniconda3/lib/python36.zip:/miniconda3/lib/python3.6:/miniconda3/lib/python3.6/lib-dynload:/miniconda3/lib/python3.6/site-packages\n",
      "\u001b[36mc5epl5ej9q-algo-1-lu66x |\u001b[0m \n",
      "\u001b[36mc5epl5ej9q-algo-1-lu66x |\u001b[0m Invoking script with the following command:\n",
      "\u001b[36mc5epl5ej9q-algo-1-lu66x |\u001b[0m \n",
      "\u001b[36mc5epl5ej9q-algo-1-lu66x |\u001b[0m /miniconda3/bin/python3 -m xgboost_starter_script --eta 0.2 --max_depth 3 --num_round 100 --objective binary:logistic\n",
      "\u001b[36mc5epl5ej9q-algo-1-lu66x |\u001b[0m \n",
      "\u001b[36mc5epl5ej9q-algo-1-lu66x |\u001b[0m \n",
      "\u001b[36mc5epl5ej9q-algo-1-lu66x |\u001b[0m cv_results:      train-auc-mean  train-auc-std  test-auc-mean  test-auc-std\n",
      "\u001b[36mc5epl5ej9q-algo-1-lu66x |\u001b[0m 0         0.705404       0.017565       0.637086      0.052999\n",
      "\u001b[36mc5epl5ej9q-algo-1-lu66x |\u001b[0m 1         0.781931       0.012364       0.721723      0.041270\n",
      "\u001b[36mc5epl5ej9q-algo-1-lu66x |\u001b[0m 2         0.801797       0.012092       0.742193      0.017607\n",
      "\u001b[36mc5epl5ej9q-algo-1-lu66x |\u001b[0m 3         0.814597       0.012004       0.768046      0.023673\n",
      "\u001b[36mc5epl5ej9q-algo-1-lu66x |\u001b[0m 4         0.831925       0.014087       0.782972      0.010357\n",
      "\u001b[36mc5epl5ej9q-algo-1-lu66x |\u001b[0m ..             ...            ...            ...           ...\n",
      "\u001b[36mc5epl5ej9q-algo-1-lu66x |\u001b[0m 19        0.901676       0.007454       0.805519      0.034435\n",
      "\u001b[36mc5epl5ej9q-algo-1-lu66x |\u001b[0m 20        0.904946       0.006120       0.808646      0.038426\n",
      "\u001b[36mc5epl5ej9q-algo-1-lu66x |\u001b[0m 21        0.907422       0.005486       0.808674      0.041938\n",
      "\u001b[36mc5epl5ej9q-algo-1-lu66x |\u001b[0m 22        0.911615       0.008217       0.809035      0.038786\n",
      "\u001b[36mc5epl5ej9q-algo-1-lu66x |\u001b[0m 23        0.914906       0.008721       0.809713      0.038351\n",
      "\u001b[36mc5epl5ej9q-algo-1-lu66x |\u001b[0m \n",
      "\u001b[36mc5epl5ej9q-algo-1-lu66x |\u001b[0m [24 rows x 4 columns]\n",
      "\u001b[36mc5epl5ej9q-algo-1-lu66x |\u001b[0m [0]#011train-auc:0.9149063999999999\n",
      "\u001b[36mc5epl5ej9q-algo-1-lu66x |\u001b[0m [1]#011validation-auc:0.809713\n",
      "\u001b[36mc5epl5ej9q-algo-1-lu66x exited with code 0\n",
      "\u001b[0mAborting on container exit...\n"
     ]
    },
    {
     "name": "stderr",
     "output_type": "stream",
     "text": [
      "Failed to delete: /tmp/tmpwdcyxin3/algo-1-lu66x Please remove it manually.\n"
     ]
    },
    {
     "name": "stdout",
     "output_type": "stream",
     "text": [
      "===== Job Complete =====\n"
     ]
    }
   ],
   "source": [
    "xgb_estimator.fit(inputs = {'train': train_preproc_dir_artifact})\n"
   ]
  },
  {
   "cell_type": "markdown",
   "metadata": {},
   "source": [
    "### (2) 세이지메이커 호스트 모드(로컬 다커 컨테이너 사용)로 훈련 코드 실행"
   ]
  },
  {
   "cell_type": "code",
   "execution_count": 8,
   "metadata": {},
   "outputs": [],
   "source": [
    "instance_type = 'ml.m5.xlarge'\n",
    "\n",
    "\n",
    "xgb_estimator = XGBoost(\n",
    "    entry_point = \"xgboost_starter_script.py\",\n",
    "    source_dir = \"src\",\n",
    "    output_path = estimator_output_path,\n",
    "    code_location = estimator_output_path,\n",
    "    hyperparameters = hyperparameters,\n",
    "    role = role,\n",
    "    instance_count = train_instance_count,\n",
    "    instance_type = instance_type,\n",
    "    framework_version = \"1.0-1\")\n",
    "\n",
    "xgb_estimator.fit(inputs = {'train': train_preproc_dir_artifact}, wait=False)\n"
   ]
  },
  {
   "cell_type": "markdown",
   "metadata": {},
   "source": [
    "### (3) SageMaker Pipeline에서  실행 \n",
    "---\n",
    "\n"
   ]
  },
  {
   "cell_type": "markdown",
   "metadata": {},
   "source": [
    "### 모델 빌딩 파이프라인 변수 생성\n",
    "\n"
   ]
  },
  {
   "cell_type": "code",
   "execution_count": 9,
   "metadata": {},
   "outputs": [],
   "source": [
    "from sagemaker.workflow.parameters import (\n",
    "    ParameterInteger,\n",
    "    ParameterString,\n",
    ")\n",
    "\n",
    "processing_instance_count = ParameterInteger(\n",
    "    name=\"ProcessingInstanceCount\",\n",
    "    default_value=1\n",
    ")\n",
    "processing_instance_type = ParameterString(\n",
    "    name=\"ProcessingInstanceType\",\n",
    "    default_value=\"ml.m5.xlarge\"\n",
    ")\n",
    "\n",
    "training_instance_type = ParameterString(\n",
    "    name=\"TrainingInstanceType\",\n",
    "    default_value=\"ml.m5.xlarge\"\n",
    ")\n",
    "\n",
    "\n",
    "input_data = ParameterString(\n",
    "    name=\"InputData\",\n",
    "    default_value=input_data_uri,\n",
    ")\n"
   ]
  },
  {
   "cell_type": "markdown",
   "metadata": {},
   "source": [
    "### 모델 학습을 위한 학습단계 정의 \n",
    "\n",
    "본 단계에서는 SageMaker의 [XGBoost](https://docs.aws.amazon.com/sagemaker/latest/dg/xgboost.html) 알고리즘을 이용하여 학습을 진행할 것입니다. XGBoost 알고리즘을 이용하도록 Estimator를 구성합니다. 보편적인 학습스크립트를 이용하여 입력 채널에서 정의한 학습데이터를 로드하고, 하이퍼파라미터 설정을 통해 학습을 설정하고, 모델을 학습한 후 `model_dir`경로에 학습된 모델을 저장합니다. 저장된 모델은 이후 호스팅을 위해 사용됩니다. \n",
    "\n",
    "학습된 모델이 추출되어 저장될 경로 또한 명시되었습니다. \n",
    "\n",
    "`training_instance_type`파라미터가 사용된 것을 확인합니다. 이 값은 본 예제의 파이프라인에서 여러번 사용됩니다. 본 단계에서는 estimator를 선언할 때 전달되었습니다. \n"
   ]
  },
  {
   "cell_type": "code",
   "execution_count": 21,
   "metadata": {},
   "outputs": [],
   "source": [
    "xgb_train = XGBoost(\n",
    "    entry_point = \"xgboost_starter_script.py\",\n",
    "    source_dir = \"src\",\n",
    "    output_path = estimator_output_path,\n",
    "    code_location = estimator_output_path,\n",
    "    hyperparameters = hyperparameters,\n",
    "    role = role,\n",
    "    instance_count = train_instance_count,\n",
    "    instance_type = training_instance_type,\n",
    "    framework_version = \"1.0-1\")"
   ]
  },
  {
   "cell_type": "markdown",
   "metadata": {},
   "source": [
    "이전 단계에서 (프로세싱) 전처리 훈련, 검증 데이터 세트를 입력으로 제공 합니다."
   ]
  },
  {
   "cell_type": "code",
   "execution_count": 22,
   "metadata": {},
   "outputs": [],
   "source": [
    "from sagemaker.inputs import TrainingInput\n",
    "from sagemaker.workflow.steps import TrainingStep\n",
    "\n",
    "\n",
    "step_train = TrainingStep(\n",
    "    name=\"FraudScratchTrain\",\n",
    "    estimator=xgb_train,\n",
    "    inputs={\n",
    "        \"train\": TrainingInput(\n",
    "            s3_data= train_preproc_dir_artifact,\n",
    "            content_type=\"text/csv\"\n",
    "        ),\n",
    "    },\n",
    ")"
   ]
  },
  {
   "cell_type": "markdown",
   "metadata": {},
   "source": [
    "### 모델 빌딩 파이프라인 정의"
   ]
  },
  {
   "cell_type": "code",
   "execution_count": 12,
   "metadata": {},
   "outputs": [],
   "source": [
    "from sagemaker.workflow.pipeline import Pipeline\n",
    "\n",
    "pipeline_name = project_prefix\n",
    "pipeline = Pipeline(\n",
    "    name=pipeline_name,\n",
    "    parameters=[\n",
    "        processing_instance_type, \n",
    "        processing_instance_count,\n",
    "        training_instance_type,        \n",
    "        input_data,\n",
    "    ],\n",
    "    steps=[step_train],\n",
    ")"
   ]
  },
  {
   "cell_type": "code",
   "execution_count": 13,
   "metadata": {},
   "outputs": [],
   "source": [
    "import json\n",
    "\n",
    "definition = json.loads(pipeline.definition())\n",
    "# definition"
   ]
  },
  {
   "cell_type": "markdown",
   "metadata": {},
   "source": [
    "### 파이프라인을 SageMaker에 제출하고 실행하기 \n",
    "\n",
    "파이프라인 정의를 파이프라인 서비스에 제출합니다. 함께 전달되는 역할(role)을 이용하여 AWS에서 파이프라인을 생성하고 작업의 각 단계를 실행할 것입니다.   "
   ]
  },
  {
   "cell_type": "code",
   "execution_count": 14,
   "metadata": {},
   "outputs": [
    {
     "data": {
      "text/plain": [
       "{'PipelineArn': 'arn:aws:sagemaker:ap-northeast-2:057716757052:pipeline/sagemaker-pipeline-step-by-step',\n",
       " 'ResponseMetadata': {'RequestId': 'd9b1aaaa-cf52-417a-a2ea-f23b3c7c5cc3',\n",
       "  'HTTPStatusCode': 200,\n",
       "  'HTTPHeaders': {'x-amzn-requestid': 'd9b1aaaa-cf52-417a-a2ea-f23b3c7c5cc3',\n",
       "   'content-type': 'application/x-amz-json-1.1',\n",
       "   'content-length': '104',\n",
       "   'date': 'Sat, 26 Jun 2021 11:05:36 GMT'},\n",
       "  'RetryAttempts': 0}}"
      ]
     },
     "execution_count": 14,
     "metadata": {},
     "output_type": "execute_result"
    }
   ],
   "source": [
    "pipeline.upsert(role_arn=role)"
   ]
  },
  {
   "cell_type": "markdown",
   "metadata": {},
   "source": [
    "디폴트값을 이용하여 파이프라인을 샐행합니다. "
   ]
  },
  {
   "cell_type": "code",
   "execution_count": 15,
   "metadata": {},
   "outputs": [],
   "source": [
    "execution = pipeline.start()"
   ]
  },
  {
   "cell_type": "markdown",
   "metadata": {},
   "source": [
    "### 파이프라인 운영: 파이프라인 대기 및 실행상태 확인\n",
    "\n",
    "워크플로우의 실행상황을 살펴봅니다. "
   ]
  },
  {
   "cell_type": "code",
   "execution_count": 16,
   "metadata": {},
   "outputs": [
    {
     "data": {
      "text/plain": [
       "[]"
      ]
     },
     "execution_count": 16,
     "metadata": {},
     "output_type": "execute_result"
    }
   ],
   "source": [
    "execution.list_steps()"
   ]
  },
  {
   "cell_type": "code",
   "execution_count": 17,
   "metadata": {},
   "outputs": [],
   "source": [
    "# execution.describe()\n",
    "execution.wait()"
   ]
  },
  {
   "cell_type": "markdown",
   "metadata": {},
   "source": [
    "실행이 완료될 때까지 기다립니다."
   ]
  },
  {
   "cell_type": "markdown",
   "metadata": {},
   "source": [
    "실행된 단계들을 리스트업합니다. 파이프라인의 단계실행 서비스에 의해 시작되거나 완료된 단계를 보여줍니다."
   ]
  },
  {
   "cell_type": "code",
   "execution_count": 18,
   "metadata": {},
   "outputs": [
    {
     "data": {
      "text/plain": [
       "[{'StepName': 'FraudScratchTrain',\n",
       "  'StartTime': datetime.datetime(2021, 6, 26, 11, 5, 46, 348000, tzinfo=tzlocal()),\n",
       "  'EndTime': datetime.datetime(2021, 6, 26, 11, 8, 41, 686000, tzinfo=tzlocal()),\n",
       "  'StepStatus': 'Succeeded',\n",
       "  'Metadata': {'TrainingJob': {'Arn': 'arn:aws:sagemaker:ap-northeast-2:057716757052:training-job/pipelines-2cxbdu7g79t6-fraudscratchtrain-yn0h7jvwmd'}}}]"
      ]
     },
     "execution_count": 18,
     "metadata": {},
     "output_type": "execute_result"
    }
   ],
   "source": [
    "execution.list_steps()"
   ]
  },
  {
   "cell_type": "markdown",
   "metadata": {},
   "source": [
    "### 아티펙트 경로 추출\n",
    "위의 훈련 스텝이 완료되면 실행해주세요"
   ]
  },
  {
   "cell_type": "code",
   "execution_count": 19,
   "metadata": {},
   "outputs": [
    {
     "name": "stdout",
     "output_type": "stream",
     "text": [
      " train_model_artifact:  s3://sagemaker-ap-northeast-2-057716757052/sagemaker-pipeline-step-by-step/training_jobs/pipelines-2cxbdu7g79t6-FraudScratchTrain-yn0h7JVWmD/output/model.tar.gz\n"
     ]
    }
   ],
   "source": [
    "def get_train_artifact(execution, client, job_type,  kind=0):\n",
    "    '''\n",
    "    kind: 0 --> train\n",
    "    kind: 2 --> test\n",
    "    '''\n",
    "    response = execution.list_steps()\n",
    "    # print(\"response: \", response)\n",
    "    proc_arn = response[0]['Metadata'][job_type]['Arn']\n",
    "    train_job_name = proc_arn.split('/')[-1]\n",
    "    # print(\"train_job_name: \", train_job_name)\n",
    "    response = client.describe_training_job(TrainingJobName = train_job_name)\n",
    "    # print(\"\\nresponse: \", response)    \n",
    "    train_model_artifact = response['ModelArtifacts']['S3ModelArtifacts']    \n",
    "    \n",
    "    return train_model_artifact\n",
    "\n",
    "import boto3\n",
    "client = boto3.client(\"sagemaker\")\n",
    "    \n",
    "train_model_artifact = get_train_artifact(execution, client,job_type='TrainingJob', kind=0)\n",
    "print(\" train_model_artifact: \", train_model_artifact)\n"
   ]
  },
  {
   "cell_type": "code",
   "execution_count": 27,
   "metadata": {},
   "outputs": [],
   "source": [
    "image_uri = xgb_train.image_uri"
   ]
  },
  {
   "cell_type": "code",
   "execution_count": 28,
   "metadata": {},
   "outputs": [
    {
     "name": "stdout",
     "output_type": "stream",
     "text": [
      "Stored 'train_model_artifact' (str)\n",
      "Stored 'image_uri' (str)\n"
     ]
    }
   ],
   "source": [
    "%store train_model_artifact\n",
    "%store image_uri"
   ]
  },
  {
   "cell_type": "code",
   "execution_count": null,
   "metadata": {},
   "outputs": [],
   "source": []
  }
 ],
 "metadata": {
  "instance_type": "ml.m5.large",
  "kernelspec": {
   "display_name": "conda_python3",
   "language": "python",
   "name": "conda_python3"
  },
  "language_info": {
   "codemirror_mode": {
    "name": "ipython",
    "version": 3
   },
   "file_extension": ".py",
   "mimetype": "text/x-python",
   "name": "python",
   "nbconvert_exporter": "python",
   "pygments_lexer": "ipython3",
   "version": "3.6.13"
  }
 },
 "nbformat": 4,
 "nbformat_minor": 4
}
