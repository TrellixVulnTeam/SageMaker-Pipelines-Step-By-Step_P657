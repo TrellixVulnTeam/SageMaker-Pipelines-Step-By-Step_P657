{
 "cells": [
  {
   "cell_type": "markdown",
   "id": "cultural-parcel",
   "metadata": {},
   "source": [
    "## Sleep Test"
   ]
  },
  {
   "cell_type": "code",
   "execution_count": 30,
   "id": "elementary-supervisor",
   "metadata": {},
   "outputs": [],
   "source": [
    "import time\n",
    "time.sleep(10)"
   ]
  },
  {
   "cell_type": "markdown",
   "id": "anticipated-performer",
   "metadata": {},
   "source": [
    "## XGBoost Script Mode"
   ]
  },
  {
   "cell_type": "code",
   "execution_count": 29,
   "id": "placed-interest",
   "metadata": {},
   "outputs": [
    {
     "data": {
      "text/plain": [
       "'366743142698.dkr.ecr.ap-northeast-2.amazonaws.com/sagemaker-scikit-learn:0.23-1-cpu-py3'"
      ]
     },
     "execution_count": 29,
     "metadata": {},
     "output_type": "execute_result"
    }
   ],
   "source": [
    "estimator.image_uri"
   ]
  },
  {
   "cell_type": "code",
   "execution_count": 28,
   "id": "sophisticated-optimization",
   "metadata": {},
   "outputs": [
    {
     "name": "stdout",
     "output_type": "stream",
     "text": [
      "Creating sp0f9ti7s0-algo-1-wxmo4 ... \n",
      "Creating sp0f9ti7s0-algo-1-wxmo4 ... done\n",
      "Attaching to sp0f9ti7s0-algo-1-wxmo4\n",
      "\u001b[36msp0f9ti7s0-algo-1-wxmo4 |\u001b[0m 2021-04-13 00:38:15,577 sagemaker-containers INFO     Imported framework sagemaker_sklearn_container.training\n",
      "\u001b[36msp0f9ti7s0-algo-1-wxmo4 |\u001b[0m 2021-04-13 00:38:15,579 sagemaker-training-toolkit INFO     No GPUs detected (normal if no gpus installed)\n",
      "\u001b[36msp0f9ti7s0-algo-1-wxmo4 |\u001b[0m 2021-04-13 00:38:15,587 sagemaker_sklearn_container.training INFO     Invoking user training script.\n",
      "\u001b[36msp0f9ti7s0-algo-1-wxmo4 |\u001b[0m 2021-04-13 00:38:15,712 sagemaker-training-toolkit INFO     No GPUs detected (normal if no gpus installed)\n",
      "\u001b[36msp0f9ti7s0-algo-1-wxmo4 |\u001b[0m 2021-04-13 00:38:15,723 sagemaker-training-toolkit INFO     No GPUs detected (normal if no gpus installed)\n",
      "\u001b[36msp0f9ti7s0-algo-1-wxmo4 |\u001b[0m 2021-04-13 00:38:15,733 sagemaker-training-toolkit INFO     No GPUs detected (normal if no gpus installed)\n",
      "\u001b[36msp0f9ti7s0-algo-1-wxmo4 |\u001b[0m 2021-04-13 00:38:15,741 sagemaker-training-toolkit INFO     Invoking user script\n",
      "\u001b[36msp0f9ti7s0-algo-1-wxmo4 |\u001b[0m \n",
      "\u001b[36msp0f9ti7s0-algo-1-wxmo4 |\u001b[0m Training Env:\n",
      "\u001b[36msp0f9ti7s0-algo-1-wxmo4 |\u001b[0m \n",
      "\u001b[36msp0f9ti7s0-algo-1-wxmo4 |\u001b[0m {\n",
      "\u001b[36msp0f9ti7s0-algo-1-wxmo4 |\u001b[0m     \"additional_framework_parameters\": {},\n",
      "\u001b[36msp0f9ti7s0-algo-1-wxmo4 |\u001b[0m     \"channel_input_dirs\": {\n",
      "\u001b[36msp0f9ti7s0-algo-1-wxmo4 |\u001b[0m         \"train\": \"/opt/ml/input/data/train\",\n",
      "\u001b[36msp0f9ti7s0-algo-1-wxmo4 |\u001b[0m         \"validation\": \"/opt/ml/input/data/validation\"\n",
      "\u001b[36msp0f9ti7s0-algo-1-wxmo4 |\u001b[0m     },\n",
      "\u001b[36msp0f9ti7s0-algo-1-wxmo4 |\u001b[0m     \"current_host\": \"algo-1-wxmo4\",\n",
      "\u001b[36msp0f9ti7s0-algo-1-wxmo4 |\u001b[0m     \"framework_module\": \"sagemaker_sklearn_container.training:main\",\n",
      "\u001b[36msp0f9ti7s0-algo-1-wxmo4 |\u001b[0m     \"hosts\": [\n",
      "\u001b[36msp0f9ti7s0-algo-1-wxmo4 |\u001b[0m         \"algo-1-wxmo4\"\n",
      "\u001b[36msp0f9ti7s0-algo-1-wxmo4 |\u001b[0m     ],\n",
      "\u001b[36msp0f9ti7s0-algo-1-wxmo4 |\u001b[0m     \"hyperparameters\": {\n",
      "\u001b[36msp0f9ti7s0-algo-1-wxmo4 |\u001b[0m         \"model_path\": \"s3://sagemaker-ap-northeast-2-057716757052/fraud2scratch/output/sagemaker-xgboost-2021-04-12-11-48-20-620/output/model.tar.gz\",\n",
      "\u001b[36msp0f9ti7s0-algo-1-wxmo4 |\u001b[0m         \"test_path\": \"s3://sagemaker-ap-northeast-2-057716757052/sagemaker-scikit-learn-2021-04-12-11-40-41-489/output/output-3/test.csv\"\n",
      "\u001b[36msp0f9ti7s0-algo-1-wxmo4 |\u001b[0m     },\n",
      "\u001b[36msp0f9ti7s0-algo-1-wxmo4 |\u001b[0m     \"input_config_dir\": \"/opt/ml/input/config\",\n",
      "\u001b[36msp0f9ti7s0-algo-1-wxmo4 |\u001b[0m     \"input_data_config\": {\n",
      "\u001b[36msp0f9ti7s0-algo-1-wxmo4 |\u001b[0m         \"train\": {\n",
      "\u001b[36msp0f9ti7s0-algo-1-wxmo4 |\u001b[0m             \"TrainingInputMode\": \"File\",\n",
      "\u001b[36msp0f9ti7s0-algo-1-wxmo4 |\u001b[0m             \"ContentType\": \"libsvm\"\n",
      "\u001b[36msp0f9ti7s0-algo-1-wxmo4 |\u001b[0m         },\n",
      "\u001b[36msp0f9ti7s0-algo-1-wxmo4 |\u001b[0m         \"validation\": {\n",
      "\u001b[36msp0f9ti7s0-algo-1-wxmo4 |\u001b[0m             \"TrainingInputMode\": \"File\",\n",
      "\u001b[36msp0f9ti7s0-algo-1-wxmo4 |\u001b[0m             \"ContentType\": \"libsvm\"\n",
      "\u001b[36msp0f9ti7s0-algo-1-wxmo4 |\u001b[0m         }\n",
      "\u001b[36msp0f9ti7s0-algo-1-wxmo4 |\u001b[0m     },\n",
      "\u001b[36msp0f9ti7s0-algo-1-wxmo4 |\u001b[0m     \"input_dir\": \"/opt/ml/input\",\n",
      "\u001b[36msp0f9ti7s0-algo-1-wxmo4 |\u001b[0m     \"is_master\": true,\n",
      "\u001b[36msp0f9ti7s0-algo-1-wxmo4 |\u001b[0m     \"job_name\": \"sagemaker-scikit-learn-2021-04-13-00-38-13-266\",\n",
      "\u001b[36msp0f9ti7s0-algo-1-wxmo4 |\u001b[0m     \"log_level\": 20,\n",
      "\u001b[36msp0f9ti7s0-algo-1-wxmo4 |\u001b[0m     \"master_hostname\": \"algo-1-wxmo4\",\n",
      "\u001b[36msp0f9ti7s0-algo-1-wxmo4 |\u001b[0m     \"model_dir\": \"/opt/ml/model\",\n",
      "\u001b[36msp0f9ti7s0-algo-1-wxmo4 |\u001b[0m     \"module_dir\": \"s3://sagemaker-ap-northeast-2-057716757052/sagemaker-scikit-learn-2021-04-13-00-38-13-266/source/sourcedir.tar.gz\",\n",
      "\u001b[36msp0f9ti7s0-algo-1-wxmo4 |\u001b[0m     \"module_name\": \"evaluation\",\n",
      "\u001b[36msp0f9ti7s0-algo-1-wxmo4 |\u001b[0m     \"network_interface_name\": \"eth0\",\n",
      "\u001b[36msp0f9ti7s0-algo-1-wxmo4 |\u001b[0m     \"num_cpus\": 36,\n",
      "\u001b[36msp0f9ti7s0-algo-1-wxmo4 |\u001b[0m     \"num_gpus\": 0,\n",
      "\u001b[36msp0f9ti7s0-algo-1-wxmo4 |\u001b[0m     \"output_data_dir\": \"/opt/ml/output/data\",\n",
      "\u001b[36msp0f9ti7s0-algo-1-wxmo4 |\u001b[0m     \"output_dir\": \"/opt/ml/output\",\n",
      "\u001b[36msp0f9ti7s0-algo-1-wxmo4 |\u001b[0m     \"output_intermediate_dir\": \"/opt/ml/output/intermediate\",\n",
      "\u001b[36msp0f9ti7s0-algo-1-wxmo4 |\u001b[0m     \"resource_config\": {\n",
      "\u001b[36msp0f9ti7s0-algo-1-wxmo4 |\u001b[0m         \"current_host\": \"algo-1-wxmo4\",\n",
      "\u001b[36msp0f9ti7s0-algo-1-wxmo4 |\u001b[0m         \"hosts\": [\n",
      "\u001b[36msp0f9ti7s0-algo-1-wxmo4 |\u001b[0m             \"algo-1-wxmo4\"\n",
      "\u001b[36msp0f9ti7s0-algo-1-wxmo4 |\u001b[0m         ]\n",
      "\u001b[36msp0f9ti7s0-algo-1-wxmo4 |\u001b[0m     },\n",
      "\u001b[36msp0f9ti7s0-algo-1-wxmo4 |\u001b[0m     \"user_entry_point\": \"evaluation.py\"\n",
      "\u001b[36msp0f9ti7s0-algo-1-wxmo4 |\u001b[0m }\n",
      "\u001b[36msp0f9ti7s0-algo-1-wxmo4 |\u001b[0m \n",
      "\u001b[36msp0f9ti7s0-algo-1-wxmo4 |\u001b[0m Environment variables:\n",
      "\u001b[36msp0f9ti7s0-algo-1-wxmo4 |\u001b[0m \n",
      "\u001b[36msp0f9ti7s0-algo-1-wxmo4 |\u001b[0m SM_HOSTS=[\"algo-1-wxmo4\"]\n",
      "\u001b[36msp0f9ti7s0-algo-1-wxmo4 |\u001b[0m SM_NETWORK_INTERFACE_NAME=eth0\n",
      "\u001b[36msp0f9ti7s0-algo-1-wxmo4 |\u001b[0m SM_HPS={\"model_path\":\"s3://sagemaker-ap-northeast-2-057716757052/fraud2scratch/output/sagemaker-xgboost-2021-04-12-11-48-20-620/output/model.tar.gz\",\"test_path\":\"s3://sagemaker-ap-northeast-2-057716757052/sagemaker-scikit-learn-2021-04-12-11-40-41-489/output/output-3/test.csv\"}\n",
      "\u001b[36msp0f9ti7s0-algo-1-wxmo4 |\u001b[0m SM_USER_ENTRY_POINT=evaluation.py\n",
      "\u001b[36msp0f9ti7s0-algo-1-wxmo4 |\u001b[0m SM_FRAMEWORK_PARAMS={}\n",
      "\u001b[36msp0f9ti7s0-algo-1-wxmo4 |\u001b[0m SM_RESOURCE_CONFIG={\"current_host\":\"algo-1-wxmo4\",\"hosts\":[\"algo-1-wxmo4\"]}\n",
      "\u001b[36msp0f9ti7s0-algo-1-wxmo4 |\u001b[0m SM_INPUT_DATA_CONFIG={\"train\":{\"ContentType\":\"libsvm\",\"TrainingInputMode\":\"File\"},\"validation\":{\"ContentType\":\"libsvm\",\"TrainingInputMode\":\"File\"}}\n",
      "\u001b[36msp0f9ti7s0-algo-1-wxmo4 |\u001b[0m SM_OUTPUT_DATA_DIR=/opt/ml/output/data\n",
      "\u001b[36msp0f9ti7s0-algo-1-wxmo4 |\u001b[0m SM_CHANNELS=[\"train\",\"validation\"]\n",
      "\u001b[36msp0f9ti7s0-algo-1-wxmo4 |\u001b[0m SM_CURRENT_HOST=algo-1-wxmo4\n",
      "\u001b[36msp0f9ti7s0-algo-1-wxmo4 |\u001b[0m SM_MODULE_NAME=evaluation\n",
      "\u001b[36msp0f9ti7s0-algo-1-wxmo4 |\u001b[0m SM_LOG_LEVEL=20\n",
      "\u001b[36msp0f9ti7s0-algo-1-wxmo4 |\u001b[0m SM_FRAMEWORK_MODULE=sagemaker_sklearn_container.training:main\n",
      "\u001b[36msp0f9ti7s0-algo-1-wxmo4 |\u001b[0m SM_INPUT_DIR=/opt/ml/input\n",
      "\u001b[36msp0f9ti7s0-algo-1-wxmo4 |\u001b[0m SM_INPUT_CONFIG_DIR=/opt/ml/input/config\n",
      "\u001b[36msp0f9ti7s0-algo-1-wxmo4 |\u001b[0m SM_OUTPUT_DIR=/opt/ml/output\n",
      "\u001b[36msp0f9ti7s0-algo-1-wxmo4 |\u001b[0m SM_NUM_CPUS=36\n",
      "\u001b[36msp0f9ti7s0-algo-1-wxmo4 |\u001b[0m SM_NUM_GPUS=0\n",
      "\u001b[36msp0f9ti7s0-algo-1-wxmo4 |\u001b[0m SM_MODEL_DIR=/opt/ml/model\n",
      "\u001b[36msp0f9ti7s0-algo-1-wxmo4 |\u001b[0m SM_MODULE_DIR=s3://sagemaker-ap-northeast-2-057716757052/sagemaker-scikit-learn-2021-04-13-00-38-13-266/source/sourcedir.tar.gz\n",
      "\u001b[36msp0f9ti7s0-algo-1-wxmo4 |\u001b[0m SM_TRAINING_ENV={\"additional_framework_parameters\":{},\"channel_input_dirs\":{\"train\":\"/opt/ml/input/data/train\",\"validation\":\"/opt/ml/input/data/validation\"},\"current_host\":\"algo-1-wxmo4\",\"framework_module\":\"sagemaker_sklearn_container.training:main\",\"hosts\":[\"algo-1-wxmo4\"],\"hyperparameters\":{\"model_path\":\"s3://sagemaker-ap-northeast-2-057716757052/fraud2scratch/output/sagemaker-xgboost-2021-04-12-11-48-20-620/output/model.tar.gz\",\"test_path\":\"s3://sagemaker-ap-northeast-2-057716757052/sagemaker-scikit-learn-2021-04-12-11-40-41-489/output/output-3/test.csv\"},\"input_config_dir\":\"/opt/ml/input/config\",\"input_data_config\":{\"train\":{\"ContentType\":\"libsvm\",\"TrainingInputMode\":\"File\"},\"validation\":{\"ContentType\":\"libsvm\",\"TrainingInputMode\":\"File\"}},\"input_dir\":\"/opt/ml/input\",\"is_master\":true,\"job_name\":\"sagemaker-scikit-learn-2021-04-13-00-38-13-266\",\"log_level\":20,\"master_hostname\":\"algo-1-wxmo4\",\"model_dir\":\"/opt/ml/model\",\"module_dir\":\"s3://sagemaker-ap-northeast-2-057716757052/sagemaker-scikit-learn-2021-04-13-00-38-13-266/source/sourcedir.tar.gz\",\"module_name\":\"evaluation\",\"network_interface_name\":\"eth0\",\"num_cpus\":36,\"num_gpus\":0,\"output_data_dir\":\"/opt/ml/output/data\",\"output_dir\":\"/opt/ml/output\",\"output_intermediate_dir\":\"/opt/ml/output/intermediate\",\"resource_config\":{\"current_host\":\"algo-1-wxmo4\",\"hosts\":[\"algo-1-wxmo4\"]},\"user_entry_point\":\"evaluation.py\"}\n",
      "\u001b[36msp0f9ti7s0-algo-1-wxmo4 |\u001b[0m SM_USER_ARGS=[\"--model_path\",\"s3://sagemaker-ap-northeast-2-057716757052/fraud2scratch/output/sagemaker-xgboost-2021-04-12-11-48-20-620/output/model.tar.gz\",\"--test_path\",\"s3://sagemaker-ap-northeast-2-057716757052/sagemaker-scikit-learn-2021-04-12-11-40-41-489/output/output-3/test.csv\"]\n",
      "\u001b[36msp0f9ti7s0-algo-1-wxmo4 |\u001b[0m SM_OUTPUT_INTERMEDIATE_DIR=/opt/ml/output/intermediate\n",
      "\u001b[36msp0f9ti7s0-algo-1-wxmo4 |\u001b[0m SM_CHANNEL_TRAIN=/opt/ml/input/data/train\n",
      "\u001b[36msp0f9ti7s0-algo-1-wxmo4 |\u001b[0m SM_CHANNEL_VALIDATION=/opt/ml/input/data/validation\n",
      "\u001b[36msp0f9ti7s0-algo-1-wxmo4 |\u001b[0m SM_HP_MODEL_PATH=s3://sagemaker-ap-northeast-2-057716757052/fraud2scratch/output/sagemaker-xgboost-2021-04-12-11-48-20-620/output/model.tar.gz\n",
      "\u001b[36msp0f9ti7s0-algo-1-wxmo4 |\u001b[0m SM_HP_TEST_PATH=s3://sagemaker-ap-northeast-2-057716757052/sagemaker-scikit-learn-2021-04-12-11-40-41-489/output/output-3/test.csv\n",
      "\u001b[36msp0f9ti7s0-algo-1-wxmo4 |\u001b[0m PYTHONPATH=/opt/ml/code:/miniconda3/bin:/miniconda3/lib/python37.zip:/miniconda3/lib/python3.7:/miniconda3/lib/python3.7/lib-dynload:/miniconda3/lib/python3.7/site-packages\n",
      "\u001b[36msp0f9ti7s0-algo-1-wxmo4 |\u001b[0m \n",
      "\u001b[36msp0f9ti7s0-algo-1-wxmo4 |\u001b[0m Invoking script with the following command:\n",
      "\u001b[36msp0f9ti7s0-algo-1-wxmo4 |\u001b[0m \n",
      "\u001b[36msp0f9ti7s0-algo-1-wxmo4 |\u001b[0m /miniconda3/bin/python evaluation.py --model_path s3://sagemaker-ap-northeast-2-057716757052/fraud2scratch/output/sagemaker-xgboost-2021-04-12-11-48-20-620/output/model.tar.gz --test_path s3://sagemaker-ap-northeast-2-057716757052/sagemaker-scikit-learn-2021-04-12-11-40-41-489/output/output-3/test.csv\n",
      "\u001b[36msp0f9ti7s0-algo-1-wxmo4 |\u001b[0m \n",
      "\u001b[36msp0f9ti7s0-algo-1-wxmo4 |\u001b[0m \n",
      "\u001b[36msp0f9ti7s0-algo-1-wxmo4 |\u001b[0m Collecting xgboost\n",
      "\u001b[36msp0f9ti7s0-algo-1-wxmo4 |\u001b[0m   Downloading xgboost-1.4.0-py3-none-manylinux2010_x86_64.whl (166.7 MB)\n",
      "\u001b[K     |████████████████████████████████| 166.7 MB 85 kB/s s eta 0:00:01\n",
      "\u001b[36msp0f9ti7s0-algo-1-wxmo4 |\u001b[0m \u001b[?25hRequirement already satisfied: scipy in /miniconda3/lib/python3.7/site-packages (from xgboost) (1.5.3)\n",
      "\u001b[36msp0f9ti7s0-algo-1-wxmo4 |\u001b[0m Requirement already satisfied: numpy in /miniconda3/lib/python3.7/site-packages (from xgboost) (1.19.2)\n",
      "\u001b[36msp0f9ti7s0-algo-1-wxmo4 |\u001b[0m Installing collected packages: xgboost\n",
      "\u001b[36msp0f9ti7s0-algo-1-wxmo4 |\u001b[0m Successfully installed xgboost-1.4.0\n",
      "\u001b[36msp0f9ti7s0-algo-1-wxmo4 |\u001b[0m #############################################\n",
      "\u001b[36msp0f9ti7s0-algo-1-wxmo4 |\u001b[0m args.model_path: s3://sagemaker-ap-northeast-2-057716757052/fraud2scratch/output/sagemaker-xgboost-2021-04-12-11-48-20-620/output/model.tar.gz\n",
      "\u001b[36msp0f9ti7s0-algo-1-wxmo4 |\u001b[0m args.test_path: s3://sagemaker-ap-northeast-2-057716757052/sagemaker-scikit-learn-2021-04-12-11-40-41-489/output/output-3/test.csv\n",
      "\u001b[36msp0f9ti7s0-algo-1-wxmo4 |\u001b[0m args.output_evaluation_dir:  /opt/ml/processing/evaluation\n",
      "\u001b[36msp0f9ti7s0-algo-1-wxmo4 |\u001b[0m ****** All folder and files under /opt/ml/processing ****** \n",
      "\u001b[36msp0f9ti7s0-algo-1-wxmo4 |\u001b[0m ************************************************* \n",
      "\u001b[36msp0f9ti7s0-algo-1-wxmo4 |\u001b[0m Traceback (most recent call last):\n",
      "\u001b[36msp0f9ti7s0-algo-1-wxmo4 |\u001b[0m   File \"evaluation.py\", line 70, in <module>\n",
      "\u001b[36msp0f9ti7s0-algo-1-wxmo4 |\u001b[0m     with tarfile.open(model_path) as tar:\n",
      "\u001b[36msp0f9ti7s0-algo-1-wxmo4 |\u001b[0m   File \"/miniconda3/lib/python3.7/tarfile.py\", line 1575, in open\n",
      "\u001b[36msp0f9ti7s0-algo-1-wxmo4 |\u001b[0m     return func(name, \"r\", fileobj, **kwargs)\n",
      "\u001b[36msp0f9ti7s0-algo-1-wxmo4 |\u001b[0m   File \"/miniconda3/lib/python3.7/tarfile.py\", line 1639, in gzopen\n",
      "\u001b[36msp0f9ti7s0-algo-1-wxmo4 |\u001b[0m     fileobj = GzipFile(name, mode + \"b\", compresslevel, fileobj)\n",
      "\u001b[36msp0f9ti7s0-algo-1-wxmo4 |\u001b[0m   File \"/miniconda3/lib/python3.7/gzip.py\", line 168, in __init__\n",
      "\u001b[36msp0f9ti7s0-algo-1-wxmo4 |\u001b[0m     fileobj = self.myfileobj = builtins.open(filename, mode or 'rb')\n",
      "\u001b[36msp0f9ti7s0-algo-1-wxmo4 |\u001b[0m FileNotFoundError: [Errno 2] No such file or directory: 's3://sagemaker-ap-northeast-2-057716757052/fraud2scratch/output/sagemaker-xgboost-2021-04-12-11-48-20-620/output/model.tar.gz'\n",
      "\u001b[36msp0f9ti7s0-algo-1-wxmo4 |\u001b[0m 2021-04-13 00:38:29,683 sagemaker-containers ERROR    Reporting training FAILURE\n",
      "\u001b[36msp0f9ti7s0-algo-1-wxmo4 |\u001b[0m 2021-04-13 00:38:29,684 sagemaker-containers ERROR    framework error: \n",
      "\u001b[36msp0f9ti7s0-algo-1-wxmo4 |\u001b[0m Traceback (most recent call last):\n",
      "\u001b[36msp0f9ti7s0-algo-1-wxmo4 |\u001b[0m   File \"/miniconda3/lib/python3.7/site-packages/sagemaker_containers/_trainer.py\", line 84, in train\n",
      "\u001b[36msp0f9ti7s0-algo-1-wxmo4 |\u001b[0m     entrypoint()\n",
      "\u001b[36msp0f9ti7s0-algo-1-wxmo4 |\u001b[0m   File \"/miniconda3/lib/python3.7/site-packages/sagemaker_sklearn_container/training.py\", line 39, in main\n",
      "\u001b[36msp0f9ti7s0-algo-1-wxmo4 |\u001b[0m     train(environment.Environment())\n",
      "\u001b[36msp0f9ti7s0-algo-1-wxmo4 |\u001b[0m   File \"/miniconda3/lib/python3.7/site-packages/sagemaker_sklearn_container/training.py\", line 35, in train\n",
      "\u001b[36msp0f9ti7s0-algo-1-wxmo4 |\u001b[0m     runner_type=runner.ProcessRunnerType)\n",
      "\u001b[36msp0f9ti7s0-algo-1-wxmo4 |\u001b[0m   File \"/miniconda3/lib/python3.7/site-packages/sagemaker_training/entry_point.py\", line 100, in run\n",
      "\u001b[36msp0f9ti7s0-algo-1-wxmo4 |\u001b[0m     wait, capture_error\n",
      "\u001b[36msp0f9ti7s0-algo-1-wxmo4 |\u001b[0m   File \"/miniconda3/lib/python3.7/site-packages/sagemaker_training/process.py\", line 161, in run\n",
      "\u001b[36msp0f9ti7s0-algo-1-wxmo4 |\u001b[0m     cwd=environment.code_dir,\n",
      "\u001b[36msp0f9ti7s0-algo-1-wxmo4 |\u001b[0m   File \"/miniconda3/lib/python3.7/site-packages/sagemaker_training/process.py\", line 81, in check_error\n",
      "\u001b[36msp0f9ti7s0-algo-1-wxmo4 |\u001b[0m     raise error_class(return_code=return_code, cmd=\" \".join(cmd), output=stderr)\n",
      "\u001b[36msp0f9ti7s0-algo-1-wxmo4 |\u001b[0m sagemaker_training.errors.ExecuteUserScriptError: ExecuteUserScriptError:\n",
      "\u001b[36msp0f9ti7s0-algo-1-wxmo4 |\u001b[0m Command \"/miniconda3/bin/python evaluation.py --model_path s3://sagemaker-ap-northeast-2-057716757052/fraud2scratch/output/sagemaker-xgboost-2021-04-12-11-48-20-620/output/model.tar.gz --test_path s3://sagemaker-ap-northeast-2-057716757052/sagemaker-scikit-learn-2021-04-12-11-40-41-489/output/output-3/test.csv\"\n",
      "\u001b[36msp0f9ti7s0-algo-1-wxmo4 |\u001b[0m \n",
      "\u001b[36msp0f9ti7s0-algo-1-wxmo4 |\u001b[0m ExecuteUserScriptError:\n",
      "\u001b[36msp0f9ti7s0-algo-1-wxmo4 |\u001b[0m Command \"/miniconda3/bin/python evaluation.py --model_path s3://sagemaker-ap-northeast-2-057716757052/fraud2scratch/output/sagemaker-xgboost-2021-04-12-11-48-20-620/output/model.tar.gz --test_path s3://sagemaker-ap-northeast-2-057716757052/sagemaker-scikit-learn-2021-04-12-11-40-41-489/output/output-3/test.csv\"\n",
      "\u001b[36msp0f9ti7s0-algo-1-wxmo4 exited with code 1\n",
      "\u001b[0m1\n",
      "Aborting on container exit...\n"
     ]
    },
    {
     "ename": "RuntimeError",
     "evalue": "Failed to run: ['docker-compose', '-f', '/tmp/tmpvo1uv8_x/docker-compose.yaml', 'up', '--build', '--abort-on-container-exit'], Process exited with code: 1",
     "output_type": "error",
     "traceback": [
      "\u001b[0;31m---------------------------------------------------------------------------\u001b[0m",
      "\u001b[0;31mRuntimeError\u001b[0m                              Traceback (most recent call last)",
      "\u001b[0;32m~/anaconda3/envs/python3/lib/python3.6/site-packages/sagemaker/local/image.py\u001b[0m in \u001b[0;36mtrain\u001b[0;34m(self, input_data_config, output_data_config, hyperparameters, job_name)\u001b[0m\n\u001b[1;32m    237\u001b[0m         \u001b[0;32mtry\u001b[0m\u001b[0;34m:\u001b[0m\u001b[0;34m\u001b[0m\u001b[0;34m\u001b[0m\u001b[0m\n\u001b[0;32m--> 238\u001b[0;31m             \u001b[0m_stream_output\u001b[0m\u001b[0;34m(\u001b[0m\u001b[0mprocess\u001b[0m\u001b[0;34m)\u001b[0m\u001b[0;34m\u001b[0m\u001b[0;34m\u001b[0m\u001b[0m\n\u001b[0m\u001b[1;32m    239\u001b[0m         \u001b[0;32mexcept\u001b[0m \u001b[0mRuntimeError\u001b[0m \u001b[0;32mas\u001b[0m \u001b[0me\u001b[0m\u001b[0;34m:\u001b[0m\u001b[0;34m\u001b[0m\u001b[0;34m\u001b[0m\u001b[0m\n",
      "\u001b[0;32m~/anaconda3/envs/python3/lib/python3.6/site-packages/sagemaker/local/image.py\u001b[0m in \u001b[0;36m_stream_output\u001b[0;34m(process)\u001b[0m\n\u001b[1;32m    893\u001b[0m     \u001b[0;32mif\u001b[0m \u001b[0mexit_code\u001b[0m \u001b[0;34m!=\u001b[0m \u001b[0;36m0\u001b[0m\u001b[0;34m:\u001b[0m\u001b[0;34m\u001b[0m\u001b[0;34m\u001b[0m\u001b[0m\n\u001b[0;32m--> 894\u001b[0;31m         \u001b[0;32mraise\u001b[0m \u001b[0mRuntimeError\u001b[0m\u001b[0;34m(\u001b[0m\u001b[0;34m\"Process exited with code: %s\"\u001b[0m \u001b[0;34m%\u001b[0m \u001b[0mexit_code\u001b[0m\u001b[0;34m)\u001b[0m\u001b[0;34m\u001b[0m\u001b[0;34m\u001b[0m\u001b[0m\n\u001b[0m\u001b[1;32m    895\u001b[0m \u001b[0;34m\u001b[0m\u001b[0m\n",
      "\u001b[0;31mRuntimeError\u001b[0m: Process exited with code: 1",
      "\nDuring handling of the above exception, another exception occurred:\n",
      "\u001b[0;31mRuntimeError\u001b[0m                              Traceback (most recent call last)",
      "\u001b[0;32m<ipython-input-28-477c0610803d>\u001b[0m in \u001b[0;36m<module>\u001b[0;34m\u001b[0m\n\u001b[1;32m     35\u001b[0m \u001b[0;34m\u001b[0m\u001b[0m\n\u001b[1;32m     36\u001b[0m \u001b[0;31m# execute the XGBoost training job\u001b[0m\u001b[0;34m\u001b[0m\u001b[0;34m\u001b[0m\u001b[0;34m\u001b[0m\u001b[0m\n\u001b[0;32m---> 37\u001b[0;31m \u001b[0mestimator\u001b[0m\u001b[0;34m.\u001b[0m\u001b[0mfit\u001b[0m\u001b[0;34m(\u001b[0m\u001b[0;34m{\u001b[0m\u001b[0;34m'train'\u001b[0m\u001b[0;34m:\u001b[0m \u001b[0mtrain_input\u001b[0m\u001b[0;34m,\u001b[0m \u001b[0;34m'validation'\u001b[0m\u001b[0;34m:\u001b[0m \u001b[0mvalidation_input\u001b[0m\u001b[0;34m}\u001b[0m\u001b[0;34m)\u001b[0m\u001b[0;34m\u001b[0m\u001b[0;34m\u001b[0m\u001b[0m\n\u001b[0m",
      "\u001b[0;32m~/anaconda3/envs/python3/lib/python3.6/site-packages/sagemaker/estimator.py\u001b[0m in \u001b[0;36mfit\u001b[0;34m(self, inputs, wait, logs, job_name, experiment_config)\u001b[0m\n\u001b[1;32m    659\u001b[0m         \u001b[0mself\u001b[0m\u001b[0;34m.\u001b[0m\u001b[0m_prepare_for_training\u001b[0m\u001b[0;34m(\u001b[0m\u001b[0mjob_name\u001b[0m\u001b[0;34m=\u001b[0m\u001b[0mjob_name\u001b[0m\u001b[0;34m)\u001b[0m\u001b[0;34m\u001b[0m\u001b[0;34m\u001b[0m\u001b[0m\n\u001b[1;32m    660\u001b[0m \u001b[0;34m\u001b[0m\u001b[0m\n\u001b[0;32m--> 661\u001b[0;31m         \u001b[0mself\u001b[0m\u001b[0;34m.\u001b[0m\u001b[0mlatest_training_job\u001b[0m \u001b[0;34m=\u001b[0m \u001b[0m_TrainingJob\u001b[0m\u001b[0;34m.\u001b[0m\u001b[0mstart_new\u001b[0m\u001b[0;34m(\u001b[0m\u001b[0mself\u001b[0m\u001b[0;34m,\u001b[0m \u001b[0minputs\u001b[0m\u001b[0;34m,\u001b[0m \u001b[0mexperiment_config\u001b[0m\u001b[0;34m)\u001b[0m\u001b[0;34m\u001b[0m\u001b[0;34m\u001b[0m\u001b[0m\n\u001b[0m\u001b[1;32m    662\u001b[0m         \u001b[0mself\u001b[0m\u001b[0;34m.\u001b[0m\u001b[0mjobs\u001b[0m\u001b[0;34m.\u001b[0m\u001b[0mappend\u001b[0m\u001b[0;34m(\u001b[0m\u001b[0mself\u001b[0m\u001b[0;34m.\u001b[0m\u001b[0mlatest_training_job\u001b[0m\u001b[0;34m)\u001b[0m\u001b[0;34m\u001b[0m\u001b[0;34m\u001b[0m\u001b[0m\n\u001b[1;32m    663\u001b[0m         \u001b[0;32mif\u001b[0m \u001b[0mwait\u001b[0m\u001b[0;34m:\u001b[0m\u001b[0;34m\u001b[0m\u001b[0;34m\u001b[0m\u001b[0m\n",
      "\u001b[0;32m~/anaconda3/envs/python3/lib/python3.6/site-packages/sagemaker/estimator.py\u001b[0m in \u001b[0;36mstart_new\u001b[0;34m(cls, estimator, inputs, experiment_config)\u001b[0m\n\u001b[1;32m   1422\u001b[0m         \"\"\"\n\u001b[1;32m   1423\u001b[0m         \u001b[0mtrain_args\u001b[0m \u001b[0;34m=\u001b[0m \u001b[0mcls\u001b[0m\u001b[0;34m.\u001b[0m\u001b[0m_get_train_args\u001b[0m\u001b[0;34m(\u001b[0m\u001b[0mestimator\u001b[0m\u001b[0;34m,\u001b[0m \u001b[0minputs\u001b[0m\u001b[0;34m,\u001b[0m \u001b[0mexperiment_config\u001b[0m\u001b[0;34m)\u001b[0m\u001b[0;34m\u001b[0m\u001b[0;34m\u001b[0m\u001b[0m\n\u001b[0;32m-> 1424\u001b[0;31m         \u001b[0mestimator\u001b[0m\u001b[0;34m.\u001b[0m\u001b[0msagemaker_session\u001b[0m\u001b[0;34m.\u001b[0m\u001b[0mtrain\u001b[0m\u001b[0;34m(\u001b[0m\u001b[0;34m**\u001b[0m\u001b[0mtrain_args\u001b[0m\u001b[0;34m)\u001b[0m\u001b[0;34m\u001b[0m\u001b[0;34m\u001b[0m\u001b[0m\n\u001b[0m\u001b[1;32m   1425\u001b[0m \u001b[0;34m\u001b[0m\u001b[0m\n\u001b[1;32m   1426\u001b[0m         \u001b[0;32mreturn\u001b[0m \u001b[0mcls\u001b[0m\u001b[0;34m(\u001b[0m\u001b[0mestimator\u001b[0m\u001b[0;34m.\u001b[0m\u001b[0msagemaker_session\u001b[0m\u001b[0;34m,\u001b[0m \u001b[0mestimator\u001b[0m\u001b[0;34m.\u001b[0m\u001b[0m_current_job_name\u001b[0m\u001b[0;34m)\u001b[0m\u001b[0;34m\u001b[0m\u001b[0;34m\u001b[0m\u001b[0m\n",
      "\u001b[0;32m~/anaconda3/envs/python3/lib/python3.6/site-packages/sagemaker/session.py\u001b[0m in \u001b[0;36mtrain\u001b[0;34m(self, input_mode, input_config, role, job_name, output_config, resource_config, vpc_config, hyperparameters, stop_condition, tags, metric_definitions, enable_network_isolation, image_uri, algorithm_arn, encrypt_inter_container_traffic, use_spot_instances, checkpoint_s3_uri, checkpoint_local_path, experiment_config, debugger_rule_configs, debugger_hook_config, tensorboard_output_config, enable_sagemaker_metrics, profiler_rule_configs, profiler_config)\u001b[0m\n\u001b[1;32m    560\u001b[0m         \u001b[0mLOGGER\u001b[0m\u001b[0;34m.\u001b[0m\u001b[0minfo\u001b[0m\u001b[0;34m(\u001b[0m\u001b[0;34m\"Creating training-job with name: %s\"\u001b[0m\u001b[0;34m,\u001b[0m \u001b[0mjob_name\u001b[0m\u001b[0;34m)\u001b[0m\u001b[0;34m\u001b[0m\u001b[0;34m\u001b[0m\u001b[0m\n\u001b[1;32m    561\u001b[0m         \u001b[0mLOGGER\u001b[0m\u001b[0;34m.\u001b[0m\u001b[0mdebug\u001b[0m\u001b[0;34m(\u001b[0m\u001b[0;34m\"train request: %s\"\u001b[0m\u001b[0;34m,\u001b[0m \u001b[0mjson\u001b[0m\u001b[0;34m.\u001b[0m\u001b[0mdumps\u001b[0m\u001b[0;34m(\u001b[0m\u001b[0mtrain_request\u001b[0m\u001b[0;34m,\u001b[0m \u001b[0mindent\u001b[0m\u001b[0;34m=\u001b[0m\u001b[0;36m4\u001b[0m\u001b[0;34m)\u001b[0m\u001b[0;34m)\u001b[0m\u001b[0;34m\u001b[0m\u001b[0;34m\u001b[0m\u001b[0m\n\u001b[0;32m--> 562\u001b[0;31m         \u001b[0mself\u001b[0m\u001b[0;34m.\u001b[0m\u001b[0msagemaker_client\u001b[0m\u001b[0;34m.\u001b[0m\u001b[0mcreate_training_job\u001b[0m\u001b[0;34m(\u001b[0m\u001b[0;34m**\u001b[0m\u001b[0mtrain_request\u001b[0m\u001b[0;34m)\u001b[0m\u001b[0;34m\u001b[0m\u001b[0;34m\u001b[0m\u001b[0m\n\u001b[0m\u001b[1;32m    563\u001b[0m \u001b[0;34m\u001b[0m\u001b[0m\n\u001b[1;32m    564\u001b[0m     def _get_train_request(  # noqa: C901\n",
      "\u001b[0;32m~/anaconda3/envs/python3/lib/python3.6/site-packages/sagemaker/local/local_session.py\u001b[0m in \u001b[0;36mcreate_training_job\u001b[0;34m(self, TrainingJobName, AlgorithmSpecification, OutputDataConfig, ResourceConfig, InputDataConfig, **kwargs)\u001b[0m\n\u001b[1;32m    184\u001b[0m         \u001b[0mhyperparameters\u001b[0m \u001b[0;34m=\u001b[0m \u001b[0mkwargs\u001b[0m\u001b[0;34m[\u001b[0m\u001b[0;34m\"HyperParameters\"\u001b[0m\u001b[0;34m]\u001b[0m \u001b[0;32mif\u001b[0m \u001b[0;34m\"HyperParameters\"\u001b[0m \u001b[0;32min\u001b[0m \u001b[0mkwargs\u001b[0m \u001b[0;32melse\u001b[0m \u001b[0;34m{\u001b[0m\u001b[0;34m}\u001b[0m\u001b[0;34m\u001b[0m\u001b[0;34m\u001b[0m\u001b[0m\n\u001b[1;32m    185\u001b[0m         \u001b[0mlogger\u001b[0m\u001b[0;34m.\u001b[0m\u001b[0minfo\u001b[0m\u001b[0;34m(\u001b[0m\u001b[0;34m\"Starting training job\"\u001b[0m\u001b[0;34m)\u001b[0m\u001b[0;34m\u001b[0m\u001b[0;34m\u001b[0m\u001b[0m\n\u001b[0;32m--> 186\u001b[0;31m         \u001b[0mtraining_job\u001b[0m\u001b[0;34m.\u001b[0m\u001b[0mstart\u001b[0m\u001b[0;34m(\u001b[0m\u001b[0mInputDataConfig\u001b[0m\u001b[0;34m,\u001b[0m \u001b[0mOutputDataConfig\u001b[0m\u001b[0;34m,\u001b[0m \u001b[0mhyperparameters\u001b[0m\u001b[0;34m,\u001b[0m \u001b[0mTrainingJobName\u001b[0m\u001b[0;34m)\u001b[0m\u001b[0;34m\u001b[0m\u001b[0;34m\u001b[0m\u001b[0m\n\u001b[0m\u001b[1;32m    187\u001b[0m \u001b[0;34m\u001b[0m\u001b[0m\n\u001b[1;32m    188\u001b[0m         \u001b[0mLocalSagemakerClient\u001b[0m\u001b[0;34m.\u001b[0m\u001b[0m_training_jobs\u001b[0m\u001b[0;34m[\u001b[0m\u001b[0mTrainingJobName\u001b[0m\u001b[0;34m]\u001b[0m \u001b[0;34m=\u001b[0m \u001b[0mtraining_job\u001b[0m\u001b[0;34m\u001b[0m\u001b[0;34m\u001b[0m\u001b[0m\n",
      "\u001b[0;32m~/anaconda3/envs/python3/lib/python3.6/site-packages/sagemaker/local/entities.py\u001b[0m in \u001b[0;36mstart\u001b[0;34m(self, input_data_config, output_data_config, hyperparameters, job_name)\u001b[0m\n\u001b[1;32m    219\u001b[0m \u001b[0;34m\u001b[0m\u001b[0m\n\u001b[1;32m    220\u001b[0m         self.model_artifacts = self.container.train(\n\u001b[0;32m--> 221\u001b[0;31m             \u001b[0minput_data_config\u001b[0m\u001b[0;34m,\u001b[0m \u001b[0moutput_data_config\u001b[0m\u001b[0;34m,\u001b[0m \u001b[0mhyperparameters\u001b[0m\u001b[0;34m,\u001b[0m \u001b[0mjob_name\u001b[0m\u001b[0;34m\u001b[0m\u001b[0;34m\u001b[0m\u001b[0m\n\u001b[0m\u001b[1;32m    222\u001b[0m         )\n\u001b[1;32m    223\u001b[0m         \u001b[0mself\u001b[0m\u001b[0;34m.\u001b[0m\u001b[0mend_time\u001b[0m \u001b[0;34m=\u001b[0m \u001b[0mdatetime\u001b[0m\u001b[0;34m.\u001b[0m\u001b[0mdatetime\u001b[0m\u001b[0;34m.\u001b[0m\u001b[0mnow\u001b[0m\u001b[0;34m(\u001b[0m\u001b[0;34m)\u001b[0m\u001b[0;34m\u001b[0m\u001b[0;34m\u001b[0m\u001b[0m\n",
      "\u001b[0;32m~/anaconda3/envs/python3/lib/python3.6/site-packages/sagemaker/local/image.py\u001b[0m in \u001b[0;36mtrain\u001b[0;34m(self, input_data_config, output_data_config, hyperparameters, job_name)\u001b[0m\n\u001b[1;32m    241\u001b[0m             \u001b[0;31m# which contains the exit code and append the command line to it.\u001b[0m\u001b[0;34m\u001b[0m\u001b[0;34m\u001b[0m\u001b[0;34m\u001b[0m\u001b[0m\n\u001b[1;32m    242\u001b[0m             \u001b[0mmsg\u001b[0m \u001b[0;34m=\u001b[0m \u001b[0;34m\"Failed to run: %s, %s\"\u001b[0m \u001b[0;34m%\u001b[0m \u001b[0;34m(\u001b[0m\u001b[0mcompose_command\u001b[0m\u001b[0;34m,\u001b[0m \u001b[0mstr\u001b[0m\u001b[0;34m(\u001b[0m\u001b[0me\u001b[0m\u001b[0;34m)\u001b[0m\u001b[0;34m)\u001b[0m\u001b[0;34m\u001b[0m\u001b[0;34m\u001b[0m\u001b[0m\n\u001b[0;32m--> 243\u001b[0;31m             \u001b[0;32mraise\u001b[0m \u001b[0mRuntimeError\u001b[0m\u001b[0;34m(\u001b[0m\u001b[0mmsg\u001b[0m\u001b[0;34m)\u001b[0m\u001b[0;34m\u001b[0m\u001b[0;34m\u001b[0m\u001b[0m\n\u001b[0m\u001b[1;32m    244\u001b[0m         \u001b[0;32mfinally\u001b[0m\u001b[0;34m:\u001b[0m\u001b[0;34m\u001b[0m\u001b[0;34m\u001b[0m\u001b[0m\n\u001b[1;32m    245\u001b[0m             \u001b[0martifacts\u001b[0m \u001b[0;34m=\u001b[0m \u001b[0mself\u001b[0m\u001b[0;34m.\u001b[0m\u001b[0mretrieve_artifacts\u001b[0m\u001b[0;34m(\u001b[0m\u001b[0mcompose_data\u001b[0m\u001b[0;34m,\u001b[0m \u001b[0moutput_data_config\u001b[0m\u001b[0;34m,\u001b[0m \u001b[0mjob_name\u001b[0m\u001b[0;34m)\u001b[0m\u001b[0;34m\u001b[0m\u001b[0;34m\u001b[0m\u001b[0m\n",
      "\u001b[0;31mRuntimeError\u001b[0m: Failed to run: ['docker-compose', '-f', '/tmp/tmpvo1uv8_x/docker-compose.yaml', 'up', '--build', '--abort-on-container-exit'], Process exited with code: 1"
     ]
    }
   ],
   "source": [
    "import boto3\n",
    "import sagemaker\n",
    "from sagemaker.sklearn.estimator import SKLearn\n",
    "from sagemaker.session import Session\n",
    "from sagemaker.inputs import TrainingInput\n",
    "\n",
    "# set an output path where the trained model will be saved\n",
    "bucket = sagemaker.Session().default_bucket()\n",
    "prefix = 'DEMO-xgboost-as-a-framework'\n",
    "\n",
    "# initialize hyperparameters\n",
    "model_artifcat_path = 's3://sagemaker-ap-northeast-2-057716757052/fraud2scratch/output/sagemaker-xgboost-2021-04-12-11-48-20-620/output/model.tar.gz'\n",
    "prep_test_output = 's3://sagemaker-ap-northeast-2-057716757052/sagemaker-scikit-learn-2021-04-12-11-40-41-489/output/output-3/test.csv'\n",
    "\n",
    "\n",
    "hyperparameters = {\n",
    "        \"model_path\": model_artifcat_path,\n",
    "        \"test_path\": prep_test_output,\n",
    "}\n",
    "\n",
    "# construct a SageMaker XGBoost estimator\n",
    "# specify the entry_point to your xgboost training script\n",
    "estimator = SKLearn(entry_point = \"fraud/evaluation.py\", \n",
    "                    framework_version='0.23-1',\n",
    "                    hyperparameters=hyperparameters,\n",
    "                    role=sagemaker.get_execution_role(),\n",
    "                    instance_count=1,\n",
    "                    instance_type='local',\n",
    "                   )\n",
    "\n",
    "# define the data type and paths to the training and validation datasets\n",
    "content_type = \"libsvm\"\n",
    "train_input = TrainingInput(\"s3://{}/{}/{}/\".format(bucket, prefix, 'train'), content_type=content_type)\n",
    "validation_input = TrainingInput(\"s3://{}/{}/{}/\".format(bucket, prefix, 'validation'), content_type=content_type)\n",
    "\n",
    "# execute the XGBoost training job\n",
    "estimator.fit({'train': train_input, 'validation': validation_input})"
   ]
  },
  {
   "cell_type": "markdown",
   "id": "proper-leeds",
   "metadata": {},
   "source": [
    "## list folder"
   ]
  },
  {
   "cell_type": "code",
   "execution_count": 20,
   "id": "catholic-redhead",
   "metadata": {},
   "outputs": [
    {
     "name": "stdout",
     "output_type": "stream",
     "text": [
      "<generator object Path.glob at 0x7fa7cda65888>\n",
      "('opt/ml/processing', ['validation', 'train', 'test', 'evaluation', 'input', 'output', 'model'], [])\n",
      "('opt/ml/processing/validation', [], ['validation.csv'])\n",
      "('opt/ml/processing/train', [], ['train.csv'])\n",
      "('opt/ml/processing/test', [], ['test.csv'])\n",
      "('opt/ml/processing/evaluation', [], ['evaluation.json'])\n",
      "('opt/ml/processing/input', ['.ipynb_checkpoints'], ['dataset.csv'])\n",
      "('opt/ml/processing/input/.ipynb_checkpoints', [], [])\n",
      "('opt/ml/processing/output', ['validation', 'train', 'test'], [])\n",
      "('opt/ml/processing/output/validation', [], ['validation.csv'])\n",
      "('opt/ml/processing/output/train', [], ['train.csv'])\n",
      "('opt/ml/processing/output/test', [], ['test.csv'])\n",
      "('opt/ml/processing/model', [], ['model.tar.gz'])\n"
     ]
    }
   ],
   "source": [
    "import os\n",
    "base_dir = 'opt/ml/processing'\n",
    "os.listdir(base_dir)\n",
    "\n",
    "import pathlib\n",
    "print(pathlib.Path(base_dir).glob(\"**/*\"))\n",
    "      \n",
    "      \n",
    "for i in os.walk(base_dir):\n",
    "    print(i)"
   ]
  },
  {
   "cell_type": "markdown",
   "id": "discrete-pizza",
   "metadata": {},
   "source": [
    "## Loading Model"
   ]
  },
  {
   "cell_type": "code",
   "execution_count": 14,
   "id": "pregnant-connecticut",
   "metadata": {},
   "outputs": [],
   "source": [
    "# model = pickle.load(open(\"xgboost-model\", \"rb\"))\n",
    "\n",
    "# model.feature_names"
   ]
  },
  {
   "cell_type": "code",
   "execution_count": null,
   "id": "religious-holder",
   "metadata": {},
   "outputs": [],
   "source": []
  },
  {
   "cell_type": "markdown",
   "id": "stuck-failure",
   "metadata": {},
   "source": [
    "## Built-in XGBoost and Framework version"
   ]
  },
  {
   "cell_type": "code",
   "execution_count": 8,
   "id": "northern-absence",
   "metadata": {},
   "outputs": [],
   "source": [
    "import sagemaker\n",
    "from sagemaker.xgboost.estimator import XGBoost\n",
    "\n",
    "estimator = XGBoost(entry_point = \"evaluation.py\", \n",
    "                    framework_version='1.2-1',\n",
    "                    #hyperparameters=hyperparameters,\n",
    "                    role=sagemaker.get_execution_role(),\n",
    "                    instance_count=1,\n",
    "                    instance_type='ml.m5.2xlarge',\n",
    "                    #output_path=output_path\n",
    "                   )\n"
   ]
  },
  {
   "cell_type": "code",
   "execution_count": 11,
   "id": "necessary-defensive",
   "metadata": {},
   "outputs": [
    {
     "name": "stdout",
     "output_type": "stream",
     "text": [
      "Framework version:  366743142698.dkr.ecr.ap-northeast-2.amazonaws.com/sagemaker-xgboost:1.2-1\n"
     ]
    }
   ],
   "source": [
    "print(\"Framework version: \", estimator.image_uri)"
   ]
  },
  {
   "cell_type": "code",
   "execution_count": 13,
   "id": "fabulous-frederick",
   "metadata": {},
   "outputs": [
    {
     "name": "stdout",
     "output_type": "stream",
     "text": [
      "built-in xgboost:  366743142698.dkr.ecr.ap-northeast-2.amazonaws.com/sagemaker-xgboost:1.2-1\n"
     ]
    }
   ],
   "source": [
    "xgboost_container = sagemaker.image_uris.retrieve(\"xgboost\", \n",
    "                                                  'ap-northeast-2', \"1.2-1\")\n",
    "print(\"built-in xgboost: \", xgboost_container)\n"
   ]
  },
  {
   "cell_type": "code",
   "execution_count": null,
   "id": "juvenile-mobility",
   "metadata": {},
   "outputs": [],
   "source": []
  },
  {
   "cell_type": "code",
   "execution_count": 7,
   "id": "resident-design",
   "metadata": {},
   "outputs": [],
   "source": [
    "base_test_dir = 'tmp/'"
   ]
  },
  {
   "cell_type": "code",
   "execution_count": 10,
   "id": "ahead-arbitration",
   "metadata": {},
   "outputs": [
    {
     "name": "stdout",
     "output_type": "stream",
     "text": [
      "input_files:  ['tmp/fraud-dataset.csv', 'tmp/fraud-dataset02.csv']\n"
     ]
    }
   ],
   "source": [
    "from glob import glob\n",
    "input_files = glob('{}/*.csv'.format(base_test_dir))\n",
    "print(\"input_files: \", input_files)"
   ]
  },
  {
   "cell_type": "code",
   "execution_count": 11,
   "id": "horizontal-makeup",
   "metadata": {},
   "outputs": [
    {
     "data": {
      "text/html": [
       "<div>\n",
       "<style scoped>\n",
       "    .dataframe tbody tr th:only-of-type {\n",
       "        vertical-align: middle;\n",
       "    }\n",
       "\n",
       "    .dataframe tbody tr th {\n",
       "        vertical-align: top;\n",
       "    }\n",
       "\n",
       "    .dataframe thead th {\n",
       "        text-align: right;\n",
       "    }\n",
       "</style>\n",
       "<table border=\"1\" class=\"dataframe\">\n",
       "  <thead>\n",
       "    <tr style=\"text-align: right;\">\n",
       "      <th></th>\n",
       "      <th>fraud</th>\n",
       "      <th>incident_month</th>\n",
       "      <th>customer_age</th>\n",
       "      <th>incident_hour</th>\n",
       "      <th>months_as_customer</th>\n",
       "      <th>injury_claim</th>\n",
       "    </tr>\n",
       "  </thead>\n",
       "  <tbody>\n",
       "    <tr>\n",
       "      <th>0</th>\n",
       "      <td>0</td>\n",
       "      <td>5</td>\n",
       "      <td>58</td>\n",
       "      <td>18</td>\n",
       "      <td>145</td>\n",
       "      <td>20900.0</td>\n",
       "    </tr>\n",
       "    <tr>\n",
       "      <th>1</th>\n",
       "      <td>0</td>\n",
       "      <td>6</td>\n",
       "      <td>28</td>\n",
       "      <td>20</td>\n",
       "      <td>106</td>\n",
       "      <td>0.0</td>\n",
       "    </tr>\n",
       "    <tr>\n",
       "      <th>2</th>\n",
       "      <td>0</td>\n",
       "      <td>6</td>\n",
       "      <td>28</td>\n",
       "      <td>9</td>\n",
       "      <td>112</td>\n",
       "      <td>6700.0</td>\n",
       "    </tr>\n",
       "    <tr>\n",
       "      <th>3</th>\n",
       "      <td>0</td>\n",
       "      <td>11</td>\n",
       "      <td>34</td>\n",
       "      <td>21</td>\n",
       "      <td>78</td>\n",
       "      <td>34800.0</td>\n",
       "    </tr>\n",
       "    <tr>\n",
       "      <th>4</th>\n",
       "      <td>0</td>\n",
       "      <td>8</td>\n",
       "      <td>21</td>\n",
       "      <td>10</td>\n",
       "      <td>35</td>\n",
       "      <td>0.0</td>\n",
       "    </tr>\n",
       "    <tr>\n",
       "      <th>...</th>\n",
       "      <td>...</td>\n",
       "      <td>...</td>\n",
       "      <td>...</td>\n",
       "      <td>...</td>\n",
       "      <td>...</td>\n",
       "      <td>...</td>\n",
       "    </tr>\n",
       "    <tr>\n",
       "      <th>15995</th>\n",
       "      <td>0</td>\n",
       "      <td>10</td>\n",
       "      <td>19</td>\n",
       "      <td>6</td>\n",
       "      <td>5</td>\n",
       "      <td>30000.0</td>\n",
       "    </tr>\n",
       "    <tr>\n",
       "      <th>15996</th>\n",
       "      <td>0</td>\n",
       "      <td>1</td>\n",
       "      <td>62</td>\n",
       "      <td>10</td>\n",
       "      <td>157</td>\n",
       "      <td>0.0</td>\n",
       "    </tr>\n",
       "    <tr>\n",
       "      <th>15997</th>\n",
       "      <td>0</td>\n",
       "      <td>12</td>\n",
       "      <td>56</td>\n",
       "      <td>12</td>\n",
       "      <td>1</td>\n",
       "      <td>6300.0</td>\n",
       "    </tr>\n",
       "    <tr>\n",
       "      <th>15998</th>\n",
       "      <td>0</td>\n",
       "      <td>10</td>\n",
       "      <td>60</td>\n",
       "      <td>1</td>\n",
       "      <td>139</td>\n",
       "      <td>0.0</td>\n",
       "    </tr>\n",
       "    <tr>\n",
       "      <th>15999</th>\n",
       "      <td>1</td>\n",
       "      <td>12</td>\n",
       "      <td>45</td>\n",
       "      <td>5</td>\n",
       "      <td>228</td>\n",
       "      <td>0.0</td>\n",
       "    </tr>\n",
       "  </tbody>\n",
       "</table>\n",
       "<p>32000 rows × 6 columns</p>\n",
       "</div>"
      ],
      "text/plain": [
       "       fraud  incident_month  customer_age  incident_hour  months_as_customer  \\\n",
       "0          0               5            58             18                 145   \n",
       "1          0               6            28             20                 106   \n",
       "2          0               6            28              9                 112   \n",
       "3          0              11            34             21                  78   \n",
       "4          0               8            21             10                  35   \n",
       "...      ...             ...           ...            ...                 ...   \n",
       "15995      0              10            19              6                   5   \n",
       "15996      0               1            62             10                 157   \n",
       "15997      0              12            56             12                   1   \n",
       "15998      0              10            60              1                 139   \n",
       "15999      1              12            45              5                 228   \n",
       "\n",
       "       injury_claim  \n",
       "0           20900.0  \n",
       "1               0.0  \n",
       "2            6700.0  \n",
       "3           34800.0  \n",
       "4               0.0  \n",
       "...             ...  \n",
       "15995       30000.0  \n",
       "15996           0.0  \n",
       "15997        6300.0  \n",
       "15998           0.0  \n",
       "15999           0.0  \n",
       "\n",
       "[32000 rows x 6 columns]"
      ]
     },
     "execution_count": 11,
     "metadata": {},
     "output_type": "execute_result"
    }
   ],
   "source": [
    "import os\n",
    "import pandas as pd\n",
    "raw_data = [ pd.read_csv(file) for file in input_files ]\n",
    "df = pd.concat(raw_data)\n",
    "df\n"
   ]
  },
  {
   "cell_type": "code",
   "execution_count": 12,
   "id": "balanced-reporter",
   "metadata": {},
   "outputs": [
    {
     "name": "stdout",
     "output_type": "stream",
     "text": [
      "<class 'pandas.core.frame.DataFrame'>\n",
      "Int64Index: 32000 entries, 0 to 15999\n",
      "Data columns (total 6 columns):\n",
      " #   Column              Non-Null Count  Dtype  \n",
      "---  ------              --------------  -----  \n",
      " 0   fraud               32000 non-null  int64  \n",
      " 1   incident_month      32000 non-null  int64  \n",
      " 2   customer_age        32000 non-null  int64  \n",
      " 3   incident_hour       32000 non-null  int64  \n",
      " 4   months_as_customer  32000 non-null  int64  \n",
      " 5   injury_claim        32000 non-null  float64\n",
      "dtypes: float64(1), int64(5)\n",
      "memory usage: 1.7 MB\n"
     ]
    }
   ],
   "source": [
    "df.info()"
   ]
  },
  {
   "cell_type": "code",
   "execution_count": null,
   "id": "infectious-danish",
   "metadata": {},
   "outputs": [],
   "source": []
  }
 ],
 "metadata": {
  "kernelspec": {
   "display_name": "conda_python3",
   "language": "python",
   "name": "conda_python3"
  },
  "language_info": {
   "codemirror_mode": {
    "name": "ipython",
    "version": 3
   },
   "file_extension": ".py",
   "mimetype": "text/x-python",
   "name": "python",
   "nbconvert_exporter": "python",
   "pygments_lexer": "ipython3",
   "version": "3.6.13"
  }
 },
 "nbformat": 4,
 "nbformat_minor": 5
}
