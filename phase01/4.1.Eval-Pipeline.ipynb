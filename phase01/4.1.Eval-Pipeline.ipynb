{
 "cells": [
  {
   "cell_type": "markdown",
   "metadata": {},
   "source": [
    "# [모듈 4.1] 평가 및 조건 단계 개발 (SageMaker Model Building Pipeline 평가 및 조건 스텝)\n",
    "\n",
    "이 노트북은 아래와 같은 목차로 진행 됩니다. 전체를 모두 실행시에 완료 시간은 약 5분-10분 소요 됩니다.\n",
    "\n",
    "- 0. 모델 평가 개요 \n",
    "- 1. 데이터 세트 로딩 및 기본 훈련 변수 설정\n",
    "- 2. 모델 평가 코드 확인\n",
    "- 3. 모델 평가 스텝 개발 및 실행\n",
    "    - 아래의 3단계를 진행하여 SageMaker Model Building Pipeline 에서 훈련 스텝 개발 함. 아래의 (1), (2) 단계는 옵션이지만, 실제 현업 개발시에 필요한 단계이기에 실행을 권장 드립니다.\n",
    "        - (1) **[로컬 노트북 인스턴스]**에서 [다커 컨테이너 없이] 스크립트로 \n",
    "        - (2) **[로컬 노트북 인스턴스]**에서 다커 컨테이너로 훈련 코드 실행 (로컬 모드로 불리움)\n",
    "        - (3) SageMaker Model Building Pipeline 에서 모델 평가 및 조건 스텝 개발 및 실행\n",
    "    \n",
    "---"
   ]
  },
  {
   "cell_type": "markdown",
   "metadata": {},
   "source": [
    "# 0. 모델 평가 개요\n",
    "추후 기술 예정 입니다."
   ]
  },
  {
   "cell_type": "markdown",
   "metadata": {},
   "source": [
    "# 1. 데이터 세트 로딩 및 기본 훈련 변수 설정\n",
    "- 이전 단계(전처리)에서 결과 파일을 로딩 합니다. 실제 훈련에 제공되는 데이터를 확인하기 위함 입니다.\n",
    "---"
   ]
  },
  {
   "cell_type": "code",
   "execution_count": 7,
   "metadata": {},
   "outputs": [],
   "source": [
    "import boto3\n",
    "import sagemaker\n",
    "import pandas as pd\n",
    "\n",
    "region = boto3.Session().region_name\n",
    "sagemaker_session = sagemaker.session.Session()\n",
    "role = sagemaker.get_execution_role()\n",
    "# role = 'arn:aws:iam::057716757052:role/service-role/AmazonSageMaker-ExecutionRole-20201219T152596'\n",
    "\n",
    "%store -r \n",
    "# %store"
   ]
  },
  {
   "cell_type": "markdown",
   "metadata": {},
   "source": [
    "### 모델 아피텍트 위치 확인"
   ]
  },
  {
   "cell_type": "code",
   "execution_count": 8,
   "metadata": {},
   "outputs": [
    {
     "name": "stdout",
     "output_type": "stream",
     "text": [
      "train_model_artifact: \n",
      " s3://sagemaker-ap-northeast-2-057716757052/sagemaker-pipeline-step-by-step/training_jobs/pipelines-fi8k402mf07h-FraudScratchTrain-fnnMKXDW3b/output/model.tar.gz\n"
     ]
    }
   ],
   "source": [
    "print(\"train_model_artifact: \\n\", train_model_artifact)"
   ]
  },
  {
   "cell_type": "markdown",
   "metadata": {},
   "source": [
    "# 2. 모델 평가 코드 확인\n",
    "\n",
    "\n",
    "---\n",
    "\n",
    "평가 스크립트는 `xgboost`를 사용하고 다음을 실행합니다.\n",
    "\n",
    "* 모델을 로드합니다. \n",
    "* 테스트 데이터를 읽습니다. \n",
    "* 테스트 데이터에 대한 예측을 실행합니다. \n",
    "* mse 등을 포함하는 분류보고서를 작성합니다. \n",
    "\n",
    "\n"
   ]
  },
  {
   "cell_type": "code",
   "execution_count": 9,
   "metadata": {},
   "outputs": [],
   "source": [
    "# !pygmentize src/xgboost_starter_script.py"
   ]
  },
  {
   "cell_type": "markdown",
   "metadata": {},
   "source": [
    "# 3. 모델 평가 스텝 개발 및 실행\n",
    "---\n",
    "\n"
   ]
  },
  {
   "cell_type": "markdown",
   "metadata": {},
   "source": [
    "## (1) 로컬에서 스크립트 실행\n",
    "\n",
    "\n",
    "### 로컬 환경 구성\n",
    "- 도커 컨테이너의 환경을 가상으로 구성하기 위해 아래 폴더 생성\n",
    "    - `opt/ml/processing`\n",
    "    - `opt/ml/processing/evaluation`\n",
    "    - `opt/ml/processing/model`\n",
    "    \n",
    "\n",
    "- 모델 아티펙트 다운로드 하여 로컬에 저장\n",
    "- 테스트 데이터 세트 다운로드 하여 로컬 저장"
   ]
  },
  {
   "cell_type": "code",
   "execution_count": 15,
   "metadata": {},
   "outputs": [
    {
     "name": "stdout",
     "output_type": "stream",
     "text": [
      "Download model artifact: \n",
      "download: s3://sagemaker-ap-northeast-2-057716757052/sagemaker-pipeline-step-by-step/training_jobs/pipelines-fi8k402mf07h-FraudScratchTrain-fnnMKXDW3b/output/model.tar.gz to opt/ml/processing/model/model.tar.gz\n",
      "Test Data Location: \n",
      " s3://sagemaker-ap-northeast-2-057716757052/sagemaker-pipeline-step-by-step-phase01/preporc/test.csv\n"
     ]
    }
   ],
   "source": [
    "import os\n",
    "base_dir = 'opt/ml/processing'\n",
    "os.makedirs(base_dir, exist_ok=True)\n",
    "\n",
    "output_evaluation_dir = 'opt/ml/processing/evaluation'\n",
    "os.makedirs(output_evaluation_dir, exist_ok=True)\n",
    "\n",
    "# 훈련 아티펙트를 다운로드 하여 로컬 저장\n",
    "base_model_dir = 'opt/ml/processing/model'\n",
    "base_model_path = f\"{base_model_dir}/model.tar.gz\"\n",
    "os.makedirs(base_model_dir, exist_ok=True)\n",
    "\n",
    "print(\"Download model artifact: \")\n",
    "! aws s3 cp  {train_model_artifact} {base_model_dir}\n",
    "\n",
    "# 테스트 데이터 세트의 파일 경로 기술\n",
    "base_test_path = f\"{test_preproc_data_uri}\"\n",
    "print(\"Test Data Location: \\n\", base_test_path)\n"
   ]
  },
  {
   "cell_type": "markdown",
   "metadata": {},
   "source": [
    "### 로컬에서 실행 위한 필수 정보 확인"
   ]
  },
  {
   "cell_type": "code",
   "execution_count": 18,
   "metadata": {},
   "outputs": [
    {
     "name": "stdout",
     "output_type": "stream",
     "text": [
      "base_dir: \n",
      " opt/ml/processing\n",
      "base_model_path: \n",
      " opt/ml/processing/model/model.tar.gz\n",
      "base_test_path: \n",
      " s3://sagemaker-ap-northeast-2-057716757052/sagemaker-pipeline-step-by-step-phase01/preporc/test.csv\n",
      "output_evaluation_dir: \n",
      " opt/ml/processing/evaluation\n"
     ]
    }
   ],
   "source": [
    "print(\"base_dir: \\n\", base_dir)\n",
    "print(\"base_model_path: \\n\", base_model_path)\n",
    "print(\"base_test_path: \\n\", base_test_path)\n",
    "print(\"output_evaluation_dir: \\n\", output_evaluation_dir)"
   ]
  },
  {
   "cell_type": "markdown",
   "metadata": {},
   "source": [
    "### 로컬에서 스크립트 실행"
   ]
  },
  {
   "cell_type": "code",
   "execution_count": 19,
   "metadata": {},
   "outputs": [
    {
     "name": "stdout",
     "output_type": "stream",
     "text": [
      "Requirement already satisfied: xgboost in /home/ec2-user/anaconda3/envs/python3/lib/python3.6/site-packages (1.4.2)\n",
      "Requirement already satisfied: numpy in /home/ec2-user/anaconda3/envs/python3/lib/python3.6/site-packages (from xgboost) (1.19.5)\n",
      "Requirement already satisfied: scipy in /home/ec2-user/anaconda3/envs/python3/lib/python3.6/site-packages (from xgboost) (1.5.3)\n",
      "#############################################\n",
      "args.model_path: opt/ml/processing/model/model.tar.gz\n",
      "args.test_path: s3://sagemaker-ap-northeast-2-057716757052/sagemaker-pipeline-step-by-step-phase01/preporc/test.csv\n",
      "args.output_evaluation_dir: opt/ml/processing/evaluation\n",
      "****** All folder and files under opt/ml/processing ****** \n",
      "('opt/ml/processing', ['evaluation', 'input', 'output', 'model'], [])\n",
      "('opt/ml/processing/evaluation', ['.ipynb_checkpoints'], ['evaluation.json'])\n",
      "('opt/ml/processing/evaluation/.ipynb_checkpoints', [], [])\n",
      "('opt/ml/processing/input', ['.ipynb_checkpoints'], [])\n",
      "('opt/ml/processing/input/.ipynb_checkpoints', [], [])\n",
      "('opt/ml/processing/output', ['train', 'test'], [])\n",
      "('opt/ml/processing/output/train', [], [])\n",
      "('opt/ml/processing/output/test', ['.ipynb_checkpoints'], [])\n",
      "('opt/ml/processing/output/test/.ipynb_checkpoints', [], [])\n",
      "('opt/ml/processing/model', ['.ipynb_checkpoints'], ['model.tar.gz'])\n",
      "('opt/ml/processing/model/.ipynb_checkpoints', [], [])\n",
      "************************************************* \n",
      "model is loaded\n",
      "test df sample \n",
      ":    fraud  ...  police_report_available_Yes\n",
      "0      0  ...                            1\n",
      "1      0  ...                            1\n",
      "\n",
      "[2 rows x 59 columns]\n",
      "Payload: \n",
      " [[2.39014325e+04 3.62014325e+04 5.60000000e+01 ... 1.00000000e+00\n",
      "  0.00000000e+00 1.00000000e+00]\n",
      " [2.90952957e+04 7.36952957e+04 3.60000000e+01 ... 1.00000000e+00\n",
      "  0.00000000e+00 1.00000000e+00]\n",
      " [1.12328318e+04 2.50328318e+04 2.40000000e+01 ... 0.00000000e+00\n",
      "  1.00000000e+00 0.00000000e+00]\n",
      " ...\n",
      " [1.24212530e+04 2.41212530e+04 2.80000000e+01 ... 0.00000000e+00\n",
      "  1.00000000e+00 0.00000000e+00]\n",
      " [1.09916050e+04 2.49916050e+04 2.10000000e+01 ... 1.00000000e+00\n",
      "  0.00000000e+00 1.00000000e+00]\n",
      " [1.11269886e+04 1.48269886e+04 6.60000000e+01 ... 0.00000000e+00\n",
      "  1.00000000e+00 0.00000000e+00]]\n",
      "              precision    recall  f1-score   support\n",
      "\n",
      "           0       0.99      0.72      0.83       967\n",
      "           1       0.09      0.79      0.16        33\n",
      "\n",
      "    accuracy                           0.72      1000\n",
      "   macro avg       0.54      0.75      0.50      1000\n",
      "weighted avg       0.96      0.72      0.81      1000\n",
      "\n",
      "[[697 270]\n",
      " [  7  26]]\n",
      "roc_auc_score :  0.7942\n",
      "('opt/ml/processing/evaluation', ['.ipynb_checkpoints'], ['evaluation.json'])\n",
      "('opt/ml/processing/evaluation/.ipynb_checkpoints', [], [])\n",
      "evaluation_path \n",
      ": opt/ml/processing/evaluation/evaluation.json\n",
      "report_dict \n",
      ": {'binary_classification_metrics': {'auc': {'value': 0.7942, 'standard_deviation': 'NaN'}}}\n"
     ]
    },
    {
     "name": "stderr",
     "output_type": "stream",
     "text": [
      "WARNING: You are using pip version 21.1.2; however, version 21.1.3 is available.\n",
      "You should consider upgrading via the '/home/ec2-user/anaconda3/envs/python3/bin/python -m pip install --upgrade pip' command.\n"
     ]
    }
   ],
   "source": [
    "%%sh -s \"$base_dir\" \"$base_model_path\" \"$base_test_path\" \"$output_evaluation_dir\"\n",
    "python src/evaluation.py \\\n",
    "--base_dir $1 \\\n",
    "--model_path $2 \\\n",
    "--test_path $3 \\\n",
    "--output_evaluation_dir $4\n"
   ]
  },
  {
   "cell_type": "markdown",
   "metadata": {},
   "source": [
    "## (2) 로컬 다커 에서 모델 평가\n"
   ]
  },
  {
   "cell_type": "markdown",
   "metadata": {},
   "source": [
    "### ScriptProcessor 의 기본 도커 컨테이너 지정\n",
    "ScriptProcessor 의 기본 도커 컨테이너로 Scikit-learn를 기본 이미지를 사용함. \n",
    "- 사용자가 정의한 도커 컨테이너도 사용할 수 있습니다."
   ]
  },
  {
   "cell_type": "code",
   "execution_count": 20,
   "metadata": {},
   "outputs": [],
   "source": [
    "# scikit learn 다커 이미지\n",
    "image_uri = '366743142698.dkr.ecr.ap-northeast-2.amazonaws.com/sagemaker-scikit-learn:0.23-1-cpu-py3'\n"
   ]
  },
  {
   "cell_type": "markdown",
   "metadata": {},
   "source": [
    "### ScriptProcessor 정의 및 실행"
   ]
  },
  {
   "cell_type": "code",
   "execution_count": 21,
   "metadata": {},
   "outputs": [
    {
     "name": "stdout",
     "output_type": "stream",
     "text": [
      "\n",
      "Job Name:  script-fraud-scratch-eval-2021-07-29-06-31-00-962\n",
      "Inputs:  [{'InputName': 'input-1', 'AppManaged': False, 'S3Input': {'S3Uri': 's3://sagemaker-ap-northeast-2-057716757052/sagemaker-pipeline-step-by-step/training_jobs/pipelines-fi8k402mf07h-FraudScratchTrain-fnnMKXDW3b/output/model.tar.gz', 'LocalPath': '/opt/ml/processing/model', 'S3DataType': 'S3Prefix', 'S3InputMode': 'File', 'S3DataDistributionType': 'FullyReplicated', 'S3CompressionType': 'None'}}, {'InputName': 'input-2', 'AppManaged': False, 'S3Input': {'S3Uri': 's3://sagemaker-ap-northeast-2-057716757052/sklearn-fraud-process-2021-07-29-06-17-04-631/output/test', 'LocalPath': '/opt/ml/processing/test', 'S3DataType': 'S3Prefix', 'S3InputMode': 'File', 'S3DataDistributionType': 'FullyReplicated', 'S3CompressionType': 'None'}}, {'InputName': 'code', 'AppManaged': False, 'S3Input': {'S3Uri': 's3://sagemaker-ap-northeast-2-057716757052/script-fraud-scratch-eval-2021-07-29-06-31-00-962/input/code/evaluation.py', 'LocalPath': '/opt/ml/processing/input/code', 'S3DataType': 'S3Prefix', 'S3InputMode': 'File', 'S3DataDistributionType': 'FullyReplicated', 'S3CompressionType': 'None'}}]\n",
      "Outputs:  [{'OutputName': 'output-1', 'AppManaged': False, 'S3Output': {'S3Uri': 's3://sagemaker-ap-northeast-2-057716757052/script-fraud-scratch-eval-2021-07-29-06-31-00-962/output/output-1', 'LocalPath': '/opt/ml/processing/evaluation', 'S3UploadMode': 'EndOfJob'}}]\n",
      "Creating w4343b7w0s-algo-1-pcwuc ... \n",
      "Creating w4343b7w0s-algo-1-pcwuc ... done\n",
      "Attaching to w4343b7w0s-algo-1-pcwuc\n",
      "\u001b[36mw4343b7w0s-algo-1-pcwuc |\u001b[0m Collecting xgboost\n",
      "\u001b[36mw4343b7w0s-algo-1-pcwuc |\u001b[0m   Downloading xgboost-1.4.2-py3-none-manylinux2010_x86_64.whl (166.7 MB)\n",
      "\u001b[K     |████████████████████████████████| 166.7 MB 29 kB/s s eta 0:00:01\n",
      "\u001b[36mw4343b7w0s-algo-1-pcwuc |\u001b[0m \u001b[?25hRequirement already satisfied: numpy in /miniconda3/lib/python3.7/site-packages (from xgboost) (1.19.2)\n",
      "\u001b[36mw4343b7w0s-algo-1-pcwuc |\u001b[0m Requirement already satisfied: scipy in /miniconda3/lib/python3.7/site-packages (from xgboost) (1.5.3)\n",
      "\u001b[36mw4343b7w0s-algo-1-pcwuc |\u001b[0m Installing collected packages: xgboost\n",
      "\u001b[36mw4343b7w0s-algo-1-pcwuc |\u001b[0m Successfully installed xgboost-1.4.2\n",
      "\u001b[36mw4343b7w0s-algo-1-pcwuc |\u001b[0m #############################################\n",
      "\u001b[36mw4343b7w0s-algo-1-pcwuc |\u001b[0m args.model_path: /opt/ml/processing/model/model.tar.gz\n",
      "\u001b[36mw4343b7w0s-algo-1-pcwuc |\u001b[0m args.test_path: /opt/ml/processing/test/test.csv\n",
      "\u001b[36mw4343b7w0s-algo-1-pcwuc |\u001b[0m args.output_evaluation_dir: /opt/ml/processing/evaluation\n",
      "\u001b[36mw4343b7w0s-algo-1-pcwuc |\u001b[0m ****** All folder and files under /opt/ml/processing ****** \n",
      "\u001b[36mw4343b7w0s-algo-1-pcwuc |\u001b[0m ('/opt/ml/processing', ['input', 'model', 'test', 'evaluation'], [])\n",
      "\u001b[36mw4343b7w0s-algo-1-pcwuc |\u001b[0m ('/opt/ml/processing/input', ['code'], [])\n",
      "\u001b[36mw4343b7w0s-algo-1-pcwuc |\u001b[0m ('/opt/ml/processing/input/code', [], ['evaluation.py'])\n",
      "\u001b[36mw4343b7w0s-algo-1-pcwuc |\u001b[0m ('/opt/ml/processing/model', [], ['model.tar.gz'])\n",
      "\u001b[36mw4343b7w0s-algo-1-pcwuc |\u001b[0m ('/opt/ml/processing/test', [], ['test.csv'])\n",
      "\u001b[36mw4343b7w0s-algo-1-pcwuc |\u001b[0m ('/opt/ml/processing/evaluation', [], [])\n",
      "\u001b[36mw4343b7w0s-algo-1-pcwuc |\u001b[0m ************************************************* \n",
      "\u001b[36mw4343b7w0s-algo-1-pcwuc |\u001b[0m model is loaded\n",
      "\u001b[36mw4343b7w0s-algo-1-pcwuc |\u001b[0m test df sample \n",
      "\u001b[36mw4343b7w0s-algo-1-pcwuc |\u001b[0m :    fraud  ...  police_report_available_Yes\n",
      "\u001b[36mw4343b7w0s-algo-1-pcwuc |\u001b[0m 0      0  ...                            1\n",
      "\u001b[36mw4343b7w0s-algo-1-pcwuc |\u001b[0m 1      0  ...                            1\n",
      "\u001b[36mw4343b7w0s-algo-1-pcwuc |\u001b[0m \n",
      "\u001b[36mw4343b7w0s-algo-1-pcwuc |\u001b[0m [2 rows x 59 columns]\n",
      "\u001b[36mw4343b7w0s-algo-1-pcwuc |\u001b[0m Payload: \n",
      "\u001b[36mw4343b7w0s-algo-1-pcwuc |\u001b[0m  [[2.39014325e+04 3.62014325e+04 5.60000000e+01 ... 1.00000000e+00\n",
      "\u001b[36mw4343b7w0s-algo-1-pcwuc |\u001b[0m   0.00000000e+00 1.00000000e+00]\n",
      "\u001b[36mw4343b7w0s-algo-1-pcwuc |\u001b[0m  [2.90952957e+04 7.36952957e+04 3.60000000e+01 ... 1.00000000e+00\n",
      "\u001b[36mw4343b7w0s-algo-1-pcwuc |\u001b[0m   0.00000000e+00 1.00000000e+00]\n",
      "\u001b[36mw4343b7w0s-algo-1-pcwuc |\u001b[0m  [1.12328318e+04 2.50328318e+04 2.40000000e+01 ... 0.00000000e+00\n",
      "\u001b[36mw4343b7w0s-algo-1-pcwuc |\u001b[0m   1.00000000e+00 0.00000000e+00]\n",
      "\u001b[36mw4343b7w0s-algo-1-pcwuc |\u001b[0m  ...\n",
      "\u001b[36mw4343b7w0s-algo-1-pcwuc |\u001b[0m  [1.24212530e+04 2.41212530e+04 2.80000000e+01 ... 0.00000000e+00\n",
      "\u001b[36mw4343b7w0s-algo-1-pcwuc |\u001b[0m   1.00000000e+00 0.00000000e+00]\n",
      "\u001b[36mw4343b7w0s-algo-1-pcwuc |\u001b[0m  [1.09916050e+04 2.49916050e+04 2.10000000e+01 ... 1.00000000e+00\n",
      "\u001b[36mw4343b7w0s-algo-1-pcwuc |\u001b[0m   0.00000000e+00 1.00000000e+00]\n",
      "\u001b[36mw4343b7w0s-algo-1-pcwuc |\u001b[0m  [1.11269886e+04 1.48269886e+04 6.60000000e+01 ... 0.00000000e+00\n",
      "\u001b[36mw4343b7w0s-algo-1-pcwuc |\u001b[0m   1.00000000e+00 0.00000000e+00]]\n",
      "\u001b[36mw4343b7w0s-algo-1-pcwuc |\u001b[0m               precision    recall  f1-score   support\n",
      "\u001b[36mw4343b7w0s-algo-1-pcwuc |\u001b[0m \n",
      "\u001b[36mw4343b7w0s-algo-1-pcwuc |\u001b[0m            0       0.99      0.72      0.83       967\n",
      "\u001b[36mw4343b7w0s-algo-1-pcwuc |\u001b[0m            1       0.09      0.79      0.16        33\n",
      "\u001b[36mw4343b7w0s-algo-1-pcwuc |\u001b[0m \n",
      "\u001b[36mw4343b7w0s-algo-1-pcwuc |\u001b[0m     accuracy                           0.72      1000\n",
      "\u001b[36mw4343b7w0s-algo-1-pcwuc |\u001b[0m    macro avg       0.54      0.75      0.50      1000\n",
      "\u001b[36mw4343b7w0s-algo-1-pcwuc |\u001b[0m weighted avg       0.96      0.72      0.81      1000\n",
      "\u001b[36mw4343b7w0s-algo-1-pcwuc |\u001b[0m \n",
      "\u001b[36mw4343b7w0s-algo-1-pcwuc |\u001b[0m [[697 270]\n",
      "\u001b[36mw4343b7w0s-algo-1-pcwuc |\u001b[0m  [  7  26]]\n",
      "\u001b[36mw4343b7w0s-algo-1-pcwuc |\u001b[0m roc_auc_score :  0.7942\n",
      "\u001b[36mw4343b7w0s-algo-1-pcwuc |\u001b[0m ('/opt/ml/processing/evaluation', [], ['evaluation.json'])\n",
      "\u001b[36mw4343b7w0s-algo-1-pcwuc |\u001b[0m evaluation_path \n",
      "\u001b[36mw4343b7w0s-algo-1-pcwuc |\u001b[0m : /opt/ml/processing/evaluation/evaluation.json\n",
      "\u001b[36mw4343b7w0s-algo-1-pcwuc |\u001b[0m report_dict \n",
      "\u001b[36mw4343b7w0s-algo-1-pcwuc |\u001b[0m : {'binary_classification_metrics': {'auc': {'value': 0.7942, 'standard_deviation': 'NaN'}}}\n",
      "\u001b[36mw4343b7w0s-algo-1-pcwuc exited with code 0\n",
      "\u001b[0mAborting on container exit...\n",
      "===== Job Complete =====\n",
      "."
     ]
    }
   ],
   "source": [
    "from sagemaker.processing import ScriptProcessor\n",
    "from sagemaker.processing import ProcessingInput, ProcessingOutput\n",
    "\n",
    "\n",
    "processing_instance_type = 'local'\n",
    "# processing_instance_type = 'ml.m4.2xlarge'\n",
    "eval_script_processor = ScriptProcessor(\n",
    "    image_uri=image_uri,\n",
    "    command=[\"python3\"],\n",
    "    instance_type=processing_instance_type,\n",
    "    instance_count=1,\n",
    "    base_job_name=\"script-fraud-scratch-eval\",\n",
    "    role=role,\n",
    ")\n",
    "\n",
    "eval_script_processor.run(\n",
    "                        inputs=[\n",
    "                            ProcessingInput(\n",
    "#                                source=step_train.properties.ModelArtifacts.S3ModelArtifacts,\n",
    "                                source= train_model_artifact,  # model_artifcat_path,\n",
    "                                destination=\"/opt/ml/processing/model\"\n",
    "                            ),\n",
    "                            ProcessingInput(\n",
    "#                                 source=step_process.properties.ProcessingOutputConfig.Outputs[\n",
    "#                                     \"test\"\n",
    "#                                 ].S3Output.S3Uri,\n",
    "                                source = test_preproc_dir_artifact, # prep_test_output,\n",
    "                                destination=\"/opt/ml/processing/test\"\n",
    "                            )\n",
    "                        ],\n",
    "                        outputs=[\n",
    "                            #ProcessingOutput(output_name=\"evaluation\", source=\"/opt/ml/processing/evaluation\"),\n",
    "                            ProcessingOutput(source=\"/opt/ml/processing/evaluation\"),                            \n",
    "                        ],\n",
    "                        code=\"src/evaluation.py\",\n",
    ")"
   ]
  },
  {
   "cell_type": "markdown",
   "metadata": {},
   "source": [
    "## (3) 모델 빌딩 파이프라인에서  실행 \n",
    "---\n",
    "\n"
   ]
  },
  {
   "cell_type": "markdown",
   "metadata": {},
   "source": [
    "### 모델 빌딩 파이프라인 변수 생성\n",
    "\n"
   ]
  },
  {
   "cell_type": "code",
   "execution_count": 22,
   "metadata": {},
   "outputs": [],
   "source": [
    "from sagemaker.workflow.parameters import (\n",
    "    ParameterInteger,\n",
    "    ParameterString,\n",
    ")\n",
    "\n",
    "processing_instance_count = ParameterInteger(\n",
    "    name=\"ProcessingInstanceCount\",\n",
    "    default_value=1\n",
    ")\n",
    "processing_instance_type = ParameterString(\n",
    "    name=\"ProcessingInstanceType\",\n",
    "    default_value=\"ml.m5.xlarge\"\n",
    ")"
   ]
  },
  {
   "cell_type": "markdown",
   "metadata": {},
   "source": [
    "### 학습모델을 평가하기 위한 모델 평가단계 정의 \n",
    "\n"
   ]
  },
  {
   "cell_type": "code",
   "execution_count": 23,
   "metadata": {},
   "outputs": [],
   "source": [
    "from sagemaker.processing import ScriptProcessor\n",
    "\n",
    "\n",
    "script_eval = ScriptProcessor(\n",
    "    image_uri=image_uri,\n",
    "    command=[\"python3\"],\n",
    "    instance_type=processing_instance_type,\n",
    "    instance_count=1,\n",
    "    base_job_name=\"script-fraud2scratch-eval\",\n",
    "    role=role,\n",
    ")"
   ]
  },
  {
   "cell_type": "markdown",
   "metadata": {},
   "source": [
    "### Property 파일 정의\n",
    "\n",
    "- step_eval 이 실행이 되면 `evaluation.json` 이 S3에 저장이 됩니다.\n",
    "    - evaluation.json 은 아래의 PropertyFile 로서 정의 됩니다.\n",
    "    - step_eval 에서 `property_files=[<property_file_instance>]` 를 추가 합니다.\n",
    "\n",
    "```\n",
    "<property_file_instance> = PropertyFile(\n",
    "    name=\"<property_file_name>\",\n",
    "    output_name=\"<processingoutput_output_name>\",\n",
    "    path=\"<path_to_json_file>\"\n",
    ")\n",
    "```\n",
    "\n",
    "\n",
    "- 조건 단계에서 사용하는 ConditionLessThanOrEqualTo 에서 evaluation.json 을 로딩하여 내용을 확인\n",
    "\n",
    "```\n",
    "cond_lte = ConditionLessThanOrEqualTo(\n",
    "    left=JsonGet(\n",
    "        step=step_eval,\n",
    "        property_file=<property_file_instance>,\n",
    "        json_path=\"test_metrics.roc.value\",\n",
    "    ),\n",
    "    right=6.0\n",
    ")\n",
    "```\n",
    "\n",
    "#### 참고\n",
    "- 참고 자료: [Property Files and JsonGet](https://docs.aws.amazon.com/ko_kr/sagemaker/latest/dg/build-and-manage-propertyfile.html)"
   ]
  },
  {
   "cell_type": "code",
   "execution_count": 24,
   "metadata": {},
   "outputs": [],
   "source": [
    "from sagemaker.workflow.properties import PropertyFile\n",
    "from sagemaker.workflow.steps import ProcessingStep\n",
    "\n",
    "from sagemaker.workflow.properties import PropertyFile\n",
    "\n",
    "\n",
    "evaluation_report = PropertyFile(\n",
    "    name=\"EvaluationReport\",\n",
    "    output_name=\"evaluation\",\n",
    "    path=\"evaluation.json\"\n",
    ")\n",
    "\n",
    "\n",
    "step_eval = ProcessingStep(\n",
    "    name=\"FraudEval\",\n",
    "    processor=script_eval,\n",
    "    inputs=[\n",
    "        ProcessingInput(\n",
    "            source= train_model_artifact,\n",
    "            destination=\"/opt/ml/processing/model\"\n",
    "        ),\n",
    "        ProcessingInput(\n",
    "            source= test_preproc_dir_artifact,\n",
    "            destination=\"/opt/ml/processing/test\"\n",
    "        )\n",
    "    ],\n",
    "    outputs=[\n",
    "        ProcessingOutput(output_name=\"evaluation\", source=\"/opt/ml/processing/evaluation\"),\n",
    "    ],\n",
    "    code=\"src/evaluation.py\",\n",
    "    property_files=[evaluation_report],\n",
    ")"
   ]
  },
  {
   "cell_type": "markdown",
   "metadata": {},
   "source": [
    "### 조건  단계 정의\n",
    "- step_eval 의 결과가 조건 단계로 연결되기에 아래 추가하여 진행 합니다."
   ]
  },
  {
   "cell_type": "code",
   "execution_count": 25,
   "metadata": {},
   "outputs": [],
   "source": [
    "from sagemaker.workflow.conditions import ConditionLessThanOrEqualTo\n",
    "from sagemaker.workflow.condition_step import (\n",
    "    ConditionStep,\n",
    "    JsonGet,\n",
    ")\n",
    "\n",
    "\n",
    "cond_lte = ConditionLessThanOrEqualTo(\n",
    "    left=JsonGet(\n",
    "        step=step_eval,\n",
    "        property_file=evaluation_report,\n",
    "        json_path=\"binary_classification_metrics.auc.value\",\n",
    "    ),\n",
    "    right=6.0\n",
    ")\n",
    "\n",
    "step_cond = ConditionStep(\n",
    "    name=\"AbaloneMSECond\",\n",
    "    conditions=[cond_lte],\n",
    "#    if_steps=[step_register, step_create_model, step_transform],\n",
    "    if_steps=[],    \n",
    "    else_steps=[], \n",
    ")"
   ]
  },
  {
   "cell_type": "markdown",
   "metadata": {},
   "source": [
    "### 파리마터, 단계, 조건을 조합하여 최종 파이프라인 정의\n",
    "\n"
   ]
  },
  {
   "cell_type": "code",
   "execution_count": 26,
   "metadata": {},
   "outputs": [],
   "source": [
    "from sagemaker.workflow.pipeline import Pipeline\n",
    "\n",
    "\n",
    "pipeline_name = project_prefix\n",
    "pipeline = Pipeline(\n",
    "    name=pipeline_name,\n",
    "    parameters=[\n",
    "        processing_instance_type, \n",
    "        processing_instance_count,\n",
    "    ],\n",
    "   steps=[step_eval, step_cond],\n",
    ")"
   ]
  },
  {
   "cell_type": "markdown",
   "metadata": {},
   "source": [
    "### 파이프라인 정의 확인 \n",
    "\n",
    "파이프라인을 정의하는 JSON을 생성하고 파이프라인 내에서 사용하는 파라미터와 단계별 속성들이 잘 정의되었는지 확인할 수 있습니다."
   ]
  },
  {
   "cell_type": "code",
   "execution_count": 27,
   "metadata": {},
   "outputs": [],
   "source": [
    "import json\n",
    "\n",
    "\n",
    "definition = json.loads(pipeline.definition())\n",
    "# definition"
   ]
  },
  {
   "cell_type": "markdown",
   "metadata": {},
   "source": [
    "### 파이프라인을 SageMaker에 제출하고 실행하기 \n",
    "\n",
    "파이프라인 정의를 파이프라인 서비스에 제출합니다. 함께 전달되는 역할(role)을 이용하여 AWS에서 파이프라인을 생성하고 작업의 각 단계를 실행할 것입니다.   "
   ]
  },
  {
   "cell_type": "code",
   "execution_count": 28,
   "metadata": {},
   "outputs": [
    {
     "data": {
      "text/plain": [
       "{'PipelineArn': 'arn:aws:sagemaker:ap-northeast-2:057716757052:pipeline/sagemaker-pipeline-step-by-step-phase01',\n",
       " 'ResponseMetadata': {'RequestId': '33b1dbeb-be79-4f67-9d74-ab95b793c58b',\n",
       "  'HTTPStatusCode': 200,\n",
       "  'HTTPHeaders': {'x-amzn-requestid': '33b1dbeb-be79-4f67-9d74-ab95b793c58b',\n",
       "   'content-type': 'application/x-amz-json-1.1',\n",
       "   'content-length': '112',\n",
       "   'date': 'Thu, 29 Jul 2021 06:31:18 GMT'},\n",
       "  'RetryAttempts': 0}}"
      ]
     },
     "execution_count": 28,
     "metadata": {},
     "output_type": "execute_result"
    }
   ],
   "source": [
    "pipeline.upsert(role_arn=role)"
   ]
  },
  {
   "cell_type": "code",
   "execution_count": 29,
   "metadata": {},
   "outputs": [],
   "source": [
    "execution = pipeline.start()"
   ]
  },
  {
   "cell_type": "markdown",
   "metadata": {},
   "source": [
    "### 파이프라인 운영: 파이프라인 대기 및 실행상태 확인\n",
    "\n",
    "워크플로우의 실행상황을 살펴봅니다. "
   ]
  },
  {
   "cell_type": "code",
   "execution_count": 30,
   "metadata": {},
   "outputs": [
    {
     "data": {
      "text/plain": [
       "{'PipelineArn': 'arn:aws:sagemaker:ap-northeast-2:057716757052:pipeline/sagemaker-pipeline-step-by-step-phase01',\n",
       " 'PipelineExecutionArn': 'arn:aws:sagemaker:ap-northeast-2:057716757052:pipeline/sagemaker-pipeline-step-by-step-phase01/execution/tmwx82bczbgy',\n",
       " 'PipelineExecutionDisplayName': 'execution-1627540279084',\n",
       " 'PipelineExecutionStatus': 'Executing',\n",
       " 'CreationTime': datetime.datetime(2021, 7, 29, 6, 31, 19, 24000, tzinfo=tzlocal()),\n",
       " 'LastModifiedTime': datetime.datetime(2021, 7, 29, 6, 31, 19, 24000, tzinfo=tzlocal()),\n",
       " 'CreatedBy': {},\n",
       " 'LastModifiedBy': {},\n",
       " 'ResponseMetadata': {'RequestId': '7fbcf1ce-6481-437c-8963-aaf911708c82',\n",
       "  'HTTPStatusCode': 200,\n",
       "  'HTTPHeaders': {'x-amzn-requestid': '7fbcf1ce-6481-437c-8963-aaf911708c82',\n",
       "   'content-type': 'application/x-amz-json-1.1',\n",
       "   'content-length': '453',\n",
       "   'date': 'Thu, 29 Jul 2021 06:31:18 GMT'},\n",
       "  'RetryAttempts': 0}}"
      ]
     },
     "execution_count": 30,
     "metadata": {},
     "output_type": "execute_result"
    }
   ],
   "source": [
    "execution.describe()"
   ]
  },
  {
   "cell_type": "code",
   "execution_count": null,
   "metadata": {},
   "outputs": [],
   "source": [
    "\n",
    "execution.wait()"
   ]
  },
  {
   "cell_type": "code",
   "execution_count": null,
   "metadata": {},
   "outputs": [],
   "source": [
    "execution.list_steps()"
   ]
  },
  {
   "cell_type": "code",
   "execution_count": null,
   "metadata": {},
   "outputs": [],
   "source": []
  },
  {
   "cell_type": "code",
   "execution_count": null,
   "metadata": {},
   "outputs": [],
   "source": []
  }
 ],
 "metadata": {
  "instance_type": "ml.m5.large",
  "kernelspec": {
   "display_name": "conda_python3",
   "language": "python",
   "name": "conda_python3"
  },
  "language_info": {
   "codemirror_mode": {
    "name": "ipython",
    "version": 3
   },
   "file_extension": ".py",
   "mimetype": "text/x-python",
   "name": "python",
   "nbconvert_exporter": "python",
   "pygments_lexer": "ipython3",
   "version": "3.6.13"
  }
 },
 "nbformat": 4,
 "nbformat_minor": 4
}
