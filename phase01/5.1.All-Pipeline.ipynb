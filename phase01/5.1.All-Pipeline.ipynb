{
 "cells": [
  {
   "cell_type": "markdown",
   "metadata": {},
   "source": [
    "# [모듈 5.1] HPO 사용 모델 빌딩 파이프라인 개발 (SageMaker Model Building Pipeline 모든 스텝)\n",
    "\n",
    "이 노트북은 아래와 같은 목차로 진행 됩니다. 전체를 모두 실행시에 완료 시간은 **약 30분** 소요 됩니다.\n",
    "\n",
    "- 0. SageMaker Model Building Pipeline 개요\n",
    "- 1. 파이프라인 변수 및 환경 설정\n",
    "- 2. 파이프라인 스텝 단계 정의\n",
    "\n",
    "    - (1) 전처리 스텝 단계 정의    \n",
    "    - (2) 모델 학습을 위한 학습단계 정의 \n",
    "    - (3) 모델 평가 단계\n",
    "    - (4) 모델 등록 스텝\n",
    "    - (5) 세이지 메이커 모델 생성 스텝 생성    \n",
    "    - (6) HPO 단계\n",
    "    - (7) 조건 단계\n",
    "- 3. 모델 빌딩 파이프라인 정의 및 실행\n",
    "- 4. Pipleline 캐싱 및 파라미터 이용한 실행\n",
    "- 5. 정리 작업\n",
    "    \n",
    "---"
   ]
  },
  {
   "cell_type": "markdown",
   "metadata": {},
   "source": [
    "# 0.SageMaker Model Building Pipeline 개요\n",
    "- 필요시에 이전 노트북을  참조하세요:  scratch/8.5.All-Pipeline.ipynb"
   ]
  },
  {
   "cell_type": "markdown",
   "metadata": {},
   "source": [
    "# 1. 파이프라인 변수 및 환경 설정\n",
    "\n"
   ]
  },
  {
   "cell_type": "code",
   "execution_count": 1,
   "metadata": {},
   "outputs": [],
   "source": [
    "import boto3\n",
    "import sagemaker\n",
    "import pandas as pd\n",
    "\n",
    "region = boto3.Session().region_name\n",
    "sagemaker_session = sagemaker.session.Session()\n",
    "role = sagemaker.get_execution_role()\n",
    "\n",
    "sm_client = boto3.client('sagemaker', region_name=region)\n",
    "\n",
    "%store -r "
   ]
  },
  {
   "cell_type": "markdown",
   "metadata": {},
   "source": [
    "## 파이프라인 변수 설정"
   ]
  },
  {
   "cell_type": "code",
   "execution_count": 2,
   "metadata": {},
   "outputs": [],
   "source": [
    "from sagemaker.workflow.parameters import (\n",
    "    ParameterInteger,\n",
    "    ParameterString,\n",
    "    ParameterFloat,\n",
    ")\n",
    "\n",
    "processing_instance_count = ParameterInteger(\n",
    "    name=\"ProcessingInstanceCount\",\n",
    "    default_value=1\n",
    ")\n",
    "processing_instance_type = ParameterString(\n",
    "    name=\"ProcessingInstanceType\",\n",
    "    default_value=\"ml.m5.xlarge\"\n",
    ")\n",
    "\n",
    "training_instance_type = ParameterString(\n",
    "    name=\"TrainingInstanceType\",\n",
    "    default_value=\"ml.m5.xlarge\"\n",
    ")\n",
    "\n",
    "training_instance_count = ParameterInteger(\n",
    "    name=\"TrainingInstanceCount\",\n",
    "    default_value=1\n",
    ")\n",
    "\n",
    "model_eval_threshold = ParameterFloat(\n",
    "    name=\"model2eval2threshold\",\n",
    "    default_value=0.85\n",
    ")\n",
    "\n",
    "input_data = ParameterString(\n",
    "    name=\"InputData\",\n",
    "    default_value=input_data_uri,\n",
    ")\n",
    "\n",
    "model_approval_status = ParameterString(\n",
    "    name=\"ModelApprovalStatus\", default_value=\"PendingManualApproval\"\n",
    ")\n"
   ]
  },
  {
   "cell_type": "markdown",
   "metadata": {},
   "source": [
    "## 캐싱 정의\n",
    "\n",
    "- 참고: 캐싱 파이프라인 단계:  [Caching Pipeline Steps](https://docs.aws.amazon.com/ko_kr/sagemaker/latest/dg/pipelines-caching.html)"
   ]
  },
  {
   "cell_type": "code",
   "execution_count": 3,
   "metadata": {},
   "outputs": [],
   "source": [
    "from sagemaker.workflow.steps import CacheConfig\n",
    "\n",
    "cache_config = CacheConfig(enable_caching=True, \n",
    "                           expire_after=\"7d\")\n"
   ]
  },
  {
   "cell_type": "markdown",
   "metadata": {},
   "source": [
    "# 2. 파이프라인 스텝 단계 정의"
   ]
  },
  {
   "cell_type": "markdown",
   "metadata": {},
   "source": [
    "# (1) 전처리 스텝 단계 정의\n",
    "- input_data_uri 입력 데이타를 대상으로 전처리를 수행 합니다."
   ]
  },
  {
   "cell_type": "code",
   "execution_count": 4,
   "metadata": {},
   "outputs": [
    {
     "name": "stdout",
     "output_type": "stream",
     "text": [
      "input_data: \n",
      " s3://sagemaker-us-east-1-028703291518/sagemaker-pipeline-step-by-step-phase01/input\n"
     ]
    }
   ],
   "source": [
    "from sagemaker.sklearn.processing import SKLearnProcessor\n",
    "\n",
    "split_rate = 0.2\n",
    "framework_version = \"0.23-1\"\n",
    "\n",
    "sklearn_processor = SKLearnProcessor(\n",
    "    framework_version=framework_version,\n",
    "    instance_type=processing_instance_type,\n",
    "    instance_count=processing_instance_count,\n",
    "    base_job_name=\"sklearn-fraud-process\",\n",
    "    role=role,\n",
    ")\n",
    "print(\"input_data: \\n\", input_data)"
   ]
  },
  {
   "cell_type": "code",
   "execution_count": 5,
   "metadata": {},
   "outputs": [],
   "source": [
    "from sagemaker.processing import ProcessingInput, ProcessingOutput\n",
    "from sagemaker.workflow.steps import ProcessingStep\n",
    "    \n",
    "step_process = ProcessingStep(\n",
    "    name=\"FraudScratchProcess\",\n",
    "    processor=sklearn_processor,\n",
    "    inputs=[\n",
    "#         ProcessingInput(source=input_data_uri,destination='/opt/ml/processing/input'),\n",
    "        ProcessingInput(source=input_data, destination='/opt/ml/processing/input'),        \n",
    "         ],\n",
    "    outputs=[ProcessingOutput(output_name=\"train\",\n",
    "                              source='/opt/ml/processing/output/train'),\n",
    "             ProcessingOutput(output_name=\"test\",\n",
    "                              source='/opt/ml/processing/output/test')],\n",
    "    job_arguments=[\"--split_rate\", f\"{split_rate}\"],        \n",
    "    code= 'src/preprocessing.py',\n",
    "    cache_config = cache_config, # 캐시 정의\n",
    ")\n"
   ]
  },
  {
   "cell_type": "markdown",
   "metadata": {},
   "source": [
    "## (2)모델 학습을 위한 학습단계 정의 \n",
    "\n"
   ]
  },
  {
   "cell_type": "markdown",
   "metadata": {},
   "source": [
    "### 기본 훈련 변수 및 하이퍼파라미터 설정"
   ]
  },
  {
   "cell_type": "code",
   "execution_count": 6,
   "metadata": {},
   "outputs": [],
   "source": [
    "from sagemaker.xgboost.estimator import XGBoost\n",
    "\n",
    "bucket = sagemaker_session.default_bucket()\n",
    "prefix = 'fraud2train'\n",
    "estimator_output_path = f's3://{bucket}/{prefix}/training_jobs'\n",
    "\n",
    "base_hyperparameters = {\n",
    "       \"scale_pos_weight\" : \"29\",        \n",
    "        \"max_depth\": \"6\",\n",
    "        \"alpha\" : \"0\", \n",
    "        \"eta\": \"0.3\",\n",
    "        \"min_child_weight\": \"1\",\n",
    "        \"objective\": \"binary:logistic\",\n",
    "        \"num_round\": \"100\",\n",
    "}\n"
   ]
  },
  {
   "cell_type": "code",
   "execution_count": 7,
   "metadata": {},
   "outputs": [],
   "source": [
    "xgb_train = XGBoost(\n",
    "    entry_point = \"xgboost_script.py\",\n",
    "    source_dir = \"src\",\n",
    "    output_path = estimator_output_path,\n",
    "    code_location = estimator_output_path,\n",
    "    hyperparameters = base_hyperparameters,\n",
    "    role = role,\n",
    "    instance_count = training_instance_count,\n",
    "    instance_type = training_instance_type,\n",
    "    framework_version = \"1.0-1\")"
   ]
  },
  {
   "cell_type": "markdown",
   "metadata": {},
   "source": [
    "훈련의 입력이 이전 전처리의 결과가 제공됩니다.\n",
    "- `step_process.properties.ProcessingOutputConfig.Outputs[\"train\"].S3Output.S3Uri`"
   ]
  },
  {
   "cell_type": "code",
   "execution_count": 8,
   "metadata": {},
   "outputs": [],
   "source": [
    "from sagemaker.inputs import TrainingInput\n",
    "from sagemaker.workflow.steps import TrainingStep\n",
    "\n",
    "\n",
    "step_train = TrainingStep(\n",
    "    name=\"FraudScratchTrain\",\n",
    "    estimator=xgb_train,\n",
    "    inputs={\n",
    "        \"train\": TrainingInput(\n",
    "            s3_data=step_process.properties.ProcessingOutputConfig.Outputs[\n",
    "                \"train\"\n",
    "            ].S3Output.S3Uri,\n",
    "            # s3_data= train_preproc_dir_artifact,            \n",
    "            content_type=\"text/csv\"\n",
    "        ),\n",
    "    },\n",
    "    cache_config = cache_config, # 캐시 정의    \n",
    ")"
   ]
  },
  {
   "cell_type": "markdown",
   "metadata": {},
   "source": [
    "## (3) 모델 평가 단계"
   ]
  },
  {
   "cell_type": "markdown",
   "metadata": {},
   "source": [
    "### ScriptProcessor 의 기본 도커 컨테이너 지정\n",
    "ScriptProcessor 의 기본 도커 컨테이너로 Scikit-learn를 기본 이미지를 사용함. \n",
    "- 사용자가 정의한 도커 컨테이너도 사용할 수 있습니다."
   ]
  },
  {
   "cell_type": "code",
   "execution_count": 9,
   "metadata": {},
   "outputs": [],
   "source": [
    "from sagemaker.processing import ScriptProcessor\n",
    "\n",
    "\n",
    "script_eval = SKLearnProcessor(\n",
    "                             framework_version= \"0.23-1\",\n",
    "                             role=role,\n",
    "                             instance_type=processing_instance_type,\n",
    "                             instance_count=1,\n",
    "                             base_job_name=\"script-fraud-scratch-eval\",\n",
    "                                    )\n",
    "\n"
   ]
  },
  {
   "cell_type": "code",
   "execution_count": 10,
   "metadata": {},
   "outputs": [],
   "source": [
    "from sagemaker.workflow.properties import PropertyFile\n",
    "from sagemaker.workflow.steps import ProcessingStep\n",
    "\n",
    "from sagemaker.workflow.properties import PropertyFile\n",
    "\n",
    "\n",
    "evaluation_report = PropertyFile(\n",
    "    name=\"EvaluationReport\",\n",
    "    output_name=\"evaluation\",\n",
    "    path=\"evaluation.json\"\n",
    ")\n",
    "\n",
    "\n",
    "\n",
    "step_eval = ProcessingStep(\n",
    "    name=\"FraudEval\",\n",
    "    processor=script_eval,\n",
    "    inputs=[\n",
    "        ProcessingInput(\n",
    "            source= step_train.properties.ModelArtifacts.S3ModelArtifacts,\n",
    "            destination=\"/opt/ml/processing/model\"\n",
    "        ),\n",
    "        ProcessingInput(\n",
    "            source=step_process.properties.ProcessingOutputConfig.Outputs[\n",
    "                \"test\"\n",
    "            ].S3Output.S3Uri,\n",
    "        destination=\"/opt/ml/processing/test\"\n",
    "        )\n",
    "    ],\n",
    "    outputs=[\n",
    "        ProcessingOutput(output_name=\"evaluation\", source=\"/opt/ml/processing/evaluation\"),\n",
    "    ],\n",
    "    code=\"src/evaluation.py\",\n",
    "    cache_config = cache_config, # 캐시 정의    \n",
    "  property_files=[evaluation_report], # 현재 이 라인을 넣으면 에러 발생\n",
    ")"
   ]
  },
  {
   "cell_type": "markdown",
   "metadata": {},
   "source": [
    "## (4) 모델 등록 스텝"
   ]
  },
  {
   "cell_type": "markdown",
   "metadata": {},
   "source": [
    "### 모델 그룹 생성\n",
    "\n",
    "- 참고\n",
    "    - 모델 그룹 릭스팅 API:  [ListModelPackageGroups](https://docs.aws.amazon.com/sagemaker/latest/APIReference/API_ListModelPackageGroups.html)\n",
    "    - 모델 지표 등록: [Model Quality Metrics](https://docs.aws.amazon.com/ko_kr/sagemaker/latest/dg/model-monitor-model-quality-metrics.html)"
   ]
  },
  {
   "cell_type": "code",
   "execution_count": 11,
   "metadata": {},
   "outputs": [
    {
     "name": "stdout",
     "output_type": "stream",
     "text": [
      "sagemaker-pipeline-step-by-step-phase01 exitss\n"
     ]
    }
   ],
   "source": [
    "model_package_group_name = f\"{project_prefix}\"\n",
    "model_package_group_input_dict = {\n",
    " \"ModelPackageGroupName\" : model_package_group_name,\n",
    " \"ModelPackageGroupDescription\" : \"Sample model package group\"\n",
    "}\n",
    "response = sm_client.list_model_package_groups(NameContains=model_package_group_name)\n",
    "if len(response['ModelPackageGroupSummaryList']) == 0:\n",
    "    print(\"No model group exists\")\n",
    "    print(\"Create model group\")    \n",
    "    \n",
    "    create_model_pacakge_group_response = sm_client.create_model_package_group(**model_package_group_input_dict)\n",
    "    print('ModelPackageGroup Arn : {}'.format(create_model_pacakge_group_response['ModelPackageGroupArn']))    \n",
    "else:\n",
    "    print(f\"{model_package_group_name} exitss\")"
   ]
  },
  {
   "cell_type": "code",
   "execution_count": 12,
   "metadata": {},
   "outputs": [],
   "source": [
    "from sagemaker.workflow.step_collections import RegisterModel\n",
    "\n",
    "from sagemaker.model_metrics import MetricsSource, ModelMetrics \n",
    "\n",
    "\n",
    "model_metrics = ModelMetrics(\n",
    "    model_statistics=MetricsSource(\n",
    "        s3_uri=\"{}/evaluation.json\".format(\n",
    "            step_eval.arguments[\"ProcessingOutputConfig\"][\"Outputs\"][0][\"S3Output\"][\"S3Uri\"]\n",
    "        ),\n",
    "        content_type=\"application/json\"\n",
    "    )\n",
    ")\n",
    "\n",
    "\n",
    "step_register = RegisterModel(\n",
    "    name= \"FraudScratcRegisterhModel\",\n",
    "    estimator=xgb_train,\n",
    "    image_uri= step_train.properties.AlgorithmSpecification.TrainingImage,\n",
    "    model_data= step_train.properties.ModelArtifacts.S3ModelArtifacts,\n",
    "    content_types=[\"text/csv\"],\n",
    "    response_types=[\"text/csv\"],\n",
    "    inference_instances=[\"ml.t2.medium\", \"ml.m5.xlarge\"],\n",
    "    transform_instances=[\"ml.m5.xlarge\"],\n",
    "    model_package_group_name=model_package_group_name,\n",
    "    approval_status=model_approval_status,\n",
    "    model_metrics=model_metrics,\n",
    ")"
   ]
  },
  {
   "cell_type": "markdown",
   "metadata": {},
   "source": [
    "## (5) 세이지 메이커 모델 스텝 생성\n",
    "- 아래 두 파리미터의 입력이 이전 스텝의 결과가 제공됩니다.\n",
    "    - image_uri= step_train.properties.AlgorithmSpecification.TrainingImage,\n",
    "    - model_data= step_train.properties.ModelArtifacts.S3ModelArtifacts,\n",
    "\n"
   ]
  },
  {
   "cell_type": "code",
   "execution_count": 13,
   "metadata": {},
   "outputs": [],
   "source": [
    "from sagemaker.model import Model\n",
    "    \n",
    "model = Model(\n",
    "    image_uri= step_train.properties.AlgorithmSpecification.TrainingImage,\n",
    "    model_data= step_train.properties.ModelArtifacts.S3ModelArtifacts,\n",
    "    sagemaker_session=sagemaker_session,\n",
    "    role=role,\n",
    ")"
   ]
  },
  {
   "cell_type": "code",
   "execution_count": 14,
   "metadata": {},
   "outputs": [],
   "source": [
    "from sagemaker.inputs import CreateModelInput\n",
    "from sagemaker.workflow.steps import CreateModelStep\n",
    "\n",
    "\n",
    "inputs = CreateModelInput(\n",
    "    instance_type=\"ml.m5.large\",\n",
    "    # accelerator_type=\"ml.eia1.medium\",\n",
    ")\n",
    "step_create_model = CreateModelStep(\n",
    "    name=\"FraudScratchModel\",\n",
    "    model=model,\n",
    "    inputs=inputs,\n",
    ")"
   ]
  },
  {
   "cell_type": "markdown",
   "metadata": {},
   "source": [
    "## (6) HPO 스텝"
   ]
  },
  {
   "cell_type": "code",
   "execution_count": 15,
   "metadata": {},
   "outputs": [],
   "source": [
    "from sagemaker.tuner import (\n",
    "    IntegerParameter,\n",
    "    CategoricalParameter,\n",
    "    ContinuousParameter,\n",
    "    HyperparameterTuner,\n",
    ")\n",
    "\n",
    "hyperparameter_ranges = {\n",
    "    \"eta\": ContinuousParameter(0, 1),\n",
    "    \"min_child_weight\": ContinuousParameter(1, 10),\n",
    "    \"alpha\": ContinuousParameter(0, 2),\n",
    "    \"max_depth\": IntegerParameter(1, 10),\n",
    "}\n",
    "\n",
    "objective_metric_name = \"validation:auc\"\n",
    "\n",
    "tuner = HyperparameterTuner(\n",
    "    xgb_train, objective_metric_name, hyperparameter_ranges, \n",
    "    max_jobs=5,\n",
    "    max_parallel_jobs=5,\n",
    ")\n",
    "\n",
    "from sagemaker.workflow.steps import TuningStep\n",
    "    \n",
    "step_tuning = TuningStep(\n",
    "    name = \"HPTuning\",\n",
    "    tuner = tuner,\n",
    "    inputs={\n",
    "        \"train\": TrainingInput(\n",
    "            s3_data=step_process.properties.ProcessingOutputConfig.Outputs[\n",
    "                \"train\"\n",
    "            ].S3Output.S3Uri,\n",
    "            # s3_data= train_preproc_dir_artifact,            \n",
    "            content_type=\"text/csv\"\n",
    "        ),\n",
    "    },    \n",
    "    cache_config = cache_config, # 캐시 정의        \n",
    ")"
   ]
  },
  {
   "cell_type": "markdown",
   "metadata": {},
   "source": [
    "## (7) 조건 스텝"
   ]
  },
  {
   "cell_type": "code",
   "execution_count": 16,
   "metadata": {},
   "outputs": [
    {
     "name": "stderr",
     "output_type": "stream",
     "text": [
      "The class JsonGet has been renamed in sagemaker>=2.\n",
      "See: https://sagemaker.readthedocs.io/en/stable/v2.html for details.\n"
     ]
    }
   ],
   "source": [
    "from sagemaker.workflow.conditions import ConditionLessThanOrEqualTo\n",
    "from sagemaker.workflow.condition_step import (\n",
    "    ConditionStep,\n",
    "    JsonGet,\n",
    ")\n",
    "\n",
    "\n",
    "cond_lte = ConditionLessThanOrEqualTo(\n",
    "    left=JsonGet(\n",
    "        step=step_eval,\n",
    "        property_file=evaluation_report,\n",
    "        json_path=\"binary_classification_metrics.auc.value\",\n",
    "    ),\n",
    "    # right=8.0\n",
    "    right = model_eval_threshold\n",
    ")\n",
    "\n",
    "step_cond = ConditionStep(\n",
    "    name=\"FruadScratchCond\",\n",
    "    conditions=[cond_lte],\n",
    "    if_steps=[step_tuning],        \n",
    "    else_steps=[step_register, step_create_model], \n",
    ")"
   ]
  },
  {
   "cell_type": "markdown",
   "metadata": {},
   "source": [
    "# 3.모델 빌딩 파이프라인 정의 및 실행\n",
    "위에서 정의한 아래의 4개의 스텝으로 파이프라인 정의를 합니다.\n",
    "-     steps=[step_process, step_train, step_create_model, step_deploy],\n",
    "- 아래는 약 20분 정도 소요 됩니다."
   ]
  },
  {
   "cell_type": "code",
   "execution_count": 17,
   "metadata": {},
   "outputs": [],
   "source": [
    "from sagemaker.workflow.pipeline import Pipeline\n",
    "\n",
    "project_prefix = 'sagemaker-pipeline-phase2-step-by-step'\n",
    "\n",
    "pipeline_name = project_prefix\n",
    "pipeline = Pipeline(\n",
    "    name=pipeline_name,\n",
    "    parameters=[\n",
    "        processing_instance_type, \n",
    "        processing_instance_count,\n",
    "        training_instance_type,        \n",
    "        training_instance_count,                \n",
    "        input_data,\n",
    "        model_eval_threshold,\n",
    "        model_approval_status,        \n",
    "    ],\n",
    "#   steps=[step_process, step_train, step_register, step_eval, step_cond],\n",
    "  steps=[step_process, step_train, step_eval, step_cond],\n",
    ")\n",
    "\n"
   ]
  },
  {
   "cell_type": "code",
   "execution_count": 18,
   "metadata": {},
   "outputs": [
    {
     "name": "stderr",
     "output_type": "stream",
     "text": [
      "No finished training job found associated with this estimator. Please make sure this estimator is only used for building workflow config\n"
     ]
    }
   ],
   "source": [
    "import json\n",
    "\n",
    "definition = json.loads(pipeline.definition())\n",
    "# definition"
   ]
  },
  {
   "cell_type": "markdown",
   "metadata": {},
   "source": [
    "### 파이프라인을 SageMaker에 제출하고 실행하기 \n"
   ]
  },
  {
   "cell_type": "code",
   "execution_count": 19,
   "metadata": {},
   "outputs": [
    {
     "name": "stderr",
     "output_type": "stream",
     "text": [
      "No finished training job found associated with this estimator. Please make sure this estimator is only used for building workflow config\n",
      "No finished training job found associated with this estimator. Please make sure this estimator is only used for building workflow config\n"
     ]
    },
    {
     "data": {
      "text/plain": [
       "{'PipelineArn': 'arn:aws:sagemaker:us-east-1:028703291518:pipeline/sagemaker-pipeline-phase2-step-by-step',\n",
       " 'ResponseMetadata': {'RequestId': '0edb75d1-48e3-4424-b8f9-7cc84dd76b9e',\n",
       "  'HTTPStatusCode': 200,\n",
       "  'HTTPHeaders': {'x-amzn-requestid': '0edb75d1-48e3-4424-b8f9-7cc84dd76b9e',\n",
       "   'content-type': 'application/x-amz-json-1.1',\n",
       "   'content-length': '106',\n",
       "   'date': 'Fri, 27 Aug 2021 07:08:22 GMT'},\n",
       "  'RetryAttempts': 0}}"
      ]
     },
     "execution_count": 19,
     "metadata": {},
     "output_type": "execute_result"
    }
   ],
   "source": [
    "pipeline.upsert(role_arn=role)"
   ]
  },
  {
   "cell_type": "markdown",
   "metadata": {},
   "source": [
    "디폴트값을 이용하여 파이프라인을 샐행합니다. "
   ]
  },
  {
   "cell_type": "code",
   "execution_count": 20,
   "metadata": {},
   "outputs": [],
   "source": [
    "execution = pipeline.start()"
   ]
  },
  {
   "cell_type": "markdown",
   "metadata": {},
   "source": [
    "### 파이프라인 운영: 파이프라인 대기 및 실행상태 확인\n",
    "\n",
    "워크플로우의 실행상황을 살펴봅니다. "
   ]
  },
  {
   "cell_type": "code",
   "execution_count": 21,
   "metadata": {},
   "outputs": [
    {
     "data": {
      "text/plain": [
       "{'PipelineArn': 'arn:aws:sagemaker:us-east-1:028703291518:pipeline/sagemaker-pipeline-phase2-step-by-step',\n",
       " 'PipelineExecutionArn': 'arn:aws:sagemaker:us-east-1:028703291518:pipeline/sagemaker-pipeline-phase2-step-by-step/execution/s20mgt50msys',\n",
       " 'PipelineExecutionDisplayName': 'execution-1630048102956',\n",
       " 'PipelineExecutionStatus': 'Executing',\n",
       " 'CreationTime': datetime.datetime(2021, 8, 27, 7, 8, 22, 879000, tzinfo=tzlocal()),\n",
       " 'LastModifiedTime': datetime.datetime(2021, 8, 27, 7, 8, 22, 879000, tzinfo=tzlocal()),\n",
       " 'CreatedBy': {},\n",
       " 'LastModifiedBy': {},\n",
       " 'ResponseMetadata': {'RequestId': '3eed2cf1-c0c4-4bc4-9aa1-5377372bb6f5',\n",
       "  'HTTPStatusCode': 200,\n",
       "  'HTTPHeaders': {'x-amzn-requestid': '3eed2cf1-c0c4-4bc4-9aa1-5377372bb6f5',\n",
       "   'content-type': 'application/x-amz-json-1.1',\n",
       "   'content-length': '441',\n",
       "   'date': 'Fri, 27 Aug 2021 07:08:22 GMT'},\n",
       "  'RetryAttempts': 0}}"
      ]
     },
     "execution_count": 21,
     "metadata": {},
     "output_type": "execute_result"
    }
   ],
   "source": [
    "execution.describe()"
   ]
  },
  {
   "cell_type": "code",
   "execution_count": 22,
   "metadata": {},
   "outputs": [],
   "source": [
    "execution.wait()"
   ]
  },
  {
   "cell_type": "markdown",
   "metadata": {},
   "source": [
    "실행이 완료될 때까지 기다립니다."
   ]
  },
  {
   "cell_type": "markdown",
   "metadata": {},
   "source": [
    "실행된 단계들을 리스트업합니다. 파이프라인의 단계실행 서비스에 의해 시작되거나 완료된 단계를 보여줍니다."
   ]
  },
  {
   "cell_type": "code",
   "execution_count": 23,
   "metadata": {},
   "outputs": [
    {
     "data": {
      "text/plain": [
       "[{'StepName': 'HPTuning',\n",
       "  'StartTime': datetime.datetime(2021, 8, 27, 7, 22, 16, 323000, tzinfo=tzlocal()),\n",
       "  'EndTime': datetime.datetime(2021, 8, 27, 7, 26, 32, 426000, tzinfo=tzlocal()),\n",
       "  'StepStatus': 'Succeeded',\n",
       "  'Metadata': {'TuningJob': {'Arn': 'arn:aws:sagemaker:us-east-1:028703291518:hyper-parameter-tuning-job/s20mgt50msys-hptunin-70xkmgxd1y'}}},\n",
       " {'StepName': 'FruadScratchCond',\n",
       "  'StartTime': datetime.datetime(2021, 8, 27, 7, 22, 15, 588000, tzinfo=tzlocal()),\n",
       "  'EndTime': datetime.datetime(2021, 8, 27, 7, 22, 15, 960000, tzinfo=tzlocal()),\n",
       "  'StepStatus': 'Succeeded',\n",
       "  'Metadata': {'Condition': {'Outcome': 'True'}}},\n",
       " {'StepName': 'FraudEval',\n",
       "  'StartTime': datetime.datetime(2021, 8, 27, 7, 17, 56, 405000, tzinfo=tzlocal()),\n",
       "  'EndTime': datetime.datetime(2021, 8, 27, 7, 22, 15, 359000, tzinfo=tzlocal()),\n",
       "  'StepStatus': 'Succeeded',\n",
       "  'Metadata': {'ProcessingJob': {'Arn': 'arn:aws:sagemaker:us-east-1:028703291518:processing-job/pipelines-s20mgt50msys-fraudeval-ncoqe8ogou'}}},\n",
       " {'StepName': 'FraudScratchTrain',\n",
       "  'StartTime': datetime.datetime(2021, 8, 27, 7, 13, 11, 124000, tzinfo=tzlocal()),\n",
       "  'EndTime': datetime.datetime(2021, 8, 27, 7, 17, 55, 941000, tzinfo=tzlocal()),\n",
       "  'StepStatus': 'Succeeded',\n",
       "  'Metadata': {'TrainingJob': {'Arn': 'arn:aws:sagemaker:us-east-1:028703291518:training-job/pipelines-s20mgt50msys-fraudscratchtrain-qftx8bhdkw'}}},\n",
       " {'StepName': 'FraudScratchProcess',\n",
       "  'StartTime': datetime.datetime(2021, 8, 27, 7, 8, 24, 261000, tzinfo=tzlocal()),\n",
       "  'EndTime': datetime.datetime(2021, 8, 27, 7, 13, 10, 425000, tzinfo=tzlocal()),\n",
       "  'StepStatus': 'Succeeded',\n",
       "  'Metadata': {'ProcessingJob': {'Arn': 'arn:aws:sagemaker:us-east-1:028703291518:processing-job/pipelines-s20mgt50msys-fraudscratchprocess-hj5mrhmwxj'}}}]"
      ]
     },
     "execution_count": 23,
     "metadata": {},
     "output_type": "execute_result"
    }
   ],
   "source": [
    "execution.list_steps()"
   ]
  },
  {
   "cell_type": "markdown",
   "metadata": {},
   "source": [
    "# 4. Pipeline 캐싱 및 파라미터 이용한 실행\n",
    "- 캐싱은 2021년 7월 현재 Training, Processing, Transform 의 Step에 적용이 되어 있습니다.\n",
    "- 상세 사항은 여기를 확인하세요. -->  [캐싱 파이프라인 단계](https://docs.aws.amazon.com/ko_kr/sagemaker/latest/dg/pipelines-caching.html)\n"
   ]
  },
  {
   "cell_type": "code",
   "execution_count": 24,
   "metadata": {},
   "outputs": [],
   "source": [
    "is_cache = True"
   ]
  },
  {
   "cell_type": "code",
   "execution_count": 25,
   "metadata": {},
   "outputs": [
    {
     "data": {
      "text/plain": [
       "[{'StepName': 'FraudScratchModel',\n",
       "  'StartTime': datetime.datetime(2021, 8, 27, 7, 27, 2, 750000, tzinfo=tzlocal()),\n",
       "  'EndTime': datetime.datetime(2021, 8, 27, 7, 27, 3, 683000, tzinfo=tzlocal()),\n",
       "  'StepStatus': 'Succeeded',\n",
       "  'Metadata': {'Model': {'Arn': 'arn:aws:sagemaker:us-east-1:028703291518:model/pipelines-ezxbhph3n6s5-fraudscratchmodel-66rcgc1wby'}}},\n",
       " {'StepName': 'FraudScratcRegisterhModel',\n",
       "  'StartTime': datetime.datetime(2021, 8, 27, 7, 27, 2, 687000, tzinfo=tzlocal()),\n",
       "  'EndTime': datetime.datetime(2021, 8, 27, 7, 27, 3, 543000, tzinfo=tzlocal()),\n",
       "  'StepStatus': 'Succeeded',\n",
       "  'Metadata': {'RegisterModel': {'Arn': 'arn:aws:sagemaker:us-east-1:028703291518:model-package/sagemaker-pipeline-step-by-step-phase01/3'}}},\n",
       " {'StepName': 'FruadScratchCond',\n",
       "  'StartTime': datetime.datetime(2021, 8, 27, 7, 27, 2, 204000, tzinfo=tzlocal()),\n",
       "  'EndTime': datetime.datetime(2021, 8, 27, 7, 27, 2, 535000, tzinfo=tzlocal()),\n",
       "  'StepStatus': 'Succeeded',\n",
       "  'Metadata': {'Condition': {'Outcome': 'False'}}},\n",
       " {'StepName': 'FraudEval',\n",
       "  'StartTime': datetime.datetime(2021, 8, 27, 7, 27, 1, 209000, tzinfo=tzlocal()),\n",
       "  'EndTime': datetime.datetime(2021, 8, 27, 7, 27, 1, 821000, tzinfo=tzlocal()),\n",
       "  'StepStatus': 'Succeeded',\n",
       "  'CacheHitResult': {'SourcePipelineExecutionArn': 'arn:aws:sagemaker:us-east-1:028703291518:pipeline/sagemaker-pipeline-phase2-step-by-step/execution/s20mgt50msys'},\n",
       "  'Metadata': {'ProcessingJob': {'Arn': 'arn:aws:sagemaker:us-east-1:028703291518:processing-job/pipelines-s20mgt50msys-fraudeval-ncoqe8ogou'}}},\n",
       " {'StepName': 'FraudScratchTrain',\n",
       "  'StartTime': datetime.datetime(2021, 8, 27, 7, 27, 0, 225000, tzinfo=tzlocal()),\n",
       "  'EndTime': datetime.datetime(2021, 8, 27, 7, 27, 0, 639000, tzinfo=tzlocal()),\n",
       "  'StepStatus': 'Succeeded',\n",
       "  'CacheHitResult': {'SourcePipelineExecutionArn': 'arn:aws:sagemaker:us-east-1:028703291518:pipeline/sagemaker-pipeline-phase2-step-by-step/execution/s20mgt50msys'},\n",
       "  'Metadata': {'TrainingJob': {'Arn': 'arn:aws:sagemaker:us-east-1:028703291518:training-job/pipelines-s20mgt50msys-fraudscratchtrain-qftx8bhdkw'}}},\n",
       " {'StepName': 'FraudScratchProcess',\n",
       "  'StartTime': datetime.datetime(2021, 8, 27, 7, 26, 58, 761000, tzinfo=tzlocal()),\n",
       "  'EndTime': datetime.datetime(2021, 8, 27, 7, 26, 59, 597000, tzinfo=tzlocal()),\n",
       "  'StepStatus': 'Succeeded',\n",
       "  'CacheHitResult': {'SourcePipelineExecutionArn': 'arn:aws:sagemaker:us-east-1:028703291518:pipeline/sagemaker-pipeline-phase2-step-by-step/execution/s20mgt50msys'},\n",
       "  'Metadata': {'ProcessingJob': {'Arn': 'arn:aws:sagemaker:us-east-1:028703291518:processing-job/pipelines-s20mgt50msys-fraudscratchprocess-hj5mrhmwxj'}}}]"
      ]
     },
     "metadata": {},
     "output_type": "display_data"
    },
    {
     "name": "stdout",
     "output_type": "stream",
     "text": [
      "CPU times: user 25.1 ms, sys: 439 µs, total: 25.5 ms\n",
      "Wall time: 10.5 s\n"
     ]
    }
   ],
   "source": [
    "%%time \n",
    "\n",
    "from IPython.display import display as dp\n",
    "import time\n",
    "\n",
    "if is_cache:\n",
    "    execution = pipeline.start(\n",
    "        parameters=dict(\n",
    "            model2eval2threshold=0.8,\n",
    "        )\n",
    "    )    \n",
    "    \n",
    "    # execution = pipeline.start()\n",
    "    time.sleep(10)\n",
    "    dp(execution.list_steps())    \n",
    "    execution.wait()\n"
   ]
  },
  {
   "cell_type": "code",
   "execution_count": 26,
   "metadata": {},
   "outputs": [
    {
     "data": {
      "text/plain": [
       "[{'StepName': 'FraudScratchModel',\n",
       "  'StartTime': datetime.datetime(2021, 8, 27, 7, 27, 2, 750000, tzinfo=tzlocal()),\n",
       "  'EndTime': datetime.datetime(2021, 8, 27, 7, 27, 3, 683000, tzinfo=tzlocal()),\n",
       "  'StepStatus': 'Succeeded',\n",
       "  'Metadata': {'Model': {'Arn': 'arn:aws:sagemaker:us-east-1:028703291518:model/pipelines-ezxbhph3n6s5-fraudscratchmodel-66rcgc1wby'}}},\n",
       " {'StepName': 'FraudScratcRegisterhModel',\n",
       "  'StartTime': datetime.datetime(2021, 8, 27, 7, 27, 2, 687000, tzinfo=tzlocal()),\n",
       "  'EndTime': datetime.datetime(2021, 8, 27, 7, 27, 3, 543000, tzinfo=tzlocal()),\n",
       "  'StepStatus': 'Succeeded',\n",
       "  'Metadata': {'RegisterModel': {'Arn': 'arn:aws:sagemaker:us-east-1:028703291518:model-package/sagemaker-pipeline-step-by-step-phase01/3'}}},\n",
       " {'StepName': 'FruadScratchCond',\n",
       "  'StartTime': datetime.datetime(2021, 8, 27, 7, 27, 2, 204000, tzinfo=tzlocal()),\n",
       "  'EndTime': datetime.datetime(2021, 8, 27, 7, 27, 2, 535000, tzinfo=tzlocal()),\n",
       "  'StepStatus': 'Succeeded',\n",
       "  'Metadata': {'Condition': {'Outcome': 'False'}}},\n",
       " {'StepName': 'FraudEval',\n",
       "  'StartTime': datetime.datetime(2021, 8, 27, 7, 27, 1, 209000, tzinfo=tzlocal()),\n",
       "  'EndTime': datetime.datetime(2021, 8, 27, 7, 27, 1, 821000, tzinfo=tzlocal()),\n",
       "  'StepStatus': 'Succeeded',\n",
       "  'CacheHitResult': {'SourcePipelineExecutionArn': 'arn:aws:sagemaker:us-east-1:028703291518:pipeline/sagemaker-pipeline-phase2-step-by-step/execution/s20mgt50msys'},\n",
       "  'Metadata': {'ProcessingJob': {'Arn': 'arn:aws:sagemaker:us-east-1:028703291518:processing-job/pipelines-s20mgt50msys-fraudeval-ncoqe8ogou'}}},\n",
       " {'StepName': 'FraudScratchTrain',\n",
       "  'StartTime': datetime.datetime(2021, 8, 27, 7, 27, 0, 225000, tzinfo=tzlocal()),\n",
       "  'EndTime': datetime.datetime(2021, 8, 27, 7, 27, 0, 639000, tzinfo=tzlocal()),\n",
       "  'StepStatus': 'Succeeded',\n",
       "  'CacheHitResult': {'SourcePipelineExecutionArn': 'arn:aws:sagemaker:us-east-1:028703291518:pipeline/sagemaker-pipeline-phase2-step-by-step/execution/s20mgt50msys'},\n",
       "  'Metadata': {'TrainingJob': {'Arn': 'arn:aws:sagemaker:us-east-1:028703291518:training-job/pipelines-s20mgt50msys-fraudscratchtrain-qftx8bhdkw'}}},\n",
       " {'StepName': 'FraudScratchProcess',\n",
       "  'StartTime': datetime.datetime(2021, 8, 27, 7, 26, 58, 761000, tzinfo=tzlocal()),\n",
       "  'EndTime': datetime.datetime(2021, 8, 27, 7, 26, 59, 597000, tzinfo=tzlocal()),\n",
       "  'StepStatus': 'Succeeded',\n",
       "  'CacheHitResult': {'SourcePipelineExecutionArn': 'arn:aws:sagemaker:us-east-1:028703291518:pipeline/sagemaker-pipeline-phase2-step-by-step/execution/s20mgt50msys'},\n",
       "  'Metadata': {'ProcessingJob': {'Arn': 'arn:aws:sagemaker:us-east-1:028703291518:processing-job/pipelines-s20mgt50msys-fraudscratchprocess-hj5mrhmwxj'}}}]"
      ]
     },
     "metadata": {},
     "output_type": "display_data"
    }
   ],
   "source": [
    "if is_cache:\n",
    "    dp(execution.list_steps())"
   ]
  },
  {
   "cell_type": "code",
   "execution_count": null,
   "metadata": {},
   "outputs": [],
   "source": []
  }
 ],
 "metadata": {
  "instance_type": "ml.m5.large",
  "kernelspec": {
   "display_name": "conda_python3",
   "language": "python",
   "name": "conda_python3"
  },
  "language_info": {
   "codemirror_mode": {
    "name": "ipython",
    "version": 3
   },
   "file_extension": ".py",
   "mimetype": "text/x-python",
   "name": "python",
   "nbconvert_exporter": "python",
   "pygments_lexer": "ipython3",
   "version": "3.6.13"
  }
 },
 "nbformat": 4,
 "nbformat_minor": 4
}
