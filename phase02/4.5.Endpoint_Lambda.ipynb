{
 "cells": [
  {
   "cell_type": "markdown",
   "id": "ba124387",
   "metadata": {},
   "source": [
    "#  [모듈 4.5] 모델 레지스트리로 부터 모델 배포 및  람다 스텝 개발 (SageMaker Lambda Step)\n",
    "\n",
    "이 노트북은 아래와 같은 목차로 진행 됩니다. 전체를 모두 실행시에 완료 시간은 약 5분-10분 소요 됩니다.\n",
    "\n",
    "- 1. 모델 레지스트리를 통한 모델 배포\n",
    "    - (1) 모델 레지스트리에서 모델 등록 확인\n",
    "    - (2) 모델 버전 승인 상태 변경\n",
    "    - (3) 모델 배포 \n",
    "- 2. 람다 스텝 개요\n",
    "    - 위의 `\"모델 레지스트리를 통한 모델 배포\"` 를 람다 스텝 및 모델 생성 스텝을 통하여 구현 합니다.\n",
    "- 3. 리소스 정리\n",
    "\n",
    "    \n",
    "---"
   ]
  },
  {
   "cell_type": "markdown",
   "id": "b8c113d9",
   "metadata": {},
   "source": [
    "# 1. 모델 레지스트리를 통한 모델 배포\n",
    "\n",
    "---"
   ]
  },
  {
   "cell_type": "markdown",
   "id": "647c280d",
   "metadata": {},
   "source": [
    "`import ` 시마다 원본 소스에서 재로딩을 설정함. (다른 소스 파일을 수정후에 디버깅하기에 편함)"
   ]
  },
  {
   "cell_type": "code",
   "execution_count": 1,
   "id": "b1610c09",
   "metadata": {},
   "outputs": [],
   "source": [
    "%load_ext autoreload\n",
    "%autoreload 2"
   ]
  },
  {
   "cell_type": "code",
   "execution_count": 2,
   "id": "64c1e490",
   "metadata": {},
   "outputs": [],
   "source": [
    "import boto3\n",
    "import sagemaker\n",
    "import pandas as pd\n",
    "import os\n",
    "\n",
    "sagemaker_session = sagemaker.session.Session()\n",
    "role = sagemaker.get_execution_role()\n",
    "sm_client = boto3.client(\"sagemaker\")\n",
    "\n",
    "%store -r \n",
    "# 노트북에 저장되어 있는 변수를 보기 위해서는 주석을 제거하고 실행하시면 됩니다.\n",
    "# %store  "
   ]
  },
  {
   "cell_type": "markdown",
   "id": "327f1fac",
   "metadata": {},
   "source": [
    "## (1) 모델 레지스트리에서 모델 등록 확인\n",
    "위에서 등록한 모델 그룹 이름을 통해서 어떤 모델이 등록되었는지를 확인 합니다.\n",
    "- 등록된 모델 버전에 대한 보기 --> [모델 버전의 세부 정보 보기](https://docs.aws.amazon.com/ko_kr/sagemaker/latest/dg/model-registry-details.html)"
   ]
  },
  {
   "cell_type": "code",
   "execution_count": 3,
   "id": "a35f751d",
   "metadata": {},
   "outputs": [
    {
     "data": {
      "text/plain": [
       "{'ModelPackageSummaryList': [{'ModelPackageGroupName': 'sagemaker-pipeline-step-by-step-phase01',\n",
       "   'ModelPackageVersion': 2,\n",
       "   'ModelPackageArn': 'arn:aws:sagemaker:ap-northeast-2:057716757052:model-package/sagemaker-pipeline-step-by-step-phase01/2',\n",
       "   'CreationTime': datetime.datetime(2021, 8, 25, 4, 57, 13, 457000, tzinfo=tzlocal()),\n",
       "   'ModelPackageStatus': 'Completed',\n",
       "   'ModelApprovalStatus': 'PendingManualApproval'},\n",
       "  {'ModelPackageGroupName': 'sagemaker-pipeline-step-by-step-phase01',\n",
       "   'ModelPackageVersion': 1,\n",
       "   'ModelPackageArn': 'arn:aws:sagemaker:ap-northeast-2:057716757052:model-package/sagemaker-pipeline-step-by-step-phase01/1',\n",
       "   'CreationTime': datetime.datetime(2021, 8, 25, 4, 54, 13, 468000, tzinfo=tzlocal()),\n",
       "   'ModelPackageStatus': 'Completed',\n",
       "   'ModelApprovalStatus': 'PendingManualApproval'}],\n",
       " 'ResponseMetadata': {'RequestId': '52cf11b0-6fcd-489b-bf77-9c6caa3512a0',\n",
       "  'HTTPStatusCode': 200,\n",
       "  'HTTPHeaders': {'x-amzn-requestid': '52cf11b0-6fcd-489b-bf77-9c6caa3512a0',\n",
       "   'content-type': 'application/x-amz-json-1.1',\n",
       "   'content-length': '679',\n",
       "   'date': 'Wed, 25 Aug 2021 06:15:30 GMT'},\n",
       "  'RetryAttempts': 0}}"
      ]
     },
     "execution_count": 3,
     "metadata": {},
     "output_type": "execute_result"
    }
   ],
   "source": [
    "import boto3\n",
    "sm_client = boto3.client('sagemaker')\n",
    "\n",
    "# 위에서 생성한 model_package_group_name 을 인자로 제공 합니다.\n",
    "response = sm_client.list_model_packages(ModelPackageGroupName= model_package_group_name)\n",
    "response"
   ]
  },
  {
   "cell_type": "markdown",
   "id": "51fa2b97",
   "metadata": {},
   "source": [
    "#### 등록된 모델 버전의 상세 정보 확인"
   ]
  },
  {
   "cell_type": "code",
   "execution_count": 4,
   "id": "21b9b6b9",
   "metadata": {},
   "outputs": [
    {
     "data": {
      "text/plain": [
       "{'ModelPackageGroupName': 'sagemaker-pipeline-step-by-step-phase01',\n",
       " 'ModelPackageVersion': 2,\n",
       " 'ModelPackageArn': 'arn:aws:sagemaker:ap-northeast-2:057716757052:model-package/sagemaker-pipeline-step-by-step-phase01/2',\n",
       " 'CreationTime': datetime.datetime(2021, 8, 25, 4, 57, 13, 457000, tzinfo=tzlocal()),\n",
       " 'InferenceSpecification': {'Containers': [{'Image': '366743142698.dkr.ecr.ap-northeast-2.amazonaws.com/sagemaker-xgboost:1.0-1-cpu-py3',\n",
       "    'ImageDigest': 'sha256:04889b02181f14632e19ef6c2a7d74bfe699ff4c7f44669a78834bc90b77fe5a',\n",
       "    'ModelDataUrl': 's3://sagemaker-ap-northeast-2-057716757052/sagemaker-pipeline-step-by-step-phase01/training_jobs/1hzhiaghayc0-HPTunin-jBvIJGSXWm-001-493861ef/output/model.tar.gz'}],\n",
       "  'SupportedTransformInstanceTypes': ['ml.m5.large'],\n",
       "  'SupportedRealtimeInferenceInstanceTypes': ['ml.t2.medium', 'ml.m5.large'],\n",
       "  'SupportedContentTypes': ['text/csv'],\n",
       "  'SupportedResponseMIMETypes': ['text/csv']},\n",
       " 'ModelPackageStatus': 'Completed',\n",
       " 'ModelPackageStatusDetails': {'ValidationStatuses': [],\n",
       "  'ImageScanStatuses': []},\n",
       " 'CertifyForMarketplace': False,\n",
       " 'ModelApprovalStatus': 'PendingManualApproval',\n",
       " 'MetadataProperties': {'GeneratedBy': 'arn:aws:sagemaker:ap-northeast-2:057716757052:pipeline/sagemaker-pipeline-step-by-step-phase01-hpo-step/execution/1hzhiaghayc0'},\n",
       " 'ResponseMetadata': {'RequestId': '949f154d-a496-466f-a7a9-a7a54b9e30aa',\n",
       "  'HTTPStatusCode': 200,\n",
       "  'HTTPHeaders': {'x-amzn-requestid': '949f154d-a496-466f-a7a9-a7a54b9e30aa',\n",
       "   'content-type': 'application/x-amz-json-1.1',\n",
       "   'content-length': '1202',\n",
       "   'date': 'Wed, 25 Aug 2021 06:15:30 GMT'},\n",
       "  'RetryAttempts': 0}}"
      ]
     },
     "execution_count": 4,
     "metadata": {},
     "output_type": "execute_result"
    }
   ],
   "source": [
    "ModelPackageArn = response['ModelPackageSummaryList'][0]['ModelPackageArn']\n",
    "sm_client.describe_model_package(ModelPackageName=ModelPackageArn)"
   ]
  },
  {
   "cell_type": "markdown",
   "id": "02f08f68",
   "metadata": {},
   "source": [
    "## (2) Model 승인 상태 변경"
   ]
  },
  {
   "cell_type": "code",
   "execution_count": 5,
   "id": "f683ecc6",
   "metadata": {},
   "outputs": [],
   "source": [
    "model_package_update_input_dict = {\n",
    "    \"ModelPackageArn\" : ModelPackageArn,\n",
    "    \"ModelApprovalStatus\" : \"Approved\"\n",
    "}\n",
    "model_package_update_response = sm_client.update_model_package(**model_package_update_input_dict)\n",
    "response = sm_client.describe_model_package(ModelPackageName=ModelPackageArn)"
   ]
  },
  {
   "cell_type": "code",
   "execution_count": 6,
   "id": "1824343f",
   "metadata": {},
   "outputs": [
    {
     "name": "stdout",
     "output_type": "stream",
     "text": [
      "image_uri_approved:  366743142698.dkr.ecr.ap-northeast-2.amazonaws.com/sagemaker-xgboost:1.0-1-cpu-py3\n",
      "ModelDataUrl_approved:  s3://sagemaker-ap-northeast-2-057716757052/sagemaker-pipeline-step-by-step-phase01/training_jobs/1hzhiaghayc0-HPTunin-jBvIJGSXWm-001-493861ef/output/model.tar.gz\n"
     ]
    }
   ],
   "source": [
    "image_uri_approved = response[\"InferenceSpecification\"][\"Containers\"][0][\"Image\"]\n",
    "ModelDataUrl_approved = response[\"InferenceSpecification\"][\"Containers\"][0][\"ModelDataUrl\"]\n",
    "print(\"image_uri_approved: \", image_uri_approved)\n",
    "print(\"ModelDataUrl_approved: \", ModelDataUrl_approved)"
   ]
  },
  {
   "cell_type": "markdown",
   "id": "a7c3c539",
   "metadata": {},
   "source": [
    "## (3) 모델을  앤드포인트 배포"
   ]
  },
  {
   "cell_type": "code",
   "execution_count": 7,
   "id": "0edab9b4",
   "metadata": {},
   "outputs": [
    {
     "name": "stdout",
     "output_type": "stream",
     "text": [
      "---------------!CPU times: user 234 ms, sys: 15.3 ms, total: 249 ms\n",
      "Wall time: 7min 32s\n"
     ]
    }
   ],
   "source": [
    "%%time \n",
    "\n",
    "from sagemaker import ModelPackage\n",
    "\n",
    "model = ModelPackage(role=role, \n",
    "                     model_package_arn=ModelPackageArn, \n",
    "                     sagemaker_session=sagemaker_session)\n",
    "_ = model.deploy(initial_instance_count=1, instance_type='ml.t2.medium')\n"
   ]
  },
  {
   "cell_type": "markdown",
   "id": "ff87c5cb",
   "metadata": {},
   "source": [
    "배포된 모델을  삭제 합니다."
   ]
  },
  {
   "cell_type": "code",
   "execution_count": 8,
   "id": "3a2d52e5",
   "metadata": {},
   "outputs": [],
   "source": [
    "predictor = sagemaker.predictor.Predictor(\n",
    "    endpoint_name= model.endpoint_name,\n",
    "    sagemaker_session= sagemaker_session,\n",
    ")\n",
    "\n",
    "predictor.delete_endpoint()"
   ]
  },
  {
   "cell_type": "markdown",
   "id": "f05f2d85",
   "metadata": {},
   "source": [
    "# 2. 람다 스텝 개요\n",
    "\n",
    "- 세이지 메이커 모델 빌딩 파이프라인 에서 람다 스텝을 (2021.08) 사용할 수 있습니다. 람다 함수에 머신러닝 워크 플로우에 적당한 단계를 구현하여 사용할 수 있습니다.\n",
    "- 여기서는 예시로써, 모델 레지스트리의 모델 패키지 그룹에 있는 최신 모델의 승인 상태를 변경하고, 배포까지 하는 것을 람다 스텝을 이용하여 구현 합니다.\n",
    "- 람다 스텝 사용 법\n",
    "    - LambdaStep을 정의할 때 SageMaker Lambda 도우미 클래스는 Lambda 함수를 생성하기 위한 도우미 함수를 제공합니다.사용자는 lambda_func 인수를 사용하여 이미 배포된 Lambda 함수에 함수 ARN을 제공하거나 Lambda 클래스를 사용하여 Lambda 함수에 대한 스크립트, 함수 이름 및 역할을 제공하여 Lambda 함수를 생성할 수 있습니다.\n",
    "\n",
    "    - 입력을 Lambda에 전달할 때 inputs 인수를 사용할 수 있으며 Lambda 함수의 핸들러 내에서 event 인수를 사용하여 입력을 검색할 수 있습니다.\n",
    "\n",
    "    - Lambda 함수의 딕셔너리 응답은 outputs 인수에 제공된 lambdaOutput 객체를 통해 구문 분석됩니다.LambdaOutput 의 output_name은 람다의 리턴 딕셔너리에 있는 딕셔너리 키에 해당합니다.\n",
    "\n",
    "\n",
    "- 참고\n",
    "    - 개발자 가이드의 람다 단계 참고 --> [람다 단계](https://docs.aws.amazon.com/ko_kr/sagemaker/latest/dg/build-and-manage-steps.html#step-type-lambda)\n"
   ]
  },
  {
   "cell_type": "markdown",
   "id": "59fb628f",
   "metadata": {},
   "source": [
    "\n",
    "\n"
   ]
  },
  {
   "cell_type": "markdown",
   "id": "91a5b930",
   "metadata": {},
   "source": [
    "#### 람다 함수 정의\n",
    "- 여기서는 2개의 람다 함수를 정의 했습니다.\n",
    "    - (1) iam_change_model_approval.py\n",
    "        - 모델 레지스트리에서 해당 모델 패키지 그룹을 조회하고, 가장 최신 버전의 모델에 대해서 '모델 승인 상태 변경' 을 합니다.\n",
    "    - (2) iam_create_endpoint.py\n",
    "        - 입력으로 세이지 메이커 모델, 앤드 포인트 컨피그 및 앤드 포인트 이름을 받아서, 앤드포인트를 생성 함.\n",
    "        \n",
    "\n",
    "- 예시로써 첫번째 람다 함수를 정의한 것의 예제 입니다.\n"
   ]
  },
  {
   "cell_type": "code",
   "execution_count": 9,
   "id": "ec285bc3",
   "metadata": {},
   "outputs": [
    {
     "name": "stdout",
     "output_type": "stream",
     "text": [
      "\u001b[34mimport\u001b[39;49;00m \u001b[04m\u001b[36mjson\u001b[39;49;00m\n",
      "\u001b[34mimport\u001b[39;49;00m \u001b[04m\u001b[36mboto3\u001b[39;49;00m\n",
      "\n",
      "\n",
      "\u001b[34mdef\u001b[39;49;00m \u001b[32mlambda_handler\u001b[39;49;00m(event, context):\n",
      "    \u001b[33m\"\"\"\u001b[39;49;00m\n",
      "\u001b[33m    모델 레지스트리에서 최신 버전의 모델 승인 상태를 변경하는 람다 함수.\u001b[39;49;00m\n",
      "\u001b[33m    \"\"\"\u001b[39;49;00m\n",
      "    \n",
      "    \u001b[34mtry\u001b[39;49;00m:\n",
      "        sm_client = boto3.client(\u001b[33m\"\u001b[39;49;00m\u001b[33msagemaker\u001b[39;49;00m\u001b[33m\"\u001b[39;49;00m)\n",
      "\n",
      "        \u001b[37m##############################################\u001b[39;49;00m\n",
      "        \u001b[37m# 람다 함수는 두개의 입력 인자를 event 개체를 통해서 받습니다.\u001b[39;49;00m\n",
      "        \u001b[37m# 모델 패키지 이름과 모델 승인 유형을 받습니다.\u001b[39;49;00m\n",
      "        \u001b[37m##############################################   \u001b[39;49;00m\n",
      "        \n",
      "        model_package_group_name = event[\u001b[33m\"\u001b[39;49;00m\u001b[33mmodel_package_group_name\u001b[39;49;00m\u001b[33m\"\u001b[39;49;00m]\n",
      "        ModelApprovalStatus = event[\u001b[33m\"\u001b[39;49;00m\u001b[33mModelApprovalStatus\u001b[39;49;00m\u001b[33m\"\u001b[39;49;00m]        \n",
      "        \u001b[36mprint\u001b[39;49;00m(\u001b[33m\"\u001b[39;49;00m\u001b[33mmodel_package_group_name: \u001b[39;49;00m\u001b[33m\\n\u001b[39;49;00m\u001b[33m\"\u001b[39;49;00m, model_package_group_name)\n",
      "        \u001b[36mprint\u001b[39;49;00m(\u001b[33m\"\u001b[39;49;00m\u001b[33mModelApprovalStatus: \u001b[39;49;00m\u001b[33m\\n\u001b[39;49;00m\u001b[33m\"\u001b[39;49;00m, ModelApprovalStatus)        \n",
      "\n",
      "        \n",
      "        \u001b[37m# 해당 모델 패키지에서 가장 최근의 버전의 모델을 가져옵니다.\u001b[39;49;00m\n",
      "        response = sm_client.list_model_packages(ModelPackageGroupName= model_package_group_name)\n",
      "        ModelPackageArn = response[\u001b[33m'\u001b[39;49;00m\u001b[33mModelPackageSummaryList\u001b[39;49;00m\u001b[33m'\u001b[39;49;00m][\u001b[34m0\u001b[39;49;00m][\u001b[33m'\u001b[39;49;00m\u001b[33mModelPackageArn\u001b[39;49;00m\u001b[33m'\u001b[39;49;00m]\n",
      "        sm_client.describe_model_package(ModelPackageName=ModelPackageArn)\n",
      "\n",
      "        \u001b[37m##############################################                \u001b[39;49;00m\n",
      "        \u001b[37m# 최근 모델의 모델에  승인 상태를 변경 합니다.\u001b[39;49;00m\n",
      "        \u001b[37m##############################################                \u001b[39;49;00m\n",
      "\n",
      "        \n",
      "        \u001b[37m# 최근 모델의 모델 승인 상태를 가지고 있는 사전 변수를 선언합니다.\u001b[39;49;00m\n",
      "        model_package_update_input_dict = {\n",
      "            \u001b[33m\"\u001b[39;49;00m\u001b[33mModelPackageArn\u001b[39;49;00m\u001b[33m\"\u001b[39;49;00m : ModelPackageArn,\n",
      "            \u001b[33m\"\u001b[39;49;00m\u001b[33mModelApprovalStatus\u001b[39;49;00m\u001b[33m\"\u001b[39;49;00m : ModelApprovalStatus\n",
      "        }\n",
      "        \n",
      "        \u001b[37m# 모델 승인 상태 변경\u001b[39;49;00m\n",
      "        model_package_update_response = sm_client.update_model_package(**model_package_update_input_dict)\n",
      "        respone = sm_client.describe_model_package(ModelPackageName=ModelPackageArn)        \n",
      "\n",
      "        return_msg = \u001b[33mf\u001b[39;49;00m\u001b[33m\"\u001b[39;49;00m\u001b[33mSuccess\u001b[39;49;00m\u001b[33m\"\u001b[39;49;00m\n",
      "        \n",
      "        \u001b[37m##############################################        \u001b[39;49;00m\n",
      "        \u001b[37m# 람다 함수의 리턴 정보를 구성하고 리턴 합니다.\u001b[39;49;00m\n",
      "        \u001b[37m##############################################        \u001b[39;49;00m\n",
      "\n",
      "        \u001b[34mreturn\u001b[39;49;00m {\n",
      "            \u001b[33m\"\u001b[39;49;00m\u001b[33mstatusCode\u001b[39;49;00m\u001b[33m\"\u001b[39;49;00m: \u001b[34m200\u001b[39;49;00m,\n",
      "            \u001b[33m\"\u001b[39;49;00m\u001b[33mbody\u001b[39;49;00m\u001b[33m\"\u001b[39;49;00m: json.dumps(return_msg),\n",
      "            \u001b[33m\"\u001b[39;49;00m\u001b[33mother_key\u001b[39;49;00m\u001b[33m\"\u001b[39;49;00m: \u001b[33m\"\u001b[39;49;00m\u001b[33mexample_value\u001b[39;49;00m\u001b[33m\"\u001b[39;49;00m,\n",
      "        }\n",
      "\n",
      "    \u001b[34mexcept\u001b[39;49;00m \u001b[36mBaseException\u001b[39;49;00m \u001b[34mas\u001b[39;49;00m error:\n",
      "        return_msg = \u001b[33mf\u001b[39;49;00m\u001b[33m\"\u001b[39;49;00m\u001b[33mThere is no model_package_group_name\u001b[39;49;00m\u001b[33m{\u001b[39;49;00mmodel_package_group_name\u001b[33m}\u001b[39;49;00m\u001b[33m\"\u001b[39;49;00m                \n",
      "        error_msg = \u001b[33mf\u001b[39;49;00m\u001b[33m\"\u001b[39;49;00m\u001b[33mAn exception occurred: \u001b[39;49;00m\u001b[33m{\u001b[39;49;00merror\u001b[33m}\u001b[39;49;00m\u001b[33m\"\u001b[39;49;00m\n",
      "        \u001b[36mprint\u001b[39;49;00m(error_msg)    \n",
      "        \u001b[34mreturn\u001b[39;49;00m {\n",
      "            \u001b[33m\"\u001b[39;49;00m\u001b[33mstatusCode\u001b[39;49;00m\u001b[33m\"\u001b[39;49;00m: \u001b[34m500\u001b[39;49;00m,\n",
      "            \u001b[33m\"\u001b[39;49;00m\u001b[33mbody\u001b[39;49;00m\u001b[33m\"\u001b[39;49;00m: json.dumps(return_msg),\n",
      "            \u001b[33m\"\u001b[39;49;00m\u001b[33mother_key\u001b[39;49;00m\u001b[33m\"\u001b[39;49;00m: \u001b[33m\"\u001b[39;49;00m\u001b[33mexample_value\u001b[39;49;00m\u001b[33m\"\u001b[39;49;00m,\n",
      "        }        \n",
      "        \n"
     ]
    }
   ],
   "source": [
    "!pygmentize src/iam_change_model_approval.py"
   ]
  },
  {
   "cell_type": "markdown",
   "id": "1e242e6c",
   "metadata": {},
   "source": [
    "#### 람다 IAM Role\n",
    "\n",
    "Lambda 함수에는 SageMaker 에서 수행할 잡(예: 엔드포인트를 배포) 에 대한 IAM 역할이 필요합니다.역할 ARN은 람다스텝에서 제공되어야 합니다. \n",
    "\n",
    "Lambda 역할에는 최소한의 람다 실행 정책 외에 여기서는 `세이지메이커:크리에이터 모델', `세이지메이커:생성엔드포인트구성`, `세이지메이커:생성엔드포인트'등의 허용하는 정책이 있어야 합니다. \n",
    "\n",
    "`iam_helper.py`의 도우미 함수를 사용하여 Lambda 함수 역할을 생성할 수 있습니다.이 역할은 아마존 관리형 정책 (`세이지메이커풀액세스') 을 사용한다는 점에 유의하십시오.이는 AWS IAM 모범 사례에 따라 최소 권한을 가진 IAM 정책으로 대체해야 합니다."
   ]
  },
  {
   "cell_type": "code",
   "execution_count": 10,
   "id": "adf178a0",
   "metadata": {},
   "outputs": [
    {
     "name": "stdout",
     "output_type": "stream",
     "text": [
      "Using ARN from existing role: lambda-deployment-role\n",
      "lambda_role: \n",
      " arn:aws:iam::057716757052:role/lambda-deployment-role\n"
     ]
    }
   ],
   "source": [
    "from src.iam_helper import create_lambda_role\n",
    "\n",
    "lambda_role = create_lambda_role(\"lambda-deployment-role\")\n",
    "print(\"lambda_role: \\n\", lambda_role)"
   ]
  },
  {
   "cell_type": "markdown",
   "id": "5a5db2ca",
   "metadata": {},
   "source": [
    "## 스텝 생성"
   ]
  },
  {
   "cell_type": "markdown",
   "id": "16829c91",
   "metadata": {},
   "source": [
    "### (1) 람다 스텝: 모델 버전 상태를 승인 으로 변경"
   ]
  },
  {
   "cell_type": "code",
   "execution_count": 11,
   "id": "03af5a68",
   "metadata": {},
   "outputs": [
    {
     "name": "stdout",
     "output_type": "stream",
     "text": [
      "function_name: \n",
      " sagemaker-lambda-step-approve-model-deployment-08-25-06-23-05\n"
     ]
    }
   ],
   "source": [
    "from sagemaker.lambda_helper import Lambda\n",
    "from sagemaker.workflow.lambda_step import (\n",
    "    LambdaStep,\n",
    "    LambdaOutput,\n",
    "    LambdaOutputTypeEnum,\n",
    ")\n",
    "\n",
    "import time \n",
    "\n",
    "current_time = time.strftime(\"%m-%d-%H-%M-%S\", time.localtime())\n",
    "function_name = \"sagemaker-lambda-step-approve-model-deployment-\" + current_time\n",
    "\n",
    "print(\"function_name: \\n\", function_name)"
   ]
  },
  {
   "cell_type": "code",
   "execution_count": 12,
   "id": "b42d1d17",
   "metadata": {},
   "outputs": [],
   "source": [
    "# Lambda helper class can be used to create the Lambda function\n",
    "func_approve_model = Lambda(\n",
    "    function_name=function_name,\n",
    "    execution_role_arn=lambda_role,\n",
    "    script=\"src/iam_change_model_approval.py\",\n",
    "    handler=\"iam_change_model_approval.lambda_handler\",\n",
    ")\n",
    "\n",
    "output_param_1 = LambdaOutput(output_name=\"statusCode\", output_type=LambdaOutputTypeEnum.String)\n",
    "output_param_2 = LambdaOutput(output_name=\"body\", output_type=LambdaOutputTypeEnum.String)\n",
    "output_param_3 = LambdaOutput(output_name=\"other_key\", output_type=LambdaOutputTypeEnum.String)\n",
    "\n",
    "step_approve_lambda = LambdaStep(\n",
    "    name=\"LambdaApproveModelStep\",\n",
    "    lambda_func=func_approve_model,\n",
    "    inputs={\n",
    "        \"model_package_group_name\" : model_package_group_name,\n",
    "        \"ModelApprovalStatus\": \"Approved\",\n",
    "    },\n",
    "    outputs=[output_param_1, output_param_2, output_param_3],\n",
    ")"
   ]
  },
  {
   "cell_type": "markdown",
   "id": "231279be",
   "metadata": {},
   "source": [
    "### (2) 세이지 메이커 모델 스텝 생성\n",
    "- 아래 두 파리미터의 입력이 이전 스텝의 결과가 제공됩니다.\n",
    "    - image_uri= step_train.properties.AlgorithmSpecification.TrainingImage,\n",
    "    - model_data= step_train.properties.ModelArtifacts.S3ModelArtifacts,\n",
    "\n"
   ]
  },
  {
   "cell_type": "markdown",
   "id": "e67a4013",
   "metadata": {},
   "source": [
    "모델 레지스트리의 해당 모델 패키지 그룹에서 최신 버전 모델에 대한 '추론 도커 이미지', '모델 아티펙트 경로' 를 세이지 메이커 모델 생성시에 입력으로 제공 합니다."
   ]
  },
  {
   "cell_type": "code",
   "execution_count": 13,
   "id": "241ee9f6",
   "metadata": {},
   "outputs": [
    {
     "name": "stdout",
     "output_type": "stream",
     "text": [
      "image_uri_approved:  366743142698.dkr.ecr.ap-northeast-2.amazonaws.com/sagemaker-xgboost:1.0-1-cpu-py3\n",
      "ModelDataUrl_approved:  s3://sagemaker-ap-northeast-2-057716757052/sagemaker-pipeline-step-by-step-phase01/training_jobs/1hzhiaghayc0-HPTunin-jBvIJGSXWm-001-493861ef/output/model.tar.gz\n"
     ]
    }
   ],
   "source": [
    "print(\"image_uri_approved: \", image_uri_approved)\n",
    "print(\"ModelDataUrl_approved: \", ModelDataUrl_approved)"
   ]
  },
  {
   "cell_type": "code",
   "execution_count": 14,
   "id": "e83c4f08",
   "metadata": {},
   "outputs": [],
   "source": [
    "from sagemaker.model import Model\n",
    "    \n",
    "model = Model(\n",
    "    image_uri= image_uri_approved,\n",
    "    model_data= ModelDataUrl_approved,    \n",
    "    sagemaker_session=sagemaker_session,\n",
    "    role=role,\n",
    ")"
   ]
  },
  {
   "cell_type": "code",
   "execution_count": 15,
   "id": "f2f52c21",
   "metadata": {},
   "outputs": [],
   "source": [
    "from sagemaker.inputs import CreateModelInput\n",
    "from sagemaker.workflow.steps import CreateModelStep\n",
    "\n",
    "\n",
    "inputs = CreateModelInput(\n",
    "    instance_type=\"ml.m5.large\",\n",
    "    # accelerator_type=\"ml.eia1.medium\",\n",
    ")\n",
    "step_create_model = CreateModelStep(\n",
    "    name=\"CreateFraudhModel\",\n",
    "    model=model,\n",
    "    inputs=inputs,\n",
    ")\n",
    "step_create_model.add_depends_on([step_approve_lambda]) # step_approve_lambda 완료 후 실행 함."
   ]
  },
  {
   "cell_type": "markdown",
   "id": "01f0650a",
   "metadata": {},
   "source": [
    "### (3) 람다 스텝: 엔드포인트 배포"
   ]
  },
  {
   "cell_type": "code",
   "execution_count": 16,
   "id": "579472b5",
   "metadata": {},
   "outputs": [
    {
     "name": "stdout",
     "output_type": "stream",
     "text": [
      "endpoint_config_name: \n",
      " lambda-deploy-endpoint-config-08-25-06-23-05\n",
      "endpoint_config_name: \n",
      " 44\n",
      "endpoint_name: \n",
      " lambda-deploy-endpoint-08-25-06-23-05\n",
      "function_name: \n",
      " sagemaker-lambda-step-endpoint-deploy-08-25-06-23-05\n"
     ]
    }
   ],
   "source": [
    "# model_name = project_prefix + \"-lambda-model\" + current_time\n",
    "endpoint_config_name = \"lambda-deploy-endpoint-config-\" + current_time\n",
    "endpoint_name = \"lambda-deploy-endpoint-\" + current_time\n",
    "\n",
    "function_name = \"sagemaker-lambda-step-endpoint-deploy-\" + current_time\n",
    "\n",
    "# print(\"model_name: \\n\", model_name)\n",
    "print(\"endpoint_config_name: \\n\", endpoint_config_name)\n",
    "print(\"endpoint_config_name: \\n\", len(endpoint_config_name))\n",
    "print(\"endpoint_name: \\n\", endpoint_name)\n",
    "print(\"function_name: \\n\", function_name)\n",
    "\n",
    "\n"
   ]
  },
  {
   "cell_type": "code",
   "execution_count": 17,
   "id": "d3b618ea",
   "metadata": {},
   "outputs": [],
   "source": [
    "# Lambda helper class can be used to create the Lambda function\n",
    "func_deploy_model = Lambda(\n",
    "    function_name=function_name,\n",
    "    execution_role_arn=lambda_role,\n",
    "    script=\"src/iam_create_endpoint.py\",\n",
    "    handler=\"iam_create_endpoint.lambda_handler\",\n",
    "    timeout = 900, # 디폴트는 120초 임. 10분으로 연장\n",
    ")\n",
    "\n",
    "output_param_1 = LambdaOutput(output_name=\"statusCode\", output_type=LambdaOutputTypeEnum.String)\n",
    "output_param_2 = LambdaOutput(output_name=\"body\", output_type=LambdaOutputTypeEnum.String)\n",
    "output_param_3 = LambdaOutput(output_name=\"other_key\", output_type=LambdaOutputTypeEnum.String)\n",
    "\n",
    "step_deploy_lambda = LambdaStep(\n",
    "    name=\"LambdaDeployStep\",\n",
    "    lambda_func=func_deploy_model,\n",
    "    inputs={\n",
    "        \"model_name\": step_create_model.properties.ModelName,\n",
    "        \"endpoint_config_name\": endpoint_config_name,\n",
    "        \"endpoint_name\": endpoint_name,\n",
    "    },\n",
    "    outputs=[output_param_1, output_param_2, output_param_3],\n",
    ")"
   ]
  },
  {
   "cell_type": "markdown",
   "id": "4cde668b",
   "metadata": {},
   "source": [
    "## 모델 빌딩 파이프라인 변수 생성\n",
    "\n"
   ]
  },
  {
   "cell_type": "code",
   "execution_count": 18,
   "id": "39f45b7c",
   "metadata": {},
   "outputs": [],
   "source": [
    "from sagemaker.workflow.parameters import (\n",
    "    ParameterInteger,\n",
    "    ParameterString,\n",
    ")\n",
    "model_approval_status = ParameterString(\n",
    "    name=\"ModelApprovalStatus\", default_value=\"PendingManualApproval\"\n",
    ")"
   ]
  },
  {
   "cell_type": "markdown",
   "id": "5ba7691d",
   "metadata": {},
   "source": [
    "## 모델 빌딩 파이프라인 정의"
   ]
  },
  {
   "cell_type": "code",
   "execution_count": 19,
   "id": "8de76a05",
   "metadata": {},
   "outputs": [],
   "source": [
    "from sagemaker.workflow.pipeline import Pipeline\n",
    "\n",
    "from sagemaker.workflow.execution_variables import ExecutionVariables\n",
    "from sagemaker.workflow.pipeline_experiment_config import PipelineExperimentConfig\n",
    "\n",
    "pipeline_name = project_prefix + \"-Lambda-step\"\n",
    "\n",
    "pipeline = Pipeline(\n",
    "    name=pipeline_name,\n",
    "    parameters=[\n",
    "        model_approval_status,        \n",
    "    ],    \n",
    "    pipeline_experiment_config=PipelineExperimentConfig(\n",
    "      ExecutionVariables.PIPELINE_NAME,\n",
    "      ExecutionVariables.PIPELINE_EXECUTION_ID\n",
    "    ),    \n",
    "    steps=[step_approve_lambda, step_create_model, step_deploy_lambda],    \n",
    "    sagemaker_session=sagemaker_session,    \n",
    ")"
   ]
  },
  {
   "cell_type": "code",
   "execution_count": 20,
   "id": "6c67263a",
   "metadata": {},
   "outputs": [],
   "source": [
    "import json\n",
    "\n",
    "definition = json.loads(pipeline.definition())\n",
    "# definition"
   ]
  },
  {
   "cell_type": "markdown",
   "id": "a462f58d",
   "metadata": {},
   "source": [
    "## 파이프라인을 SageMaker에 제출하고 실행하기 \n",
    "\n",
    "파이프라인 정의를 파이프라인 서비스에 제출합니다. 함께 전달되는 역할(role)을 이용하여 AWS에서 파이프라인을 생성하고 작업의 각 단계를 실행할 것입니다.   "
   ]
  },
  {
   "cell_type": "code",
   "execution_count": 21,
   "id": "8a4f53ee",
   "metadata": {},
   "outputs": [],
   "source": [
    "pipeline.upsert(role_arn=role)\n",
    "execution = pipeline.start()\n"
   ]
  },
  {
   "cell_type": "code",
   "execution_count": 22,
   "id": "2273f8f6",
   "metadata": {},
   "outputs": [],
   "source": [
    "execution.wait()"
   ]
  },
  {
   "cell_type": "code",
   "execution_count": 23,
   "id": "4c400def",
   "metadata": {},
   "outputs": [
    {
     "data": {
      "text/plain": [
       "[{'StepName': 'LambdaDeployStep',\n",
       "  'StartTime': datetime.datetime(2021, 8, 25, 6, 23, 12, 705000, tzinfo=tzlocal()),\n",
       "  'EndTime': datetime.datetime(2021, 8, 25, 6, 23, 15, 8000, tzinfo=tzlocal()),\n",
       "  'StepStatus': 'Succeeded',\n",
       "  'Metadata': {}},\n",
       " {'StepName': 'CreateFraudhModel',\n",
       "  'StartTime': datetime.datetime(2021, 8, 25, 6, 23, 11, 708000, tzinfo=tzlocal()),\n",
       "  'EndTime': datetime.datetime(2021, 8, 25, 6, 23, 12, 546000, tzinfo=tzlocal()),\n",
       "  'StepStatus': 'Succeeded',\n",
       "  'Metadata': {'Model': {'Arn': 'arn:aws:sagemaker:ap-northeast-2:057716757052:model/pipelines-e1xqc2bx327q-createfraudhmodel-eslwkjhe7s'}}},\n",
       " {'StepName': 'LambdaApproveModelStep',\n",
       "  'StartTime': datetime.datetime(2021, 8, 25, 6, 23, 7, 847000, tzinfo=tzlocal()),\n",
       "  'EndTime': datetime.datetime(2021, 8, 25, 6, 23, 11, 458000, tzinfo=tzlocal()),\n",
       "  'StepStatus': 'Succeeded',\n",
       "  'Metadata': {}}]"
      ]
     },
     "execution_count": 23,
     "metadata": {},
     "output_type": "execute_result"
    }
   ],
   "source": [
    "execution.list_steps()"
   ]
  },
  {
   "cell_type": "markdown",
   "id": "31be1adc",
   "metadata": {},
   "source": [
    "# 3. 리소스 정리\n",
    "\n",
    "#### 파이프라인 삭제\n",
    "\n",
    "- 위에서 생성한 파이프라인을 제거 합니다.\n",
    "- isDeletePipeline=False, verbose=Fasle\n",
    "    - 파이프라인을 지우지 않고, 존재하는지 확인 합니다.\n",
    "- isDeletePipeline=False, verbose=True\n",
    "    - 파이프라인의 정의를 자세하 확인 합니다.\n",
    "- isDeletePipeline=True, verbose=True or False\n",
    "    - 파이프라인을 삭제 합니다."
   ]
  },
  {
   "cell_type": "code",
   "execution_count": 24,
   "id": "e75d9e5f",
   "metadata": {},
   "outputs": [
    {
     "name": "stdout",
     "output_type": "stream",
     "text": [
      "pipeline sagemaker-pipeline-step-by-step-phase01-Lambda-step exists\n",
      "pipeline sagemaker-pipeline-step-by-step-phase01-Lambda-step is deleted\n"
     ]
    }
   ],
   "source": [
    "from src.p_utils import clean_pipeline\n",
    "\n",
    "# clean_pipeline(pipeline_name = pipeline_name, isDeletePipeline=False, verbose=False)   \n",
    "clean_pipeline(pipeline_name = pipeline_name, isDeletePipeline=True, verbose=False)   "
   ]
  },
  {
   "cell_type": "markdown",
   "id": "0a301548",
   "metadata": {},
   "source": [
    "#### 람다 함수 삭제"
   ]
  },
  {
   "cell_type": "code",
   "execution_count": 25,
   "id": "73bdcaf3",
   "metadata": {},
   "outputs": [
    {
     "data": {
      "text/plain": [
       "{'ResponseMetadata': {'RequestId': 'bad5051a-01cb-4254-8a58-7f1ae345febe',\n",
       "  'HTTPStatusCode': 204,\n",
       "  'HTTPHeaders': {'date': 'Wed, 25 Aug 2021 06:23:37 GMT',\n",
       "   'content-type': 'application/json',\n",
       "   'connection': 'keep-alive',\n",
       "   'x-amzn-requestid': 'bad5051a-01cb-4254-8a58-7f1ae345febe'},\n",
       "  'RetryAttempts': 0}}"
      ]
     },
     "execution_count": 25,
     "metadata": {},
     "output_type": "execute_result"
    }
   ],
   "source": [
    "# Delete the Lambda function\n",
    "func_deploy_model.delete()\n",
    "func_approve_model.delete()"
   ]
  },
  {
   "cell_type": "markdown",
   "id": "d07068d3",
   "metadata": {},
   "source": [
    "### 앤드포인트 컨피그 및 앤드포인트 삭제\n",
    "- 위의 파이프라인 스탬에서 Async 로 엔드포인트 생성을 요청함. 그래서 아래 엔드포인트 삭제시에 앤드포인트가 생성된 후에 삭제 \n",
    "함.\n",
    "- [알림] `An exception occurred: list index out of range` 메세제지가 출력이 되면 해당 앤드포인트가 존재하지 않으니 중단해주세요."
   ]
  },
  {
   "cell_type": "code",
   "execution_count": 26,
   "id": "06d73f91",
   "metadata": {},
   "outputs": [
    {
     "name": "stdout",
     "output_type": "stream",
     "text": [
      "Endpoint is being creating\n",
      "Endpoint is being creating\n",
      "Endpoint is being creating\n",
      "Endpoint is being creating\n",
      "Endpoint is being creating\n",
      "Endpoint is being creating\n",
      "Endpoint is being creating\n",
      "Endpoint is being creating\n",
      "Endpoint is being creating\n",
      "Endpoint is being creating\n",
      "Endpoint is being creating\n",
      "Endpoint is being creating\n",
      "Endpoint is being creating\n",
      "Endpoint is being creating\n",
      "endpoint is deleted\n"
     ]
    }
   ],
   "source": [
    "from src.p_utils import is_available_endpoint\n",
    "\n",
    "while not is_available_endpoint(endpoint_name):\n",
    "    time.sleep(30)\n",
    "    print(\"Endpoint is being creating\")\n",
    "\n",
    "sm_client.delete_endpoint_config(EndpointConfigName=endpoint_config_name)\n",
    "sm_client.delete_endpoint(EndpointName=endpoint_name)\n",
    "print(\"endpoint is deleted\")    "
   ]
  }
 ],
 "metadata": {
  "kernelspec": {
   "display_name": "conda_python3",
   "language": "python",
   "name": "conda_python3"
  },
  "language_info": {
   "codemirror_mode": {
    "name": "ipython",
    "version": 3
   },
   "file_extension": ".py",
   "mimetype": "text/x-python",
   "name": "python",
   "nbconvert_exporter": "python",
   "pygments_lexer": "ipython3",
   "version": "3.6.13"
  }
 },
 "nbformat": 4,
 "nbformat_minor": 5
}
