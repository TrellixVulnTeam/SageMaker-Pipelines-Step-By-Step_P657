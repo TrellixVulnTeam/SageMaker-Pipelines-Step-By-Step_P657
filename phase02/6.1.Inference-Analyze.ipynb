{
 "cells": [
  {
   "cell_type": "markdown",
   "metadata": {},
   "source": [
    "# [모듈 6.1] 추론 및 결과 분석\n",
    "\n",
    "이 노트북은 이전 노트북에서 생성한 앤드포인트를 대상으로 실제 추론을 하여, 평가 결과를 얻습니다. 테스트 데이터 세트는 1000개를 사용하여 결과를 확인 합니다.\n",
    "- 0. 기본 세이지 메이커 정보 및 기본 변수 로딩\n",
    "- 1. 테스트 데이터 세트 로딩\n",
    "- 2. 추론할 Payload 생성\n",
    "- 3. 추론 실행\n",
    "- 4. 예측의 확률값을 0, 1로 변화하여 리포팅\n",
    "- 5. 엔드포인트 삭제\n",
    "\n",
    "---\n",
    "### 노트북 커널\n",
    "- 이 워크샵은 노트북 커널이 `conda_python3` 를 사용합니다. 다른 커널일 경우 변경 해주세요.\n",
    "---\n",
    "\n"
   ]
  },
  {
   "cell_type": "markdown",
   "metadata": {},
   "source": [
    "## 0. 기본 세이지 메이커 정보 및 기본 변수 로딩"
   ]
  },
  {
   "cell_type": "code",
   "execution_count": 17,
   "metadata": {},
   "outputs": [],
   "source": [
    "import boto3\n",
    "import sagemaker\n",
    "import pandas as pd\n",
    "\n",
    "region = boto3.Session().region_name\n",
    "sagemaker_session = sagemaker.session.Session()\n",
    "role = sagemaker.get_execution_role()\n",
    "\n",
    "%store -r all_adv_pipeline_endpoint_name"
   ]
  },
  {
   "cell_type": "markdown",
   "metadata": {},
   "source": [
    "아래는 사용자 정의의 함수를 로딩 할때마다, 캐시에 있는 것보다는 원본을 로딩함."
   ]
  },
  {
   "cell_type": "code",
   "execution_count": 18,
   "metadata": {},
   "outputs": [
    {
     "data": {
      "text/plain": [
       "'lambda-deploy-endpoint-08-25-13-04-27'"
      ]
     },
     "execution_count": 18,
     "metadata": {},
     "output_type": "execute_result"
    }
   ],
   "source": [
    "all_adv_pipeline_endpoint_name"
   ]
  },
  {
   "cell_type": "code",
   "execution_count": 19,
   "metadata": {},
   "outputs": [
    {
     "name": "stdout",
     "output_type": "stream",
     "text": [
      "The autoreload extension is already loaded. To reload it, use:\n",
      "  %reload_ext autoreload\n"
     ]
    }
   ],
   "source": [
    "%load_ext autoreload\n",
    "%autoreload 2"
   ]
  },
  {
   "cell_type": "markdown",
   "metadata": {},
   "source": [
    "## 1. 테스트 데이터 세트 로딩"
   ]
  },
  {
   "cell_type": "code",
   "execution_count": 20,
   "metadata": {},
   "outputs": [
    {
     "data": {
      "text/html": [
       "<div>\n",
       "<style scoped>\n",
       "    .dataframe tbody tr th:only-of-type {\n",
       "        vertical-align: middle;\n",
       "    }\n",
       "\n",
       "    .dataframe tbody tr th {\n",
       "        vertical-align: top;\n",
       "    }\n",
       "\n",
       "    .dataframe thead th {\n",
       "        text-align: right;\n",
       "    }\n",
       "</style>\n",
       "<table border=\"1\" class=\"dataframe\">\n",
       "  <thead>\n",
       "    <tr style=\"text-align: right;\">\n",
       "      <th></th>\n",
       "      <th>fraud</th>\n",
       "      <th>vehicle_claim</th>\n",
       "      <th>total_claim_amount</th>\n",
       "      <th>customer_age</th>\n",
       "      <th>months_as_customer</th>\n",
       "      <th>num_claims_past_year</th>\n",
       "      <th>num_insurers_past_5_years</th>\n",
       "      <th>policy_deductable</th>\n",
       "      <th>policy_annual_premium</th>\n",
       "      <th>customer_zip</th>\n",
       "      <th>...</th>\n",
       "      <th>collision_type_missing</th>\n",
       "      <th>incident_severity_Major</th>\n",
       "      <th>incident_severity_Minor</th>\n",
       "      <th>incident_severity_Totaled</th>\n",
       "      <th>authorities_contacted_Ambulance</th>\n",
       "      <th>authorities_contacted_Fire</th>\n",
       "      <th>authorities_contacted_None</th>\n",
       "      <th>authorities_contacted_Police</th>\n",
       "      <th>police_report_available_No</th>\n",
       "      <th>police_report_available_Yes</th>\n",
       "    </tr>\n",
       "  </thead>\n",
       "  <tbody>\n",
       "    <tr>\n",
       "      <th>0</th>\n",
       "      <td>0</td>\n",
       "      <td>23901.432507</td>\n",
       "      <td>36201.432507</td>\n",
       "      <td>56</td>\n",
       "      <td>118</td>\n",
       "      <td>0</td>\n",
       "      <td>1</td>\n",
       "      <td>750</td>\n",
       "      <td>3000</td>\n",
       "      <td>98039</td>\n",
       "      <td>...</td>\n",
       "      <td>0</td>\n",
       "      <td>0</td>\n",
       "      <td>0</td>\n",
       "      <td>1</td>\n",
       "      <td>0</td>\n",
       "      <td>0</td>\n",
       "      <td>0</td>\n",
       "      <td>1</td>\n",
       "      <td>0</td>\n",
       "      <td>1</td>\n",
       "    </tr>\n",
       "    <tr>\n",
       "      <th>1</th>\n",
       "      <td>0</td>\n",
       "      <td>29095.295736</td>\n",
       "      <td>73695.295736</td>\n",
       "      <td>36</td>\n",
       "      <td>71</td>\n",
       "      <td>0</td>\n",
       "      <td>1</td>\n",
       "      <td>750</td>\n",
       "      <td>2650</td>\n",
       "      <td>95307</td>\n",
       "      <td>...</td>\n",
       "      <td>0</td>\n",
       "      <td>0</td>\n",
       "      <td>0</td>\n",
       "      <td>1</td>\n",
       "      <td>0</td>\n",
       "      <td>0</td>\n",
       "      <td>0</td>\n",
       "      <td>1</td>\n",
       "      <td>0</td>\n",
       "      <td>1</td>\n",
       "    </tr>\n",
       "    <tr>\n",
       "      <th>2</th>\n",
       "      <td>0</td>\n",
       "      <td>11232.831826</td>\n",
       "      <td>25032.831826</td>\n",
       "      <td>24</td>\n",
       "      <td>11</td>\n",
       "      <td>1</td>\n",
       "      <td>4</td>\n",
       "      <td>750</td>\n",
       "      <td>3000</td>\n",
       "      <td>98391</td>\n",
       "      <td>...</td>\n",
       "      <td>0</td>\n",
       "      <td>0</td>\n",
       "      <td>1</td>\n",
       "      <td>0</td>\n",
       "      <td>0</td>\n",
       "      <td>0</td>\n",
       "      <td>1</td>\n",
       "      <td>0</td>\n",
       "      <td>1</td>\n",
       "      <td>0</td>\n",
       "    </tr>\n",
       "    <tr>\n",
       "      <th>3</th>\n",
       "      <td>0</td>\n",
       "      <td>11125.579356</td>\n",
       "      <td>25125.579356</td>\n",
       "      <td>23</td>\n",
       "      <td>65</td>\n",
       "      <td>0</td>\n",
       "      <td>1</td>\n",
       "      <td>750</td>\n",
       "      <td>3000</td>\n",
       "      <td>91302</td>\n",
       "      <td>...</td>\n",
       "      <td>0</td>\n",
       "      <td>0</td>\n",
       "      <td>1</td>\n",
       "      <td>0</td>\n",
       "      <td>0</td>\n",
       "      <td>0</td>\n",
       "      <td>1</td>\n",
       "      <td>0</td>\n",
       "      <td>1</td>\n",
       "      <td>0</td>\n",
       "    </tr>\n",
       "    <tr>\n",
       "      <th>4</th>\n",
       "      <td>0</td>\n",
       "      <td>4529.773913</td>\n",
       "      <td>22329.773913</td>\n",
       "      <td>37</td>\n",
       "      <td>142</td>\n",
       "      <td>0</td>\n",
       "      <td>1</td>\n",
       "      <td>750</td>\n",
       "      <td>3000</td>\n",
       "      <td>90744</td>\n",
       "      <td>...</td>\n",
       "      <td>0</td>\n",
       "      <td>0</td>\n",
       "      <td>1</td>\n",
       "      <td>0</td>\n",
       "      <td>0</td>\n",
       "      <td>0</td>\n",
       "      <td>0</td>\n",
       "      <td>1</td>\n",
       "      <td>1</td>\n",
       "      <td>0</td>\n",
       "    </tr>\n",
       "  </tbody>\n",
       "</table>\n",
       "<p>5 rows × 59 columns</p>\n",
       "</div>"
      ],
      "text/plain": [
       "   fraud  vehicle_claim  total_claim_amount  customer_age  months_as_customer  \\\n",
       "0      0   23901.432507        36201.432507            56                 118   \n",
       "1      0   29095.295736        73695.295736            36                  71   \n",
       "2      0   11232.831826        25032.831826            24                  11   \n",
       "3      0   11125.579356        25125.579356            23                  65   \n",
       "4      0    4529.773913        22329.773913            37                 142   \n",
       "\n",
       "   num_claims_past_year  num_insurers_past_5_years  policy_deductable  \\\n",
       "0                     0                          1                750   \n",
       "1                     0                          1                750   \n",
       "2                     1                          4                750   \n",
       "3                     0                          1                750   \n",
       "4                     0                          1                750   \n",
       "\n",
       "   policy_annual_premium  customer_zip  ...  collision_type_missing  \\\n",
       "0                   3000         98039  ...                       0   \n",
       "1                   2650         95307  ...                       0   \n",
       "2                   3000         98391  ...                       0   \n",
       "3                   3000         91302  ...                       0   \n",
       "4                   3000         90744  ...                       0   \n",
       "\n",
       "   incident_severity_Major  incident_severity_Minor  \\\n",
       "0                        0                        0   \n",
       "1                        0                        0   \n",
       "2                        0                        1   \n",
       "3                        0                        1   \n",
       "4                        0                        1   \n",
       "\n",
       "   incident_severity_Totaled  authorities_contacted_Ambulance  \\\n",
       "0                          1                                0   \n",
       "1                          1                                0   \n",
       "2                          0                                0   \n",
       "3                          0                                0   \n",
       "4                          0                                0   \n",
       "\n",
       "   authorities_contacted_Fire  authorities_contacted_None  \\\n",
       "0                           0                           0   \n",
       "1                           0                           0   \n",
       "2                           0                           1   \n",
       "3                           0                           1   \n",
       "4                           0                           0   \n",
       "\n",
       "   authorities_contacted_Police  police_report_available_No  \\\n",
       "0                             1                           0   \n",
       "1                             1                           0   \n",
       "2                             0                           1   \n",
       "3                             0                           1   \n",
       "4                             1                           1   \n",
       "\n",
       "   police_report_available_Yes  \n",
       "0                            1  \n",
       "1                            1  \n",
       "2                            0  \n",
       "3                            0  \n",
       "4                            0  \n",
       "\n",
       "[5 rows x 59 columns]"
      ]
     },
     "execution_count": 20,
     "metadata": {},
     "output_type": "execute_result"
    }
   ],
   "source": [
    "import os\n",
    "test_preproc_dir_artifact_file= os.path.join(test_preproc_dir_artifact, 'test.csv')\n",
    "test_df = pd.read_csv(test_preproc_dir_artifact_file)\n",
    "test_df.head()"
   ]
  },
  {
   "cell_type": "markdown",
   "metadata": {},
   "source": [
    "## 2. 추론할 Payload 생성\n",
    "\n",
    "- 추론에 입력될 CST String 형태의 데이터로 변경 (payload)"
   ]
  },
  {
   "cell_type": "code",
   "execution_count": 21,
   "metadata": {},
   "outputs": [
    {
     "name": "stdout",
     "output_type": "stream",
     "text": [
      "payload_list: \n",
      " ['23901.43250714285,36201.43250714285,56,118,0,1,750,3000,98039,2012,3,3,1,12300,9,12,3,14,0,0,0,0,0,1,0,0,1,0,0,1,0,0,0,0,0,0,1,0,0,1,0,0,0,1,0,0,0,1,0,0,0,1,0,0,0,1,0,1']\n"
     ]
    }
   ],
   "source": [
    "def get_payload_list(test_df, label_col):\n",
    "    '''\n",
    "    CSV String 행태로 변경\n",
    "    '''\n",
    "    s = test_df.drop(columns=[label_col])\n",
    "    s = s.to_csv(header=None, index=None)\n",
    "    payload_list = s.splitlines()\n",
    "    return payload_list\n",
    "\n",
    "payload_list = get_payload_list(test_df, label_col='fraud')\n",
    "y_test = test_df['fraud'].tolist()\n",
    "\n",
    "print(\"payload_list: \\n\", payload_list[0:1]) # 샘플로 5개의 리스트 보여줌.\n"
   ]
  },
  {
   "cell_type": "markdown",
   "metadata": {},
   "source": [
    "## 3. 추론 실행\n",
    "- 앤드포인트가 InServie로 유효하면 추론을 하여, 확률값을 제공함.\n",
    "- 위에서 준비한 테스트 데이터 세트에서 실험적으로 5개의 샘플만을 추론을 함.\n",
    "- [일람] 5.1 노트북 실행 완료 후에 약 10 분 이후에 아래 셀을 통한 추론이 가능합니다.\n",
    "    - 앤드포인트의 생성을 위해서 약 10분 걸립니다. \n",
    "    - 이유는 앤드포인트 생성의 람다 스텝이 비동기로 실행 요청을 하고 완료가 되기 때문입니다."
   ]
  },
  {
   "cell_type": "code",
   "execution_count": 23,
   "metadata": {},
   "outputs": [
    {
     "name": "stdout",
     "output_type": "stream",
     "text": [
      "pred_prob_list: \n",
      " [0.09844056516885757, 0.04594084993004799, 0.36358606815338135, 0.15541507303714752, 0.6878775358200073]\n",
      "CPU times: user 1.9 s, sys: 96.3 ms, total: 1.99 s\n",
      "Wall time: 11.5 s\n"
     ]
    }
   ],
   "source": [
    "%%time\n",
    "\n",
    "import numpy as np\n",
    "import boto3\n",
    "sagemaker_boto_client = boto3.client('sagemaker')\n",
    "\n",
    "from sagemaker.deserializers import CSVDeserializer\n",
    "csv_deserializer = CSVDeserializer(accept='text/csv') # 디폴트가 accept가 'text/csv' 이지만 직관적 이유로 기술함.\n",
    "\n",
    "from src.p_utils import is_available_endpoint, get_predictor, get_payload, predict, delete_endpoint\n",
    "\n",
    "if is_available_endpoint(all_adv_pipeline_endpoint_name, verbose=False):\n",
    "    pipeline_predictor = get_predictor(all_adv_pipeline_endpoint_name, sagemaker_session, csv_deserializer)\n",
    "    pred_prob_list = []\n",
    "    payload_list = get_payload_list(test_df, label_col='fraud')\n",
    "    for payload in payload_list:\n",
    "        pred_prob = predict(pipeline_predictor, payload)\n",
    "        pred_prob_list.append(float(pred_prob[0]))\n",
    "    print(\"pred_prob_list: \\n\", pred_prob_list[0:5])\n",
    "else:\n",
    "    print(\"Wait for creating an endpoint\")"
   ]
  },
  {
   "cell_type": "markdown",
   "metadata": {},
   "source": [
    "## 4. 예측의 확률값을 0, 1로 변화하여 리포팅\n",
    "- threshold 값이 보다 작으면 0, 크면 1로 할당한후에, Confustion Matrix로 보여줌"
   ]
  },
  {
   "cell_type": "code",
   "execution_count": 24,
   "metadata": {},
   "outputs": [],
   "source": [
    "import matplotlib.pyplot as plt\n",
    "import itertools\n",
    "def plot_conf_mat(cm, classes, title, cmap = plt.cm.Greens):\n",
    "    plt.imshow(cm, interpolation='nearest', cmap=cmap)\n",
    "    plt.title(title)\n",
    "    plt.colorbar()\n",
    "    tick_marks = np.arange(len(classes))\n",
    "    plt.xticks(tick_marks, classes, rotation=45)\n",
    "    plt.yticks(tick_marks, classes)\n",
    "\n",
    "    fmt = 'd'\n",
    "    thresh = cm.max() / 2.\n",
    "    for i, j in itertools.product(range(cm.shape[0]), range(cm.shape[1])):\n",
    "        plt.text(j, i, format(cm[i, j], fmt),\n",
    "        horizontalalignment=\"center\",\n",
    "        color=\"black\" if cm[i, j] > thresh else \"black\")\n",
    "\n",
    "        plt.tight_layout()\n",
    "        plt.ylabel('True label')\n",
    "        plt.xlabel('Predicted label')\n",
    "    plt.show()"
   ]
  },
  {
   "cell_type": "markdown",
   "metadata": {},
   "source": [
    "#### 결과 해석\n",
    "\n",
    "아래는 하나의 Confustion 행렬의 예로서, 해석의 방법은 아래와 같습니다.\n",
    "- 전체 1000 개의 테스트 데이터 세트 이고, 이중에 33개 (7+26) 가 fraud 임. \n",
    "- 33개 중에서 26개를 잘 예측 했음 (fraud:1 에 대한 recall 이 0.79, 26/33). (True Positive, TP)\n",
    "- 정상인 967 개 중에서 697개를 잘 예측 했음(fraud:0 에 대한 recall 이 0.72, 697/967). (True Negative, TN)\n",
    "- 실제 fraud 이지만, 예측을 정상으로 한것이 7개 (False Negative, FN)\n",
    "- 실제 정상이지만, fraud 로 예측한 것이 270개 (False Positive, FP)\n",
    "    - 조금 더 상세한 의미는 인터넷에 많이 있습니다. 하나의 참조입니다.  --> [분류 성능 평가](https://datascienceschool.net/03%20machine%20learning/09.04%20분류%20성능평가.html) \n",
    "\n",
    "```\n",
    "       legit fraud\n",
    "legit   697   270\n",
    "fraud     7    26\n",
    "```"
   ]
  },
  {
   "cell_type": "code",
   "execution_count": 25,
   "metadata": {},
   "outputs": [
    {
     "data": {
      "image/png": "[encoded data removed]",
      "text/plain": [
       "<Figure size 432x288 with 2 Axes>"
      ]
     },
     "metadata": {
      "needs_background": "light"
     },
     "output_type": "display_data"
    },
    {
     "name": "stdout",
     "output_type": "stream",
     "text": [
      "[[708 259]\n",
      " [ 10  23]]\n",
      "              precision    recall  f1-score   support\n",
      "\n",
      "           0       0.99      0.73      0.84       967\n",
      "           1       0.08      0.70      0.15        33\n",
      "\n",
      "    accuracy                           0.73      1000\n",
      "   macro avg       0.53      0.71      0.49      1000\n",
      "weighted avg       0.96      0.73      0.82      1000\n",
      "\n"
     ]
    }
   ],
   "source": [
    "from sklearn.metrics import classification_report\n",
    "from sklearn.metrics import confusion_matrix\n",
    "\n",
    "threshold = 0.5\n",
    "predictions = [1 if e >= threshold else 0 for e in pred_prob_list ] \n",
    "    \n",
    "\n",
    "cm = confusion_matrix(y_true= y_test, y_pred= predictions)    \n",
    "plot_conf_mat(cm, classes=['legit','fraud'], \n",
    "                  title='Confusion Matrix')\n",
    "print(cm)\n",
    "\n",
    "print(f\"{classification_report(y_true=y_test, y_pred = predictions)}\")\n"
   ]
  },
  {
   "cell_type": "markdown",
   "metadata": {},
   "source": [
    "## 5. 엔드포인트 삭제\n",
    "- **[중요] 과금을 막기 위해서 아래 코드를 꼭 수행 바랍니다.**\n",
    "- is_del_model= True  를 통해서 생성한 모델 및 이전 파이프라인을 통한 엔드포인트 컨피그 와  엔드포인트를 삭제 합니다."
   ]
  },
  {
   "cell_type": "code",
   "execution_count": 26,
   "metadata": {},
   "outputs": [
    {
     "name": "stdout",
     "output_type": "stream",
     "text": [
      "--- Deleted model: pipelines-e6svv5i5nej8-CreateFraudhModel-z4kxczHIey\n",
      "--- Deleted endpoint: lambda-deploy-endpoint-08-25-13-04-27\n",
      "--- Deleted endpoint_config: lambda-deploy-endpoint-config-08-25-13-04-27\n"
     ]
    }
   ],
   "source": [
    "import boto3\n",
    "boto3_client = boto3.client('sagemaker')\n",
    "delete_endpoint(boto3_client, all_adv_pipeline_endpoint_name, is_del_model=True )\n",
    "\n"
   ]
  },
  {
   "cell_type": "code",
   "execution_count": null,
   "metadata": {},
   "outputs": [],
   "source": []
  },
  {
   "cell_type": "code",
   "execution_count": null,
   "metadata": {},
   "outputs": [],
   "source": []
  }
 ],
 "metadata": {
  "instance_type": "ml.m5.large",
  "kernelspec": {
   "display_name": "conda_python3",
   "language": "python",
   "name": "conda_python3"
  },
  "language_info": {
   "codemirror_mode": {
    "name": "ipython",
    "version": 3
   },
   "file_extension": ".py",
   "mimetype": "text/x-python",
   "name": "python",
   "nbconvert_exporter": "python",
   "pygments_lexer": "ipython3",
   "version": "3.6.13"
  }
 },
 "nbformat": 4,
 "nbformat_minor": 4
}
