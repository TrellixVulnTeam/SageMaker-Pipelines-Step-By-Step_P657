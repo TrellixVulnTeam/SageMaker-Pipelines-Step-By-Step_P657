{
 "cells": [
  {
   "cell_type": "markdown",
   "metadata": {},
   "source": [
    "#  [모듈 3.1] 모델 튜닝 및 모델 등록 스텝 개발 (SageMaker Training Step)\n",
    "\n",
    "이 노트북은 아래와 같은 목차로 진행 됩니다. 전체를 모두 실행시에 완료 시간은 약 5분-10분 소요 됩니다.\n",
    "\n",
    "- 0. 모델 튜닝 개요 \n",
    "- 1. 데이터 세트 로딩 및 기본 훈련 변수 설정\n",
    "- 2. 모델 훈련 코드 확인\n",
    "- 3. HPO 코드 실행\n",
    "- 4. 모델 튜닝 스텝 개발 및 실행\n",
    "    - 최적 성능 나오는 모델 등록\n",
    "    \n",
    "---"
   ]
  },
  {
   "cell_type": "markdown",
   "metadata": {},
   "source": [
    "# 0. 모델 튜닝 개요\n",
    "\n",
    "하이퍼파라미터 튜닝이라고도 하는 Amazon SageMaker 자동 모델 튜닝은 사용자가 지정한 알고리즘과 다양한 하이퍼파라미터를 사용하여 데이터 세트에 대해 여러 훈련 작업을 실행하여 최적의 모델 버전을 찾습니다. 그런 다음 선택한 지표로 측정된 값에 따라 최적의 성능을 보여준 모델을 만든 하이퍼파라미터 값을 선택합니다.\n",
    "\n",
    "\n",
    "\n",
    "- 참고\n",
    "    - 개발자 가이드: [SageMaker 로 자동 모델 튜닝 수행](https://docs.aws.amazon.com/ko_kr/sagemaker/latest/dg/automatic-model-tuning.html)\n",
    "    - 공식 세이지 메이커의 샘플 입니다. --> [HPO 시작 코드](https://github.com/aws/amazon-sagemaker-examples/blob/master/hyperparameter_tuning/xgboost_direct_marketing/hpo_xgboost_direct_marketing_sagemaker_python_sdk.ipynb)\n",
    "\n",
    "\n"
   ]
  },
  {
   "cell_type": "markdown",
   "metadata": {},
   "source": [
    "# 1. 데이터 세트 로딩 및 기본 훈련 변수 설정\n",
    "- 이전 단계(전처리)에서 결과 파일을 로딩 합니다. 실제 훈련에 제공되는 데이터를 확인하기 위함 입니다.\n",
    "---"
   ]
  },
  {
   "cell_type": "code",
   "execution_count": 39,
   "metadata": {},
   "outputs": [
    {
     "name": "stdout",
     "output_type": "stream",
     "text": [
      "The autoreload extension is already loaded. To reload it, use:\n",
      "  %reload_ext autoreload\n"
     ]
    }
   ],
   "source": [
    "%load_ext autoreload\n",
    "%autoreload 2"
   ]
  },
  {
   "cell_type": "code",
   "execution_count": 40,
   "metadata": {},
   "outputs": [],
   "source": [
    "import boto3\n",
    "import sagemaker\n",
    "import pandas as pd\n",
    "import os\n",
    "\n",
    "sagemaker_session = sagemaker.session.Session()\n",
    "role = sagemaker.get_execution_role()\n",
    "sm_client = boto3.client(\"sagemaker\")\n",
    "\n",
    "%store -r \n",
    "# 노트북에 저장되어 있는 변수를 보기 위해서는 주석을 제거하고 실행하시면 됩니다.\n",
    "# %store  "
   ]
  },
  {
   "cell_type": "code",
   "execution_count": 41,
   "metadata": {},
   "outputs": [
    {
     "name": "stdout",
     "output_type": "stream",
     "text": [
      "2021-08-27 08:13:54     682602 sagemaker-pipeline-step-by-step-phase02/preporc/train.csv\n"
     ]
    }
   ],
   "source": [
    "! aws s3 ls {train_preproc_data_uri} --recursive"
   ]
  },
  {
   "cell_type": "code",
   "execution_count": 42,
   "metadata": {},
   "outputs": [
    {
     "data": {
      "text/html": [
       "<div>\n",
       "<style scoped>\n",
       "    .dataframe tbody tr th:only-of-type {\n",
       "        vertical-align: middle;\n",
       "    }\n",
       "\n",
       "    .dataframe tbody tr th {\n",
       "        vertical-align: top;\n",
       "    }\n",
       "\n",
       "    .dataframe thead th {\n",
       "        text-align: right;\n",
       "    }\n",
       "</style>\n",
       "<table border=\"1\" class=\"dataframe\">\n",
       "  <thead>\n",
       "    <tr style=\"text-align: right;\">\n",
       "      <th></th>\n",
       "      <th>fraud</th>\n",
       "      <th>vehicle_claim</th>\n",
       "      <th>total_claim_amount</th>\n",
       "      <th>customer_age</th>\n",
       "      <th>months_as_customer</th>\n",
       "      <th>num_claims_past_year</th>\n",
       "      <th>num_insurers_past_5_years</th>\n",
       "      <th>policy_deductable</th>\n",
       "      <th>policy_annual_premium</th>\n",
       "      <th>customer_zip</th>\n",
       "      <th>...</th>\n",
       "      <th>collision_type_missing</th>\n",
       "      <th>incident_severity_Major</th>\n",
       "      <th>incident_severity_Minor</th>\n",
       "      <th>incident_severity_Totaled</th>\n",
       "      <th>authorities_contacted_Ambulance</th>\n",
       "      <th>authorities_contacted_Fire</th>\n",
       "      <th>authorities_contacted_None</th>\n",
       "      <th>authorities_contacted_Police</th>\n",
       "      <th>police_report_available_No</th>\n",
       "      <th>police_report_available_Yes</th>\n",
       "    </tr>\n",
       "  </thead>\n",
       "  <tbody>\n",
       "    <tr>\n",
       "      <th>0</th>\n",
       "      <td>0</td>\n",
       "      <td>8913.668763</td>\n",
       "      <td>80513.668763</td>\n",
       "      <td>54</td>\n",
       "      <td>94</td>\n",
       "      <td>0</td>\n",
       "      <td>1</td>\n",
       "      <td>750</td>\n",
       "      <td>3000</td>\n",
       "      <td>99207</td>\n",
       "      <td>...</td>\n",
       "      <td>0</td>\n",
       "      <td>0</td>\n",
       "      <td>1</td>\n",
       "      <td>0</td>\n",
       "      <td>0</td>\n",
       "      <td>0</td>\n",
       "      <td>1</td>\n",
       "      <td>0</td>\n",
       "      <td>1</td>\n",
       "      <td>0</td>\n",
       "    </tr>\n",
       "    <tr>\n",
       "      <th>1</th>\n",
       "      <td>0</td>\n",
       "      <td>19746.724395</td>\n",
       "      <td>26146.724395</td>\n",
       "      <td>41</td>\n",
       "      <td>165</td>\n",
       "      <td>0</td>\n",
       "      <td>1</td>\n",
       "      <td>750</td>\n",
       "      <td>2950</td>\n",
       "      <td>95632</td>\n",
       "      <td>...</td>\n",
       "      <td>0</td>\n",
       "      <td>0</td>\n",
       "      <td>0</td>\n",
       "      <td>1</td>\n",
       "      <td>0</td>\n",
       "      <td>0</td>\n",
       "      <td>0</td>\n",
       "      <td>1</td>\n",
       "      <td>0</td>\n",
       "      <td>1</td>\n",
       "    </tr>\n",
       "    <tr>\n",
       "      <th>2</th>\n",
       "      <td>0</td>\n",
       "      <td>11652.969918</td>\n",
       "      <td>22052.969918</td>\n",
       "      <td>57</td>\n",
       "      <td>155</td>\n",
       "      <td>0</td>\n",
       "      <td>1</td>\n",
       "      <td>750</td>\n",
       "      <td>3000</td>\n",
       "      <td>93203</td>\n",
       "      <td>...</td>\n",
       "      <td>0</td>\n",
       "      <td>0</td>\n",
       "      <td>1</td>\n",
       "      <td>0</td>\n",
       "      <td>0</td>\n",
       "      <td>0</td>\n",
       "      <td>0</td>\n",
       "      <td>1</td>\n",
       "      <td>0</td>\n",
       "      <td>1</td>\n",
       "    </tr>\n",
       "    <tr>\n",
       "      <th>3</th>\n",
       "      <td>0</td>\n",
       "      <td>11260.930936</td>\n",
       "      <td>115960.930936</td>\n",
       "      <td>39</td>\n",
       "      <td>80</td>\n",
       "      <td>0</td>\n",
       "      <td>1</td>\n",
       "      <td>750</td>\n",
       "      <td>3000</td>\n",
       "      <td>85208</td>\n",
       "      <td>...</td>\n",
       "      <td>0</td>\n",
       "      <td>0</td>\n",
       "      <td>1</td>\n",
       "      <td>0</td>\n",
       "      <td>0</td>\n",
       "      <td>0</td>\n",
       "      <td>1</td>\n",
       "      <td>0</td>\n",
       "      <td>1</td>\n",
       "      <td>0</td>\n",
       "    </tr>\n",
       "    <tr>\n",
       "      <th>4</th>\n",
       "      <td>0</td>\n",
       "      <td>27987.704652</td>\n",
       "      <td>31387.704652</td>\n",
       "      <td>39</td>\n",
       "      <td>60</td>\n",
       "      <td>0</td>\n",
       "      <td>1</td>\n",
       "      <td>750</td>\n",
       "      <td>3000</td>\n",
       "      <td>91792</td>\n",
       "      <td>...</td>\n",
       "      <td>0</td>\n",
       "      <td>1</td>\n",
       "      <td>0</td>\n",
       "      <td>0</td>\n",
       "      <td>0</td>\n",
       "      <td>0</td>\n",
       "      <td>0</td>\n",
       "      <td>1</td>\n",
       "      <td>1</td>\n",
       "      <td>0</td>\n",
       "    </tr>\n",
       "    <tr>\n",
       "      <th>...</th>\n",
       "      <td>...</td>\n",
       "      <td>...</td>\n",
       "      <td>...</td>\n",
       "      <td>...</td>\n",
       "      <td>...</td>\n",
       "      <td>...</td>\n",
       "      <td>...</td>\n",
       "      <td>...</td>\n",
       "      <td>...</td>\n",
       "      <td>...</td>\n",
       "      <td>...</td>\n",
       "      <td>...</td>\n",
       "      <td>...</td>\n",
       "      <td>...</td>\n",
       "      <td>...</td>\n",
       "      <td>...</td>\n",
       "      <td>...</td>\n",
       "      <td>...</td>\n",
       "      <td>...</td>\n",
       "      <td>...</td>\n",
       "      <td>...</td>\n",
       "    </tr>\n",
       "    <tr>\n",
       "      <th>3995</th>\n",
       "      <td>0</td>\n",
       "      <td>18052.611626</td>\n",
       "      <td>67152.611626</td>\n",
       "      <td>42</td>\n",
       "      <td>103</td>\n",
       "      <td>1</td>\n",
       "      <td>1</td>\n",
       "      <td>750</td>\n",
       "      <td>3000</td>\n",
       "      <td>93654</td>\n",
       "      <td>...</td>\n",
       "      <td>0</td>\n",
       "      <td>0</td>\n",
       "      <td>1</td>\n",
       "      <td>0</td>\n",
       "      <td>0</td>\n",
       "      <td>0</td>\n",
       "      <td>1</td>\n",
       "      <td>0</td>\n",
       "      <td>1</td>\n",
       "      <td>0</td>\n",
       "    </tr>\n",
       "    <tr>\n",
       "      <th>3996</th>\n",
       "      <td>0</td>\n",
       "      <td>34949.202468</td>\n",
       "      <td>51749.202468</td>\n",
       "      <td>23</td>\n",
       "      <td>6</td>\n",
       "      <td>0</td>\n",
       "      <td>3</td>\n",
       "      <td>750</td>\n",
       "      <td>3000</td>\n",
       "      <td>94305</td>\n",
       "      <td>...</td>\n",
       "      <td>0</td>\n",
       "      <td>0</td>\n",
       "      <td>0</td>\n",
       "      <td>1</td>\n",
       "      <td>1</td>\n",
       "      <td>0</td>\n",
       "      <td>0</td>\n",
       "      <td>0</td>\n",
       "      <td>1</td>\n",
       "      <td>0</td>\n",
       "    </tr>\n",
       "    <tr>\n",
       "      <th>3997</th>\n",
       "      <td>0</td>\n",
       "      <td>4063.701410</td>\n",
       "      <td>9963.701410</td>\n",
       "      <td>44</td>\n",
       "      <td>35</td>\n",
       "      <td>0</td>\n",
       "      <td>2</td>\n",
       "      <td>750</td>\n",
       "      <td>2550</td>\n",
       "      <td>95476</td>\n",
       "      <td>...</td>\n",
       "      <td>0</td>\n",
       "      <td>0</td>\n",
       "      <td>1</td>\n",
       "      <td>0</td>\n",
       "      <td>0</td>\n",
       "      <td>0</td>\n",
       "      <td>0</td>\n",
       "      <td>1</td>\n",
       "      <td>0</td>\n",
       "      <td>1</td>\n",
       "    </tr>\n",
       "    <tr>\n",
       "      <th>3998</th>\n",
       "      <td>0</td>\n",
       "      <td>17390.520451</td>\n",
       "      <td>20490.520451</td>\n",
       "      <td>22</td>\n",
       "      <td>38</td>\n",
       "      <td>0</td>\n",
       "      <td>1</td>\n",
       "      <td>750</td>\n",
       "      <td>3000</td>\n",
       "      <td>90680</td>\n",
       "      <td>...</td>\n",
       "      <td>0</td>\n",
       "      <td>1</td>\n",
       "      <td>0</td>\n",
       "      <td>0</td>\n",
       "      <td>0</td>\n",
       "      <td>0</td>\n",
       "      <td>0</td>\n",
       "      <td>1</td>\n",
       "      <td>0</td>\n",
       "      <td>1</td>\n",
       "    </tr>\n",
       "    <tr>\n",
       "      <th>3999</th>\n",
       "      <td>0</td>\n",
       "      <td>2501.811593</td>\n",
       "      <td>8401.811593</td>\n",
       "      <td>57</td>\n",
       "      <td>74</td>\n",
       "      <td>0</td>\n",
       "      <td>1</td>\n",
       "      <td>900</td>\n",
       "      <td>2650</td>\n",
       "      <td>98029</td>\n",
       "      <td>...</td>\n",
       "      <td>0</td>\n",
       "      <td>1</td>\n",
       "      <td>0</td>\n",
       "      <td>0</td>\n",
       "      <td>0</td>\n",
       "      <td>0</td>\n",
       "      <td>0</td>\n",
       "      <td>1</td>\n",
       "      <td>0</td>\n",
       "      <td>1</td>\n",
       "    </tr>\n",
       "  </tbody>\n",
       "</table>\n",
       "<p>4000 rows × 59 columns</p>\n",
       "</div>"
      ],
      "text/plain": [
       "      fraud  vehicle_claim  total_claim_amount  customer_age  \\\n",
       "0     0      8913.668763    80513.668763        54             \n",
       "1     0      19746.724395   26146.724395        41             \n",
       "2     0      11652.969918   22052.969918        57             \n",
       "3     0      11260.930936   115960.930936       39             \n",
       "4     0      27987.704652   31387.704652        39             \n",
       "...  ..               ...            ...        ..             \n",
       "3995  0      18052.611626   67152.611626        42             \n",
       "3996  0      34949.202468   51749.202468        23             \n",
       "3997  0      4063.701410    9963.701410         44             \n",
       "3998  0      17390.520451   20490.520451        22             \n",
       "3999  0      2501.811593    8401.811593         57             \n",
       "\n",
       "      months_as_customer  num_claims_past_year  num_insurers_past_5_years  \\\n",
       "0     94                  0                     1                           \n",
       "1     165                 0                     1                           \n",
       "2     155                 0                     1                           \n",
       "3     80                  0                     1                           \n",
       "4     60                  0                     1                           \n",
       "...   ..                 ..                    ..                           \n",
       "3995  103                 1                     1                           \n",
       "3996  6                   0                     3                           \n",
       "3997  35                  0                     2                           \n",
       "3998  38                  0                     1                           \n",
       "3999  74                  0                     1                           \n",
       "\n",
       "      policy_deductable  policy_annual_premium  customer_zip  ...  \\\n",
       "0     750                3000                   99207         ...   \n",
       "1     750                2950                   95632         ...   \n",
       "2     750                3000                   93203         ...   \n",
       "3     750                3000                   85208         ...   \n",
       "4     750                3000                   91792         ...   \n",
       "...   ...                 ...                     ...         ...   \n",
       "3995  750                3000                   93654         ...   \n",
       "3996  750                3000                   94305         ...   \n",
       "3997  750                2550                   95476         ...   \n",
       "3998  750                3000                   90680         ...   \n",
       "3999  900                2650                   98029         ...   \n",
       "\n",
       "      collision_type_missing  incident_severity_Major  \\\n",
       "0     0                       0                         \n",
       "1     0                       0                         \n",
       "2     0                       0                         \n",
       "3     0                       0                         \n",
       "4     0                       1                         \n",
       "...  ..                      ..                         \n",
       "3995  0                       0                         \n",
       "3996  0                       0                         \n",
       "3997  0                       0                         \n",
       "3998  0                       1                         \n",
       "3999  0                       1                         \n",
       "\n",
       "      incident_severity_Minor  incident_severity_Totaled  \\\n",
       "0     1                        0                           \n",
       "1     0                        1                           \n",
       "2     1                        0                           \n",
       "3     1                        0                           \n",
       "4     0                        0                           \n",
       "...  ..                       ..                           \n",
       "3995  1                        0                           \n",
       "3996  0                        1                           \n",
       "3997  1                        0                           \n",
       "3998  0                        0                           \n",
       "3999  0                        0                           \n",
       "\n",
       "      authorities_contacted_Ambulance  authorities_contacted_Fire  \\\n",
       "0     0                                0                            \n",
       "1     0                                0                            \n",
       "2     0                                0                            \n",
       "3     0                                0                            \n",
       "4     0                                0                            \n",
       "...  ..                               ..                            \n",
       "3995  0                                0                            \n",
       "3996  1                                0                            \n",
       "3997  0                                0                            \n",
       "3998  0                                0                            \n",
       "3999  0                                0                            \n",
       "\n",
       "      authorities_contacted_None  authorities_contacted_Police  \\\n",
       "0     1                           0                              \n",
       "1     0                           1                              \n",
       "2     0                           1                              \n",
       "3     1                           0                              \n",
       "4     0                           1                              \n",
       "...  ..                          ..                              \n",
       "3995  1                           0                              \n",
       "3996  0                           0                              \n",
       "3997  0                           1                              \n",
       "3998  0                           1                              \n",
       "3999  0                           1                              \n",
       "\n",
       "      police_report_available_No  police_report_available_Yes  \n",
       "0     1                           0                            \n",
       "1     0                           1                            \n",
       "2     0                           1                            \n",
       "3     1                           0                            \n",
       "4     1                           0                            \n",
       "...  ..                          ..                            \n",
       "3995  1                           0                            \n",
       "3996  1                           0                            \n",
       "3997  0                           1                            \n",
       "3998  0                           1                            \n",
       "3999  0                           1                            \n",
       "\n",
       "[4000 rows x 59 columns]"
      ]
     },
     "execution_count": 42,
     "metadata": {},
     "output_type": "execute_result"
    }
   ],
   "source": [
    "train_prep_df = pd.read_csv(train_preproc_data_uri)\n",
    "train_prep_df"
   ]
  },
  {
   "cell_type": "markdown",
   "metadata": {},
   "source": [
    "## 2. 훈련 스크립트 확인\n",
    "- 내용 확인을 위해서는 아래 주석을 제거하고 보세요\n",
    "---"
   ]
  },
  {
   "cell_type": "code",
   "execution_count": 43,
   "metadata": {},
   "outputs": [],
   "source": [
    "# !pygmentize src/xgboost_starter_script.py"
   ]
  },
  {
   "cell_type": "markdown",
   "metadata": {},
   "source": [
    "## 3. HPO 코드 실행\n",
    "---\n",
    "\n"
   ]
  },
  {
   "cell_type": "markdown",
   "metadata": {},
   "source": [
    "### 기본 훈련 변수 및 하이퍼파라미터 설정"
   ]
  },
  {
   "cell_type": "code",
   "execution_count": 44,
   "metadata": {},
   "outputs": [
    {
     "name": "stdout",
     "output_type": "stream",
     "text": [
      "fraud_sum: 131 , non_fraud_sum: 3869, class_weight: 29\n"
     ]
    }
   ],
   "source": [
    "from sagemaker.xgboost.estimator import XGBoost\n",
    "\n",
    "bucket = sagemaker_session.default_bucket()\n",
    "prefix = project_prefix\n",
    "\n",
    "estimator_output_path = f's3://{bucket}/{prefix}/training_jobs'\n",
    "train_instance_count = 1\n",
    "\n",
    "def get_pos_scale_weight(df, label):\n",
    "    '''\n",
    "    1, 0 의 레이블 분포를 계산하여 클래스 가중치 리턴\n",
    "    예: 1: 10, 0: 90 이면 90/10 = 9 를 제공함. \n",
    "    호출:\n",
    "        class_weight = get_pos_scale_weight(train_prep_df, label='fraud')\n",
    "    '''\n",
    "    fraud_sum = df[df[label] == 1].shape[0]\n",
    "    non_fraud_sum = df[df[label] == 0].shape[0]\n",
    "    class_weight = int(non_fraud_sum / fraud_sum)\n",
    "    print(f\"fraud_sum: {fraud_sum} , non_fraud_sum: {non_fraud_sum}, class_weight: {class_weight}\")\n",
    "    return class_weight\n",
    "    \n",
    "class_weight = get_pos_scale_weight(train_prep_df, label='fraud')\n",
    "\n",
    "hyperparameters = {\n",
    "       \"scale_pos_weight\" : class_weight,    \n",
    "        \"max_depth\": \"3\",\n",
    "        \"eta\": \"0.2\",\n",
    "        \"objective\": \"binary:logistic\",\n",
    "        \"num_round\": \"100\",\n",
    "}\n"
   ]
  },
  {
   "cell_type": "markdown",
   "metadata": {},
   "source": [
    "### 튜너 설정 및 생성\n",
    "- xbg_estimator 정의된  estimator 기술\n",
    "- `objective_metric_name = \"validation:auc\"` 튜닝을 하고자 하는 지표 기술\n",
    "    - 이 지표의 경우는 훈련 코드에서 정의 및 기록을 해야만 합니다.\n",
    "- `hyperparameter_ranges` 튜닝하고자 하는 파라미터의 범위 설정\n",
    "- `max_jobs` 기술\n",
    "    - 총 훈련잡의 갯수 입니다.\n",
    "- `max_parallel_jobs` 기술\n",
    "    - 병렬로 실행할 훈련잡의 개수 (리소스 제한에 따라서 에러가 발생할 수 있습니다. 이 경우에 줄여 주세요.)\n"
   ]
  },
  {
   "cell_type": "code",
   "execution_count": 45,
   "metadata": {},
   "outputs": [],
   "source": [
    "from sagemaker.tuner import (\n",
    "    IntegerParameter,\n",
    "    CategoricalParameter,\n",
    "    ContinuousParameter,\n",
    "    HyperparameterTuner,\n",
    ")\n",
    "\n",
    "\n",
    "xgb_estimator = XGBoost(\n",
    "    entry_point = \"xgboost_script.py\",\n",
    "    source_dir = \"src\",\n",
    "    output_path = estimator_output_path,\n",
    "    code_location = estimator_output_path,\n",
    "    hyperparameters = hyperparameters,\n",
    "    role = role,\n",
    "    instance_count = train_instance_count,\n",
    "    instance_type = 'ml.m4.2xlarge',\n",
    "    framework_version = \"1.0-1\")\n",
    "\n",
    "hyperparameter_ranges = {\n",
    "    \"eta\": ContinuousParameter(0, 1),\n",
    "    \"min_child_weight\": ContinuousParameter(1, 10),\n",
    "    \"alpha\": ContinuousParameter(0, 2),\n",
    "    \"max_depth\": IntegerParameter(1, 10),\n",
    "}\n",
    "\n",
    "objective_metric_name = \"validation:auc\"\n",
    "\n",
    "tuner = HyperparameterTuner(\n",
    "    xgb_estimator, objective_metric_name, hyperparameter_ranges, \n",
    "    max_jobs=5,\n",
    "    max_parallel_jobs=5,\n",
    ")"
   ]
  },
  {
   "cell_type": "code",
   "execution_count": 46,
   "metadata": {},
   "outputs": [],
   "source": [
    "tuner.fit(inputs = {'train': train_preproc_data_uri,\n",
    "                   },\n",
    "                  wait=False,\n",
    "                 )\n"
   ]
  },
  {
   "cell_type": "markdown",
   "metadata": {},
   "source": [
    "### 튜너의 실행 상태를 확인\n",
    "- 약 5분 소요 됩니다."
   ]
  },
  {
   "cell_type": "code",
   "execution_count": 47,
   "metadata": {},
   "outputs": [
    {
     "name": "stdout",
     "output_type": "stream",
     "text": [
      "HPO status:  InProgress\n",
      "HPO status:  InProgress\n",
      "HPO status:  InProgress\n",
      "HPO status:  InProgress\n",
      "HPO status:  InProgress\n",
      "HPO status:  InProgress\n",
      "HPO status:  InProgress\n",
      "HPO status:  InProgress\n",
      "HPO status:  InProgress\n",
      "HPO status:  InProgress\n",
      "HPO status:  Completed\n"
     ]
    }
   ],
   "source": [
    "import time\n",
    "\n",
    "tuning_job_name = tuner.latest_tuning_job.job_name\n",
    "\n",
    "def show_hpo_status(sm_client):\n",
    "    status = sm_client.describe_hyper_parameter_tuning_job(\n",
    "        HyperParameterTuningJobName=tuning_job_name\n",
    "    )[\"HyperParameterTuningJobStatus\"]\n",
    "    return status\n",
    "\n",
    "status = show_hpo_status(sm_client)\n",
    "while status == 'InProgress':\n",
    "    status = show_hpo_status(sm_client)    \n",
    "    print(\"HPO status: \", status)    \n",
    "    time.sleep(30)    "
   ]
  },
  {
   "cell_type": "markdown",
   "metadata": {},
   "source": [
    "### Best 훈련 Job 출력\n",
    "- 수행된 훈련 잡 중에서 가장 성능이 좋은 훈련 잡을 기술하고, 최종 사용된 하이퍼 파리미터 값을 보여 줌"
   ]
  },
  {
   "cell_type": "code",
   "execution_count": 48,
   "metadata": {},
   "outputs": [
    {
     "name": "stdout",
     "output_type": "stream",
     "text": [
      "5 training jobs have completed\n",
      "Best model found so far:\n",
      "{'CreationTime': datetime.datetime(2021, 8, 27, 9, 9, 52, tzinfo=tzlocal()),\n",
      " 'FinalHyperParameterTuningJobObjectiveMetric': {'MetricName': 'validation:auc',\n",
      "                                                 'Value': 0.8271999955177307},\n",
      " 'ObjectiveStatus': 'Succeeded',\n",
      " 'TrainingEndTime': datetime.datetime(2021, 8, 27, 9, 13, 18, tzinfo=tzlocal()),\n",
      " 'TrainingJobArn': 'arn:aws:sagemaker:us-east-1:028703291518:training-job/sagemaker-xgboost-210827-0909-005-d8ff35ec',\n",
      " 'TrainingJobName': 'sagemaker-xgboost-210827-0909-005-d8ff35ec',\n",
      " 'TrainingJobStatus': 'Completed',\n",
      " 'TrainingStartTime': datetime.datetime(2021, 8, 27, 9, 12, 19, tzinfo=tzlocal()),\n",
      " 'TunedHyperParameters': {'alpha': '1.557797354073632',\n",
      "                          'eta': '0.2980081558006462',\n",
      "                          'max_depth': '1',\n",
      "                          'min_child_weight': '9.191874617446587'}}\n"
     ]
    }
   ],
   "source": [
    "from pprint import pprint\n",
    "\n",
    "# run this cell to check current status of hyperparameter tuning job\n",
    "tuning_job_result = sm_client.describe_hyper_parameter_tuning_job(\n",
    "    HyperParameterTuningJobName=tuning_job_name\n",
    ")\n",
    "\n",
    "status = tuning_job_result[\"HyperParameterTuningJobStatus\"]\n",
    "if status != \"Completed\":\n",
    "    print(\"Reminder: the tuning job has not been completed.\")\n",
    "\n",
    "job_count = tuning_job_result[\"TrainingJobStatusCounters\"][\"Completed\"]\n",
    "print(\"%d training jobs have completed\" % job_count)\n",
    "is_minimize = (\n",
    "    tuning_job_result[\"HyperParameterTuningJobConfig\"][\"HyperParameterTuningJobObjective\"][\"Type\"] != \"Maximize\"\n",
    ")\n",
    "objective_name = tuning_job_result[\"HyperParameterTuningJobConfig\"][\"HyperParameterTuningJobObjective\"][\"MetricName\"]\n",
    "\n",
    "if tuning_job_result.get(\"BestTrainingJob\", None):\n",
    "    print(\"Best model found so far:\")\n",
    "    pprint(tuning_job_result[\"BestTrainingJob\"])\n",
    "else:\n",
    "    print(\"No training jobs have reported results yet.\")\n"
   ]
  },
  {
   "cell_type": "markdown",
   "metadata": {},
   "source": [
    "### 튜닝을 수행한 모든 훈련 잡의 결과 확인\n",
    "- `FinalObjectiveValue` 의 성능 지표 순서로 보여 줌"
   ]
  },
  {
   "cell_type": "code",
   "execution_count": 49,
   "metadata": {},
   "outputs": [
    {
     "name": "stdout",
     "output_type": "stream",
     "text": [
      "Number of training jobs with valid objective: 5\n",
      "{'lowest': 0.7914999723434448, 'highest': 0.8271999955177307}\n"
     ]
    },
    {
     "name": "stderr",
     "output_type": "stream",
     "text": [
      "/home/ec2-user/anaconda3/envs/python3/lib/python3.6/site-packages/ipykernel/__main__.py:13: FutureWarning: Passing a negative integer is deprecated in version 1.0 and will not be supported in future version. Instead, use None to not limit the column width.\n"
     ]
    },
    {
     "data": {
      "text/html": [
       "<div>\n",
       "<style scoped>\n",
       "    .dataframe tbody tr th:only-of-type {\n",
       "        vertical-align: middle;\n",
       "    }\n",
       "\n",
       "    .dataframe tbody tr th {\n",
       "        vertical-align: top;\n",
       "    }\n",
       "\n",
       "    .dataframe thead th {\n",
       "        text-align: right;\n",
       "    }\n",
       "</style>\n",
       "<table border=\"1\" class=\"dataframe\">\n",
       "  <thead>\n",
       "    <tr style=\"text-align: right;\">\n",
       "      <th></th>\n",
       "      <th>alpha</th>\n",
       "      <th>eta</th>\n",
       "      <th>max_depth</th>\n",
       "      <th>min_child_weight</th>\n",
       "      <th>TrainingJobName</th>\n",
       "      <th>TrainingJobStatus</th>\n",
       "      <th>FinalObjectiveValue</th>\n",
       "      <th>TrainingStartTime</th>\n",
       "      <th>TrainingEndTime</th>\n",
       "      <th>TrainingElapsedTimeSeconds</th>\n",
       "    </tr>\n",
       "  </thead>\n",
       "  <tbody>\n",
       "    <tr>\n",
       "      <th>0</th>\n",
       "      <td>1.557797</td>\n",
       "      <td>0.298008</td>\n",
       "      <td>1.0</td>\n",
       "      <td>9.191875</td>\n",
       "      <td>sagemaker-xgboost-210827-0909-005-d8ff35ec</td>\n",
       "      <td>Completed</td>\n",
       "      <td>0.8272</td>\n",
       "      <td>2021-08-27 09:12:19+00:00</td>\n",
       "      <td>2021-08-27 09:13:18+00:00</td>\n",
       "      <td>59.0</td>\n",
       "    </tr>\n",
       "    <tr>\n",
       "      <th>2</th>\n",
       "      <td>1.891045</td>\n",
       "      <td>0.435041</td>\n",
       "      <td>1.0</td>\n",
       "      <td>8.057893</td>\n",
       "      <td>sagemaker-xgboost-210827-0909-003-c0747b20</td>\n",
       "      <td>Completed</td>\n",
       "      <td>0.8269</td>\n",
       "      <td>2021-08-27 09:12:44+00:00</td>\n",
       "      <td>2021-08-27 09:13:47+00:00</td>\n",
       "      <td>63.0</td>\n",
       "    </tr>\n",
       "    <tr>\n",
       "      <th>3</th>\n",
       "      <td>1.537592</td>\n",
       "      <td>0.085494</td>\n",
       "      <td>5.0</td>\n",
       "      <td>3.851098</td>\n",
       "      <td>sagemaker-xgboost-210827-0909-002-4df49fd6</td>\n",
       "      <td>Completed</td>\n",
       "      <td>0.8015</td>\n",
       "      <td>2021-08-27 09:12:12+00:00</td>\n",
       "      <td>2021-08-27 09:13:26+00:00</td>\n",
       "      <td>74.0</td>\n",
       "    </tr>\n",
       "    <tr>\n",
       "      <th>1</th>\n",
       "      <td>1.663407</td>\n",
       "      <td>0.881021</td>\n",
       "      <td>5.0</td>\n",
       "      <td>4.641075</td>\n",
       "      <td>sagemaker-xgboost-210827-0909-004-be0f0707</td>\n",
       "      <td>Completed</td>\n",
       "      <td>0.7977</td>\n",
       "      <td>2021-08-27 09:12:37+00:00</td>\n",
       "      <td>2021-08-27 09:13:46+00:00</td>\n",
       "      <td>69.0</td>\n",
       "    </tr>\n",
       "    <tr>\n",
       "      <th>4</th>\n",
       "      <td>0.879738</td>\n",
       "      <td>0.718337</td>\n",
       "      <td>6.0</td>\n",
       "      <td>6.042929</td>\n",
       "      <td>sagemaker-xgboost-210827-0909-001-291612d1</td>\n",
       "      <td>Completed</td>\n",
       "      <td>0.7915</td>\n",
       "      <td>2021-08-27 09:12:59+00:00</td>\n",
       "      <td>2021-08-27 09:14:11+00:00</td>\n",
       "      <td>72.0</td>\n",
       "    </tr>\n",
       "  </tbody>\n",
       "</table>\n",
       "</div>"
      ],
      "text/plain": [
       "      alpha       eta  max_depth  min_child_weight  \\\n",
       "0  1.557797  0.298008  1.0        9.191875           \n",
       "2  1.891045  0.435041  1.0        8.057893           \n",
       "3  1.537592  0.085494  5.0        3.851098           \n",
       "1  1.663407  0.881021  5.0        4.641075           \n",
       "4  0.879738  0.718337  6.0        6.042929           \n",
       "\n",
       "                              TrainingJobName TrainingJobStatus  \\\n",
       "0  sagemaker-xgboost-210827-0909-005-d8ff35ec  Completed          \n",
       "2  sagemaker-xgboost-210827-0909-003-c0747b20  Completed          \n",
       "3  sagemaker-xgboost-210827-0909-002-4df49fd6  Completed          \n",
       "1  sagemaker-xgboost-210827-0909-004-be0f0707  Completed          \n",
       "4  sagemaker-xgboost-210827-0909-001-291612d1  Completed          \n",
       "\n",
       "   FinalObjectiveValue         TrainingStartTime           TrainingEndTime  \\\n",
       "0  0.8272              2021-08-27 09:12:19+00:00 2021-08-27 09:13:18+00:00   \n",
       "2  0.8269              2021-08-27 09:12:44+00:00 2021-08-27 09:13:47+00:00   \n",
       "3  0.8015              2021-08-27 09:12:12+00:00 2021-08-27 09:13:26+00:00   \n",
       "1  0.7977              2021-08-27 09:12:37+00:00 2021-08-27 09:13:46+00:00   \n",
       "4  0.7915              2021-08-27 09:12:59+00:00 2021-08-27 09:14:11+00:00   \n",
       "\n",
       "   TrainingElapsedTimeSeconds  \n",
       "0  59.0                        \n",
       "2  63.0                        \n",
       "3  74.0                        \n",
       "1  69.0                        \n",
       "4  72.0                        "
      ]
     },
     "execution_count": 49,
     "metadata": {},
     "output_type": "execute_result"
    }
   ],
   "source": [
    "import pandas as pd\n",
    "\n",
    "tuner_df = sagemaker.HyperparameterTuningJobAnalytics(tuning_job_name)\n",
    "\n",
    "full_df = tuner_df.dataframe()\n",
    "\n",
    "if len(full_df) > 0:\n",
    "    df = full_df[full_df[\"FinalObjectiveValue\"] > -float(\"inf\")]\n",
    "    if len(df) > 0:\n",
    "        df = df.sort_values(\"FinalObjectiveValue\", ascending=is_minimize)\n",
    "        print(\"Number of training jobs with valid objective: %d\" % len(df))\n",
    "        print({\"lowest\": min(df[\"FinalObjectiveValue\"]), \"highest\": max(df[\"FinalObjectiveValue\"])})\n",
    "        pd.set_option(\"display.max_colwidth\", -1)  # Don't truncate TrainingJobName\n",
    "    else:\n",
    "        print(\"No training jobs have reported valid results yet.\")\n",
    "\n",
    "df"
   ]
  },
  {
   "cell_type": "markdown",
   "metadata": {},
   "source": [
    "# 4. 모델 튜닝 및 모델 등록 스텝 개발 및 실행\n",
    "---\n",
    "- 개발자 가이드의 튜닝 단계 참고 --> [튜닝 단계](https://docs.aws.amazon.com/ko_kr/sagemaker/latest/dg/build-and-manage-steps.html#step-type-tuning)\n",
    "\n"
   ]
  },
  {
   "cell_type": "markdown",
   "metadata": {},
   "source": [
    "### 모델 빌딩 파이프라인 변수 생성\n",
    "\n"
   ]
  },
  {
   "cell_type": "code",
   "execution_count": 50,
   "metadata": {},
   "outputs": [],
   "source": [
    "from sagemaker.workflow.parameters import (\n",
    "    ParameterInteger,\n",
    "    ParameterString,\n",
    ")\n",
    "model_approval_status = ParameterString(\n",
    "    name=\"ModelApprovalStatus\", default_value=\"PendingManualApproval\"\n",
    ")"
   ]
  },
  {
   "cell_type": "markdown",
   "metadata": {},
   "source": [
    "## (1) 튜닝 스텝 개발"
   ]
  },
  {
   "cell_type": "markdown",
   "metadata": {},
   "source": [
    "### 튜너 기본 요소 정의\n",
    "- 위에서 튜닝에 대한 부분을 다시 기술하였습니다. 값들을 바꾸어 가면서 사용하시면 됩니다. "
   ]
  },
  {
   "cell_type": "code",
   "execution_count": 51,
   "metadata": {},
   "outputs": [],
   "source": [
    "from sagemaker.tuner import (\n",
    "    IntegerParameter,\n",
    "    CategoricalParameter,\n",
    "    ContinuousParameter,\n",
    "    HyperparameterTuner,\n",
    ")\n",
    "\n",
    "\n",
    "xgb_train = XGBoost(\n",
    "    entry_point = \"xgboost_script.py\",\n",
    "    source_dir = \"src\",\n",
    "    output_path = estimator_output_path,\n",
    "    code_location = estimator_output_path,\n",
    "    hyperparameters = hyperparameters,\n",
    "    role = role,\n",
    "    instance_count = train_instance_count,\n",
    "    instance_type = 'ml.m4.xlarge',\n",
    "    framework_version = \"1.0-1\")\n",
    "\n",
    "hyperparameter_ranges = {\n",
    "    \"eta\": ContinuousParameter(0, 1),\n",
    "    \"min_child_weight\": ContinuousParameter(1, 10),\n",
    "    \"alpha\": ContinuousParameter(0, 2),\n",
    "    \"max_depth\": IntegerParameter(1, 10),\n",
    "}\n",
    "\n",
    "objective_metric_name = \"validation:auc\"\n",
    "\n",
    "pipeline_tuner = HyperparameterTuner(\n",
    "    xgb_train, \n",
    "    objective_metric_name, \n",
    "    hyperparameter_ranges, \n",
    "    max_jobs=5,\n",
    "    max_parallel_jobs=5,\n",
    "    #objective_type=\"Minimize\",    \n",
    ")"
   ]
  },
  {
   "cell_type": "markdown",
   "metadata": {},
   "source": [
    "### 튜닝 단계 정의 \n",
    "\n"
   ]
  },
  {
   "cell_type": "code",
   "execution_count": 52,
   "metadata": {},
   "outputs": [],
   "source": [
    "from sagemaker.inputs import TrainingInput\n",
    "from sagemaker.workflow.steps import TuningStep\n",
    "from sagemaker.model import Model\n",
    "    \n",
    "step_tuning = TuningStep(\n",
    "    name = \"FraudTuning\",\n",
    "    tuner = pipeline_tuner,\n",
    "    inputs={\n",
    "        \"train\": TrainingInput(\n",
    "            s3_data= train_preproc_data_uri,\n",
    "            content_type=\"text/csv\"\n",
    "        ),\n",
    "    },\n",
    ")\n"
   ]
  },
  {
   "cell_type": "markdown",
   "metadata": {},
   "source": [
    "## (2) 최적 모델 등록 스텝 개발"
   ]
  },
  {
   "cell_type": "markdown",
   "metadata": {},
   "source": [
    "### 최고의 모델 생성 및 등록\n",
    "\n",
    "하이퍼파라미터 튜닝 작업을 성공적으로 완료한 후TuningStep의 교육 작업에 의해 생성된 모델 아티팩트에서 SageMaker 모델을 생성하거나 모델 레지스트리에 모델을 등록할 수 있습니다.\n",
    "\n",
    "\n",
    "TuningStep 클래스의 get_top_model_s3_uri 메서드를 사용하여 최고 성능의 모델 버전의 모델 아티팩트를 가져옵니다.\n",
    "\n",
    "- `model_bucket_key` 는 튜닝 스텝을 통해서 생성된 훈련 잡의 위치 입니다."
   ]
  },
  {
   "cell_type": "code",
   "execution_count": 53,
   "metadata": {},
   "outputs": [
    {
     "name": "stdout",
     "output_type": "stream",
     "text": [
      "model_bucket_key:  sagemaker-us-east-1-028703291518/sagemaker-pipeline-step-by-step-phase02/training_jobs\n",
      "model_package_group_name:  sagemaker-pipeline-step-by-step-phase02\n"
     ]
    }
   ],
   "source": [
    "model_bucket_key = estimator_output_path.split('//')[1]\n",
    "print(\"model_bucket_key: \", model_bucket_key)\n",
    "print(\"model_package_group_name: \", model_package_group_name)"
   ]
  },
  {
   "cell_type": "code",
   "execution_count": 54,
   "metadata": {},
   "outputs": [],
   "source": [
    "from sagemaker.workflow.step_collections import RegisterModel\n",
    "\n",
    "step_register_best = RegisterModel(\n",
    "    name=\"RegisterBestFraudModel\",\n",
    "    estimator=xgb_train,\n",
    "    model_data=step_tuning.get_top_model_s3_uri(top_k=0, s3_bucket=model_bucket_key),\n",
    "    content_types=[\"text/csv\"],\n",
    "    response_types=[\"text/csv\"],\n",
    "    inference_instances=[\"ml.t2.medium\", \"ml.m5.large\"],\n",
    "    transform_instances=[\"ml.m5.large\"],\n",
    "    model_package_group_name=model_package_group_name,\n",
    "    approval_status=model_approval_status,\n",
    ")"
   ]
  },
  {
   "cell_type": "markdown",
   "metadata": {},
   "source": [
    "### 모델 빌딩 파이프라인 정의"
   ]
  },
  {
   "cell_type": "code",
   "execution_count": 55,
   "metadata": {},
   "outputs": [],
   "source": [
    "from sagemaker.workflow.pipeline import Pipeline\n",
    "\n",
    "from sagemaker.workflow.execution_variables import ExecutionVariables\n",
    "from sagemaker.workflow.pipeline_experiment_config import PipelineExperimentConfig\n",
    "\n",
    "pipeline_name = project_prefix + \"-HPO-step\"\n",
    "\n",
    "pipeline = Pipeline(\n",
    "    name=pipeline_name,\n",
    "    parameters=[\n",
    "        model_approval_status,        \n",
    "    ],    \n",
    "    pipeline_experiment_config=PipelineExperimentConfig(\n",
    "      ExecutionVariables.PIPELINE_NAME,\n",
    "      ExecutionVariables.PIPELINE_EXECUTION_ID\n",
    "    ),    \n",
    "    steps=[step_tuning, step_register_best],\n",
    "    sagemaker_session=sagemaker_session,    \n",
    ")"
   ]
  },
  {
   "cell_type": "code",
   "execution_count": 56,
   "metadata": {},
   "outputs": [
    {
     "name": "stderr",
     "output_type": "stream",
     "text": [
      "No finished training job found associated with this estimator. Please make sure this estimator is only used for building workflow config\n"
     ]
    }
   ],
   "source": [
    "import json\n",
    "\n",
    "definition = json.loads(pipeline.definition())\n",
    "# definition"
   ]
  },
  {
   "cell_type": "markdown",
   "metadata": {},
   "source": [
    "### 파이프라인을 SageMaker에 제출하고 실행하기 \n",
    "\n",
    "파이프라인 정의를 파이프라인 서비스에 제출합니다. 함께 전달되는 역할(role)을 이용하여 AWS에서 파이프라인을 생성하고 작업의 각 단계를 실행할 것입니다.   "
   ]
  },
  {
   "cell_type": "code",
   "execution_count": 57,
   "metadata": {},
   "outputs": [
    {
     "name": "stderr",
     "output_type": "stream",
     "text": [
      "No finished training job found associated with this estimator. Please make sure this estimator is only used for building workflow config\n"
     ]
    }
   ],
   "source": [
    "pipeline.upsert(role_arn=role)\n",
    "execution = pipeline.start()\n"
   ]
  },
  {
   "cell_type": "code",
   "execution_count": 58,
   "metadata": {},
   "outputs": [
    {
     "data": {
      "text/plain": [
       "{'PipelineArn': 'arn:aws:sagemaker:us-east-1:028703291518:pipeline/sagemaker-pipeline-step-by-step-phase02-hpo-step',\n",
       " 'PipelineExecutionArn': 'arn:aws:sagemaker:us-east-1:028703291518:pipeline/sagemaker-pipeline-step-by-step-phase02-hpo-step/execution/db8kbmkdhxi1',\n",
       " 'PipelineExecutionDisplayName': 'execution-1630055705362',\n",
       " 'PipelineExecutionStatus': 'Executing',\n",
       " 'CreationTime': datetime.datetime(2021, 8, 27, 9, 15, 5, 257000, tzinfo=tzlocal()),\n",
       " 'LastModifiedTime': datetime.datetime(2021, 8, 27, 9, 15, 5, 257000, tzinfo=tzlocal()),\n",
       " 'CreatedBy': {},\n",
       " 'LastModifiedBy': {},\n",
       " 'ResponseMetadata': {'RequestId': '8f4d91a4-10f2-4c79-b0d5-fcd497530625',\n",
       "  'HTTPStatusCode': 200,\n",
       "  'HTTPHeaders': {'x-amzn-requestid': '8f4d91a4-10f2-4c79-b0d5-fcd497530625',\n",
       "   'content-type': 'application/x-amz-json-1.1',\n",
       "   'content-length': '461',\n",
       "   'date': 'Fri, 27 Aug 2021 09:15:05 GMT'},\n",
       "  'RetryAttempts': 0}}"
      ]
     },
     "execution_count": 58,
     "metadata": {},
     "output_type": "execute_result"
    }
   ],
   "source": [
    "execution.describe()"
   ]
  },
  {
   "cell_type": "code",
   "execution_count": 59,
   "metadata": {},
   "outputs": [],
   "source": [
    "execution.wait()"
   ]
  },
  {
   "cell_type": "code",
   "execution_count": 60,
   "metadata": {},
   "outputs": [
    {
     "data": {
      "text/plain": [
       "[{'StepName': 'RegisterBestFraudModel',\n",
       "  'StartTime': datetime.datetime(2021, 8, 27, 9, 20, 3, 42000, tzinfo=tzlocal()),\n",
       "  'EndTime': datetime.datetime(2021, 8, 27, 9, 20, 3, 847000, tzinfo=tzlocal()),\n",
       "  'StepStatus': 'Succeeded',\n",
       "  'Metadata': {'RegisterModel': {'Arn': 'arn:aws:sagemaker:us-east-1:028703291518:model-package/sagemaker-pipeline-step-by-step-phase02/3'}}},\n",
       " {'StepName': 'FraudTuning',\n",
       "  'StartTime': datetime.datetime(2021, 8, 27, 9, 15, 6, 15000, tzinfo=tzlocal()),\n",
       "  'EndTime': datetime.datetime(2021, 8, 27, 9, 20, 2, 502000, tzinfo=tzlocal()),\n",
       "  'StepStatus': 'Succeeded',\n",
       "  'Metadata': {'TuningJob': {'Arn': 'arn:aws:sagemaker:us-east-1:028703291518:hyper-parameter-tuning-job/db8kbmkdhxi1-fraudtu-kzmzhfokk6'}}}]"
      ]
     },
     "execution_count": 60,
     "metadata": {},
     "output_type": "execute_result"
    }
   ],
   "source": [
    "execution.list_steps()"
   ]
  },
  {
   "cell_type": "markdown",
   "metadata": {},
   "source": [
    "# 5. 리소스 정리: 파이프라인\n",
    "- 위에서 생성한 파이프라인을 제거 합니다.\n",
    "- isDeletePipeline=False, verbose=Fasle\n",
    "    - 파이프라인을 지우지 않고, 존재하는지 확인 합니다.\n",
    "- isDeletePipeline=False, verbose=True\n",
    "    - 파이프라인의 정의를 자세하 확인 합니다.\n",
    "- isDeletePipeline=True, verbose=True or False\n",
    "    - 파이프라인을 삭제 합니다."
   ]
  },
  {
   "cell_type": "code",
   "execution_count": 61,
   "metadata": {},
   "outputs": [
    {
     "name": "stdout",
     "output_type": "stream",
     "text": [
      "pipeline sagemaker-pipeline-step-by-step-phase02-HPO-step exists\n",
      "pipeline sagemaker-pipeline-step-by-step-phase02-HPO-step is deleted\n"
     ]
    }
   ],
   "source": [
    "from src.p_utils import clean_pipeline\n",
    "\n",
    "# clean_pipeline(pipeline_name = pipeline_name, isDeletePipeline=False, verbose=False)   \n",
    "clean_pipeline(pipeline_name = pipeline_name, isDeletePipeline=True, verbose=False)   "
   ]
  },
  {
   "cell_type": "markdown",
   "metadata": {},
   "source": [
    "## 참고: 에러 케이스 (RegisterBestAbaloneModel 스텝)\n",
    "```\n",
    "{'StepName': 'RegisterBestAbaloneModel',\n",
    "  'StartTime': datetime.datetime(2021, 8, 21, 14, 18, 5, 830000, tzinfo=tzlocal()),\n",
    "  'EndTime': datetime.datetime(2021, 8, 21, 14, 18, 6, 305000, tzinfo=tzlocal()),\n",
    "  'StepStatus': 'Failed',\n",
    "  'FailureReason': 'ClientError: Cannot find S3 object: tuning-step-example/AbaloneTrain2222/4kk9kc5u8u7i-HPTunin-qR5ir5u32T-002-dbc3348a/output/model.tar.gz in bucket sagemaker-ap-northeast-2-057716757052. Please check if your S3 object exists and has proper permissions for SageMaker.',\n",
    "  'Metadata': {}},\n",
    "```\n",
    "\n",
    "#### 해결\n",
    "아래에서 `model_bucket_key` 의 경로가 step_tuning 을 통해서 training job의 모델 아티펙트 (model.tar.gz) 의 경로가 정확히 기술되어야 합니다. \n",
    "- [중요] 여기서 `s3://` 는 반드시 없어야 합니다.\n",
    "    - 예: model_bucket_key:  sagemaker-ap-northeast-2-05771675/sagemaker-pipeline-step-by-step-phase01/training_jobs\n",
    "    \n",
    "    \n",
    "```\n",
    "step_register_best = RegisterModel(\n",
    "    name=\"RegisterBestFraudModel\",\n",
    "    estimator=xgb_train,\n",
    "    model_data=step_tuning.get_top_model_s3_uri(top_k=0, s3_bucket=model_bucket_key),\n",
    "    content_types=[\"text/csv\"],\n",
    "    response_types=[\"text/csv\"],\n",
    "    inference_instances=[\"ml.t2.medium\", \"ml.m5.large\"],\n",
    "    transform_instances=[\"ml.m5.large\"],\n",
    "    model_package_group_name=model_package_group_name,\n",
    "    approval_status=model_approval_status,\n",
    ")\n",
    "```"
   ]
  },
  {
   "cell_type": "code",
   "execution_count": null,
   "metadata": {},
   "outputs": [],
   "source": []
  }
 ],
 "metadata": {
  "instance_type": "ml.m5.large",
  "kernelspec": {
   "display_name": "conda_python3",
   "language": "python",
   "name": "conda_python3"
  },
  "language_info": {
   "codemirror_mode": {
    "name": "ipython",
    "version": 3
   },
   "file_extension": ".py",
   "mimetype": "text/x-python",
   "name": "python",
   "nbconvert_exporter": "python",
   "pygments_lexer": "ipython3",
   "version": "3.6.13"
  }
 },
 "nbformat": 4,
 "nbformat_minor": 4
}
