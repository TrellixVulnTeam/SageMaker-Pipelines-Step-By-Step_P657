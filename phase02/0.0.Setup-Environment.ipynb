{
 "cells": [
  {
   "cell_type": "markdown",
   "id": "c5dd579c",
   "metadata": {},
   "source": [
    "# [모듈 0.0] 추가 Python 패키지 설치 및 환경 셋업\n",
    "\n",
    "`conda-python3` 커널로 지정하시고, 아래의 셀을 실행해주세요. \n",
    "- 필요한 패키지의 설치 및 업그레이드 합니다.\n",
    "- 세이지 메이커의의 사용하는 디폴트 role 에 필요한 정책을 추가 합니다.\n",
    "\n",
    "---"
   ]
  },
  {
   "cell_type": "markdown",
   "id": "3d259c4d",
   "metadata": {},
   "source": [
    "## SageMaker 최신 버전 설치"
   ]
  },
  {
   "cell_type": "code",
   "execution_count": 1,
   "id": "1dcb2be5",
   "metadata": {},
   "outputs": [
    {
     "name": "stdout",
     "output_type": "stream",
     "text": [
      "Requirement already satisfied: sagemaker in /home/ec2-user/anaconda3/envs/python3/lib/python3.6/site-packages (2.48.1)\n",
      "Collecting sagemaker\n",
      "  Downloading sagemaker-2.56.0.tar.gz (439 kB)\n",
      "\u001b[K     |████████████████████████████████| 439 kB 30.6 MB/s eta 0:00:01\n",
      "\u001b[?25hRequirement already satisfied: attrs in /home/ec2-user/anaconda3/envs/python3/lib/python3.6/site-packages (from sagemaker) (20.3.0)\n",
      "Requirement already satisfied: boto3>=1.16.32 in /home/ec2-user/anaconda3/envs/python3/lib/python3.6/site-packages (from sagemaker) (1.18.22)\n",
      "Requirement already satisfied: google-pasta in /home/ec2-user/anaconda3/envs/python3/lib/python3.6/site-packages (from sagemaker) (0.2.0)\n",
      "Requirement already satisfied: numpy>=1.9.0 in /home/ec2-user/anaconda3/envs/python3/lib/python3.6/site-packages (from sagemaker) (1.19.5)\n",
      "Requirement already satisfied: protobuf>=3.1 in /home/ec2-user/anaconda3/envs/python3/lib/python3.6/site-packages (from sagemaker) (3.15.2)\n",
      "Requirement already satisfied: protobuf3-to-dict>=0.1.5 in /home/ec2-user/anaconda3/envs/python3/lib/python3.6/site-packages (from sagemaker) (0.1.5)\n",
      "Requirement already satisfied: smdebug_rulesconfig==1.0.1 in /home/ec2-user/anaconda3/envs/python3/lib/python3.6/site-packages (from sagemaker) (1.0.1)\n",
      "Requirement already satisfied: importlib-metadata>=1.4.0 in /home/ec2-user/anaconda3/envs/python3/lib/python3.6/site-packages (from sagemaker) (3.7.0)\n",
      "Requirement already satisfied: packaging>=20.0 in /home/ec2-user/anaconda3/envs/python3/lib/python3.6/site-packages (from sagemaker) (20.9)\n",
      "Requirement already satisfied: pandas in /home/ec2-user/anaconda3/envs/python3/lib/python3.6/site-packages (from sagemaker) (1.1.5)\n",
      "Requirement already satisfied: pathos in /home/ec2-user/anaconda3/envs/python3/lib/python3.6/site-packages (from sagemaker) (0.2.8)\n",
      "Requirement already satisfied: jmespath<1.0.0,>=0.7.1 in /home/ec2-user/anaconda3/envs/python3/lib/python3.6/site-packages (from boto3>=1.16.32->sagemaker) (0.10.0)\n",
      "Requirement already satisfied: s3transfer<0.6.0,>=0.5.0 in /home/ec2-user/anaconda3/envs/python3/lib/python3.6/site-packages (from boto3>=1.16.32->sagemaker) (0.5.0)\n",
      "Requirement already satisfied: botocore<1.22.0,>=1.21.22 in /home/ec2-user/anaconda3/envs/python3/lib/python3.6/site-packages (from boto3>=1.16.32->sagemaker) (1.21.22)\n",
      "Requirement already satisfied: python-dateutil<3.0.0,>=2.1 in /home/ec2-user/anaconda3/envs/python3/lib/python3.6/site-packages (from botocore<1.22.0,>=1.21.22->boto3>=1.16.32->sagemaker) (2.8.1)\n",
      "Requirement already satisfied: urllib3<1.27,>=1.25.4 in /home/ec2-user/anaconda3/envs/python3/lib/python3.6/site-packages (from botocore<1.22.0,>=1.21.22->boto3>=1.16.32->sagemaker) (1.26.6)\n",
      "Requirement already satisfied: typing-extensions>=3.6.4 in /home/ec2-user/anaconda3/envs/python3/lib/python3.6/site-packages (from importlib-metadata>=1.4.0->sagemaker) (3.7.4.3)\n",
      "Requirement already satisfied: zipp>=0.5 in /home/ec2-user/anaconda3/envs/python3/lib/python3.6/site-packages (from importlib-metadata>=1.4.0->sagemaker) (3.4.0)\n",
      "Requirement already satisfied: pyparsing>=2.0.2 in /home/ec2-user/anaconda3/envs/python3/lib/python3.6/site-packages (from packaging>=20.0->sagemaker) (2.4.7)\n",
      "Requirement already satisfied: six>=1.9 in /home/ec2-user/anaconda3/envs/python3/lib/python3.6/site-packages (from protobuf>=3.1->sagemaker) (1.15.0)\n",
      "Requirement already satisfied: pytz>=2017.2 in /home/ec2-user/anaconda3/envs/python3/lib/python3.6/site-packages (from pandas->sagemaker) (2021.1)\n",
      "Requirement already satisfied: multiprocess>=0.70.12 in /home/ec2-user/anaconda3/envs/python3/lib/python3.6/site-packages (from pathos->sagemaker) (0.70.12.2)\n",
      "Requirement already satisfied: ppft>=1.6.6.4 in /home/ec2-user/anaconda3/envs/python3/lib/python3.6/site-packages (from pathos->sagemaker) (1.6.6.4)\n",
      "Requirement already satisfied: pox>=0.3.0 in /home/ec2-user/anaconda3/envs/python3/lib/python3.6/site-packages (from pathos->sagemaker) (0.3.0)\n",
      "Requirement already satisfied: dill>=0.3.4 in /home/ec2-user/anaconda3/envs/python3/lib/python3.6/site-packages (from pathos->sagemaker) (0.3.4)\n",
      "Building wheels for collected packages: sagemaker\n",
      "  Building wheel for sagemaker (setup.py) ... \u001b[?25ldone\n",
      "\u001b[?25h  Created wheel for sagemaker: filename=sagemaker-2.56.0-py2.py3-none-any.whl size=614898 sha256=f129f13ca6d11bb51a5308f2fdcd4f90918df432518a151f8505397e6c2d81ce\n",
      "  Stored in directory: /home/ec2-user/.cache/pip/wheels/9f/e9/6a/c7add93ea9b3068a83d04d551d0941300e43be87a07779a456\n",
      "Successfully built sagemaker\n",
      "Installing collected packages: sagemaker\n",
      "  Attempting uninstall: sagemaker\n",
      "    Found existing installation: sagemaker 2.48.1\n",
      "    Uninstalling sagemaker-2.48.1:\n",
      "      Successfully uninstalled sagemaker-2.48.1\n",
      "Successfully installed sagemaker-2.56.0\n",
      "\u001b[33mWARNING: You are using pip version 21.1.3; however, version 21.2.4 is available.\n",
      "You should consider upgrading via the '/home/ec2-user/anaconda3/envs/python3/bin/python -m pip install --upgrade pip' command.\u001b[0m\n"
     ]
    }
   ],
   "source": [
    "!pip install --upgrade sagemaker"
   ]
  },
  {
   "cell_type": "markdown",
   "id": "0def00f4",
   "metadata": {},
   "source": [
    "## SageMaker Experiment 설치"
   ]
  },
  {
   "cell_type": "code",
   "execution_count": 2,
   "id": "16723716",
   "metadata": {},
   "outputs": [
    {
     "name": "stdout",
     "output_type": "stream",
     "text": [
      "Collecting sagemaker-experiments\n",
      "  Using cached sagemaker_experiments-0.1.35-py3-none-any.whl (42 kB)\n",
      "Requirement already satisfied: boto3>=1.16.27 in /home/ec2-user/anaconda3/envs/python3/lib/python3.6/site-packages (from sagemaker-experiments) (1.18.22)\n",
      "Requirement already satisfied: jmespath<1.0.0,>=0.7.1 in /home/ec2-user/anaconda3/envs/python3/lib/python3.6/site-packages (from boto3>=1.16.27->sagemaker-experiments) (0.10.0)\n",
      "Requirement already satisfied: botocore<1.22.0,>=1.21.22 in /home/ec2-user/anaconda3/envs/python3/lib/python3.6/site-packages (from boto3>=1.16.27->sagemaker-experiments) (1.21.22)\n",
      "Requirement already satisfied: s3transfer<0.6.0,>=0.5.0 in /home/ec2-user/anaconda3/envs/python3/lib/python3.6/site-packages (from boto3>=1.16.27->sagemaker-experiments) (0.5.0)\n",
      "Requirement already satisfied: python-dateutil<3.0.0,>=2.1 in /home/ec2-user/anaconda3/envs/python3/lib/python3.6/site-packages (from botocore<1.22.0,>=1.21.22->boto3>=1.16.27->sagemaker-experiments) (2.8.1)\n",
      "Requirement already satisfied: urllib3<1.27,>=1.25.4 in /home/ec2-user/anaconda3/envs/python3/lib/python3.6/site-packages (from botocore<1.22.0,>=1.21.22->boto3>=1.16.27->sagemaker-experiments) (1.26.6)\n",
      "Requirement already satisfied: six>=1.5 in /home/ec2-user/anaconda3/envs/python3/lib/python3.6/site-packages (from python-dateutil<3.0.0,>=2.1->botocore<1.22.0,>=1.21.22->boto3>=1.16.27->sagemaker-experiments) (1.15.0)\n",
      "Installing collected packages: sagemaker-experiments\n",
      "Successfully installed sagemaker-experiments-0.1.35\n",
      "\u001b[33mWARNING: You are using pip version 21.1.3; however, version 21.2.4 is available.\n",
      "You should consider upgrading via the '/home/ec2-user/anaconda3/envs/python3/bin/python -m pip install --upgrade pip' command.\u001b[0m\n"
     ]
    }
   ],
   "source": [
    "!pip install --upgrade sagemaker-experiments"
   ]
  },
  {
   "cell_type": "markdown",
   "id": "8b5f44fb",
   "metadata": {},
   "source": [
    "## 람다 스템을 위한 정책 추가\n",
    "\n",
    "노트북 실행 역할에는 노트북이 Lambda 함수를 생성할 수 있도록 하는 정책이 있어야 합니다.Amazon 관리형 정책 AmazonSageMakerPipelinesIntegrations 노트북 실행 역할에 추가 해야 합니다.\n",
    "- 아래 셀을 실행을 한 후에 해당의 역할에 AmazonSageMakerPipelinesIntegrations 정책의 추가를 해주세요."
   ]
  },
  {
   "cell_type": "code",
   "execution_count": 3,
   "id": "b6c988cd",
   "metadata": {},
   "outputs": [
    {
     "name": "stdout",
     "output_type": "stream",
     "text": [
      "role:  arn:aws:iam::028703291518:role/service-role/AmazonSageMaker-ExecutionRole-20210827T141955\n"
     ]
    }
   ],
   "source": [
    "import sagemaker\n",
    "role = sagemaker.get_execution_role()\n",
    "print(\"role: \", role)"
   ]
  },
  {
   "cell_type": "markdown",
   "id": "9afe67c7",
   "metadata": {},
   "source": [
    "#### IAM 에서 해당 역할을 확인\n",
    "![iam_role_console.png](img/iam_role_console.png)"
   ]
  },
  {
   "cell_type": "markdown",
   "id": "267d498f",
   "metadata": {},
   "source": [
    "#### IAM 정책을 추가\n",
    "![add_iam.png](img/add_iam.png)"
   ]
  },
  {
   "cell_type": "markdown",
   "id": "f5b22d6c",
   "metadata": {},
   "source": [
    "#### AmazonSageMakerPipelinesIntegrations 의 정책을 찾습니다.\n",
    "![lambda_policy.png](img/lambda_policy.png)"
   ]
  },
  {
   "cell_type": "markdown",
   "id": "57a7645b",
   "metadata": {},
   "source": [
    "#### 위 정책이 추가가 된 화면 입니다.\n",
    "![show_policy.png](img/show_policy.png)"
   ]
  },
  {
   "cell_type": "code",
   "execution_count": null,
   "id": "0c94543d",
   "metadata": {},
   "outputs": [],
   "source": []
  }
 ],
 "metadata": {
  "kernelspec": {
   "display_name": "conda_python3",
   "language": "python",
   "name": "conda_python3"
  },
  "language_info": {
   "codemirror_mode": {
    "name": "ipython",
    "version": 3
   },
   "file_extension": ".py",
   "mimetype": "text/x-python",
   "name": "python",
   "nbconvert_exporter": "python",
   "pygments_lexer": "ipython3",
   "version": "3.6.13"
  }
 },
 "nbformat": 4,
 "nbformat_minor": 5
}
